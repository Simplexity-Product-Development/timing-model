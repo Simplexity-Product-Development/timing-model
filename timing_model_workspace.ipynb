{
 "cells": [
  {
   "cell_type": "code",
   "execution_count": 617,
   "metadata": {},
   "outputs": [
    {
     "name": "stdout",
     "output_type": "stream",
     "text": [
      "The autoreload extension is already loaded. To reload it, use:\n",
      "  %reload_ext autoreload\n"
     ]
    }
   ],
   "source": [
    "%reset -f\n",
    "%load_ext autoreload\n",
    "%autoreload 2\n",
    "\n",
    "import numpy as np\n",
    "\n",
    "import timing_model_scheduler as tms"
   ]
  },
  {
   "cell_type": "markdown",
   "metadata": {},
   "source": [
    "# Potato Robot Examples, Basics\n",
    "\n",
    "## First Three Operations"
   ]
  },
  {
   "cell_type": "code",
   "execution_count": 618,
   "metadata": {},
   "outputs": [
    {
     "name": "stdout",
     "output_type": "stream",
     "text": [
      "Total Schedule duration is 540.0\n",
      "Schedule efficiency is 8.33%\n",
      "Importing plotting tools...\n",
      "Generating plot...\n"
     ]
    },
    {
     "data": {
      "application/vnd.plotly.v1+json": {
       "config": {
        "plotlyServerURL": "https://plot.ly"
       },
       "data": [],
       "layout": {
        "annotations": [
         {
          "bgcolor": "rgba(255,255,255,0.8)",
          "font": {
           "color": "black",
           "size": 10
          },
          "showarrow": false,
          "text": "wash",
          "x": 5,
          "y": 0
         },
         {
          "bgcolor": "rgba(255,255,255,0.8)",
          "font": {
           "color": "black",
           "size": 10
          },
          "showarrow": false,
          "text": "peel",
          "x": 130,
          "y": 0
         },
         {
          "bgcolor": "rgba(255,255,255,0.8)",
          "font": {
           "color": "black",
           "size": 10
          },
          "showarrow": false,
          "text": "chop",
          "x": 367.5,
          "y": 0
         },
         {
          "bgcolor": "rgba(255,255,255,0.8)",
          "font": {
           "color": "black",
           "size": 10
          },
          "showarrow": false,
          "text": "wash",
          "x": 15,
          "y": 1
         },
         {
          "bgcolor": "rgba(255,255,255,0.8)",
          "font": {
           "color": "black",
           "size": 10
          },
          "showarrow": false,
          "text": "peel",
          "x": 150,
          "y": 1
         },
         {
          "bgcolor": "rgba(255,255,255,0.8)",
          "font": {
           "color": "black",
           "size": 10
          },
          "showarrow": false,
          "text": "chop",
          "x": 382.5,
          "y": 1
         },
         {
          "bgcolor": "rgba(255,255,255,0.8)",
          "font": {
           "color": "black",
           "size": 10
          },
          "showarrow": false,
          "text": "wash",
          "x": 25,
          "y": 2
         },
         {
          "bgcolor": "rgba(255,255,255,0.8)",
          "font": {
           "color": "black",
           "size": 10
          },
          "showarrow": false,
          "text": "peel",
          "x": 170,
          "y": 2
         },
         {
          "bgcolor": "rgba(255,255,255,0.8)",
          "font": {
           "color": "black",
           "size": 10
          },
          "showarrow": false,
          "text": "chop",
          "x": 397.5,
          "y": 2
         },
         {
          "bgcolor": "rgba(255,255,255,0.8)",
          "font": {
           "color": "black",
           "size": 10
          },
          "showarrow": false,
          "text": "wash",
          "x": 35,
          "y": 3
         },
         {
          "bgcolor": "rgba(255,255,255,0.8)",
          "font": {
           "color": "black",
           "size": 10
          },
          "showarrow": false,
          "text": "peel",
          "x": 190,
          "y": 3
         },
         {
          "bgcolor": "rgba(255,255,255,0.8)",
          "font": {
           "color": "black",
           "size": 10
          },
          "showarrow": false,
          "text": "chop",
          "x": 412.5,
          "y": 3
         },
         {
          "bgcolor": "rgba(255,255,255,0.8)",
          "font": {
           "color": "black",
           "size": 10
          },
          "showarrow": false,
          "text": "wash",
          "x": 45,
          "y": 4
         },
         {
          "bgcolor": "rgba(255,255,255,0.8)",
          "font": {
           "color": "black",
           "size": 10
          },
          "showarrow": false,
          "text": "peel",
          "x": 210,
          "y": 4
         },
         {
          "bgcolor": "rgba(255,255,255,0.8)",
          "font": {
           "color": "black",
           "size": 10
          },
          "showarrow": false,
          "text": "chop",
          "x": 427.5,
          "y": 4
         },
         {
          "bgcolor": "rgba(255,255,255,0.8)",
          "font": {
           "color": "black",
           "size": 10
          },
          "showarrow": false,
          "text": "wash",
          "x": 55,
          "y": 5
         },
         {
          "bgcolor": "rgba(255,255,255,0.8)",
          "font": {
           "color": "black",
           "size": 10
          },
          "showarrow": false,
          "text": "peel",
          "x": 230,
          "y": 5
         },
         {
          "bgcolor": "rgba(255,255,255,0.8)",
          "font": {
           "color": "black",
           "size": 10
          },
          "showarrow": false,
          "text": "chop",
          "x": 442.5,
          "y": 5
         },
         {
          "bgcolor": "rgba(255,255,255,0.8)",
          "font": {
           "color": "black",
           "size": 10
          },
          "showarrow": false,
          "text": "wash",
          "x": 65,
          "y": 6
         },
         {
          "bgcolor": "rgba(255,255,255,0.8)",
          "font": {
           "color": "black",
           "size": 10
          },
          "showarrow": false,
          "text": "peel",
          "x": 250,
          "y": 6
         },
         {
          "bgcolor": "rgba(255,255,255,0.8)",
          "font": {
           "color": "black",
           "size": 10
          },
          "showarrow": false,
          "text": "chop",
          "x": 457.5,
          "y": 6
         },
         {
          "bgcolor": "rgba(255,255,255,0.8)",
          "font": {
           "color": "black",
           "size": 10
          },
          "showarrow": false,
          "text": "wash",
          "x": 75,
          "y": 7
         },
         {
          "bgcolor": "rgba(255,255,255,0.8)",
          "font": {
           "color": "black",
           "size": 10
          },
          "showarrow": false,
          "text": "peel",
          "x": 270,
          "y": 7
         },
         {
          "bgcolor": "rgba(255,255,255,0.8)",
          "font": {
           "color": "black",
           "size": 10
          },
          "showarrow": false,
          "text": "chop",
          "x": 472.5,
          "y": 7
         },
         {
          "bgcolor": "rgba(255,255,255,0.8)",
          "font": {
           "color": "black",
           "size": 10
          },
          "showarrow": false,
          "text": "wash",
          "x": 85,
          "y": 8
         },
         {
          "bgcolor": "rgba(255,255,255,0.8)",
          "font": {
           "color": "black",
           "size": 10
          },
          "showarrow": false,
          "text": "peel",
          "x": 290,
          "y": 8
         },
         {
          "bgcolor": "rgba(255,255,255,0.8)",
          "font": {
           "color": "black",
           "size": 10
          },
          "showarrow": false,
          "text": "chop",
          "x": 487.5,
          "y": 8
         },
         {
          "bgcolor": "rgba(255,255,255,0.8)",
          "font": {
           "color": "black",
           "size": 10
          },
          "showarrow": false,
          "text": "wash",
          "x": 95,
          "y": 9
         },
         {
          "bgcolor": "rgba(255,255,255,0.8)",
          "font": {
           "color": "black",
           "size": 10
          },
          "showarrow": false,
          "text": "peel",
          "x": 310,
          "y": 9
         },
         {
          "bgcolor": "rgba(255,255,255,0.8)",
          "font": {
           "color": "black",
           "size": 10
          },
          "showarrow": false,
          "text": "chop",
          "x": 502.5,
          "y": 9
         },
         {
          "bgcolor": "rgba(255,255,255,0.8)",
          "font": {
           "color": "black",
           "size": 10
          },
          "showarrow": false,
          "text": "wash",
          "x": 105,
          "y": 10
         },
         {
          "bgcolor": "rgba(255,255,255,0.8)",
          "font": {
           "color": "black",
           "size": 10
          },
          "showarrow": false,
          "text": "peel",
          "x": 330,
          "y": 10
         },
         {
          "bgcolor": "rgba(255,255,255,0.8)",
          "font": {
           "color": "black",
           "size": 10
          },
          "showarrow": false,
          "text": "chop",
          "x": 517.5,
          "y": 10
         },
         {
          "bgcolor": "rgba(255,255,255,0.8)",
          "font": {
           "color": "black",
           "size": 10
          },
          "showarrow": false,
          "text": "wash",
          "x": 115,
          "y": 11
         },
         {
          "bgcolor": "rgba(255,255,255,0.8)",
          "font": {
           "color": "black",
           "size": 10
          },
          "showarrow": false,
          "text": "peel",
          "x": 350,
          "y": 11
         },
         {
          "bgcolor": "rgba(255,255,255,0.8)",
          "font": {
           "color": "black",
           "size": 10
          },
          "showarrow": false,
          "text": "chop",
          "x": 532.5,
          "y": 11
         }
        ],
        "autosize": false,
        "height": 800,
        "shapes": [
         {
          "fillcolor": "#636EFA",
          "line": {
           "color": "black",
           "width": 1
          },
          "type": "rect",
          "x0": 0,
          "x1": 10,
          "y0": -0.5,
          "y1": 0.5
         },
         {
          "fillcolor": "#EF553B",
          "line": {
           "color": "black",
           "width": 1
          },
          "type": "rect",
          "x0": 120,
          "x1": 140,
          "y0": -0.5,
          "y1": 0.5
         },
         {
          "fillcolor": "#00CC96",
          "line": {
           "color": "black",
           "width": 1
          },
          "type": "rect",
          "x0": 360,
          "x1": 375,
          "y0": -0.5,
          "y1": 0.5
         },
         {
          "fillcolor": "#636EFA",
          "line": {
           "color": "black",
           "width": 1
          },
          "type": "rect",
          "x0": 10,
          "x1": 20,
          "y0": 0.5,
          "y1": 1.5
         },
         {
          "fillcolor": "#EF553B",
          "line": {
           "color": "black",
           "width": 1
          },
          "type": "rect",
          "x0": 140,
          "x1": 160,
          "y0": 0.5,
          "y1": 1.5
         },
         {
          "fillcolor": "#00CC96",
          "line": {
           "color": "black",
           "width": 1
          },
          "type": "rect",
          "x0": 375,
          "x1": 390,
          "y0": 0.5,
          "y1": 1.5
         },
         {
          "fillcolor": "#636EFA",
          "line": {
           "color": "black",
           "width": 1
          },
          "type": "rect",
          "x0": 20,
          "x1": 30,
          "y0": 1.5,
          "y1": 2.5
         },
         {
          "fillcolor": "#EF553B",
          "line": {
           "color": "black",
           "width": 1
          },
          "type": "rect",
          "x0": 160,
          "x1": 180,
          "y0": 1.5,
          "y1": 2.5
         },
         {
          "fillcolor": "#00CC96",
          "line": {
           "color": "black",
           "width": 1
          },
          "type": "rect",
          "x0": 390,
          "x1": 405,
          "y0": 1.5,
          "y1": 2.5
         },
         {
          "fillcolor": "#636EFA",
          "line": {
           "color": "black",
           "width": 1
          },
          "type": "rect",
          "x0": 30,
          "x1": 40,
          "y0": 2.5,
          "y1": 3.5
         },
         {
          "fillcolor": "#EF553B",
          "line": {
           "color": "black",
           "width": 1
          },
          "type": "rect",
          "x0": 180,
          "x1": 200,
          "y0": 2.5,
          "y1": 3.5
         },
         {
          "fillcolor": "#00CC96",
          "line": {
           "color": "black",
           "width": 1
          },
          "type": "rect",
          "x0": 405,
          "x1": 420,
          "y0": 2.5,
          "y1": 3.5
         },
         {
          "fillcolor": "#636EFA",
          "line": {
           "color": "black",
           "width": 1
          },
          "type": "rect",
          "x0": 40,
          "x1": 50,
          "y0": 3.5,
          "y1": 4.5
         },
         {
          "fillcolor": "#EF553B",
          "line": {
           "color": "black",
           "width": 1
          },
          "type": "rect",
          "x0": 200,
          "x1": 220,
          "y0": 3.5,
          "y1": 4.5
         },
         {
          "fillcolor": "#00CC96",
          "line": {
           "color": "black",
           "width": 1
          },
          "type": "rect",
          "x0": 420,
          "x1": 435,
          "y0": 3.5,
          "y1": 4.5
         },
         {
          "fillcolor": "#636EFA",
          "line": {
           "color": "black",
           "width": 1
          },
          "type": "rect",
          "x0": 50,
          "x1": 60,
          "y0": 4.5,
          "y1": 5.5
         },
         {
          "fillcolor": "#EF553B",
          "line": {
           "color": "black",
           "width": 1
          },
          "type": "rect",
          "x0": 220,
          "x1": 240,
          "y0": 4.5,
          "y1": 5.5
         },
         {
          "fillcolor": "#00CC96",
          "line": {
           "color": "black",
           "width": 1
          },
          "type": "rect",
          "x0": 435,
          "x1": 450,
          "y0": 4.5,
          "y1": 5.5
         },
         {
          "fillcolor": "#636EFA",
          "line": {
           "color": "black",
           "width": 1
          },
          "type": "rect",
          "x0": 60,
          "x1": 70,
          "y0": 5.5,
          "y1": 6.5
         },
         {
          "fillcolor": "#EF553B",
          "line": {
           "color": "black",
           "width": 1
          },
          "type": "rect",
          "x0": 240,
          "x1": 260,
          "y0": 5.5,
          "y1": 6.5
         },
         {
          "fillcolor": "#00CC96",
          "line": {
           "color": "black",
           "width": 1
          },
          "type": "rect",
          "x0": 450,
          "x1": 465,
          "y0": 5.5,
          "y1": 6.5
         },
         {
          "fillcolor": "#636EFA",
          "line": {
           "color": "black",
           "width": 1
          },
          "type": "rect",
          "x0": 70,
          "x1": 80,
          "y0": 6.5,
          "y1": 7.5
         },
         {
          "fillcolor": "#EF553B",
          "line": {
           "color": "black",
           "width": 1
          },
          "type": "rect",
          "x0": 260,
          "x1": 280,
          "y0": 6.5,
          "y1": 7.5
         },
         {
          "fillcolor": "#00CC96",
          "line": {
           "color": "black",
           "width": 1
          },
          "type": "rect",
          "x0": 465,
          "x1": 480,
          "y0": 6.5,
          "y1": 7.5
         },
         {
          "fillcolor": "#636EFA",
          "line": {
           "color": "black",
           "width": 1
          },
          "type": "rect",
          "x0": 80,
          "x1": 90,
          "y0": 7.5,
          "y1": 8.5
         },
         {
          "fillcolor": "#EF553B",
          "line": {
           "color": "black",
           "width": 1
          },
          "type": "rect",
          "x0": 280,
          "x1": 300,
          "y0": 7.5,
          "y1": 8.5
         },
         {
          "fillcolor": "#00CC96",
          "line": {
           "color": "black",
           "width": 1
          },
          "type": "rect",
          "x0": 480,
          "x1": 495,
          "y0": 7.5,
          "y1": 8.5
         },
         {
          "fillcolor": "#636EFA",
          "line": {
           "color": "black",
           "width": 1
          },
          "type": "rect",
          "x0": 90,
          "x1": 100,
          "y0": 8.5,
          "y1": 9.5
         },
         {
          "fillcolor": "#EF553B",
          "line": {
           "color": "black",
           "width": 1
          },
          "type": "rect",
          "x0": 300,
          "x1": 320,
          "y0": 8.5,
          "y1": 9.5
         },
         {
          "fillcolor": "#00CC96",
          "line": {
           "color": "black",
           "width": 1
          },
          "type": "rect",
          "x0": 495,
          "x1": 510,
          "y0": 8.5,
          "y1": 9.5
         },
         {
          "fillcolor": "#636EFA",
          "line": {
           "color": "black",
           "width": 1
          },
          "type": "rect",
          "x0": 100,
          "x1": 110,
          "y0": 9.5,
          "y1": 10.5
         },
         {
          "fillcolor": "#EF553B",
          "line": {
           "color": "black",
           "width": 1
          },
          "type": "rect",
          "x0": 320,
          "x1": 340,
          "y0": 9.5,
          "y1": 10.5
         },
         {
          "fillcolor": "#00CC96",
          "line": {
           "color": "black",
           "width": 1
          },
          "type": "rect",
          "x0": 510,
          "x1": 525,
          "y0": 9.5,
          "y1": 10.5
         },
         {
          "fillcolor": "#636EFA",
          "line": {
           "color": "black",
           "width": 1
          },
          "type": "rect",
          "x0": 110,
          "x1": 120,
          "y0": 10.5,
          "y1": 11.5
         },
         {
          "fillcolor": "#EF553B",
          "line": {
           "color": "black",
           "width": 1
          },
          "type": "rect",
          "x0": 340,
          "x1": 360,
          "y0": 10.5,
          "y1": 11.5
         },
         {
          "fillcolor": "#00CC96",
          "line": {
           "color": "black",
           "width": 1
          },
          "type": "rect",
          "x0": 525,
          "x1": 540,
          "y0": 10.5,
          "y1": 11.5
         }
        ],
        "template": {
         "data": {
          "bar": [
           {
            "error_x": {
             "color": "#2a3f5f"
            },
            "error_y": {
             "color": "#2a3f5f"
            },
            "marker": {
             "line": {
              "color": "#E5ECF6",
              "width": 0.5
             },
             "pattern": {
              "fillmode": "overlay",
              "size": 10,
              "solidity": 0.2
             }
            },
            "type": "bar"
           }
          ],
          "barpolar": [
           {
            "marker": {
             "line": {
              "color": "#E5ECF6",
              "width": 0.5
             },
             "pattern": {
              "fillmode": "overlay",
              "size": 10,
              "solidity": 0.2
             }
            },
            "type": "barpolar"
           }
          ],
          "carpet": [
           {
            "aaxis": {
             "endlinecolor": "#2a3f5f",
             "gridcolor": "white",
             "linecolor": "white",
             "minorgridcolor": "white",
             "startlinecolor": "#2a3f5f"
            },
            "baxis": {
             "endlinecolor": "#2a3f5f",
             "gridcolor": "white",
             "linecolor": "white",
             "minorgridcolor": "white",
             "startlinecolor": "#2a3f5f"
            },
            "type": "carpet"
           }
          ],
          "choropleth": [
           {
            "colorbar": {
             "outlinewidth": 0,
             "ticks": ""
            },
            "type": "choropleth"
           }
          ],
          "contour": [
           {
            "colorbar": {
             "outlinewidth": 0,
             "ticks": ""
            },
            "colorscale": [
             [
              0,
              "#0d0887"
             ],
             [
              0.1111111111111111,
              "#46039f"
             ],
             [
              0.2222222222222222,
              "#7201a8"
             ],
             [
              0.3333333333333333,
              "#9c179e"
             ],
             [
              0.4444444444444444,
              "#bd3786"
             ],
             [
              0.5555555555555556,
              "#d8576b"
             ],
             [
              0.6666666666666666,
              "#ed7953"
             ],
             [
              0.7777777777777778,
              "#fb9f3a"
             ],
             [
              0.8888888888888888,
              "#fdca26"
             ],
             [
              1,
              "#f0f921"
             ]
            ],
            "type": "contour"
           }
          ],
          "contourcarpet": [
           {
            "colorbar": {
             "outlinewidth": 0,
             "ticks": ""
            },
            "type": "contourcarpet"
           }
          ],
          "heatmap": [
           {
            "colorbar": {
             "outlinewidth": 0,
             "ticks": ""
            },
            "colorscale": [
             [
              0,
              "#0d0887"
             ],
             [
              0.1111111111111111,
              "#46039f"
             ],
             [
              0.2222222222222222,
              "#7201a8"
             ],
             [
              0.3333333333333333,
              "#9c179e"
             ],
             [
              0.4444444444444444,
              "#bd3786"
             ],
             [
              0.5555555555555556,
              "#d8576b"
             ],
             [
              0.6666666666666666,
              "#ed7953"
             ],
             [
              0.7777777777777778,
              "#fb9f3a"
             ],
             [
              0.8888888888888888,
              "#fdca26"
             ],
             [
              1,
              "#f0f921"
             ]
            ],
            "type": "heatmap"
           }
          ],
          "heatmapgl": [
           {
            "colorbar": {
             "outlinewidth": 0,
             "ticks": ""
            },
            "colorscale": [
             [
              0,
              "#0d0887"
             ],
             [
              0.1111111111111111,
              "#46039f"
             ],
             [
              0.2222222222222222,
              "#7201a8"
             ],
             [
              0.3333333333333333,
              "#9c179e"
             ],
             [
              0.4444444444444444,
              "#bd3786"
             ],
             [
              0.5555555555555556,
              "#d8576b"
             ],
             [
              0.6666666666666666,
              "#ed7953"
             ],
             [
              0.7777777777777778,
              "#fb9f3a"
             ],
             [
              0.8888888888888888,
              "#fdca26"
             ],
             [
              1,
              "#f0f921"
             ]
            ],
            "type": "heatmapgl"
           }
          ],
          "histogram": [
           {
            "marker": {
             "pattern": {
              "fillmode": "overlay",
              "size": 10,
              "solidity": 0.2
             }
            },
            "type": "histogram"
           }
          ],
          "histogram2d": [
           {
            "colorbar": {
             "outlinewidth": 0,
             "ticks": ""
            },
            "colorscale": [
             [
              0,
              "#0d0887"
             ],
             [
              0.1111111111111111,
              "#46039f"
             ],
             [
              0.2222222222222222,
              "#7201a8"
             ],
             [
              0.3333333333333333,
              "#9c179e"
             ],
             [
              0.4444444444444444,
              "#bd3786"
             ],
             [
              0.5555555555555556,
              "#d8576b"
             ],
             [
              0.6666666666666666,
              "#ed7953"
             ],
             [
              0.7777777777777778,
              "#fb9f3a"
             ],
             [
              0.8888888888888888,
              "#fdca26"
             ],
             [
              1,
              "#f0f921"
             ]
            ],
            "type": "histogram2d"
           }
          ],
          "histogram2dcontour": [
           {
            "colorbar": {
             "outlinewidth": 0,
             "ticks": ""
            },
            "colorscale": [
             [
              0,
              "#0d0887"
             ],
             [
              0.1111111111111111,
              "#46039f"
             ],
             [
              0.2222222222222222,
              "#7201a8"
             ],
             [
              0.3333333333333333,
              "#9c179e"
             ],
             [
              0.4444444444444444,
              "#bd3786"
             ],
             [
              0.5555555555555556,
              "#d8576b"
             ],
             [
              0.6666666666666666,
              "#ed7953"
             ],
             [
              0.7777777777777778,
              "#fb9f3a"
             ],
             [
              0.8888888888888888,
              "#fdca26"
             ],
             [
              1,
              "#f0f921"
             ]
            ],
            "type": "histogram2dcontour"
           }
          ],
          "mesh3d": [
           {
            "colorbar": {
             "outlinewidth": 0,
             "ticks": ""
            },
            "type": "mesh3d"
           }
          ],
          "parcoords": [
           {
            "line": {
             "colorbar": {
              "outlinewidth": 0,
              "ticks": ""
             }
            },
            "type": "parcoords"
           }
          ],
          "pie": [
           {
            "automargin": true,
            "type": "pie"
           }
          ],
          "scatter": [
           {
            "fillpattern": {
             "fillmode": "overlay",
             "size": 10,
             "solidity": 0.2
            },
            "type": "scatter"
           }
          ],
          "scatter3d": [
           {
            "line": {
             "colorbar": {
              "outlinewidth": 0,
              "ticks": ""
             }
            },
            "marker": {
             "colorbar": {
              "outlinewidth": 0,
              "ticks": ""
             }
            },
            "type": "scatter3d"
           }
          ],
          "scattercarpet": [
           {
            "marker": {
             "colorbar": {
              "outlinewidth": 0,
              "ticks": ""
             }
            },
            "type": "scattercarpet"
           }
          ],
          "scattergeo": [
           {
            "marker": {
             "colorbar": {
              "outlinewidth": 0,
              "ticks": ""
             }
            },
            "type": "scattergeo"
           }
          ],
          "scattergl": [
           {
            "marker": {
             "colorbar": {
              "outlinewidth": 0,
              "ticks": ""
             }
            },
            "type": "scattergl"
           }
          ],
          "scattermapbox": [
           {
            "marker": {
             "colorbar": {
              "outlinewidth": 0,
              "ticks": ""
             }
            },
            "type": "scattermapbox"
           }
          ],
          "scatterpolar": [
           {
            "marker": {
             "colorbar": {
              "outlinewidth": 0,
              "ticks": ""
             }
            },
            "type": "scatterpolar"
           }
          ],
          "scatterpolargl": [
           {
            "marker": {
             "colorbar": {
              "outlinewidth": 0,
              "ticks": ""
             }
            },
            "type": "scatterpolargl"
           }
          ],
          "scatterternary": [
           {
            "marker": {
             "colorbar": {
              "outlinewidth": 0,
              "ticks": ""
             }
            },
            "type": "scatterternary"
           }
          ],
          "surface": [
           {
            "colorbar": {
             "outlinewidth": 0,
             "ticks": ""
            },
            "colorscale": [
             [
              0,
              "#0d0887"
             ],
             [
              0.1111111111111111,
              "#46039f"
             ],
             [
              0.2222222222222222,
              "#7201a8"
             ],
             [
              0.3333333333333333,
              "#9c179e"
             ],
             [
              0.4444444444444444,
              "#bd3786"
             ],
             [
              0.5555555555555556,
              "#d8576b"
             ],
             [
              0.6666666666666666,
              "#ed7953"
             ],
             [
              0.7777777777777778,
              "#fb9f3a"
             ],
             [
              0.8888888888888888,
              "#fdca26"
             ],
             [
              1,
              "#f0f921"
             ]
            ],
            "type": "surface"
           }
          ],
          "table": [
           {
            "cells": {
             "fill": {
              "color": "#EBF0F8"
             },
             "line": {
              "color": "white"
             }
            },
            "header": {
             "fill": {
              "color": "#C8D4E3"
             },
             "line": {
              "color": "white"
             }
            },
            "type": "table"
           }
          ]
         },
         "layout": {
          "annotationdefaults": {
           "arrowcolor": "#2a3f5f",
           "arrowhead": 0,
           "arrowwidth": 1
          },
          "autotypenumbers": "strict",
          "coloraxis": {
           "colorbar": {
            "outlinewidth": 0,
            "ticks": ""
           }
          },
          "colorscale": {
           "diverging": [
            [
             0,
             "#8e0152"
            ],
            [
             0.1,
             "#c51b7d"
            ],
            [
             0.2,
             "#de77ae"
            ],
            [
             0.3,
             "#f1b6da"
            ],
            [
             0.4,
             "#fde0ef"
            ],
            [
             0.5,
             "#f7f7f7"
            ],
            [
             0.6,
             "#e6f5d0"
            ],
            [
             0.7,
             "#b8e186"
            ],
            [
             0.8,
             "#7fbc41"
            ],
            [
             0.9,
             "#4d9221"
            ],
            [
             1,
             "#276419"
            ]
           ],
           "sequential": [
            [
             0,
             "#0d0887"
            ],
            [
             0.1111111111111111,
             "#46039f"
            ],
            [
             0.2222222222222222,
             "#7201a8"
            ],
            [
             0.3333333333333333,
             "#9c179e"
            ],
            [
             0.4444444444444444,
             "#bd3786"
            ],
            [
             0.5555555555555556,
             "#d8576b"
            ],
            [
             0.6666666666666666,
             "#ed7953"
            ],
            [
             0.7777777777777778,
             "#fb9f3a"
            ],
            [
             0.8888888888888888,
             "#fdca26"
            ],
            [
             1,
             "#f0f921"
            ]
           ],
           "sequentialminus": [
            [
             0,
             "#0d0887"
            ],
            [
             0.1111111111111111,
             "#46039f"
            ],
            [
             0.2222222222222222,
             "#7201a8"
            ],
            [
             0.3333333333333333,
             "#9c179e"
            ],
            [
             0.4444444444444444,
             "#bd3786"
            ],
            [
             0.5555555555555556,
             "#d8576b"
            ],
            [
             0.6666666666666666,
             "#ed7953"
            ],
            [
             0.7777777777777778,
             "#fb9f3a"
            ],
            [
             0.8888888888888888,
             "#fdca26"
            ],
            [
             1,
             "#f0f921"
            ]
           ]
          },
          "colorway": [
           "#636efa",
           "#EF553B",
           "#00cc96",
           "#ab63fa",
           "#FFA15A",
           "#19d3f3",
           "#FF6692",
           "#B6E880",
           "#FF97FF",
           "#FECB52"
          ],
          "font": {
           "color": "#2a3f5f"
          },
          "geo": {
           "bgcolor": "white",
           "lakecolor": "white",
           "landcolor": "#E5ECF6",
           "showlakes": true,
           "showland": true,
           "subunitcolor": "white"
          },
          "hoverlabel": {
           "align": "left"
          },
          "hovermode": "closest",
          "mapbox": {
           "style": "light"
          },
          "paper_bgcolor": "white",
          "plot_bgcolor": "#E5ECF6",
          "polar": {
           "angularaxis": {
            "gridcolor": "white",
            "linecolor": "white",
            "ticks": ""
           },
           "bgcolor": "#E5ECF6",
           "radialaxis": {
            "gridcolor": "white",
            "linecolor": "white",
            "ticks": ""
           }
          },
          "scene": {
           "xaxis": {
            "backgroundcolor": "#E5ECF6",
            "gridcolor": "white",
            "gridwidth": 2,
            "linecolor": "white",
            "showbackground": true,
            "ticks": "",
            "zerolinecolor": "white"
           },
           "yaxis": {
            "backgroundcolor": "#E5ECF6",
            "gridcolor": "white",
            "gridwidth": 2,
            "linecolor": "white",
            "showbackground": true,
            "ticks": "",
            "zerolinecolor": "white"
           },
           "zaxis": {
            "backgroundcolor": "#E5ECF6",
            "gridcolor": "white",
            "gridwidth": 2,
            "linecolor": "white",
            "showbackground": true,
            "ticks": "",
            "zerolinecolor": "white"
           }
          },
          "shapedefaults": {
           "line": {
            "color": "#2a3f5f"
           }
          },
          "ternary": {
           "aaxis": {
            "gridcolor": "white",
            "linecolor": "white",
            "ticks": ""
           },
           "baxis": {
            "gridcolor": "white",
            "linecolor": "white",
            "ticks": ""
           },
           "bgcolor": "#E5ECF6",
           "caxis": {
            "gridcolor": "white",
            "linecolor": "white",
            "ticks": ""
           }
          },
          "title": {
           "x": 0.05
          },
          "xaxis": {
           "automargin": true,
           "gridcolor": "white",
           "linecolor": "white",
           "ticks": "",
           "title": {
            "standoff": 15
           },
           "zerolinecolor": "white",
           "zerolinewidth": 2
          },
          "yaxis": {
           "automargin": true,
           "gridcolor": "white",
           "linecolor": "white",
           "ticks": "",
           "title": {
            "standoff": 15
           },
           "zerolinecolor": "white",
           "zerolinewidth": 2
          }
         }
        },
        "width": 1400,
        "xaxis": {
         "range": [
          0,
          540
         ],
         "title": {
          "text": "Time"
         }
        },
        "yaxis": {
         "dtick": 1,
         "range": [
          -0.5,
          11.5
         ],
         "tick0": 0,
         "tickmode": "linear",
         "title": {
          "text": "Item Index"
         }
        }
       }
      }
     },
     "metadata": {},
     "output_type": "display_data"
    }
   ],
   "source": [
    "# Define operations\n",
    "ops = {}\n",
    "ops['wash'] = 10\n",
    "ops['peel'] = 20\n",
    "ops['chop'] = 15\n",
    "\n",
    "conflicts = np.zeros([len(ops), len(ops)])\n",
    "\n",
    "tms.define_conflict_by_name(conflicts, ops, 'wash', 'wash')\n",
    "\n",
    "tms.define_conflict_by_name(conflicts, ops, 'peel', 'wash')\n",
    "tms.define_conflict_by_name(conflicts, ops, 'peel', 'peel')\n",
    "\n",
    "tms.define_conflict_by_name(conflicts, ops, 'chop', 'wash')\n",
    "tms.define_conflict_by_name(conflicts, ops, 'chop', 'peel')\n",
    "tms.define_conflict_by_name(conflicts, ops, 'chop', 'chop')\n",
    "\n",
    "# Run scheduler\n",
    "num_items = 12\n",
    "schedule = tms.run_scheduler(num_items, ops, conflicts, sync_starts=False)\n",
    "\n",
    "schedule_duration = tms.calc_schedule_duration(schedule, ops)\n",
    "print(f\"Total Schedule duration is {schedule_duration}\")\n",
    "\n",
    "schedule_efficiency = tms.calc_schedule_efficiency(schedule, ops)\n",
    "print(f\"Schedule efficiency is {schedule_efficiency:.2%}\")\n",
    "\n",
    "tms.plot_schedule(schedule, ops, label_size=10)"
   ]
  },
  {
   "cell_type": "markdown",
   "metadata": {},
   "source": [
    "## Groups of Four Potatoes, 3 Operations"
   ]
  },
  {
   "cell_type": "code",
   "execution_count": 619,
   "metadata": {},
   "outputs": [
    {
     "name": "stdout",
     "output_type": "stream",
     "text": [
      "Total Schedule duration is 540.0\n",
      "Schedule efficiency is 33.33%\n",
      "Importing plotting tools...\n",
      "Generating plot...\n"
     ]
    },
    {
     "data": {
      "application/vnd.plotly.v1+json": {
       "config": {
        "plotlyServerURL": "https://plot.ly"
       },
       "data": [],
       "layout": {
        "annotations": [
         {
          "bgcolor": "rgba(255,255,255,0.8)",
          "font": {
           "color": "black",
           "size": 18
          },
          "showarrow": false,
          "text": "wash",
          "x": 20,
          "y": 0
         },
         {
          "bgcolor": "rgba(255,255,255,0.8)",
          "font": {
           "color": "black",
           "size": 18
          },
          "showarrow": false,
          "text": "peel",
          "x": 160,
          "y": 0
         },
         {
          "bgcolor": "rgba(255,255,255,0.8)",
          "font": {
           "color": "black",
           "size": 18
          },
          "showarrow": false,
          "text": "chop",
          "x": 390,
          "y": 0
         },
         {
          "bgcolor": "rgba(255,255,255,0.8)",
          "font": {
           "color": "black",
           "size": 18
          },
          "showarrow": false,
          "text": "wash",
          "x": 60,
          "y": 1
         },
         {
          "bgcolor": "rgba(255,255,255,0.8)",
          "font": {
           "color": "black",
           "size": 18
          },
          "showarrow": false,
          "text": "peel",
          "x": 240,
          "y": 1
         },
         {
          "bgcolor": "rgba(255,255,255,0.8)",
          "font": {
           "color": "black",
           "size": 18
          },
          "showarrow": false,
          "text": "chop",
          "x": 450,
          "y": 1
         },
         {
          "bgcolor": "rgba(255,255,255,0.8)",
          "font": {
           "color": "black",
           "size": 18
          },
          "showarrow": false,
          "text": "wash",
          "x": 100,
          "y": 2
         },
         {
          "bgcolor": "rgba(255,255,255,0.8)",
          "font": {
           "color": "black",
           "size": 18
          },
          "showarrow": false,
          "text": "peel",
          "x": 320,
          "y": 2
         },
         {
          "bgcolor": "rgba(255,255,255,0.8)",
          "font": {
           "color": "black",
           "size": 18
          },
          "showarrow": false,
          "text": "chop",
          "x": 510,
          "y": 2
         }
        ],
        "autosize": false,
        "height": 800,
        "shapes": [
         {
          "fillcolor": "#636EFA",
          "line": {
           "color": "black",
           "width": 1
          },
          "type": "rect",
          "x0": 0,
          "x1": 40,
          "y0": -0.5,
          "y1": 0.5
         },
         {
          "fillcolor": "#EF553B",
          "line": {
           "color": "black",
           "width": 1
          },
          "type": "rect",
          "x0": 120,
          "x1": 200,
          "y0": -0.5,
          "y1": 0.5
         },
         {
          "fillcolor": "#00CC96",
          "line": {
           "color": "black",
           "width": 1
          },
          "type": "rect",
          "x0": 360,
          "x1": 420,
          "y0": -0.5,
          "y1": 0.5
         },
         {
          "fillcolor": "#636EFA",
          "line": {
           "color": "black",
           "width": 1
          },
          "type": "rect",
          "x0": 40,
          "x1": 80,
          "y0": 0.5,
          "y1": 1.5
         },
         {
          "fillcolor": "#EF553B",
          "line": {
           "color": "black",
           "width": 1
          },
          "type": "rect",
          "x0": 200,
          "x1": 280,
          "y0": 0.5,
          "y1": 1.5
         },
         {
          "fillcolor": "#00CC96",
          "line": {
           "color": "black",
           "width": 1
          },
          "type": "rect",
          "x0": 420,
          "x1": 480,
          "y0": 0.5,
          "y1": 1.5
         },
         {
          "fillcolor": "#636EFA",
          "line": {
           "color": "black",
           "width": 1
          },
          "type": "rect",
          "x0": 80,
          "x1": 120,
          "y0": 1.5,
          "y1": 2.5
         },
         {
          "fillcolor": "#EF553B",
          "line": {
           "color": "black",
           "width": 1
          },
          "type": "rect",
          "x0": 280,
          "x1": 360,
          "y0": 1.5,
          "y1": 2.5
         },
         {
          "fillcolor": "#00CC96",
          "line": {
           "color": "black",
           "width": 1
          },
          "type": "rect",
          "x0": 480,
          "x1": 540,
          "y0": 1.5,
          "y1": 2.5
         }
        ],
        "template": {
         "data": {
          "bar": [
           {
            "error_x": {
             "color": "#2a3f5f"
            },
            "error_y": {
             "color": "#2a3f5f"
            },
            "marker": {
             "line": {
              "color": "#E5ECF6",
              "width": 0.5
             },
             "pattern": {
              "fillmode": "overlay",
              "size": 10,
              "solidity": 0.2
             }
            },
            "type": "bar"
           }
          ],
          "barpolar": [
           {
            "marker": {
             "line": {
              "color": "#E5ECF6",
              "width": 0.5
             },
             "pattern": {
              "fillmode": "overlay",
              "size": 10,
              "solidity": 0.2
             }
            },
            "type": "barpolar"
           }
          ],
          "carpet": [
           {
            "aaxis": {
             "endlinecolor": "#2a3f5f",
             "gridcolor": "white",
             "linecolor": "white",
             "minorgridcolor": "white",
             "startlinecolor": "#2a3f5f"
            },
            "baxis": {
             "endlinecolor": "#2a3f5f",
             "gridcolor": "white",
             "linecolor": "white",
             "minorgridcolor": "white",
             "startlinecolor": "#2a3f5f"
            },
            "type": "carpet"
           }
          ],
          "choropleth": [
           {
            "colorbar": {
             "outlinewidth": 0,
             "ticks": ""
            },
            "type": "choropleth"
           }
          ],
          "contour": [
           {
            "colorbar": {
             "outlinewidth": 0,
             "ticks": ""
            },
            "colorscale": [
             [
              0,
              "#0d0887"
             ],
             [
              0.1111111111111111,
              "#46039f"
             ],
             [
              0.2222222222222222,
              "#7201a8"
             ],
             [
              0.3333333333333333,
              "#9c179e"
             ],
             [
              0.4444444444444444,
              "#bd3786"
             ],
             [
              0.5555555555555556,
              "#d8576b"
             ],
             [
              0.6666666666666666,
              "#ed7953"
             ],
             [
              0.7777777777777778,
              "#fb9f3a"
             ],
             [
              0.8888888888888888,
              "#fdca26"
             ],
             [
              1,
              "#f0f921"
             ]
            ],
            "type": "contour"
           }
          ],
          "contourcarpet": [
           {
            "colorbar": {
             "outlinewidth": 0,
             "ticks": ""
            },
            "type": "contourcarpet"
           }
          ],
          "heatmap": [
           {
            "colorbar": {
             "outlinewidth": 0,
             "ticks": ""
            },
            "colorscale": [
             [
              0,
              "#0d0887"
             ],
             [
              0.1111111111111111,
              "#46039f"
             ],
             [
              0.2222222222222222,
              "#7201a8"
             ],
             [
              0.3333333333333333,
              "#9c179e"
             ],
             [
              0.4444444444444444,
              "#bd3786"
             ],
             [
              0.5555555555555556,
              "#d8576b"
             ],
             [
              0.6666666666666666,
              "#ed7953"
             ],
             [
              0.7777777777777778,
              "#fb9f3a"
             ],
             [
              0.8888888888888888,
              "#fdca26"
             ],
             [
              1,
              "#f0f921"
             ]
            ],
            "type": "heatmap"
           }
          ],
          "heatmapgl": [
           {
            "colorbar": {
             "outlinewidth": 0,
             "ticks": ""
            },
            "colorscale": [
             [
              0,
              "#0d0887"
             ],
             [
              0.1111111111111111,
              "#46039f"
             ],
             [
              0.2222222222222222,
              "#7201a8"
             ],
             [
              0.3333333333333333,
              "#9c179e"
             ],
             [
              0.4444444444444444,
              "#bd3786"
             ],
             [
              0.5555555555555556,
              "#d8576b"
             ],
             [
              0.6666666666666666,
              "#ed7953"
             ],
             [
              0.7777777777777778,
              "#fb9f3a"
             ],
             [
              0.8888888888888888,
              "#fdca26"
             ],
             [
              1,
              "#f0f921"
             ]
            ],
            "type": "heatmapgl"
           }
          ],
          "histogram": [
           {
            "marker": {
             "pattern": {
              "fillmode": "overlay",
              "size": 10,
              "solidity": 0.2
             }
            },
            "type": "histogram"
           }
          ],
          "histogram2d": [
           {
            "colorbar": {
             "outlinewidth": 0,
             "ticks": ""
            },
            "colorscale": [
             [
              0,
              "#0d0887"
             ],
             [
              0.1111111111111111,
              "#46039f"
             ],
             [
              0.2222222222222222,
              "#7201a8"
             ],
             [
              0.3333333333333333,
              "#9c179e"
             ],
             [
              0.4444444444444444,
              "#bd3786"
             ],
             [
              0.5555555555555556,
              "#d8576b"
             ],
             [
              0.6666666666666666,
              "#ed7953"
             ],
             [
              0.7777777777777778,
              "#fb9f3a"
             ],
             [
              0.8888888888888888,
              "#fdca26"
             ],
             [
              1,
              "#f0f921"
             ]
            ],
            "type": "histogram2d"
           }
          ],
          "histogram2dcontour": [
           {
            "colorbar": {
             "outlinewidth": 0,
             "ticks": ""
            },
            "colorscale": [
             [
              0,
              "#0d0887"
             ],
             [
              0.1111111111111111,
              "#46039f"
             ],
             [
              0.2222222222222222,
              "#7201a8"
             ],
             [
              0.3333333333333333,
              "#9c179e"
             ],
             [
              0.4444444444444444,
              "#bd3786"
             ],
             [
              0.5555555555555556,
              "#d8576b"
             ],
             [
              0.6666666666666666,
              "#ed7953"
             ],
             [
              0.7777777777777778,
              "#fb9f3a"
             ],
             [
              0.8888888888888888,
              "#fdca26"
             ],
             [
              1,
              "#f0f921"
             ]
            ],
            "type": "histogram2dcontour"
           }
          ],
          "mesh3d": [
           {
            "colorbar": {
             "outlinewidth": 0,
             "ticks": ""
            },
            "type": "mesh3d"
           }
          ],
          "parcoords": [
           {
            "line": {
             "colorbar": {
              "outlinewidth": 0,
              "ticks": ""
             }
            },
            "type": "parcoords"
           }
          ],
          "pie": [
           {
            "automargin": true,
            "type": "pie"
           }
          ],
          "scatter": [
           {
            "fillpattern": {
             "fillmode": "overlay",
             "size": 10,
             "solidity": 0.2
            },
            "type": "scatter"
           }
          ],
          "scatter3d": [
           {
            "line": {
             "colorbar": {
              "outlinewidth": 0,
              "ticks": ""
             }
            },
            "marker": {
             "colorbar": {
              "outlinewidth": 0,
              "ticks": ""
             }
            },
            "type": "scatter3d"
           }
          ],
          "scattercarpet": [
           {
            "marker": {
             "colorbar": {
              "outlinewidth": 0,
              "ticks": ""
             }
            },
            "type": "scattercarpet"
           }
          ],
          "scattergeo": [
           {
            "marker": {
             "colorbar": {
              "outlinewidth": 0,
              "ticks": ""
             }
            },
            "type": "scattergeo"
           }
          ],
          "scattergl": [
           {
            "marker": {
             "colorbar": {
              "outlinewidth": 0,
              "ticks": ""
             }
            },
            "type": "scattergl"
           }
          ],
          "scattermapbox": [
           {
            "marker": {
             "colorbar": {
              "outlinewidth": 0,
              "ticks": ""
             }
            },
            "type": "scattermapbox"
           }
          ],
          "scatterpolar": [
           {
            "marker": {
             "colorbar": {
              "outlinewidth": 0,
              "ticks": ""
             }
            },
            "type": "scatterpolar"
           }
          ],
          "scatterpolargl": [
           {
            "marker": {
             "colorbar": {
              "outlinewidth": 0,
              "ticks": ""
             }
            },
            "type": "scatterpolargl"
           }
          ],
          "scatterternary": [
           {
            "marker": {
             "colorbar": {
              "outlinewidth": 0,
              "ticks": ""
             }
            },
            "type": "scatterternary"
           }
          ],
          "surface": [
           {
            "colorbar": {
             "outlinewidth": 0,
             "ticks": ""
            },
            "colorscale": [
             [
              0,
              "#0d0887"
             ],
             [
              0.1111111111111111,
              "#46039f"
             ],
             [
              0.2222222222222222,
              "#7201a8"
             ],
             [
              0.3333333333333333,
              "#9c179e"
             ],
             [
              0.4444444444444444,
              "#bd3786"
             ],
             [
              0.5555555555555556,
              "#d8576b"
             ],
             [
              0.6666666666666666,
              "#ed7953"
             ],
             [
              0.7777777777777778,
              "#fb9f3a"
             ],
             [
              0.8888888888888888,
              "#fdca26"
             ],
             [
              1,
              "#f0f921"
             ]
            ],
            "type": "surface"
           }
          ],
          "table": [
           {
            "cells": {
             "fill": {
              "color": "#EBF0F8"
             },
             "line": {
              "color": "white"
             }
            },
            "header": {
             "fill": {
              "color": "#C8D4E3"
             },
             "line": {
              "color": "white"
             }
            },
            "type": "table"
           }
          ]
         },
         "layout": {
          "annotationdefaults": {
           "arrowcolor": "#2a3f5f",
           "arrowhead": 0,
           "arrowwidth": 1
          },
          "autotypenumbers": "strict",
          "coloraxis": {
           "colorbar": {
            "outlinewidth": 0,
            "ticks": ""
           }
          },
          "colorscale": {
           "diverging": [
            [
             0,
             "#8e0152"
            ],
            [
             0.1,
             "#c51b7d"
            ],
            [
             0.2,
             "#de77ae"
            ],
            [
             0.3,
             "#f1b6da"
            ],
            [
             0.4,
             "#fde0ef"
            ],
            [
             0.5,
             "#f7f7f7"
            ],
            [
             0.6,
             "#e6f5d0"
            ],
            [
             0.7,
             "#b8e186"
            ],
            [
             0.8,
             "#7fbc41"
            ],
            [
             0.9,
             "#4d9221"
            ],
            [
             1,
             "#276419"
            ]
           ],
           "sequential": [
            [
             0,
             "#0d0887"
            ],
            [
             0.1111111111111111,
             "#46039f"
            ],
            [
             0.2222222222222222,
             "#7201a8"
            ],
            [
             0.3333333333333333,
             "#9c179e"
            ],
            [
             0.4444444444444444,
             "#bd3786"
            ],
            [
             0.5555555555555556,
             "#d8576b"
            ],
            [
             0.6666666666666666,
             "#ed7953"
            ],
            [
             0.7777777777777778,
             "#fb9f3a"
            ],
            [
             0.8888888888888888,
             "#fdca26"
            ],
            [
             1,
             "#f0f921"
            ]
           ],
           "sequentialminus": [
            [
             0,
             "#0d0887"
            ],
            [
             0.1111111111111111,
             "#46039f"
            ],
            [
             0.2222222222222222,
             "#7201a8"
            ],
            [
             0.3333333333333333,
             "#9c179e"
            ],
            [
             0.4444444444444444,
             "#bd3786"
            ],
            [
             0.5555555555555556,
             "#d8576b"
            ],
            [
             0.6666666666666666,
             "#ed7953"
            ],
            [
             0.7777777777777778,
             "#fb9f3a"
            ],
            [
             0.8888888888888888,
             "#fdca26"
            ],
            [
             1,
             "#f0f921"
            ]
           ]
          },
          "colorway": [
           "#636efa",
           "#EF553B",
           "#00cc96",
           "#ab63fa",
           "#FFA15A",
           "#19d3f3",
           "#FF6692",
           "#B6E880",
           "#FF97FF",
           "#FECB52"
          ],
          "font": {
           "color": "#2a3f5f"
          },
          "geo": {
           "bgcolor": "white",
           "lakecolor": "white",
           "landcolor": "#E5ECF6",
           "showlakes": true,
           "showland": true,
           "subunitcolor": "white"
          },
          "hoverlabel": {
           "align": "left"
          },
          "hovermode": "closest",
          "mapbox": {
           "style": "light"
          },
          "paper_bgcolor": "white",
          "plot_bgcolor": "#E5ECF6",
          "polar": {
           "angularaxis": {
            "gridcolor": "white",
            "linecolor": "white",
            "ticks": ""
           },
           "bgcolor": "#E5ECF6",
           "radialaxis": {
            "gridcolor": "white",
            "linecolor": "white",
            "ticks": ""
           }
          },
          "scene": {
           "xaxis": {
            "backgroundcolor": "#E5ECF6",
            "gridcolor": "white",
            "gridwidth": 2,
            "linecolor": "white",
            "showbackground": true,
            "ticks": "",
            "zerolinecolor": "white"
           },
           "yaxis": {
            "backgroundcolor": "#E5ECF6",
            "gridcolor": "white",
            "gridwidth": 2,
            "linecolor": "white",
            "showbackground": true,
            "ticks": "",
            "zerolinecolor": "white"
           },
           "zaxis": {
            "backgroundcolor": "#E5ECF6",
            "gridcolor": "white",
            "gridwidth": 2,
            "linecolor": "white",
            "showbackground": true,
            "ticks": "",
            "zerolinecolor": "white"
           }
          },
          "shapedefaults": {
           "line": {
            "color": "#2a3f5f"
           }
          },
          "ternary": {
           "aaxis": {
            "gridcolor": "white",
            "linecolor": "white",
            "ticks": ""
           },
           "baxis": {
            "gridcolor": "white",
            "linecolor": "white",
            "ticks": ""
           },
           "bgcolor": "#E5ECF6",
           "caxis": {
            "gridcolor": "white",
            "linecolor": "white",
            "ticks": ""
           }
          },
          "title": {
           "x": 0.05
          },
          "xaxis": {
           "automargin": true,
           "gridcolor": "white",
           "linecolor": "white",
           "ticks": "",
           "title": {
            "standoff": 15
           },
           "zerolinecolor": "white",
           "zerolinewidth": 2
          },
          "yaxis": {
           "automargin": true,
           "gridcolor": "white",
           "linecolor": "white",
           "ticks": "",
           "title": {
            "standoff": 15
           },
           "zerolinecolor": "white",
           "zerolinewidth": 2
          }
         }
        },
        "width": 1400,
        "xaxis": {
         "range": [
          0,
          540
         ],
         "title": {
          "text": "Time"
         }
        },
        "yaxis": {
         "dtick": 1,
         "range": [
          -0.5,
          2.5
         ],
         "tick0": 0,
         "tickmode": "linear",
         "title": {
          "text": "Item Index"
         }
        }
       }
      }
     },
     "metadata": {},
     "output_type": "display_data"
    }
   ],
   "source": [
    "# Define operations\n",
    "ops['wash'] = 10*4\n",
    "ops['peel'] = 20*4\n",
    "ops['chop'] = 15*4\n",
    "\n",
    "# Run scheduler\n",
    "num_items = 3 # groups of 4 potatoes\n",
    "schedule = tms.run_scheduler(num_items, ops, conflicts, sync_starts=False)\n",
    "\n",
    "schedule_duration = tms.calc_schedule_duration(schedule, ops)\n",
    "print(f\"Total Schedule duration is {schedule_duration}\")\n",
    "\n",
    "schedule_efficiency = tms.calc_schedule_efficiency(schedule, ops)\n",
    "print(f\"Schedule efficiency is {schedule_efficiency:.2%}\")\n",
    "\n",
    "tms.plot_schedule(schedule, ops)"
   ]
  },
  {
   "cell_type": "markdown",
   "metadata": {},
   "source": [
    "# Potato Robot Examples, Resource Conflicts\n",
    "\n",
    "## One Group, All Operations"
   ]
  },
  {
   "cell_type": "code",
   "execution_count": 620,
   "metadata": {},
   "outputs": [
    {
     "name": "stdout",
     "output_type": "stream",
     "text": [
      "Total Schedule duration is 1680.0 (28.0 minutes)\n",
      "Importing plotting tools...\n",
      "Generating plot...\n"
     ]
    },
    {
     "data": {
      "application/vnd.plotly.v1+json": {
       "config": {
        "plotlyServerURL": "https://plot.ly"
       },
       "data": [],
       "layout": {
        "annotations": [
         {
          "bgcolor": "rgba(255,255,255,0.8)",
          "font": {
           "color": "black",
           "size": 18
          },
          "showarrow": false,
          "text": "wash",
          "x": 20,
          "y": 0
         },
         {
          "bgcolor": "rgba(255,255,255,0.8)",
          "font": {
           "color": "black",
           "size": 18
          },
          "showarrow": false,
          "text": "peel",
          "x": 80,
          "y": 0
         },
         {
          "bgcolor": "rgba(255,255,255,0.8)",
          "font": {
           "color": "black",
           "size": 18
          },
          "showarrow": false,
          "text": "chop",
          "x": 150,
          "y": 0
         },
         {
          "bgcolor": "rgba(255,255,255,0.8)",
          "font": {
           "color": "black",
           "size": 18
          },
          "showarrow": false,
          "text": "boil",
          "x": 480,
          "y": 0
         },
         {
          "bgcolor": "rgba(255,255,255,0.8)",
          "font": {
           "color": "black",
           "size": 18
          },
          "showarrow": false,
          "text": "dry",
          "x": 930,
          "y": 0
         },
         {
          "bgcolor": "rgba(255,255,255,0.8)",
          "font": {
           "color": "black",
           "size": 18
          },
          "showarrow": false,
          "text": "mash",
          "x": 1380,
          "y": 0
         }
        ],
        "autosize": false,
        "height": 800,
        "shapes": [
         {
          "fillcolor": "#636EFA",
          "line": {
           "color": "black",
           "width": 1
          },
          "type": "rect",
          "x0": 0,
          "x1": 40,
          "y0": -0.5,
          "y1": 0.5
         },
         {
          "fillcolor": "#EF553B",
          "line": {
           "color": "black",
           "width": 1
          },
          "type": "rect",
          "x0": 40,
          "x1": 120,
          "y0": -0.5,
          "y1": 0.5
         },
         {
          "fillcolor": "#00CC96",
          "line": {
           "color": "black",
           "width": 1
          },
          "type": "rect",
          "x0": 120,
          "x1": 180,
          "y0": -0.5,
          "y1": 0.5
         },
         {
          "fillcolor": "#AB63FA",
          "line": {
           "color": "black",
           "width": 1
          },
          "type": "rect",
          "x0": 180,
          "x1": 780,
          "y0": -0.5,
          "y1": 0.5
         },
         {
          "fillcolor": "#FFA15A",
          "line": {
           "color": "black",
           "width": 1
          },
          "type": "rect",
          "x0": 780,
          "x1": 1080,
          "y0": -0.5,
          "y1": 0.5
         },
         {
          "fillcolor": "#19D3F3",
          "line": {
           "color": "black",
           "width": 1
          },
          "type": "rect",
          "x0": 1080,
          "x1": 1680,
          "y0": -0.5,
          "y1": 0.5
         }
        ],
        "template": {
         "data": {
          "bar": [
           {
            "error_x": {
             "color": "#2a3f5f"
            },
            "error_y": {
             "color": "#2a3f5f"
            },
            "marker": {
             "line": {
              "color": "#E5ECF6",
              "width": 0.5
             },
             "pattern": {
              "fillmode": "overlay",
              "size": 10,
              "solidity": 0.2
             }
            },
            "type": "bar"
           }
          ],
          "barpolar": [
           {
            "marker": {
             "line": {
              "color": "#E5ECF6",
              "width": 0.5
             },
             "pattern": {
              "fillmode": "overlay",
              "size": 10,
              "solidity": 0.2
             }
            },
            "type": "barpolar"
           }
          ],
          "carpet": [
           {
            "aaxis": {
             "endlinecolor": "#2a3f5f",
             "gridcolor": "white",
             "linecolor": "white",
             "minorgridcolor": "white",
             "startlinecolor": "#2a3f5f"
            },
            "baxis": {
             "endlinecolor": "#2a3f5f",
             "gridcolor": "white",
             "linecolor": "white",
             "minorgridcolor": "white",
             "startlinecolor": "#2a3f5f"
            },
            "type": "carpet"
           }
          ],
          "choropleth": [
           {
            "colorbar": {
             "outlinewidth": 0,
             "ticks": ""
            },
            "type": "choropleth"
           }
          ],
          "contour": [
           {
            "colorbar": {
             "outlinewidth": 0,
             "ticks": ""
            },
            "colorscale": [
             [
              0,
              "#0d0887"
             ],
             [
              0.1111111111111111,
              "#46039f"
             ],
             [
              0.2222222222222222,
              "#7201a8"
             ],
             [
              0.3333333333333333,
              "#9c179e"
             ],
             [
              0.4444444444444444,
              "#bd3786"
             ],
             [
              0.5555555555555556,
              "#d8576b"
             ],
             [
              0.6666666666666666,
              "#ed7953"
             ],
             [
              0.7777777777777778,
              "#fb9f3a"
             ],
             [
              0.8888888888888888,
              "#fdca26"
             ],
             [
              1,
              "#f0f921"
             ]
            ],
            "type": "contour"
           }
          ],
          "contourcarpet": [
           {
            "colorbar": {
             "outlinewidth": 0,
             "ticks": ""
            },
            "type": "contourcarpet"
           }
          ],
          "heatmap": [
           {
            "colorbar": {
             "outlinewidth": 0,
             "ticks": ""
            },
            "colorscale": [
             [
              0,
              "#0d0887"
             ],
             [
              0.1111111111111111,
              "#46039f"
             ],
             [
              0.2222222222222222,
              "#7201a8"
             ],
             [
              0.3333333333333333,
              "#9c179e"
             ],
             [
              0.4444444444444444,
              "#bd3786"
             ],
             [
              0.5555555555555556,
              "#d8576b"
             ],
             [
              0.6666666666666666,
              "#ed7953"
             ],
             [
              0.7777777777777778,
              "#fb9f3a"
             ],
             [
              0.8888888888888888,
              "#fdca26"
             ],
             [
              1,
              "#f0f921"
             ]
            ],
            "type": "heatmap"
           }
          ],
          "heatmapgl": [
           {
            "colorbar": {
             "outlinewidth": 0,
             "ticks": ""
            },
            "colorscale": [
             [
              0,
              "#0d0887"
             ],
             [
              0.1111111111111111,
              "#46039f"
             ],
             [
              0.2222222222222222,
              "#7201a8"
             ],
             [
              0.3333333333333333,
              "#9c179e"
             ],
             [
              0.4444444444444444,
              "#bd3786"
             ],
             [
              0.5555555555555556,
              "#d8576b"
             ],
             [
              0.6666666666666666,
              "#ed7953"
             ],
             [
              0.7777777777777778,
              "#fb9f3a"
             ],
             [
              0.8888888888888888,
              "#fdca26"
             ],
             [
              1,
              "#f0f921"
             ]
            ],
            "type": "heatmapgl"
           }
          ],
          "histogram": [
           {
            "marker": {
             "pattern": {
              "fillmode": "overlay",
              "size": 10,
              "solidity": 0.2
             }
            },
            "type": "histogram"
           }
          ],
          "histogram2d": [
           {
            "colorbar": {
             "outlinewidth": 0,
             "ticks": ""
            },
            "colorscale": [
             [
              0,
              "#0d0887"
             ],
             [
              0.1111111111111111,
              "#46039f"
             ],
             [
              0.2222222222222222,
              "#7201a8"
             ],
             [
              0.3333333333333333,
              "#9c179e"
             ],
             [
              0.4444444444444444,
              "#bd3786"
             ],
             [
              0.5555555555555556,
              "#d8576b"
             ],
             [
              0.6666666666666666,
              "#ed7953"
             ],
             [
              0.7777777777777778,
              "#fb9f3a"
             ],
             [
              0.8888888888888888,
              "#fdca26"
             ],
             [
              1,
              "#f0f921"
             ]
            ],
            "type": "histogram2d"
           }
          ],
          "histogram2dcontour": [
           {
            "colorbar": {
             "outlinewidth": 0,
             "ticks": ""
            },
            "colorscale": [
             [
              0,
              "#0d0887"
             ],
             [
              0.1111111111111111,
              "#46039f"
             ],
             [
              0.2222222222222222,
              "#7201a8"
             ],
             [
              0.3333333333333333,
              "#9c179e"
             ],
             [
              0.4444444444444444,
              "#bd3786"
             ],
             [
              0.5555555555555556,
              "#d8576b"
             ],
             [
              0.6666666666666666,
              "#ed7953"
             ],
             [
              0.7777777777777778,
              "#fb9f3a"
             ],
             [
              0.8888888888888888,
              "#fdca26"
             ],
             [
              1,
              "#f0f921"
             ]
            ],
            "type": "histogram2dcontour"
           }
          ],
          "mesh3d": [
           {
            "colorbar": {
             "outlinewidth": 0,
             "ticks": ""
            },
            "type": "mesh3d"
           }
          ],
          "parcoords": [
           {
            "line": {
             "colorbar": {
              "outlinewidth": 0,
              "ticks": ""
             }
            },
            "type": "parcoords"
           }
          ],
          "pie": [
           {
            "automargin": true,
            "type": "pie"
           }
          ],
          "scatter": [
           {
            "fillpattern": {
             "fillmode": "overlay",
             "size": 10,
             "solidity": 0.2
            },
            "type": "scatter"
           }
          ],
          "scatter3d": [
           {
            "line": {
             "colorbar": {
              "outlinewidth": 0,
              "ticks": ""
             }
            },
            "marker": {
             "colorbar": {
              "outlinewidth": 0,
              "ticks": ""
             }
            },
            "type": "scatter3d"
           }
          ],
          "scattercarpet": [
           {
            "marker": {
             "colorbar": {
              "outlinewidth": 0,
              "ticks": ""
             }
            },
            "type": "scattercarpet"
           }
          ],
          "scattergeo": [
           {
            "marker": {
             "colorbar": {
              "outlinewidth": 0,
              "ticks": ""
             }
            },
            "type": "scattergeo"
           }
          ],
          "scattergl": [
           {
            "marker": {
             "colorbar": {
              "outlinewidth": 0,
              "ticks": ""
             }
            },
            "type": "scattergl"
           }
          ],
          "scattermapbox": [
           {
            "marker": {
             "colorbar": {
              "outlinewidth": 0,
              "ticks": ""
             }
            },
            "type": "scattermapbox"
           }
          ],
          "scatterpolar": [
           {
            "marker": {
             "colorbar": {
              "outlinewidth": 0,
              "ticks": ""
             }
            },
            "type": "scatterpolar"
           }
          ],
          "scatterpolargl": [
           {
            "marker": {
             "colorbar": {
              "outlinewidth": 0,
              "ticks": ""
             }
            },
            "type": "scatterpolargl"
           }
          ],
          "scatterternary": [
           {
            "marker": {
             "colorbar": {
              "outlinewidth": 0,
              "ticks": ""
             }
            },
            "type": "scatterternary"
           }
          ],
          "surface": [
           {
            "colorbar": {
             "outlinewidth": 0,
             "ticks": ""
            },
            "colorscale": [
             [
              0,
              "#0d0887"
             ],
             [
              0.1111111111111111,
              "#46039f"
             ],
             [
              0.2222222222222222,
              "#7201a8"
             ],
             [
              0.3333333333333333,
              "#9c179e"
             ],
             [
              0.4444444444444444,
              "#bd3786"
             ],
             [
              0.5555555555555556,
              "#d8576b"
             ],
             [
              0.6666666666666666,
              "#ed7953"
             ],
             [
              0.7777777777777778,
              "#fb9f3a"
             ],
             [
              0.8888888888888888,
              "#fdca26"
             ],
             [
              1,
              "#f0f921"
             ]
            ],
            "type": "surface"
           }
          ],
          "table": [
           {
            "cells": {
             "fill": {
              "color": "#EBF0F8"
             },
             "line": {
              "color": "white"
             }
            },
            "header": {
             "fill": {
              "color": "#C8D4E3"
             },
             "line": {
              "color": "white"
             }
            },
            "type": "table"
           }
          ]
         },
         "layout": {
          "annotationdefaults": {
           "arrowcolor": "#2a3f5f",
           "arrowhead": 0,
           "arrowwidth": 1
          },
          "autotypenumbers": "strict",
          "coloraxis": {
           "colorbar": {
            "outlinewidth": 0,
            "ticks": ""
           }
          },
          "colorscale": {
           "diverging": [
            [
             0,
             "#8e0152"
            ],
            [
             0.1,
             "#c51b7d"
            ],
            [
             0.2,
             "#de77ae"
            ],
            [
             0.3,
             "#f1b6da"
            ],
            [
             0.4,
             "#fde0ef"
            ],
            [
             0.5,
             "#f7f7f7"
            ],
            [
             0.6,
             "#e6f5d0"
            ],
            [
             0.7,
             "#b8e186"
            ],
            [
             0.8,
             "#7fbc41"
            ],
            [
             0.9,
             "#4d9221"
            ],
            [
             1,
             "#276419"
            ]
           ],
           "sequential": [
            [
             0,
             "#0d0887"
            ],
            [
             0.1111111111111111,
             "#46039f"
            ],
            [
             0.2222222222222222,
             "#7201a8"
            ],
            [
             0.3333333333333333,
             "#9c179e"
            ],
            [
             0.4444444444444444,
             "#bd3786"
            ],
            [
             0.5555555555555556,
             "#d8576b"
            ],
            [
             0.6666666666666666,
             "#ed7953"
            ],
            [
             0.7777777777777778,
             "#fb9f3a"
            ],
            [
             0.8888888888888888,
             "#fdca26"
            ],
            [
             1,
             "#f0f921"
            ]
           ],
           "sequentialminus": [
            [
             0,
             "#0d0887"
            ],
            [
             0.1111111111111111,
             "#46039f"
            ],
            [
             0.2222222222222222,
             "#7201a8"
            ],
            [
             0.3333333333333333,
             "#9c179e"
            ],
            [
             0.4444444444444444,
             "#bd3786"
            ],
            [
             0.5555555555555556,
             "#d8576b"
            ],
            [
             0.6666666666666666,
             "#ed7953"
            ],
            [
             0.7777777777777778,
             "#fb9f3a"
            ],
            [
             0.8888888888888888,
             "#fdca26"
            ],
            [
             1,
             "#f0f921"
            ]
           ]
          },
          "colorway": [
           "#636efa",
           "#EF553B",
           "#00cc96",
           "#ab63fa",
           "#FFA15A",
           "#19d3f3",
           "#FF6692",
           "#B6E880",
           "#FF97FF",
           "#FECB52"
          ],
          "font": {
           "color": "#2a3f5f"
          },
          "geo": {
           "bgcolor": "white",
           "lakecolor": "white",
           "landcolor": "#E5ECF6",
           "showlakes": true,
           "showland": true,
           "subunitcolor": "white"
          },
          "hoverlabel": {
           "align": "left"
          },
          "hovermode": "closest",
          "mapbox": {
           "style": "light"
          },
          "paper_bgcolor": "white",
          "plot_bgcolor": "#E5ECF6",
          "polar": {
           "angularaxis": {
            "gridcolor": "white",
            "linecolor": "white",
            "ticks": ""
           },
           "bgcolor": "#E5ECF6",
           "radialaxis": {
            "gridcolor": "white",
            "linecolor": "white",
            "ticks": ""
           }
          },
          "scene": {
           "xaxis": {
            "backgroundcolor": "#E5ECF6",
            "gridcolor": "white",
            "gridwidth": 2,
            "linecolor": "white",
            "showbackground": true,
            "ticks": "",
            "zerolinecolor": "white"
           },
           "yaxis": {
            "backgroundcolor": "#E5ECF6",
            "gridcolor": "white",
            "gridwidth": 2,
            "linecolor": "white",
            "showbackground": true,
            "ticks": "",
            "zerolinecolor": "white"
           },
           "zaxis": {
            "backgroundcolor": "#E5ECF6",
            "gridcolor": "white",
            "gridwidth": 2,
            "linecolor": "white",
            "showbackground": true,
            "ticks": "",
            "zerolinecolor": "white"
           }
          },
          "shapedefaults": {
           "line": {
            "color": "#2a3f5f"
           }
          },
          "ternary": {
           "aaxis": {
            "gridcolor": "white",
            "linecolor": "white",
            "ticks": ""
           },
           "baxis": {
            "gridcolor": "white",
            "linecolor": "white",
            "ticks": ""
           },
           "bgcolor": "#E5ECF6",
           "caxis": {
            "gridcolor": "white",
            "linecolor": "white",
            "ticks": ""
           }
          },
          "title": {
           "x": 0.05
          },
          "xaxis": {
           "automargin": true,
           "gridcolor": "white",
           "linecolor": "white",
           "ticks": "",
           "title": {
            "standoff": 15
           },
           "zerolinecolor": "white",
           "zerolinewidth": 2
          },
          "yaxis": {
           "automargin": true,
           "gridcolor": "white",
           "linecolor": "white",
           "ticks": "",
           "title": {
            "standoff": 15
           },
           "zerolinecolor": "white",
           "zerolinewidth": 2
          }
         }
        },
        "width": 1400,
        "xaxis": {
         "range": [
          0,
          1680
         ],
         "title": {
          "text": "Time"
         }
        },
        "yaxis": {
         "dtick": 1,
         "range": [
          -0.5,
          0.5
         ],
         "tick0": 0,
         "tickmode": "linear",
         "title": {
          "text": "Item Index"
         }
        }
       }
      }
     },
     "metadata": {},
     "output_type": "display_data"
    }
   ],
   "source": [
    "# Define operations\n",
    "ops = {}\n",
    "ops['wash'] = 40\n",
    "ops['peel'] = 80\n",
    "ops['chop'] = 60\n",
    "ops['boil'] = 10*60\n",
    "ops['dry'] = 5*60\n",
    "ops['mash'] = 10*60\n",
    "\n",
    "conflicts = np.zeros([len(ops), len(ops)])\n",
    "\n",
    "tms.define_conflict_by_name(conflicts, ops, 'wash', 'wash')\n",
    "\n",
    "tms.define_conflict_by_name(conflicts, ops, 'peel', 'wash')\n",
    "tms.define_conflict_by_name(conflicts, ops, 'peel', 'peel')\n",
    "\n",
    "tms.define_conflict_by_name(conflicts, ops, 'chop', 'wash')\n",
    "tms.define_conflict_by_name(conflicts, ops, 'chop', 'peel')\n",
    "tms.define_conflict_by_name(conflicts, ops, 'chop', 'chop')\n",
    "\n",
    "tms.define_conflict_by_name(conflicts, ops, 'boil', 'wash')\n",
    "tms.define_conflict_by_name(conflicts, ops, 'boil', 'peel')\n",
    "tms.define_conflict_by_name(conflicts, ops, 'boil', 'chop')\n",
    "tms.define_conflict_by_name(conflicts, ops, 'boil', 'boil')\n",
    "\n",
    "tms.define_conflict_by_name(conflicts, ops, 'dry', 'wash')\n",
    "tms.define_conflict_by_name(conflicts, ops, 'dry', 'peel')\n",
    "tms.define_conflict_by_name(conflicts, ops, 'dry', 'chop')\n",
    "tms.define_conflict_by_name(conflicts, ops, 'dry', 'boil')\n",
    "tms.define_conflict_by_name(conflicts, ops, 'dry', 'dry')\n",
    "\n",
    "tms.define_conflict_by_name(conflicts, ops, 'mash', 'wash')\n",
    "tms.define_conflict_by_name(conflicts, ops, 'mash', 'peel')\n",
    "tms.define_conflict_by_name(conflicts, ops, 'mash', 'chop')\n",
    "tms.define_conflict_by_name(conflicts, ops, 'mash', 'boil')\n",
    "tms.define_conflict_by_name(conflicts, ops, 'mash', 'dry')\n",
    "tms.define_conflict_by_name(conflicts, ops, 'mash', 'mash')\n",
    "\n",
    "# Run scheduler\n",
    "num_items = 1\n",
    "schedule = tms.run_scheduler(num_items, ops, conflicts, sync_starts=False)\n",
    "\n",
    "schedule_duration = tms.calc_schedule_duration(schedule, ops)\n",
    "print(f\"Total Schedule duration is {schedule_duration} ({schedule_duration/60} minutes)\")\n",
    "\n",
    "tms.plot_schedule(schedule, ops)"
   ]
  },
  {
   "cell_type": "markdown",
   "metadata": {},
   "source": [
    "## Two Groups"
   ]
  },
  {
   "cell_type": "code",
   "execution_count": 621,
   "metadata": {},
   "outputs": [
    {
     "name": "stdout",
     "output_type": "stream",
     "text": [
      "Total Schedule duration is 3360.0 (56.0 minutes)\n",
      "Importing plotting tools...\n",
      "Generating plot...\n"
     ]
    },
    {
     "data": {
      "application/vnd.plotly.v1+json": {
       "config": {
        "plotlyServerURL": "https://plot.ly"
       },
       "data": [],
       "layout": {
        "annotations": [
         {
          "bgcolor": "rgba(255,255,255,0.8)",
          "font": {
           "color": "black",
           "size": 18
          },
          "showarrow": false,
          "text": "wash",
          "x": 20,
          "y": 0
         },
         {
          "bgcolor": "rgba(255,255,255,0.8)",
          "font": {
           "color": "black",
           "size": 18
          },
          "showarrow": false,
          "text": "peel",
          "x": 120,
          "y": 0
         },
         {
          "bgcolor": "rgba(255,255,255,0.8)",
          "font": {
           "color": "black",
           "size": 18
          },
          "showarrow": false,
          "text": "chop",
          "x": 270,
          "y": 0
         },
         {
          "bgcolor": "rgba(255,255,255,0.8)",
          "font": {
           "color": "black",
           "size": 18
          },
          "showarrow": false,
          "text": "boil",
          "x": 660,
          "y": 0
         },
         {
          "bgcolor": "rgba(255,255,255,0.8)",
          "font": {
           "color": "black",
           "size": 18
          },
          "showarrow": false,
          "text": "dry",
          "x": 1710,
          "y": 0
         },
         {
          "bgcolor": "rgba(255,255,255,0.8)",
          "font": {
           "color": "black",
           "size": 18
          },
          "showarrow": false,
          "text": "mash",
          "x": 2460,
          "y": 0
         },
         {
          "bgcolor": "rgba(255,255,255,0.8)",
          "font": {
           "color": "black",
           "size": 18
          },
          "showarrow": false,
          "text": "wash",
          "x": 60,
          "y": 1
         },
         {
          "bgcolor": "rgba(255,255,255,0.8)",
          "font": {
           "color": "black",
           "size": 18
          },
          "showarrow": false,
          "text": "peel",
          "x": 200,
          "y": 1
         },
         {
          "bgcolor": "rgba(255,255,255,0.8)",
          "font": {
           "color": "black",
           "size": 18
          },
          "showarrow": false,
          "text": "chop",
          "x": 330,
          "y": 1
         },
         {
          "bgcolor": "rgba(255,255,255,0.8)",
          "font": {
           "color": "black",
           "size": 18
          },
          "showarrow": false,
          "text": "boil",
          "x": 1260,
          "y": 1
         },
         {
          "bgcolor": "rgba(255,255,255,0.8)",
          "font": {
           "color": "black",
           "size": 18
          },
          "showarrow": false,
          "text": "dry",
          "x": 2010,
          "y": 1
         },
         {
          "bgcolor": "rgba(255,255,255,0.8)",
          "font": {
           "color": "black",
           "size": 18
          },
          "showarrow": false,
          "text": "mash",
          "x": 3060,
          "y": 1
         }
        ],
        "autosize": false,
        "height": 800,
        "shapes": [
         {
          "fillcolor": "#636EFA",
          "line": {
           "color": "black",
           "width": 1
          },
          "type": "rect",
          "x0": 0,
          "x1": 40,
          "y0": -0.5,
          "y1": 0.5
         },
         {
          "fillcolor": "#EF553B",
          "line": {
           "color": "black",
           "width": 1
          },
          "type": "rect",
          "x0": 80,
          "x1": 160,
          "y0": -0.5,
          "y1": 0.5
         },
         {
          "fillcolor": "#00CC96",
          "line": {
           "color": "black",
           "width": 1
          },
          "type": "rect",
          "x0": 240,
          "x1": 300,
          "y0": -0.5,
          "y1": 0.5
         },
         {
          "fillcolor": "#AB63FA",
          "line": {
           "color": "black",
           "width": 1
          },
          "type": "rect",
          "x0": 360,
          "x1": 960,
          "y0": -0.5,
          "y1": 0.5
         },
         {
          "fillcolor": "#FFA15A",
          "line": {
           "color": "black",
           "width": 1
          },
          "type": "rect",
          "x0": 1560,
          "x1": 1860,
          "y0": -0.5,
          "y1": 0.5
         },
         {
          "fillcolor": "#19D3F3",
          "line": {
           "color": "black",
           "width": 1
          },
          "type": "rect",
          "x0": 2160,
          "x1": 2760,
          "y0": -0.5,
          "y1": 0.5
         },
         {
          "fillcolor": "#636EFA",
          "line": {
           "color": "black",
           "width": 1
          },
          "type": "rect",
          "x0": 40,
          "x1": 80,
          "y0": 0.5,
          "y1": 1.5
         },
         {
          "fillcolor": "#EF553B",
          "line": {
           "color": "black",
           "width": 1
          },
          "type": "rect",
          "x0": 160,
          "x1": 240,
          "y0": 0.5,
          "y1": 1.5
         },
         {
          "fillcolor": "#00CC96",
          "line": {
           "color": "black",
           "width": 1
          },
          "type": "rect",
          "x0": 300,
          "x1": 360,
          "y0": 0.5,
          "y1": 1.5
         },
         {
          "fillcolor": "#AB63FA",
          "line": {
           "color": "black",
           "width": 1
          },
          "type": "rect",
          "x0": 960,
          "x1": 1560,
          "y0": 0.5,
          "y1": 1.5
         },
         {
          "fillcolor": "#FFA15A",
          "line": {
           "color": "black",
           "width": 1
          },
          "type": "rect",
          "x0": 1860,
          "x1": 2160,
          "y0": 0.5,
          "y1": 1.5
         },
         {
          "fillcolor": "#19D3F3",
          "line": {
           "color": "black",
           "width": 1
          },
          "type": "rect",
          "x0": 2760,
          "x1": 3360,
          "y0": 0.5,
          "y1": 1.5
         }
        ],
        "template": {
         "data": {
          "bar": [
           {
            "error_x": {
             "color": "#2a3f5f"
            },
            "error_y": {
             "color": "#2a3f5f"
            },
            "marker": {
             "line": {
              "color": "#E5ECF6",
              "width": 0.5
             },
             "pattern": {
              "fillmode": "overlay",
              "size": 10,
              "solidity": 0.2
             }
            },
            "type": "bar"
           }
          ],
          "barpolar": [
           {
            "marker": {
             "line": {
              "color": "#E5ECF6",
              "width": 0.5
             },
             "pattern": {
              "fillmode": "overlay",
              "size": 10,
              "solidity": 0.2
             }
            },
            "type": "barpolar"
           }
          ],
          "carpet": [
           {
            "aaxis": {
             "endlinecolor": "#2a3f5f",
             "gridcolor": "white",
             "linecolor": "white",
             "minorgridcolor": "white",
             "startlinecolor": "#2a3f5f"
            },
            "baxis": {
             "endlinecolor": "#2a3f5f",
             "gridcolor": "white",
             "linecolor": "white",
             "minorgridcolor": "white",
             "startlinecolor": "#2a3f5f"
            },
            "type": "carpet"
           }
          ],
          "choropleth": [
           {
            "colorbar": {
             "outlinewidth": 0,
             "ticks": ""
            },
            "type": "choropleth"
           }
          ],
          "contour": [
           {
            "colorbar": {
             "outlinewidth": 0,
             "ticks": ""
            },
            "colorscale": [
             [
              0,
              "#0d0887"
             ],
             [
              0.1111111111111111,
              "#46039f"
             ],
             [
              0.2222222222222222,
              "#7201a8"
             ],
             [
              0.3333333333333333,
              "#9c179e"
             ],
             [
              0.4444444444444444,
              "#bd3786"
             ],
             [
              0.5555555555555556,
              "#d8576b"
             ],
             [
              0.6666666666666666,
              "#ed7953"
             ],
             [
              0.7777777777777778,
              "#fb9f3a"
             ],
             [
              0.8888888888888888,
              "#fdca26"
             ],
             [
              1,
              "#f0f921"
             ]
            ],
            "type": "contour"
           }
          ],
          "contourcarpet": [
           {
            "colorbar": {
             "outlinewidth": 0,
             "ticks": ""
            },
            "type": "contourcarpet"
           }
          ],
          "heatmap": [
           {
            "colorbar": {
             "outlinewidth": 0,
             "ticks": ""
            },
            "colorscale": [
             [
              0,
              "#0d0887"
             ],
             [
              0.1111111111111111,
              "#46039f"
             ],
             [
              0.2222222222222222,
              "#7201a8"
             ],
             [
              0.3333333333333333,
              "#9c179e"
             ],
             [
              0.4444444444444444,
              "#bd3786"
             ],
             [
              0.5555555555555556,
              "#d8576b"
             ],
             [
              0.6666666666666666,
              "#ed7953"
             ],
             [
              0.7777777777777778,
              "#fb9f3a"
             ],
             [
              0.8888888888888888,
              "#fdca26"
             ],
             [
              1,
              "#f0f921"
             ]
            ],
            "type": "heatmap"
           }
          ],
          "heatmapgl": [
           {
            "colorbar": {
             "outlinewidth": 0,
             "ticks": ""
            },
            "colorscale": [
             [
              0,
              "#0d0887"
             ],
             [
              0.1111111111111111,
              "#46039f"
             ],
             [
              0.2222222222222222,
              "#7201a8"
             ],
             [
              0.3333333333333333,
              "#9c179e"
             ],
             [
              0.4444444444444444,
              "#bd3786"
             ],
             [
              0.5555555555555556,
              "#d8576b"
             ],
             [
              0.6666666666666666,
              "#ed7953"
             ],
             [
              0.7777777777777778,
              "#fb9f3a"
             ],
             [
              0.8888888888888888,
              "#fdca26"
             ],
             [
              1,
              "#f0f921"
             ]
            ],
            "type": "heatmapgl"
           }
          ],
          "histogram": [
           {
            "marker": {
             "pattern": {
              "fillmode": "overlay",
              "size": 10,
              "solidity": 0.2
             }
            },
            "type": "histogram"
           }
          ],
          "histogram2d": [
           {
            "colorbar": {
             "outlinewidth": 0,
             "ticks": ""
            },
            "colorscale": [
             [
              0,
              "#0d0887"
             ],
             [
              0.1111111111111111,
              "#46039f"
             ],
             [
              0.2222222222222222,
              "#7201a8"
             ],
             [
              0.3333333333333333,
              "#9c179e"
             ],
             [
              0.4444444444444444,
              "#bd3786"
             ],
             [
              0.5555555555555556,
              "#d8576b"
             ],
             [
              0.6666666666666666,
              "#ed7953"
             ],
             [
              0.7777777777777778,
              "#fb9f3a"
             ],
             [
              0.8888888888888888,
              "#fdca26"
             ],
             [
              1,
              "#f0f921"
             ]
            ],
            "type": "histogram2d"
           }
          ],
          "histogram2dcontour": [
           {
            "colorbar": {
             "outlinewidth": 0,
             "ticks": ""
            },
            "colorscale": [
             [
              0,
              "#0d0887"
             ],
             [
              0.1111111111111111,
              "#46039f"
             ],
             [
              0.2222222222222222,
              "#7201a8"
             ],
             [
              0.3333333333333333,
              "#9c179e"
             ],
             [
              0.4444444444444444,
              "#bd3786"
             ],
             [
              0.5555555555555556,
              "#d8576b"
             ],
             [
              0.6666666666666666,
              "#ed7953"
             ],
             [
              0.7777777777777778,
              "#fb9f3a"
             ],
             [
              0.8888888888888888,
              "#fdca26"
             ],
             [
              1,
              "#f0f921"
             ]
            ],
            "type": "histogram2dcontour"
           }
          ],
          "mesh3d": [
           {
            "colorbar": {
             "outlinewidth": 0,
             "ticks": ""
            },
            "type": "mesh3d"
           }
          ],
          "parcoords": [
           {
            "line": {
             "colorbar": {
              "outlinewidth": 0,
              "ticks": ""
             }
            },
            "type": "parcoords"
           }
          ],
          "pie": [
           {
            "automargin": true,
            "type": "pie"
           }
          ],
          "scatter": [
           {
            "fillpattern": {
             "fillmode": "overlay",
             "size": 10,
             "solidity": 0.2
            },
            "type": "scatter"
           }
          ],
          "scatter3d": [
           {
            "line": {
             "colorbar": {
              "outlinewidth": 0,
              "ticks": ""
             }
            },
            "marker": {
             "colorbar": {
              "outlinewidth": 0,
              "ticks": ""
             }
            },
            "type": "scatter3d"
           }
          ],
          "scattercarpet": [
           {
            "marker": {
             "colorbar": {
              "outlinewidth": 0,
              "ticks": ""
             }
            },
            "type": "scattercarpet"
           }
          ],
          "scattergeo": [
           {
            "marker": {
             "colorbar": {
              "outlinewidth": 0,
              "ticks": ""
             }
            },
            "type": "scattergeo"
           }
          ],
          "scattergl": [
           {
            "marker": {
             "colorbar": {
              "outlinewidth": 0,
              "ticks": ""
             }
            },
            "type": "scattergl"
           }
          ],
          "scattermapbox": [
           {
            "marker": {
             "colorbar": {
              "outlinewidth": 0,
              "ticks": ""
             }
            },
            "type": "scattermapbox"
           }
          ],
          "scatterpolar": [
           {
            "marker": {
             "colorbar": {
              "outlinewidth": 0,
              "ticks": ""
             }
            },
            "type": "scatterpolar"
           }
          ],
          "scatterpolargl": [
           {
            "marker": {
             "colorbar": {
              "outlinewidth": 0,
              "ticks": ""
             }
            },
            "type": "scatterpolargl"
           }
          ],
          "scatterternary": [
           {
            "marker": {
             "colorbar": {
              "outlinewidth": 0,
              "ticks": ""
             }
            },
            "type": "scatterternary"
           }
          ],
          "surface": [
           {
            "colorbar": {
             "outlinewidth": 0,
             "ticks": ""
            },
            "colorscale": [
             [
              0,
              "#0d0887"
             ],
             [
              0.1111111111111111,
              "#46039f"
             ],
             [
              0.2222222222222222,
              "#7201a8"
             ],
             [
              0.3333333333333333,
              "#9c179e"
             ],
             [
              0.4444444444444444,
              "#bd3786"
             ],
             [
              0.5555555555555556,
              "#d8576b"
             ],
             [
              0.6666666666666666,
              "#ed7953"
             ],
             [
              0.7777777777777778,
              "#fb9f3a"
             ],
             [
              0.8888888888888888,
              "#fdca26"
             ],
             [
              1,
              "#f0f921"
             ]
            ],
            "type": "surface"
           }
          ],
          "table": [
           {
            "cells": {
             "fill": {
              "color": "#EBF0F8"
             },
             "line": {
              "color": "white"
             }
            },
            "header": {
             "fill": {
              "color": "#C8D4E3"
             },
             "line": {
              "color": "white"
             }
            },
            "type": "table"
           }
          ]
         },
         "layout": {
          "annotationdefaults": {
           "arrowcolor": "#2a3f5f",
           "arrowhead": 0,
           "arrowwidth": 1
          },
          "autotypenumbers": "strict",
          "coloraxis": {
           "colorbar": {
            "outlinewidth": 0,
            "ticks": ""
           }
          },
          "colorscale": {
           "diverging": [
            [
             0,
             "#8e0152"
            ],
            [
             0.1,
             "#c51b7d"
            ],
            [
             0.2,
             "#de77ae"
            ],
            [
             0.3,
             "#f1b6da"
            ],
            [
             0.4,
             "#fde0ef"
            ],
            [
             0.5,
             "#f7f7f7"
            ],
            [
             0.6,
             "#e6f5d0"
            ],
            [
             0.7,
             "#b8e186"
            ],
            [
             0.8,
             "#7fbc41"
            ],
            [
             0.9,
             "#4d9221"
            ],
            [
             1,
             "#276419"
            ]
           ],
           "sequential": [
            [
             0,
             "#0d0887"
            ],
            [
             0.1111111111111111,
             "#46039f"
            ],
            [
             0.2222222222222222,
             "#7201a8"
            ],
            [
             0.3333333333333333,
             "#9c179e"
            ],
            [
             0.4444444444444444,
             "#bd3786"
            ],
            [
             0.5555555555555556,
             "#d8576b"
            ],
            [
             0.6666666666666666,
             "#ed7953"
            ],
            [
             0.7777777777777778,
             "#fb9f3a"
            ],
            [
             0.8888888888888888,
             "#fdca26"
            ],
            [
             1,
             "#f0f921"
            ]
           ],
           "sequentialminus": [
            [
             0,
             "#0d0887"
            ],
            [
             0.1111111111111111,
             "#46039f"
            ],
            [
             0.2222222222222222,
             "#7201a8"
            ],
            [
             0.3333333333333333,
             "#9c179e"
            ],
            [
             0.4444444444444444,
             "#bd3786"
            ],
            [
             0.5555555555555556,
             "#d8576b"
            ],
            [
             0.6666666666666666,
             "#ed7953"
            ],
            [
             0.7777777777777778,
             "#fb9f3a"
            ],
            [
             0.8888888888888888,
             "#fdca26"
            ],
            [
             1,
             "#f0f921"
            ]
           ]
          },
          "colorway": [
           "#636efa",
           "#EF553B",
           "#00cc96",
           "#ab63fa",
           "#FFA15A",
           "#19d3f3",
           "#FF6692",
           "#B6E880",
           "#FF97FF",
           "#FECB52"
          ],
          "font": {
           "color": "#2a3f5f"
          },
          "geo": {
           "bgcolor": "white",
           "lakecolor": "white",
           "landcolor": "#E5ECF6",
           "showlakes": true,
           "showland": true,
           "subunitcolor": "white"
          },
          "hoverlabel": {
           "align": "left"
          },
          "hovermode": "closest",
          "mapbox": {
           "style": "light"
          },
          "paper_bgcolor": "white",
          "plot_bgcolor": "#E5ECF6",
          "polar": {
           "angularaxis": {
            "gridcolor": "white",
            "linecolor": "white",
            "ticks": ""
           },
           "bgcolor": "#E5ECF6",
           "radialaxis": {
            "gridcolor": "white",
            "linecolor": "white",
            "ticks": ""
           }
          },
          "scene": {
           "xaxis": {
            "backgroundcolor": "#E5ECF6",
            "gridcolor": "white",
            "gridwidth": 2,
            "linecolor": "white",
            "showbackground": true,
            "ticks": "",
            "zerolinecolor": "white"
           },
           "yaxis": {
            "backgroundcolor": "#E5ECF6",
            "gridcolor": "white",
            "gridwidth": 2,
            "linecolor": "white",
            "showbackground": true,
            "ticks": "",
            "zerolinecolor": "white"
           },
           "zaxis": {
            "backgroundcolor": "#E5ECF6",
            "gridcolor": "white",
            "gridwidth": 2,
            "linecolor": "white",
            "showbackground": true,
            "ticks": "",
            "zerolinecolor": "white"
           }
          },
          "shapedefaults": {
           "line": {
            "color": "#2a3f5f"
           }
          },
          "ternary": {
           "aaxis": {
            "gridcolor": "white",
            "linecolor": "white",
            "ticks": ""
           },
           "baxis": {
            "gridcolor": "white",
            "linecolor": "white",
            "ticks": ""
           },
           "bgcolor": "#E5ECF6",
           "caxis": {
            "gridcolor": "white",
            "linecolor": "white",
            "ticks": ""
           }
          },
          "title": {
           "x": 0.05
          },
          "xaxis": {
           "automargin": true,
           "gridcolor": "white",
           "linecolor": "white",
           "ticks": "",
           "title": {
            "standoff": 15
           },
           "zerolinecolor": "white",
           "zerolinewidth": 2
          },
          "yaxis": {
           "automargin": true,
           "gridcolor": "white",
           "linecolor": "white",
           "ticks": "",
           "title": {
            "standoff": 15
           },
           "zerolinecolor": "white",
           "zerolinewidth": 2
          }
         }
        },
        "width": 1400,
        "xaxis": {
         "range": [
          0,
          3360
         ],
         "title": {
          "text": "Time"
         }
        },
        "yaxis": {
         "dtick": 1,
         "range": [
          -0.5,
          1.5
         ],
         "tick0": 0,
         "tickmode": "linear",
         "title": {
          "text": "Item Index"
         }
        }
       }
      }
     },
     "metadata": {},
     "output_type": "display_data"
    }
   ],
   "source": [
    "# Run scheduler\n",
    "num_items = 2\n",
    "schedule = tms.run_scheduler(num_items, ops, conflicts, sync_starts=False)\n",
    "\n",
    "schedule_duration = tms.calc_schedule_duration(schedule, ops)\n",
    "print(f\"Total Schedule duration is {schedule_duration} ({schedule_duration/60} minutes)\")\n",
    "\n",
    "tms.plot_schedule(schedule, ops)"
   ]
  },
  {
   "cell_type": "markdown",
   "metadata": {},
   "source": [
    "## Two Groups, Relaxed Resource Conflicts"
   ]
  },
  {
   "cell_type": "code",
   "execution_count": 622,
   "metadata": {},
   "outputs": [
    {
     "name": "stdout",
     "output_type": "stream",
     "text": [
      "Total Schedule duration is 1860.0 (31.0 minutes)\n",
      "Importing plotting tools...\n",
      "Generating plot...\n"
     ]
    },
    {
     "data": {
      "application/vnd.plotly.v1+json": {
       "config": {
        "plotlyServerURL": "https://plot.ly"
       },
       "data": [],
       "layout": {
        "annotations": [
         {
          "bgcolor": "rgba(255,255,255,0.8)",
          "font": {
           "color": "black",
           "size": 18
          },
          "showarrow": false,
          "text": "wash",
          "x": 20,
          "y": 0
         },
         {
          "bgcolor": "rgba(255,255,255,0.8)",
          "font": {
           "color": "black",
           "size": 18
          },
          "showarrow": false,
          "text": "peel",
          "x": 120,
          "y": 0
         },
         {
          "bgcolor": "rgba(255,255,255,0.8)",
          "font": {
           "color": "black",
           "size": 18
          },
          "showarrow": false,
          "text": "chop",
          "x": 270,
          "y": 0
         },
         {
          "bgcolor": "rgba(255,255,255,0.8)",
          "font": {
           "color": "black",
           "size": 18
          },
          "showarrow": false,
          "text": "boil",
          "x": 600,
          "y": 0
         },
         {
          "bgcolor": "rgba(255,255,255,0.8)",
          "font": {
           "color": "black",
           "size": 18
          },
          "showarrow": false,
          "text": "dry",
          "x": 1050,
          "y": 0
         },
         {
          "bgcolor": "rgba(255,255,255,0.8)",
          "font": {
           "color": "black",
           "size": 18
          },
          "showarrow": false,
          "text": "mash",
          "x": 1500,
          "y": 0
         },
         {
          "bgcolor": "rgba(255,255,255,0.8)",
          "font": {
           "color": "black",
           "size": 18
          },
          "showarrow": false,
          "text": "wash",
          "x": 60,
          "y": 1
         },
         {
          "bgcolor": "rgba(255,255,255,0.8)",
          "font": {
           "color": "black",
           "size": 18
          },
          "showarrow": false,
          "text": "peel",
          "x": 200,
          "y": 1
         },
         {
          "bgcolor": "rgba(255,255,255,0.8)",
          "font": {
           "color": "black",
           "size": 18
          },
          "showarrow": false,
          "text": "chop",
          "x": 330,
          "y": 1
         },
         {
          "bgcolor": "rgba(255,255,255,0.8)",
          "font": {
           "color": "black",
           "size": 18
          },
          "showarrow": false,
          "text": "boil",
          "x": 660,
          "y": 1
         },
         {
          "bgcolor": "rgba(255,255,255,0.8)",
          "font": {
           "color": "black",
           "size": 18
          },
          "showarrow": false,
          "text": "dry",
          "x": 1110,
          "y": 1
         },
         {
          "bgcolor": "rgba(255,255,255,0.8)",
          "font": {
           "color": "black",
           "size": 18
          },
          "showarrow": false,
          "text": "mash",
          "x": 1560,
          "y": 1
         }
        ],
        "autosize": false,
        "height": 800,
        "shapes": [
         {
          "fillcolor": "#636EFA",
          "line": {
           "color": "black",
           "width": 1
          },
          "type": "rect",
          "x0": 0,
          "x1": 40,
          "y0": -0.5,
          "y1": 0.5
         },
         {
          "fillcolor": "#EF553B",
          "line": {
           "color": "black",
           "width": 1
          },
          "type": "rect",
          "x0": 80,
          "x1": 160,
          "y0": -0.5,
          "y1": 0.5
         },
         {
          "fillcolor": "#00CC96",
          "line": {
           "color": "black",
           "width": 1
          },
          "type": "rect",
          "x0": 240,
          "x1": 300,
          "y0": -0.5,
          "y1": 0.5
         },
         {
          "fillcolor": "#AB63FA",
          "line": {
           "color": "black",
           "width": 1
          },
          "type": "rect",
          "x0": 300,
          "x1": 900,
          "y0": -0.5,
          "y1": 0.5
         },
         {
          "fillcolor": "#FFA15A",
          "line": {
           "color": "black",
           "width": 1
          },
          "type": "rect",
          "x0": 900,
          "x1": 1200,
          "y0": -0.5,
          "y1": 0.5
         },
         {
          "fillcolor": "#19D3F3",
          "line": {
           "color": "black",
           "width": 1
          },
          "type": "rect",
          "x0": 1200,
          "x1": 1800,
          "y0": -0.5,
          "y1": 0.5
         },
         {
          "fillcolor": "#636EFA",
          "line": {
           "color": "black",
           "width": 1
          },
          "type": "rect",
          "x0": 40,
          "x1": 80,
          "y0": 0.5,
          "y1": 1.5
         },
         {
          "fillcolor": "#EF553B",
          "line": {
           "color": "black",
           "width": 1
          },
          "type": "rect",
          "x0": 160,
          "x1": 240,
          "y0": 0.5,
          "y1": 1.5
         },
         {
          "fillcolor": "#00CC96",
          "line": {
           "color": "black",
           "width": 1
          },
          "type": "rect",
          "x0": 300,
          "x1": 360,
          "y0": 0.5,
          "y1": 1.5
         },
         {
          "fillcolor": "#AB63FA",
          "line": {
           "color": "black",
           "width": 1
          },
          "type": "rect",
          "x0": 360,
          "x1": 960,
          "y0": 0.5,
          "y1": 1.5
         },
         {
          "fillcolor": "#FFA15A",
          "line": {
           "color": "black",
           "width": 1
          },
          "type": "rect",
          "x0": 960,
          "x1": 1260,
          "y0": 0.5,
          "y1": 1.5
         },
         {
          "fillcolor": "#19D3F3",
          "line": {
           "color": "black",
           "width": 1
          },
          "type": "rect",
          "x0": 1260,
          "x1": 1860,
          "y0": 0.5,
          "y1": 1.5
         }
        ],
        "template": {
         "data": {
          "bar": [
           {
            "error_x": {
             "color": "#2a3f5f"
            },
            "error_y": {
             "color": "#2a3f5f"
            },
            "marker": {
             "line": {
              "color": "#E5ECF6",
              "width": 0.5
             },
             "pattern": {
              "fillmode": "overlay",
              "size": 10,
              "solidity": 0.2
             }
            },
            "type": "bar"
           }
          ],
          "barpolar": [
           {
            "marker": {
             "line": {
              "color": "#E5ECF6",
              "width": 0.5
             },
             "pattern": {
              "fillmode": "overlay",
              "size": 10,
              "solidity": 0.2
             }
            },
            "type": "barpolar"
           }
          ],
          "carpet": [
           {
            "aaxis": {
             "endlinecolor": "#2a3f5f",
             "gridcolor": "white",
             "linecolor": "white",
             "minorgridcolor": "white",
             "startlinecolor": "#2a3f5f"
            },
            "baxis": {
             "endlinecolor": "#2a3f5f",
             "gridcolor": "white",
             "linecolor": "white",
             "minorgridcolor": "white",
             "startlinecolor": "#2a3f5f"
            },
            "type": "carpet"
           }
          ],
          "choropleth": [
           {
            "colorbar": {
             "outlinewidth": 0,
             "ticks": ""
            },
            "type": "choropleth"
           }
          ],
          "contour": [
           {
            "colorbar": {
             "outlinewidth": 0,
             "ticks": ""
            },
            "colorscale": [
             [
              0,
              "#0d0887"
             ],
             [
              0.1111111111111111,
              "#46039f"
             ],
             [
              0.2222222222222222,
              "#7201a8"
             ],
             [
              0.3333333333333333,
              "#9c179e"
             ],
             [
              0.4444444444444444,
              "#bd3786"
             ],
             [
              0.5555555555555556,
              "#d8576b"
             ],
             [
              0.6666666666666666,
              "#ed7953"
             ],
             [
              0.7777777777777778,
              "#fb9f3a"
             ],
             [
              0.8888888888888888,
              "#fdca26"
             ],
             [
              1,
              "#f0f921"
             ]
            ],
            "type": "contour"
           }
          ],
          "contourcarpet": [
           {
            "colorbar": {
             "outlinewidth": 0,
             "ticks": ""
            },
            "type": "contourcarpet"
           }
          ],
          "heatmap": [
           {
            "colorbar": {
             "outlinewidth": 0,
             "ticks": ""
            },
            "colorscale": [
             [
              0,
              "#0d0887"
             ],
             [
              0.1111111111111111,
              "#46039f"
             ],
             [
              0.2222222222222222,
              "#7201a8"
             ],
             [
              0.3333333333333333,
              "#9c179e"
             ],
             [
              0.4444444444444444,
              "#bd3786"
             ],
             [
              0.5555555555555556,
              "#d8576b"
             ],
             [
              0.6666666666666666,
              "#ed7953"
             ],
             [
              0.7777777777777778,
              "#fb9f3a"
             ],
             [
              0.8888888888888888,
              "#fdca26"
             ],
             [
              1,
              "#f0f921"
             ]
            ],
            "type": "heatmap"
           }
          ],
          "heatmapgl": [
           {
            "colorbar": {
             "outlinewidth": 0,
             "ticks": ""
            },
            "colorscale": [
             [
              0,
              "#0d0887"
             ],
             [
              0.1111111111111111,
              "#46039f"
             ],
             [
              0.2222222222222222,
              "#7201a8"
             ],
             [
              0.3333333333333333,
              "#9c179e"
             ],
             [
              0.4444444444444444,
              "#bd3786"
             ],
             [
              0.5555555555555556,
              "#d8576b"
             ],
             [
              0.6666666666666666,
              "#ed7953"
             ],
             [
              0.7777777777777778,
              "#fb9f3a"
             ],
             [
              0.8888888888888888,
              "#fdca26"
             ],
             [
              1,
              "#f0f921"
             ]
            ],
            "type": "heatmapgl"
           }
          ],
          "histogram": [
           {
            "marker": {
             "pattern": {
              "fillmode": "overlay",
              "size": 10,
              "solidity": 0.2
             }
            },
            "type": "histogram"
           }
          ],
          "histogram2d": [
           {
            "colorbar": {
             "outlinewidth": 0,
             "ticks": ""
            },
            "colorscale": [
             [
              0,
              "#0d0887"
             ],
             [
              0.1111111111111111,
              "#46039f"
             ],
             [
              0.2222222222222222,
              "#7201a8"
             ],
             [
              0.3333333333333333,
              "#9c179e"
             ],
             [
              0.4444444444444444,
              "#bd3786"
             ],
             [
              0.5555555555555556,
              "#d8576b"
             ],
             [
              0.6666666666666666,
              "#ed7953"
             ],
             [
              0.7777777777777778,
              "#fb9f3a"
             ],
             [
              0.8888888888888888,
              "#fdca26"
             ],
             [
              1,
              "#f0f921"
             ]
            ],
            "type": "histogram2d"
           }
          ],
          "histogram2dcontour": [
           {
            "colorbar": {
             "outlinewidth": 0,
             "ticks": ""
            },
            "colorscale": [
             [
              0,
              "#0d0887"
             ],
             [
              0.1111111111111111,
              "#46039f"
             ],
             [
              0.2222222222222222,
              "#7201a8"
             ],
             [
              0.3333333333333333,
              "#9c179e"
             ],
             [
              0.4444444444444444,
              "#bd3786"
             ],
             [
              0.5555555555555556,
              "#d8576b"
             ],
             [
              0.6666666666666666,
              "#ed7953"
             ],
             [
              0.7777777777777778,
              "#fb9f3a"
             ],
             [
              0.8888888888888888,
              "#fdca26"
             ],
             [
              1,
              "#f0f921"
             ]
            ],
            "type": "histogram2dcontour"
           }
          ],
          "mesh3d": [
           {
            "colorbar": {
             "outlinewidth": 0,
             "ticks": ""
            },
            "type": "mesh3d"
           }
          ],
          "parcoords": [
           {
            "line": {
             "colorbar": {
              "outlinewidth": 0,
              "ticks": ""
             }
            },
            "type": "parcoords"
           }
          ],
          "pie": [
           {
            "automargin": true,
            "type": "pie"
           }
          ],
          "scatter": [
           {
            "fillpattern": {
             "fillmode": "overlay",
             "size": 10,
             "solidity": 0.2
            },
            "type": "scatter"
           }
          ],
          "scatter3d": [
           {
            "line": {
             "colorbar": {
              "outlinewidth": 0,
              "ticks": ""
             }
            },
            "marker": {
             "colorbar": {
              "outlinewidth": 0,
              "ticks": ""
             }
            },
            "type": "scatter3d"
           }
          ],
          "scattercarpet": [
           {
            "marker": {
             "colorbar": {
              "outlinewidth": 0,
              "ticks": ""
             }
            },
            "type": "scattercarpet"
           }
          ],
          "scattergeo": [
           {
            "marker": {
             "colorbar": {
              "outlinewidth": 0,
              "ticks": ""
             }
            },
            "type": "scattergeo"
           }
          ],
          "scattergl": [
           {
            "marker": {
             "colorbar": {
              "outlinewidth": 0,
              "ticks": ""
             }
            },
            "type": "scattergl"
           }
          ],
          "scattermapbox": [
           {
            "marker": {
             "colorbar": {
              "outlinewidth": 0,
              "ticks": ""
             }
            },
            "type": "scattermapbox"
           }
          ],
          "scatterpolar": [
           {
            "marker": {
             "colorbar": {
              "outlinewidth": 0,
              "ticks": ""
             }
            },
            "type": "scatterpolar"
           }
          ],
          "scatterpolargl": [
           {
            "marker": {
             "colorbar": {
              "outlinewidth": 0,
              "ticks": ""
             }
            },
            "type": "scatterpolargl"
           }
          ],
          "scatterternary": [
           {
            "marker": {
             "colorbar": {
              "outlinewidth": 0,
              "ticks": ""
             }
            },
            "type": "scatterternary"
           }
          ],
          "surface": [
           {
            "colorbar": {
             "outlinewidth": 0,
             "ticks": ""
            },
            "colorscale": [
             [
              0,
              "#0d0887"
             ],
             [
              0.1111111111111111,
              "#46039f"
             ],
             [
              0.2222222222222222,
              "#7201a8"
             ],
             [
              0.3333333333333333,
              "#9c179e"
             ],
             [
              0.4444444444444444,
              "#bd3786"
             ],
             [
              0.5555555555555556,
              "#d8576b"
             ],
             [
              0.6666666666666666,
              "#ed7953"
             ],
             [
              0.7777777777777778,
              "#fb9f3a"
             ],
             [
              0.8888888888888888,
              "#fdca26"
             ],
             [
              1,
              "#f0f921"
             ]
            ],
            "type": "surface"
           }
          ],
          "table": [
           {
            "cells": {
             "fill": {
              "color": "#EBF0F8"
             },
             "line": {
              "color": "white"
             }
            },
            "header": {
             "fill": {
              "color": "#C8D4E3"
             },
             "line": {
              "color": "white"
             }
            },
            "type": "table"
           }
          ]
         },
         "layout": {
          "annotationdefaults": {
           "arrowcolor": "#2a3f5f",
           "arrowhead": 0,
           "arrowwidth": 1
          },
          "autotypenumbers": "strict",
          "coloraxis": {
           "colorbar": {
            "outlinewidth": 0,
            "ticks": ""
           }
          },
          "colorscale": {
           "diverging": [
            [
             0,
             "#8e0152"
            ],
            [
             0.1,
             "#c51b7d"
            ],
            [
             0.2,
             "#de77ae"
            ],
            [
             0.3,
             "#f1b6da"
            ],
            [
             0.4,
             "#fde0ef"
            ],
            [
             0.5,
             "#f7f7f7"
            ],
            [
             0.6,
             "#e6f5d0"
            ],
            [
             0.7,
             "#b8e186"
            ],
            [
             0.8,
             "#7fbc41"
            ],
            [
             0.9,
             "#4d9221"
            ],
            [
             1,
             "#276419"
            ]
           ],
           "sequential": [
            [
             0,
             "#0d0887"
            ],
            [
             0.1111111111111111,
             "#46039f"
            ],
            [
             0.2222222222222222,
             "#7201a8"
            ],
            [
             0.3333333333333333,
             "#9c179e"
            ],
            [
             0.4444444444444444,
             "#bd3786"
            ],
            [
             0.5555555555555556,
             "#d8576b"
            ],
            [
             0.6666666666666666,
             "#ed7953"
            ],
            [
             0.7777777777777778,
             "#fb9f3a"
            ],
            [
             0.8888888888888888,
             "#fdca26"
            ],
            [
             1,
             "#f0f921"
            ]
           ],
           "sequentialminus": [
            [
             0,
             "#0d0887"
            ],
            [
             0.1111111111111111,
             "#46039f"
            ],
            [
             0.2222222222222222,
             "#7201a8"
            ],
            [
             0.3333333333333333,
             "#9c179e"
            ],
            [
             0.4444444444444444,
             "#bd3786"
            ],
            [
             0.5555555555555556,
             "#d8576b"
            ],
            [
             0.6666666666666666,
             "#ed7953"
            ],
            [
             0.7777777777777778,
             "#fb9f3a"
            ],
            [
             0.8888888888888888,
             "#fdca26"
            ],
            [
             1,
             "#f0f921"
            ]
           ]
          },
          "colorway": [
           "#636efa",
           "#EF553B",
           "#00cc96",
           "#ab63fa",
           "#FFA15A",
           "#19d3f3",
           "#FF6692",
           "#B6E880",
           "#FF97FF",
           "#FECB52"
          ],
          "font": {
           "color": "#2a3f5f"
          },
          "geo": {
           "bgcolor": "white",
           "lakecolor": "white",
           "landcolor": "#E5ECF6",
           "showlakes": true,
           "showland": true,
           "subunitcolor": "white"
          },
          "hoverlabel": {
           "align": "left"
          },
          "hovermode": "closest",
          "mapbox": {
           "style": "light"
          },
          "paper_bgcolor": "white",
          "plot_bgcolor": "#E5ECF6",
          "polar": {
           "angularaxis": {
            "gridcolor": "white",
            "linecolor": "white",
            "ticks": ""
           },
           "bgcolor": "#E5ECF6",
           "radialaxis": {
            "gridcolor": "white",
            "linecolor": "white",
            "ticks": ""
           }
          },
          "scene": {
           "xaxis": {
            "backgroundcolor": "#E5ECF6",
            "gridcolor": "white",
            "gridwidth": 2,
            "linecolor": "white",
            "showbackground": true,
            "ticks": "",
            "zerolinecolor": "white"
           },
           "yaxis": {
            "backgroundcolor": "#E5ECF6",
            "gridcolor": "white",
            "gridwidth": 2,
            "linecolor": "white",
            "showbackground": true,
            "ticks": "",
            "zerolinecolor": "white"
           },
           "zaxis": {
            "backgroundcolor": "#E5ECF6",
            "gridcolor": "white",
            "gridwidth": 2,
            "linecolor": "white",
            "showbackground": true,
            "ticks": "",
            "zerolinecolor": "white"
           }
          },
          "shapedefaults": {
           "line": {
            "color": "#2a3f5f"
           }
          },
          "ternary": {
           "aaxis": {
            "gridcolor": "white",
            "linecolor": "white",
            "ticks": ""
           },
           "baxis": {
            "gridcolor": "white",
            "linecolor": "white",
            "ticks": ""
           },
           "bgcolor": "#E5ECF6",
           "caxis": {
            "gridcolor": "white",
            "linecolor": "white",
            "ticks": ""
           }
          },
          "title": {
           "x": 0.05
          },
          "xaxis": {
           "automargin": true,
           "gridcolor": "white",
           "linecolor": "white",
           "ticks": "",
           "title": {
            "standoff": 15
           },
           "zerolinecolor": "white",
           "zerolinewidth": 2
          },
          "yaxis": {
           "automargin": true,
           "gridcolor": "white",
           "linecolor": "white",
           "ticks": "",
           "title": {
            "standoff": 15
           },
           "zerolinecolor": "white",
           "zerolinewidth": 2
          }
         }
        },
        "width": 1400,
        "xaxis": {
         "range": [
          0,
          1860
         ],
         "title": {
          "text": "Time"
         }
        },
        "yaxis": {
         "dtick": 1,
         "range": [
          -0.5,
          1.5
         ],
         "tick0": 0,
         "tickmode": "linear",
         "title": {
          "text": "Item Index"
         }
        }
       }
      }
     },
     "metadata": {},
     "output_type": "display_data"
    }
   ],
   "source": [
    "conflicts = np.zeros([len(ops), len(ops)])\n",
    "\n",
    "tms.define_conflict_by_name(conflicts, ops, 'wash', 'wash')\n",
    "\n",
    "tms.define_conflict_by_name(conflicts, ops, 'peel', 'wash')\n",
    "tms.define_conflict_by_name(conflicts, ops, 'peel', 'peel')\n",
    "\n",
    "tms.define_conflict_by_name(conflicts, ops, 'chop', 'wash')\n",
    "tms.define_conflict_by_name(conflicts, ops, 'chop', 'peel')\n",
    "tms.define_conflict_by_name(conflicts, ops, 'chop', 'chop')\n",
    "\n",
    "# Run scheduler\n",
    "num_items = 2\n",
    "schedule = tms.run_scheduler(num_items, ops, conflicts, sync_starts=False)\n",
    "\n",
    "schedule_duration = tms.calc_schedule_duration(schedule, ops)\n",
    "print(f\"Total Schedule duration is {schedule_duration} ({schedule_duration/60} minutes)\")\n",
    "\n",
    "tms.plot_schedule(schedule, ops)"
   ]
  },
  {
   "cell_type": "code",
   "execution_count": 623,
   "metadata": {},
   "outputs": [
    {
     "data": {
      "image/svg+xml": [
       "<?xml version=\"1.0\" encoding=\"UTF-8\" standalone=\"no\"?>\n",
       "<!DOCTYPE svg PUBLIC \"-//W3C//DTD SVG 1.1//EN\"\n",
       " \"http://www.w3.org/Graphics/SVG/1.1/DTD/svg11.dtd\">\n",
       "<!-- Generated by graphviz version 2.50.0 (0)\n",
       " -->\n",
       "<!-- Pages: 1 -->\n",
       "<svg width=\"477pt\" height=\"188pt\"\n",
       " viewBox=\"0.00 0.00 476.64 188.00\" xmlns=\"http://www.w3.org/2000/svg\" xmlns:xlink=\"http://www.w3.org/1999/xlink\">\n",
       "<g id=\"graph0\" class=\"graph\" transform=\"scale(1 1) rotate(0) translate(4 184)\">\n",
       "<polygon fill=\"white\" stroke=\"transparent\" points=\"-4,4 -4,-184 472.64,-184 472.64,4 -4,4\"/>\n",
       "<!-- wash -->\n",
       "<g id=\"node1\" class=\"node\">\n",
       "<title>wash</title>\n",
       "<ellipse fill=\"none\" stroke=\"black\" cx=\"88.55\" cy=\"-162\" rx=\"46.59\" ry=\"18\"/>\n",
       "<text text-anchor=\"middle\" x=\"88.55\" y=\"-158.3\" font-family=\"Times New Roman,serif\" font-size=\"14.00\">op0: wash</text>\n",
       "</g>\n",
       "<!-- wash&#45;&#45;wash -->\n",
       "<g id=\"edge1\" class=\"edge\">\n",
       "<title>wash&#45;&#45;wash</title>\n",
       "<path fill=\"none\" stroke=\"black\" d=\"M131.56,-175.45C143.86,-174.92 153.34,-170.43 153.34,-162 153.34,-153.57 143.86,-149.08 131.56,-148.55\"/>\n",
       "<polygon fill=\"black\" stroke=\"black\" points=\"131.35,-171.94 121.22,-175.03 131.07,-178.93 131.35,-171.94\"/>\n",
       "<polygon fill=\"black\" stroke=\"black\" points=\"131.07,-145.07 121.22,-148.97 131.35,-152.06 131.07,-145.07\"/>\n",
       "</g>\n",
       "<!-- peel -->\n",
       "<g id=\"node2\" class=\"node\">\n",
       "<title>peel</title>\n",
       "<ellipse fill=\"none\" stroke=\"black\" cx=\"43.55\" cy=\"-90\" rx=\"43.59\" ry=\"18\"/>\n",
       "<text text-anchor=\"middle\" x=\"43.55\" y=\"-86.3\" font-family=\"Times New Roman,serif\" font-size=\"14.00\">op1: peel</text>\n",
       "</g>\n",
       "<!-- wash&#45;&#45;peel -->\n",
       "<g id=\"edge2\" class=\"edge\">\n",
       "<title>wash&#45;&#45;peel</title>\n",
       "<path fill=\"none\" stroke=\"black\" d=\"M72.34,-135.79C68.27,-129.46 63.9,-122.66 59.82,-116.32\"/>\n",
       "<polygon fill=\"black\" stroke=\"black\" points=\"69.53,-137.89 77.88,-144.41 75.42,-134.11 69.53,-137.89\"/>\n",
       "<polygon fill=\"black\" stroke=\"black\" points=\"62.49,-113.99 54.13,-107.47 56.6,-117.77 62.49,-113.99\"/>\n",
       "</g>\n",
       "<!-- chop -->\n",
       "<g id=\"node3\" class=\"node\">\n",
       "<title>chop</title>\n",
       "<ellipse fill=\"none\" stroke=\"black\" cx=\"88.55\" cy=\"-18\" rx=\"46.29\" ry=\"18\"/>\n",
       "<text text-anchor=\"middle\" x=\"88.55\" y=\"-14.3\" font-family=\"Times New Roman,serif\" font-size=\"14.00\">op2: chop</text>\n",
       "</g>\n",
       "<!-- wash&#45;&#45;chop -->\n",
       "<g id=\"edge3\" class=\"edge\">\n",
       "<title>wash&#45;&#45;chop</title>\n",
       "<path fill=\"none\" stroke=\"black\" d=\"M104.12,-135.19C108.37,-126.82 112.39,-117.28 114.55,-108 118.16,-92.41 118.16,-87.59 114.55,-72 112.39,-62.72 108.37,-53.18 104.12,-44.81\"/>\n",
       "<polygon fill=\"black\" stroke=\"black\" points=\"101,-133.62 99.32,-144.08 107.15,-136.95 101,-133.62\"/>\n",
       "<polygon fill=\"black\" stroke=\"black\" points=\"107.15,-43.05 99.32,-35.92 101,-46.38 107.15,-43.05\"/>\n",
       "</g>\n",
       "<!-- peel&#45;&#45;peel -->\n",
       "<g id=\"edge4\" class=\"edge\">\n",
       "<title>peel&#45;&#45;peel</title>\n",
       "<path fill=\"none\" stroke=\"black\" d=\"M83.94,-103.47C95.85,-103.03 105.09,-98.54 105.09,-90 105.09,-81.46 95.85,-76.97 83.94,-76.53\"/>\n",
       "<polygon fill=\"black\" stroke=\"black\" points=\"84.12,-99.97 73.95,-102.94 83.75,-106.96 84.12,-99.97\"/>\n",
       "<polygon fill=\"black\" stroke=\"black\" points=\"83.75,-73.04 73.95,-77.06 84.12,-80.03 83.75,-73.04\"/>\n",
       "</g>\n",
       "<!-- peel&#45;&#45;chop -->\n",
       "<g id=\"edge5\" class=\"edge\">\n",
       "<title>peel&#45;&#45;chop</title>\n",
       "<path fill=\"none\" stroke=\"black\" d=\"M59.67,-63.92C63.68,-57.68 67.98,-50.99 72.01,-44.73\"/>\n",
       "<polygon fill=\"black\" stroke=\"black\" points=\"56.67,-62.11 54.21,-72.41 62.56,-65.89 56.67,-62.11\"/>\n",
       "<polygon fill=\"black\" stroke=\"black\" points=\"75.18,-46.26 77.65,-35.96 69.29,-42.48 75.18,-46.26\"/>\n",
       "</g>\n",
       "<!-- chop&#45;&#45;chop -->\n",
       "<g id=\"edge6\" class=\"edge\">\n",
       "<title>chop&#45;&#45;chop</title>\n",
       "<path fill=\"none\" stroke=\"black\" d=\"M130.89,-31.46C143.18,-30.97 152.69,-26.49 152.69,-18 152.69,-9.51 143.18,-5.03 130.89,-4.54\"/>\n",
       "<polygon fill=\"black\" stroke=\"black\" points=\"130.71,-27.94 120.56,-30.99 130.39,-34.94 130.71,-27.94\"/>\n",
       "<polygon fill=\"black\" stroke=\"black\" points=\"130.39,-1.06 120.56,-5.01 130.71,-8.06 130.39,-1.06\"/>\n",
       "</g>\n",
       "<!-- boil -->\n",
       "<g id=\"node4\" class=\"node\">\n",
       "<title>boil</title>\n",
       "<ellipse fill=\"none\" stroke=\"black\" cx=\"213.55\" cy=\"-162\" rx=\"42.49\" ry=\"18\"/>\n",
       "<text text-anchor=\"middle\" x=\"213.55\" y=\"-158.3\" font-family=\"Times New Roman,serif\" font-size=\"14.00\">op3: boil</text>\n",
       "</g>\n",
       "<!-- dry -->\n",
       "<g id=\"node5\" class=\"node\">\n",
       "<title>dry</title>\n",
       "<ellipse fill=\"none\" stroke=\"black\" cx=\"314.55\" cy=\"-162\" rx=\"40.09\" ry=\"18\"/>\n",
       "<text text-anchor=\"middle\" x=\"314.55\" y=\"-158.3\" font-family=\"Times New Roman,serif\" font-size=\"14.00\">op4: dry</text>\n",
       "</g>\n",
       "<!-- mash -->\n",
       "<g id=\"node6\" class=\"node\">\n",
       "<title>mash</title>\n",
       "<ellipse fill=\"none\" stroke=\"black\" cx=\"420.55\" cy=\"-162\" rx=\"48.19\" ry=\"18\"/>\n",
       "<text text-anchor=\"middle\" x=\"420.55\" y=\"-158.3\" font-family=\"Times New Roman,serif\" font-size=\"14.00\">op5: mash</text>\n",
       "</g>\n",
       "</g>\n",
       "</svg>\n"
      ],
      "text/plain": [
       "<graphviz.graphs.Graph at 0x1b91b6819a0>"
      ]
     },
     "execution_count": 623,
     "metadata": {},
     "output_type": "execute_result"
    }
   ],
   "source": [
    "tms.graph_conflicts(ops, conflicts)"
   ]
  },
  {
   "cell_type": "markdown",
   "metadata": {},
   "source": [
    "## 8-Potato Groups"
   ]
  },
  {
   "cell_type": "code",
   "execution_count": 624,
   "metadata": {},
   "outputs": [
    {
     "name": "stdout",
     "output_type": "stream",
     "text": [
      "Total Schedule duration is 3360.0 (56.0 minutes)\n",
      "Importing plotting tools...\n",
      "Generating plot...\n"
     ]
    },
    {
     "data": {
      "application/vnd.plotly.v1+json": {
       "config": {
        "plotlyServerURL": "https://plot.ly"
       },
       "data": [],
       "layout": {
        "annotations": [
         {
          "bgcolor": "rgba(255,255,255,0.8)",
          "font": {
           "color": "black",
           "size": 18
          },
          "showarrow": false,
          "text": "wash/peel/chop",
          "x": 180,
          "y": 0
         },
         {
          "bgcolor": "rgba(255,255,255,0.8)",
          "font": {
           "color": "black",
           "size": 18
          },
          "showarrow": false,
          "text": "boil/dry/mash",
          "x": 1110,
          "y": 0
         },
         {
          "bgcolor": "rgba(255,255,255,0.8)",
          "font": {
           "color": "black",
           "size": 18
          },
          "showarrow": false,
          "text": "wash/peel/chop",
          "x": 540,
          "y": 1
         },
         {
          "bgcolor": "rgba(255,255,255,0.8)",
          "font": {
           "color": "black",
           "size": 18
          },
          "showarrow": false,
          "text": "boil/dry/mash",
          "x": 2610,
          "y": 1
         }
        ],
        "autosize": false,
        "height": 800,
        "shapes": [
         {
          "fillcolor": "#636EFA",
          "line": {
           "color": "black",
           "width": 1
          },
          "type": "rect",
          "x0": 0,
          "x1": 360,
          "y0": -0.5,
          "y1": 0.5
         },
         {
          "fillcolor": "#EF553B",
          "line": {
           "color": "black",
           "width": 1
          },
          "type": "rect",
          "x0": 360,
          "x1": 1860,
          "y0": -0.5,
          "y1": 0.5
         },
         {
          "fillcolor": "#636EFA",
          "line": {
           "color": "black",
           "width": 1
          },
          "type": "rect",
          "x0": 360,
          "x1": 720,
          "y0": 0.5,
          "y1": 1.5
         },
         {
          "fillcolor": "#EF553B",
          "line": {
           "color": "black",
           "width": 1
          },
          "type": "rect",
          "x0": 1860,
          "x1": 3360,
          "y0": 0.5,
          "y1": 1.5
         }
        ],
        "template": {
         "data": {
          "bar": [
           {
            "error_x": {
             "color": "#2a3f5f"
            },
            "error_y": {
             "color": "#2a3f5f"
            },
            "marker": {
             "line": {
              "color": "#E5ECF6",
              "width": 0.5
             },
             "pattern": {
              "fillmode": "overlay",
              "size": 10,
              "solidity": 0.2
             }
            },
            "type": "bar"
           }
          ],
          "barpolar": [
           {
            "marker": {
             "line": {
              "color": "#E5ECF6",
              "width": 0.5
             },
             "pattern": {
              "fillmode": "overlay",
              "size": 10,
              "solidity": 0.2
             }
            },
            "type": "barpolar"
           }
          ],
          "carpet": [
           {
            "aaxis": {
             "endlinecolor": "#2a3f5f",
             "gridcolor": "white",
             "linecolor": "white",
             "minorgridcolor": "white",
             "startlinecolor": "#2a3f5f"
            },
            "baxis": {
             "endlinecolor": "#2a3f5f",
             "gridcolor": "white",
             "linecolor": "white",
             "minorgridcolor": "white",
             "startlinecolor": "#2a3f5f"
            },
            "type": "carpet"
           }
          ],
          "choropleth": [
           {
            "colorbar": {
             "outlinewidth": 0,
             "ticks": ""
            },
            "type": "choropleth"
           }
          ],
          "contour": [
           {
            "colorbar": {
             "outlinewidth": 0,
             "ticks": ""
            },
            "colorscale": [
             [
              0,
              "#0d0887"
             ],
             [
              0.1111111111111111,
              "#46039f"
             ],
             [
              0.2222222222222222,
              "#7201a8"
             ],
             [
              0.3333333333333333,
              "#9c179e"
             ],
             [
              0.4444444444444444,
              "#bd3786"
             ],
             [
              0.5555555555555556,
              "#d8576b"
             ],
             [
              0.6666666666666666,
              "#ed7953"
             ],
             [
              0.7777777777777778,
              "#fb9f3a"
             ],
             [
              0.8888888888888888,
              "#fdca26"
             ],
             [
              1,
              "#f0f921"
             ]
            ],
            "type": "contour"
           }
          ],
          "contourcarpet": [
           {
            "colorbar": {
             "outlinewidth": 0,
             "ticks": ""
            },
            "type": "contourcarpet"
           }
          ],
          "heatmap": [
           {
            "colorbar": {
             "outlinewidth": 0,
             "ticks": ""
            },
            "colorscale": [
             [
              0,
              "#0d0887"
             ],
             [
              0.1111111111111111,
              "#46039f"
             ],
             [
              0.2222222222222222,
              "#7201a8"
             ],
             [
              0.3333333333333333,
              "#9c179e"
             ],
             [
              0.4444444444444444,
              "#bd3786"
             ],
             [
              0.5555555555555556,
              "#d8576b"
             ],
             [
              0.6666666666666666,
              "#ed7953"
             ],
             [
              0.7777777777777778,
              "#fb9f3a"
             ],
             [
              0.8888888888888888,
              "#fdca26"
             ],
             [
              1,
              "#f0f921"
             ]
            ],
            "type": "heatmap"
           }
          ],
          "heatmapgl": [
           {
            "colorbar": {
             "outlinewidth": 0,
             "ticks": ""
            },
            "colorscale": [
             [
              0,
              "#0d0887"
             ],
             [
              0.1111111111111111,
              "#46039f"
             ],
             [
              0.2222222222222222,
              "#7201a8"
             ],
             [
              0.3333333333333333,
              "#9c179e"
             ],
             [
              0.4444444444444444,
              "#bd3786"
             ],
             [
              0.5555555555555556,
              "#d8576b"
             ],
             [
              0.6666666666666666,
              "#ed7953"
             ],
             [
              0.7777777777777778,
              "#fb9f3a"
             ],
             [
              0.8888888888888888,
              "#fdca26"
             ],
             [
              1,
              "#f0f921"
             ]
            ],
            "type": "heatmapgl"
           }
          ],
          "histogram": [
           {
            "marker": {
             "pattern": {
              "fillmode": "overlay",
              "size": 10,
              "solidity": 0.2
             }
            },
            "type": "histogram"
           }
          ],
          "histogram2d": [
           {
            "colorbar": {
             "outlinewidth": 0,
             "ticks": ""
            },
            "colorscale": [
             [
              0,
              "#0d0887"
             ],
             [
              0.1111111111111111,
              "#46039f"
             ],
             [
              0.2222222222222222,
              "#7201a8"
             ],
             [
              0.3333333333333333,
              "#9c179e"
             ],
             [
              0.4444444444444444,
              "#bd3786"
             ],
             [
              0.5555555555555556,
              "#d8576b"
             ],
             [
              0.6666666666666666,
              "#ed7953"
             ],
             [
              0.7777777777777778,
              "#fb9f3a"
             ],
             [
              0.8888888888888888,
              "#fdca26"
             ],
             [
              1,
              "#f0f921"
             ]
            ],
            "type": "histogram2d"
           }
          ],
          "histogram2dcontour": [
           {
            "colorbar": {
             "outlinewidth": 0,
             "ticks": ""
            },
            "colorscale": [
             [
              0,
              "#0d0887"
             ],
             [
              0.1111111111111111,
              "#46039f"
             ],
             [
              0.2222222222222222,
              "#7201a8"
             ],
             [
              0.3333333333333333,
              "#9c179e"
             ],
             [
              0.4444444444444444,
              "#bd3786"
             ],
             [
              0.5555555555555556,
              "#d8576b"
             ],
             [
              0.6666666666666666,
              "#ed7953"
             ],
             [
              0.7777777777777778,
              "#fb9f3a"
             ],
             [
              0.8888888888888888,
              "#fdca26"
             ],
             [
              1,
              "#f0f921"
             ]
            ],
            "type": "histogram2dcontour"
           }
          ],
          "mesh3d": [
           {
            "colorbar": {
             "outlinewidth": 0,
             "ticks": ""
            },
            "type": "mesh3d"
           }
          ],
          "parcoords": [
           {
            "line": {
             "colorbar": {
              "outlinewidth": 0,
              "ticks": ""
             }
            },
            "type": "parcoords"
           }
          ],
          "pie": [
           {
            "automargin": true,
            "type": "pie"
           }
          ],
          "scatter": [
           {
            "fillpattern": {
             "fillmode": "overlay",
             "size": 10,
             "solidity": 0.2
            },
            "type": "scatter"
           }
          ],
          "scatter3d": [
           {
            "line": {
             "colorbar": {
              "outlinewidth": 0,
              "ticks": ""
             }
            },
            "marker": {
             "colorbar": {
              "outlinewidth": 0,
              "ticks": ""
             }
            },
            "type": "scatter3d"
           }
          ],
          "scattercarpet": [
           {
            "marker": {
             "colorbar": {
              "outlinewidth": 0,
              "ticks": ""
             }
            },
            "type": "scattercarpet"
           }
          ],
          "scattergeo": [
           {
            "marker": {
             "colorbar": {
              "outlinewidth": 0,
              "ticks": ""
             }
            },
            "type": "scattergeo"
           }
          ],
          "scattergl": [
           {
            "marker": {
             "colorbar": {
              "outlinewidth": 0,
              "ticks": ""
             }
            },
            "type": "scattergl"
           }
          ],
          "scattermapbox": [
           {
            "marker": {
             "colorbar": {
              "outlinewidth": 0,
              "ticks": ""
             }
            },
            "type": "scattermapbox"
           }
          ],
          "scatterpolar": [
           {
            "marker": {
             "colorbar": {
              "outlinewidth": 0,
              "ticks": ""
             }
            },
            "type": "scatterpolar"
           }
          ],
          "scatterpolargl": [
           {
            "marker": {
             "colorbar": {
              "outlinewidth": 0,
              "ticks": ""
             }
            },
            "type": "scatterpolargl"
           }
          ],
          "scatterternary": [
           {
            "marker": {
             "colorbar": {
              "outlinewidth": 0,
              "ticks": ""
             }
            },
            "type": "scatterternary"
           }
          ],
          "surface": [
           {
            "colorbar": {
             "outlinewidth": 0,
             "ticks": ""
            },
            "colorscale": [
             [
              0,
              "#0d0887"
             ],
             [
              0.1111111111111111,
              "#46039f"
             ],
             [
              0.2222222222222222,
              "#7201a8"
             ],
             [
              0.3333333333333333,
              "#9c179e"
             ],
             [
              0.4444444444444444,
              "#bd3786"
             ],
             [
              0.5555555555555556,
              "#d8576b"
             ],
             [
              0.6666666666666666,
              "#ed7953"
             ],
             [
              0.7777777777777778,
              "#fb9f3a"
             ],
             [
              0.8888888888888888,
              "#fdca26"
             ],
             [
              1,
              "#f0f921"
             ]
            ],
            "type": "surface"
           }
          ],
          "table": [
           {
            "cells": {
             "fill": {
              "color": "#EBF0F8"
             },
             "line": {
              "color": "white"
             }
            },
            "header": {
             "fill": {
              "color": "#C8D4E3"
             },
             "line": {
              "color": "white"
             }
            },
            "type": "table"
           }
          ]
         },
         "layout": {
          "annotationdefaults": {
           "arrowcolor": "#2a3f5f",
           "arrowhead": 0,
           "arrowwidth": 1
          },
          "autotypenumbers": "strict",
          "coloraxis": {
           "colorbar": {
            "outlinewidth": 0,
            "ticks": ""
           }
          },
          "colorscale": {
           "diverging": [
            [
             0,
             "#8e0152"
            ],
            [
             0.1,
             "#c51b7d"
            ],
            [
             0.2,
             "#de77ae"
            ],
            [
             0.3,
             "#f1b6da"
            ],
            [
             0.4,
             "#fde0ef"
            ],
            [
             0.5,
             "#f7f7f7"
            ],
            [
             0.6,
             "#e6f5d0"
            ],
            [
             0.7,
             "#b8e186"
            ],
            [
             0.8,
             "#7fbc41"
            ],
            [
             0.9,
             "#4d9221"
            ],
            [
             1,
             "#276419"
            ]
           ],
           "sequential": [
            [
             0,
             "#0d0887"
            ],
            [
             0.1111111111111111,
             "#46039f"
            ],
            [
             0.2222222222222222,
             "#7201a8"
            ],
            [
             0.3333333333333333,
             "#9c179e"
            ],
            [
             0.4444444444444444,
             "#bd3786"
            ],
            [
             0.5555555555555556,
             "#d8576b"
            ],
            [
             0.6666666666666666,
             "#ed7953"
            ],
            [
             0.7777777777777778,
             "#fb9f3a"
            ],
            [
             0.8888888888888888,
             "#fdca26"
            ],
            [
             1,
             "#f0f921"
            ]
           ],
           "sequentialminus": [
            [
             0,
             "#0d0887"
            ],
            [
             0.1111111111111111,
             "#46039f"
            ],
            [
             0.2222222222222222,
             "#7201a8"
            ],
            [
             0.3333333333333333,
             "#9c179e"
            ],
            [
             0.4444444444444444,
             "#bd3786"
            ],
            [
             0.5555555555555556,
             "#d8576b"
            ],
            [
             0.6666666666666666,
             "#ed7953"
            ],
            [
             0.7777777777777778,
             "#fb9f3a"
            ],
            [
             0.8888888888888888,
             "#fdca26"
            ],
            [
             1,
             "#f0f921"
            ]
           ]
          },
          "colorway": [
           "#636efa",
           "#EF553B",
           "#00cc96",
           "#ab63fa",
           "#FFA15A",
           "#19d3f3",
           "#FF6692",
           "#B6E880",
           "#FF97FF",
           "#FECB52"
          ],
          "font": {
           "color": "#2a3f5f"
          },
          "geo": {
           "bgcolor": "white",
           "lakecolor": "white",
           "landcolor": "#E5ECF6",
           "showlakes": true,
           "showland": true,
           "subunitcolor": "white"
          },
          "hoverlabel": {
           "align": "left"
          },
          "hovermode": "closest",
          "mapbox": {
           "style": "light"
          },
          "paper_bgcolor": "white",
          "plot_bgcolor": "#E5ECF6",
          "polar": {
           "angularaxis": {
            "gridcolor": "white",
            "linecolor": "white",
            "ticks": ""
           },
           "bgcolor": "#E5ECF6",
           "radialaxis": {
            "gridcolor": "white",
            "linecolor": "white",
            "ticks": ""
           }
          },
          "scene": {
           "xaxis": {
            "backgroundcolor": "#E5ECF6",
            "gridcolor": "white",
            "gridwidth": 2,
            "linecolor": "white",
            "showbackground": true,
            "ticks": "",
            "zerolinecolor": "white"
           },
           "yaxis": {
            "backgroundcolor": "#E5ECF6",
            "gridcolor": "white",
            "gridwidth": 2,
            "linecolor": "white",
            "showbackground": true,
            "ticks": "",
            "zerolinecolor": "white"
           },
           "zaxis": {
            "backgroundcolor": "#E5ECF6",
            "gridcolor": "white",
            "gridwidth": 2,
            "linecolor": "white",
            "showbackground": true,
            "ticks": "",
            "zerolinecolor": "white"
           }
          },
          "shapedefaults": {
           "line": {
            "color": "#2a3f5f"
           }
          },
          "ternary": {
           "aaxis": {
            "gridcolor": "white",
            "linecolor": "white",
            "ticks": ""
           },
           "baxis": {
            "gridcolor": "white",
            "linecolor": "white",
            "ticks": ""
           },
           "bgcolor": "#E5ECF6",
           "caxis": {
            "gridcolor": "white",
            "linecolor": "white",
            "ticks": ""
           }
          },
          "title": {
           "x": 0.05
          },
          "xaxis": {
           "automargin": true,
           "gridcolor": "white",
           "linecolor": "white",
           "ticks": "",
           "title": {
            "standoff": 15
           },
           "zerolinecolor": "white",
           "zerolinewidth": 2
          },
          "yaxis": {
           "automargin": true,
           "gridcolor": "white",
           "linecolor": "white",
           "ticks": "",
           "title": {
            "standoff": 15
           },
           "zerolinecolor": "white",
           "zerolinewidth": 2
          }
         }
        },
        "width": 1400,
        "xaxis": {
         "range": [
          0,
          3360
         ],
         "title": {
          "text": "Time"
         }
        },
        "yaxis": {
         "dtick": 1,
         "range": [
          -0.5,
          1.5
         ],
         "tick0": 0,
         "tickmode": "linear",
         "title": {
          "text": "Item Index"
         }
        }
       }
      }
     },
     "metadata": {},
     "output_type": "display_data"
    }
   ],
   "source": [
    "ops = {}\n",
    "ops['wash/peel/chop'] = 360\n",
    "ops['boil/dry/mash'] = 1500\n",
    "\n",
    "conflicts = np.zeros([len(ops), len(ops)])\n",
    "\n",
    "tms.define_conflict_by_name(conflicts, ops, 'wash/peel/chop', 'wash/peel/chop')\n",
    "\n",
    "tms.define_conflict_by_name(conflicts, ops, 'boil/dry/mash', 'boil/dry/mash')\n",
    "\n",
    "# Run scheduler\n",
    "num_items = 2\n",
    "schedule = tms.run_scheduler(num_items, ops, conflicts, sync_starts=False)\n",
    "\n",
    "schedule_duration = tms.calc_schedule_duration(schedule, ops)\n",
    "print(f\"Total Schedule duration is {schedule_duration} ({schedule_duration/60} minutes)\")\n",
    "\n",
    "tms.plot_schedule(schedule, ops)"
   ]
  },
  {
   "cell_type": "code",
   "execution_count": 625,
   "metadata": {},
   "outputs": [
    {
     "name": "stdout",
     "output_type": "stream",
     "text": [
      "Total Schedule duration is 6360.0 (106.0 minutes)\n",
      "Importing plotting tools...\n",
      "Generating plot...\n"
     ]
    },
    {
     "data": {
      "application/vnd.plotly.v1+json": {
       "config": {
        "plotlyServerURL": "https://plot.ly"
       },
       "data": [],
       "layout": {
        "annotations": [
         {
          "bgcolor": "rgba(255,255,255,0.8)",
          "font": {
           "color": "black",
           "size": 18
          },
          "showarrow": false,
          "text": "wash/peel/chop",
          "x": 180,
          "y": 0
         },
         {
          "bgcolor": "rgba(255,255,255,0.8)",
          "font": {
           "color": "black",
           "size": 18
          },
          "showarrow": false,
          "text": "boil/dry/mash",
          "x": 1110,
          "y": 0
         },
         {
          "bgcolor": "rgba(255,255,255,0.8)",
          "font": {
           "color": "black",
           "size": 18
          },
          "showarrow": false,
          "text": "wash/peel/chop",
          "x": 540,
          "y": 1
         },
         {
          "bgcolor": "rgba(255,255,255,0.8)",
          "font": {
           "color": "black",
           "size": 18
          },
          "showarrow": false,
          "text": "boil/dry/mash",
          "x": 2610,
          "y": 1
         },
         {
          "bgcolor": "rgba(255,255,255,0.8)",
          "font": {
           "color": "black",
           "size": 18
          },
          "showarrow": false,
          "text": "wash/peel/chop",
          "x": 900,
          "y": 2
         },
         {
          "bgcolor": "rgba(255,255,255,0.8)",
          "font": {
           "color": "black",
           "size": 18
          },
          "showarrow": false,
          "text": "boil/dry/mash",
          "x": 4110,
          "y": 2
         },
         {
          "bgcolor": "rgba(255,255,255,0.8)",
          "font": {
           "color": "black",
           "size": 18
          },
          "showarrow": false,
          "text": "wash/peel/chop",
          "x": 1260,
          "y": 3
         },
         {
          "bgcolor": "rgba(255,255,255,0.8)",
          "font": {
           "color": "black",
           "size": 18
          },
          "showarrow": false,
          "text": "boil/dry/mash",
          "x": 5610,
          "y": 3
         }
        ],
        "autosize": false,
        "height": 800,
        "shapes": [
         {
          "fillcolor": "#636EFA",
          "line": {
           "color": "black",
           "width": 1
          },
          "type": "rect",
          "x0": 0,
          "x1": 360,
          "y0": -0.5,
          "y1": 0.5
         },
         {
          "fillcolor": "#EF553B",
          "line": {
           "color": "black",
           "width": 1
          },
          "type": "rect",
          "x0": 360,
          "x1": 1860,
          "y0": -0.5,
          "y1": 0.5
         },
         {
          "fillcolor": "#636EFA",
          "line": {
           "color": "black",
           "width": 1
          },
          "type": "rect",
          "x0": 360,
          "x1": 720,
          "y0": 0.5,
          "y1": 1.5
         },
         {
          "fillcolor": "#EF553B",
          "line": {
           "color": "black",
           "width": 1
          },
          "type": "rect",
          "x0": 1860,
          "x1": 3360,
          "y0": 0.5,
          "y1": 1.5
         },
         {
          "fillcolor": "#636EFA",
          "line": {
           "color": "black",
           "width": 1
          },
          "type": "rect",
          "x0": 720,
          "x1": 1080,
          "y0": 1.5,
          "y1": 2.5
         },
         {
          "fillcolor": "#EF553B",
          "line": {
           "color": "black",
           "width": 1
          },
          "type": "rect",
          "x0": 3360,
          "x1": 4860,
          "y0": 1.5,
          "y1": 2.5
         },
         {
          "fillcolor": "#636EFA",
          "line": {
           "color": "black",
           "width": 1
          },
          "type": "rect",
          "x0": 1080,
          "x1": 1440,
          "y0": 2.5,
          "y1": 3.5
         },
         {
          "fillcolor": "#EF553B",
          "line": {
           "color": "black",
           "width": 1
          },
          "type": "rect",
          "x0": 4860,
          "x1": 6360,
          "y0": 2.5,
          "y1": 3.5
         }
        ],
        "template": {
         "data": {
          "bar": [
           {
            "error_x": {
             "color": "#2a3f5f"
            },
            "error_y": {
             "color": "#2a3f5f"
            },
            "marker": {
             "line": {
              "color": "#E5ECF6",
              "width": 0.5
             },
             "pattern": {
              "fillmode": "overlay",
              "size": 10,
              "solidity": 0.2
             }
            },
            "type": "bar"
           }
          ],
          "barpolar": [
           {
            "marker": {
             "line": {
              "color": "#E5ECF6",
              "width": 0.5
             },
             "pattern": {
              "fillmode": "overlay",
              "size": 10,
              "solidity": 0.2
             }
            },
            "type": "barpolar"
           }
          ],
          "carpet": [
           {
            "aaxis": {
             "endlinecolor": "#2a3f5f",
             "gridcolor": "white",
             "linecolor": "white",
             "minorgridcolor": "white",
             "startlinecolor": "#2a3f5f"
            },
            "baxis": {
             "endlinecolor": "#2a3f5f",
             "gridcolor": "white",
             "linecolor": "white",
             "minorgridcolor": "white",
             "startlinecolor": "#2a3f5f"
            },
            "type": "carpet"
           }
          ],
          "choropleth": [
           {
            "colorbar": {
             "outlinewidth": 0,
             "ticks": ""
            },
            "type": "choropleth"
           }
          ],
          "contour": [
           {
            "colorbar": {
             "outlinewidth": 0,
             "ticks": ""
            },
            "colorscale": [
             [
              0,
              "#0d0887"
             ],
             [
              0.1111111111111111,
              "#46039f"
             ],
             [
              0.2222222222222222,
              "#7201a8"
             ],
             [
              0.3333333333333333,
              "#9c179e"
             ],
             [
              0.4444444444444444,
              "#bd3786"
             ],
             [
              0.5555555555555556,
              "#d8576b"
             ],
             [
              0.6666666666666666,
              "#ed7953"
             ],
             [
              0.7777777777777778,
              "#fb9f3a"
             ],
             [
              0.8888888888888888,
              "#fdca26"
             ],
             [
              1,
              "#f0f921"
             ]
            ],
            "type": "contour"
           }
          ],
          "contourcarpet": [
           {
            "colorbar": {
             "outlinewidth": 0,
             "ticks": ""
            },
            "type": "contourcarpet"
           }
          ],
          "heatmap": [
           {
            "colorbar": {
             "outlinewidth": 0,
             "ticks": ""
            },
            "colorscale": [
             [
              0,
              "#0d0887"
             ],
             [
              0.1111111111111111,
              "#46039f"
             ],
             [
              0.2222222222222222,
              "#7201a8"
             ],
             [
              0.3333333333333333,
              "#9c179e"
             ],
             [
              0.4444444444444444,
              "#bd3786"
             ],
             [
              0.5555555555555556,
              "#d8576b"
             ],
             [
              0.6666666666666666,
              "#ed7953"
             ],
             [
              0.7777777777777778,
              "#fb9f3a"
             ],
             [
              0.8888888888888888,
              "#fdca26"
             ],
             [
              1,
              "#f0f921"
             ]
            ],
            "type": "heatmap"
           }
          ],
          "heatmapgl": [
           {
            "colorbar": {
             "outlinewidth": 0,
             "ticks": ""
            },
            "colorscale": [
             [
              0,
              "#0d0887"
             ],
             [
              0.1111111111111111,
              "#46039f"
             ],
             [
              0.2222222222222222,
              "#7201a8"
             ],
             [
              0.3333333333333333,
              "#9c179e"
             ],
             [
              0.4444444444444444,
              "#bd3786"
             ],
             [
              0.5555555555555556,
              "#d8576b"
             ],
             [
              0.6666666666666666,
              "#ed7953"
             ],
             [
              0.7777777777777778,
              "#fb9f3a"
             ],
             [
              0.8888888888888888,
              "#fdca26"
             ],
             [
              1,
              "#f0f921"
             ]
            ],
            "type": "heatmapgl"
           }
          ],
          "histogram": [
           {
            "marker": {
             "pattern": {
              "fillmode": "overlay",
              "size": 10,
              "solidity": 0.2
             }
            },
            "type": "histogram"
           }
          ],
          "histogram2d": [
           {
            "colorbar": {
             "outlinewidth": 0,
             "ticks": ""
            },
            "colorscale": [
             [
              0,
              "#0d0887"
             ],
             [
              0.1111111111111111,
              "#46039f"
             ],
             [
              0.2222222222222222,
              "#7201a8"
             ],
             [
              0.3333333333333333,
              "#9c179e"
             ],
             [
              0.4444444444444444,
              "#bd3786"
             ],
             [
              0.5555555555555556,
              "#d8576b"
             ],
             [
              0.6666666666666666,
              "#ed7953"
             ],
             [
              0.7777777777777778,
              "#fb9f3a"
             ],
             [
              0.8888888888888888,
              "#fdca26"
             ],
             [
              1,
              "#f0f921"
             ]
            ],
            "type": "histogram2d"
           }
          ],
          "histogram2dcontour": [
           {
            "colorbar": {
             "outlinewidth": 0,
             "ticks": ""
            },
            "colorscale": [
             [
              0,
              "#0d0887"
             ],
             [
              0.1111111111111111,
              "#46039f"
             ],
             [
              0.2222222222222222,
              "#7201a8"
             ],
             [
              0.3333333333333333,
              "#9c179e"
             ],
             [
              0.4444444444444444,
              "#bd3786"
             ],
             [
              0.5555555555555556,
              "#d8576b"
             ],
             [
              0.6666666666666666,
              "#ed7953"
             ],
             [
              0.7777777777777778,
              "#fb9f3a"
             ],
             [
              0.8888888888888888,
              "#fdca26"
             ],
             [
              1,
              "#f0f921"
             ]
            ],
            "type": "histogram2dcontour"
           }
          ],
          "mesh3d": [
           {
            "colorbar": {
             "outlinewidth": 0,
             "ticks": ""
            },
            "type": "mesh3d"
           }
          ],
          "parcoords": [
           {
            "line": {
             "colorbar": {
              "outlinewidth": 0,
              "ticks": ""
             }
            },
            "type": "parcoords"
           }
          ],
          "pie": [
           {
            "automargin": true,
            "type": "pie"
           }
          ],
          "scatter": [
           {
            "fillpattern": {
             "fillmode": "overlay",
             "size": 10,
             "solidity": 0.2
            },
            "type": "scatter"
           }
          ],
          "scatter3d": [
           {
            "line": {
             "colorbar": {
              "outlinewidth": 0,
              "ticks": ""
             }
            },
            "marker": {
             "colorbar": {
              "outlinewidth": 0,
              "ticks": ""
             }
            },
            "type": "scatter3d"
           }
          ],
          "scattercarpet": [
           {
            "marker": {
             "colorbar": {
              "outlinewidth": 0,
              "ticks": ""
             }
            },
            "type": "scattercarpet"
           }
          ],
          "scattergeo": [
           {
            "marker": {
             "colorbar": {
              "outlinewidth": 0,
              "ticks": ""
             }
            },
            "type": "scattergeo"
           }
          ],
          "scattergl": [
           {
            "marker": {
             "colorbar": {
              "outlinewidth": 0,
              "ticks": ""
             }
            },
            "type": "scattergl"
           }
          ],
          "scattermapbox": [
           {
            "marker": {
             "colorbar": {
              "outlinewidth": 0,
              "ticks": ""
             }
            },
            "type": "scattermapbox"
           }
          ],
          "scatterpolar": [
           {
            "marker": {
             "colorbar": {
              "outlinewidth": 0,
              "ticks": ""
             }
            },
            "type": "scatterpolar"
           }
          ],
          "scatterpolargl": [
           {
            "marker": {
             "colorbar": {
              "outlinewidth": 0,
              "ticks": ""
             }
            },
            "type": "scatterpolargl"
           }
          ],
          "scatterternary": [
           {
            "marker": {
             "colorbar": {
              "outlinewidth": 0,
              "ticks": ""
             }
            },
            "type": "scatterternary"
           }
          ],
          "surface": [
           {
            "colorbar": {
             "outlinewidth": 0,
             "ticks": ""
            },
            "colorscale": [
             [
              0,
              "#0d0887"
             ],
             [
              0.1111111111111111,
              "#46039f"
             ],
             [
              0.2222222222222222,
              "#7201a8"
             ],
             [
              0.3333333333333333,
              "#9c179e"
             ],
             [
              0.4444444444444444,
              "#bd3786"
             ],
             [
              0.5555555555555556,
              "#d8576b"
             ],
             [
              0.6666666666666666,
              "#ed7953"
             ],
             [
              0.7777777777777778,
              "#fb9f3a"
             ],
             [
              0.8888888888888888,
              "#fdca26"
             ],
             [
              1,
              "#f0f921"
             ]
            ],
            "type": "surface"
           }
          ],
          "table": [
           {
            "cells": {
             "fill": {
              "color": "#EBF0F8"
             },
             "line": {
              "color": "white"
             }
            },
            "header": {
             "fill": {
              "color": "#C8D4E3"
             },
             "line": {
              "color": "white"
             }
            },
            "type": "table"
           }
          ]
         },
         "layout": {
          "annotationdefaults": {
           "arrowcolor": "#2a3f5f",
           "arrowhead": 0,
           "arrowwidth": 1
          },
          "autotypenumbers": "strict",
          "coloraxis": {
           "colorbar": {
            "outlinewidth": 0,
            "ticks": ""
           }
          },
          "colorscale": {
           "diverging": [
            [
             0,
             "#8e0152"
            ],
            [
             0.1,
             "#c51b7d"
            ],
            [
             0.2,
             "#de77ae"
            ],
            [
             0.3,
             "#f1b6da"
            ],
            [
             0.4,
             "#fde0ef"
            ],
            [
             0.5,
             "#f7f7f7"
            ],
            [
             0.6,
             "#e6f5d0"
            ],
            [
             0.7,
             "#b8e186"
            ],
            [
             0.8,
             "#7fbc41"
            ],
            [
             0.9,
             "#4d9221"
            ],
            [
             1,
             "#276419"
            ]
           ],
           "sequential": [
            [
             0,
             "#0d0887"
            ],
            [
             0.1111111111111111,
             "#46039f"
            ],
            [
             0.2222222222222222,
             "#7201a8"
            ],
            [
             0.3333333333333333,
             "#9c179e"
            ],
            [
             0.4444444444444444,
             "#bd3786"
            ],
            [
             0.5555555555555556,
             "#d8576b"
            ],
            [
             0.6666666666666666,
             "#ed7953"
            ],
            [
             0.7777777777777778,
             "#fb9f3a"
            ],
            [
             0.8888888888888888,
             "#fdca26"
            ],
            [
             1,
             "#f0f921"
            ]
           ],
           "sequentialminus": [
            [
             0,
             "#0d0887"
            ],
            [
             0.1111111111111111,
             "#46039f"
            ],
            [
             0.2222222222222222,
             "#7201a8"
            ],
            [
             0.3333333333333333,
             "#9c179e"
            ],
            [
             0.4444444444444444,
             "#bd3786"
            ],
            [
             0.5555555555555556,
             "#d8576b"
            ],
            [
             0.6666666666666666,
             "#ed7953"
            ],
            [
             0.7777777777777778,
             "#fb9f3a"
            ],
            [
             0.8888888888888888,
             "#fdca26"
            ],
            [
             1,
             "#f0f921"
            ]
           ]
          },
          "colorway": [
           "#636efa",
           "#EF553B",
           "#00cc96",
           "#ab63fa",
           "#FFA15A",
           "#19d3f3",
           "#FF6692",
           "#B6E880",
           "#FF97FF",
           "#FECB52"
          ],
          "font": {
           "color": "#2a3f5f"
          },
          "geo": {
           "bgcolor": "white",
           "lakecolor": "white",
           "landcolor": "#E5ECF6",
           "showlakes": true,
           "showland": true,
           "subunitcolor": "white"
          },
          "hoverlabel": {
           "align": "left"
          },
          "hovermode": "closest",
          "mapbox": {
           "style": "light"
          },
          "paper_bgcolor": "white",
          "plot_bgcolor": "#E5ECF6",
          "polar": {
           "angularaxis": {
            "gridcolor": "white",
            "linecolor": "white",
            "ticks": ""
           },
           "bgcolor": "#E5ECF6",
           "radialaxis": {
            "gridcolor": "white",
            "linecolor": "white",
            "ticks": ""
           }
          },
          "scene": {
           "xaxis": {
            "backgroundcolor": "#E5ECF6",
            "gridcolor": "white",
            "gridwidth": 2,
            "linecolor": "white",
            "showbackground": true,
            "ticks": "",
            "zerolinecolor": "white"
           },
           "yaxis": {
            "backgroundcolor": "#E5ECF6",
            "gridcolor": "white",
            "gridwidth": 2,
            "linecolor": "white",
            "showbackground": true,
            "ticks": "",
            "zerolinecolor": "white"
           },
           "zaxis": {
            "backgroundcolor": "#E5ECF6",
            "gridcolor": "white",
            "gridwidth": 2,
            "linecolor": "white",
            "showbackground": true,
            "ticks": "",
            "zerolinecolor": "white"
           }
          },
          "shapedefaults": {
           "line": {
            "color": "#2a3f5f"
           }
          },
          "ternary": {
           "aaxis": {
            "gridcolor": "white",
            "linecolor": "white",
            "ticks": ""
           },
           "baxis": {
            "gridcolor": "white",
            "linecolor": "white",
            "ticks": ""
           },
           "bgcolor": "#E5ECF6",
           "caxis": {
            "gridcolor": "white",
            "linecolor": "white",
            "ticks": ""
           }
          },
          "title": {
           "x": 0.05
          },
          "xaxis": {
           "automargin": true,
           "gridcolor": "white",
           "linecolor": "white",
           "ticks": "",
           "title": {
            "standoff": 15
           },
           "zerolinecolor": "white",
           "zerolinewidth": 2
          },
          "yaxis": {
           "automargin": true,
           "gridcolor": "white",
           "linecolor": "white",
           "ticks": "",
           "title": {
            "standoff": 15
           },
           "zerolinecolor": "white",
           "zerolinewidth": 2
          }
         }
        },
        "width": 1400,
        "xaxis": {
         "range": [
          0,
          6360
         ],
         "title": {
          "text": "Time"
         }
        },
        "yaxis": {
         "dtick": 1,
         "range": [
          -0.5,
          3.5
         ],
         "tick0": 0,
         "tickmode": "linear",
         "title": {
          "text": "Item Index"
         }
        }
       }
      }
     },
     "metadata": {},
     "output_type": "display_data"
    }
   ],
   "source": [
    "num_items = 4\n",
    "schedule = tms.run_scheduler(num_items, ops, conflicts, sync_starts=False)\n",
    "\n",
    "schedule_duration = tms.calc_schedule_duration(schedule, ops)\n",
    "print(f\"Total Schedule duration is {schedule_duration} ({schedule_duration/60} minutes)\")\n",
    "\n",
    "tms.plot_schedule(schedule, ops)"
   ]
  },
  {
   "cell_type": "markdown",
   "metadata": {},
   "source": [
    "# Hot Dog Example\n",
    "\n",
    "## Single Nozzle Design"
   ]
  },
  {
   "cell_type": "code",
   "execution_count": 626,
   "metadata": {},
   "outputs": [
    {
     "data": {
      "image/svg+xml": [
       "<?xml version=\"1.0\" encoding=\"UTF-8\" standalone=\"no\"?>\n",
       "<!DOCTYPE svg PUBLIC \"-//W3C//DTD SVG 1.1//EN\"\n",
       " \"http://www.w3.org/Graphics/SVG/1.1/DTD/svg11.dtd\">\n",
       "<!-- Generated by graphviz version 2.50.0 (0)\n",
       " -->\n",
       "<!-- Pages: 1 -->\n",
       "<svg width=\"327pt\" height=\"332pt\"\n",
       " viewBox=\"0.00 0.00 327.23 332.00\" xmlns=\"http://www.w3.org/2000/svg\" xmlns:xlink=\"http://www.w3.org/1999/xlink\">\n",
       "<g id=\"graph0\" class=\"graph\" transform=\"scale(1 1) rotate(0) translate(4 328)\">\n",
       "<polygon fill=\"white\" stroke=\"transparent\" points=\"-4,4 -4,-328 323.23,-328 323.23,4 -4,4\"/>\n",
       "<!-- fetch -->\n",
       "<g id=\"node1\" class=\"node\">\n",
       "<title>fetch</title>\n",
       "<ellipse fill=\"none\" stroke=\"black\" cx=\"111.13\" cy=\"-306\" rx=\"46.29\" ry=\"18\"/>\n",
       "<text text-anchor=\"middle\" x=\"111.13\" y=\"-302.3\" font-family=\"Times New Roman,serif\" font-size=\"14.00\">op0: fetch</text>\n",
       "</g>\n",
       "<!-- fetch&#45;&#45;fetch -->\n",
       "<g id=\"edge1\" class=\"edge\">\n",
       "<title>fetch&#45;&#45;fetch</title>\n",
       "<path fill=\"none\" stroke=\"black\" d=\"M153.47,-319.46C165.77,-318.97 175.28,-314.49 175.28,-306 175.28,-297.51 165.77,-293.03 153.47,-292.54\"/>\n",
       "<polygon fill=\"black\" stroke=\"black\" points=\"153.3,-315.94 143.15,-318.99 152.98,-322.94 153.3,-315.94\"/>\n",
       "<polygon fill=\"black\" stroke=\"black\" points=\"152.98,-289.06 143.15,-293.01 153.3,-296.06 152.98,-289.06\"/>\n",
       "</g>\n",
       "<!-- ketchup -->\n",
       "<g id=\"node2\" class=\"node\">\n",
       "<title>ketchup</title>\n",
       "<ellipse fill=\"none\" stroke=\"black\" cx=\"154.13\" cy=\"-234\" rx=\"56.59\" ry=\"18\"/>\n",
       "<text text-anchor=\"middle\" x=\"154.13\" y=\"-230.3\" font-family=\"Times New Roman,serif\" font-size=\"14.00\">op1: ketchup</text>\n",
       "</g>\n",
       "<!-- fetch&#45;&#45;ketchup -->\n",
       "<g id=\"edge2\" class=\"edge\">\n",
       "<title>fetch&#45;&#45;ketchup</title>\n",
       "<path fill=\"none\" stroke=\"black\" d=\"M126.71,-279.63C130.51,-273.45 134.58,-266.83 138.39,-260.63\"/>\n",
       "<polygon fill=\"black\" stroke=\"black\" points=\"123.57,-278.06 121.32,-288.41 129.54,-281.72 123.57,-278.06\"/>\n",
       "<polygon fill=\"black\" stroke=\"black\" points=\"141.46,-262.31 143.72,-251.96 135.5,-258.65 141.46,-262.31\"/>\n",
       "</g>\n",
       "<!-- mustard -->\n",
       "<g id=\"node3\" class=\"node\">\n",
       "<title>mustard</title>\n",
       "<ellipse fill=\"none\" stroke=\"black\" cx=\"73.13\" cy=\"-162\" rx=\"57.69\" ry=\"18\"/>\n",
       "<text text-anchor=\"middle\" x=\"73.13\" y=\"-158.3\" font-family=\"Times New Roman,serif\" font-size=\"14.00\">op2: mustard</text>\n",
       "</g>\n",
       "<!-- fetch&#45;&#45;mustard -->\n",
       "<g id=\"edge3\" class=\"edge\">\n",
       "<title>fetch&#45;&#45;mustard</title>\n",
       "<path fill=\"none\" stroke=\"black\" d=\"M98.31,-278.9C94.58,-270.47 90.8,-260.99 88.13,-252 82.09,-231.63 78.24,-207.86 75.96,-190.02\"/>\n",
       "<polygon fill=\"black\" stroke=\"black\" points=\"95.23,-280.59 102.6,-288.21 101.59,-277.66 95.23,-280.59\"/>\n",
       "<polygon fill=\"black\" stroke=\"black\" points=\"79.42,-189.52 74.76,-180.01 72.47,-190.35 79.42,-189.52\"/>\n",
       "</g>\n",
       "<!-- relish -->\n",
       "<g id=\"node4\" class=\"node\">\n",
       "<title>relish</title>\n",
       "<ellipse fill=\"none\" stroke=\"black\" cx=\"253.13\" cy=\"-90\" rx=\"48.19\" ry=\"18\"/>\n",
       "<text text-anchor=\"middle\" x=\"253.13\" y=\"-86.3\" font-family=\"Times New Roman,serif\" font-size=\"14.00\">op3: relish</text>\n",
       "</g>\n",
       "<!-- fetch&#45;&#45;relish -->\n",
       "<g id=\"edge4\" class=\"edge\">\n",
       "<title>fetch&#45;&#45;relish</title>\n",
       "<path fill=\"none\" stroke=\"black\" d=\"M163.52,-296.32C190.16,-289.08 220.56,-275.89 238.13,-252 266.95,-212.82 263.63,-152.93 258.48,-118.31\"/>\n",
       "<polygon fill=\"black\" stroke=\"black\" points=\"162.38,-293 153.52,-298.81 164.07,-299.79 162.38,-293\"/>\n",
       "<polygon fill=\"black\" stroke=\"black\" points=\"261.86,-117.31 256.78,-108.02 254.95,-118.45 261.86,-117.31\"/>\n",
       "</g>\n",
       "<!-- deliver -->\n",
       "<g id=\"node5\" class=\"node\">\n",
       "<title>deliver</title>\n",
       "<ellipse fill=\"none\" stroke=\"black\" cx=\"151.13\" cy=\"-18\" rx=\"53.09\" ry=\"18\"/>\n",
       "<text text-anchor=\"middle\" x=\"151.13\" y=\"-14.3\" font-family=\"Times New Roman,serif\" font-size=\"14.00\">op4: deliver</text>\n",
       "</g>\n",
       "<!-- fetch&#45;&#45;deliver -->\n",
       "<g id=\"edge5\" class=\"edge\">\n",
       "<title>fetch&#45;&#45;deliver</title>\n",
       "<path fill=\"none\" stroke=\"black\" d=\"M80.35,-283.86C41.21,-254.17 -18.49,-197.73 6.13,-144 28.12,-96.02 78.63,-59.46 113.81,-38.62\"/>\n",
       "<polygon fill=\"black\" stroke=\"black\" points=\"78.7,-287 88.83,-290.12 82.86,-281.37 78.7,-287\"/>\n",
       "<polygon fill=\"black\" stroke=\"black\" points=\"115.93,-41.44 122.84,-33.41 112.43,-35.38 115.93,-41.44\"/>\n",
       "</g>\n",
       "<!-- ketchup&#45;&#45;ketchup -->\n",
       "<g id=\"edge6\" class=\"edge\">\n",
       "<title>ketchup&#45;&#45;ketchup</title>\n",
       "<path fill=\"none\" stroke=\"black\" d=\"M203.22,-247.46C217.56,-247 228.68,-242.51 228.68,-234 228.68,-225.49 217.56,-221 203.22,-220.54\"/>\n",
       "<polygon fill=\"black\" stroke=\"black\" points=\"202.97,-243.95 192.87,-247.14 202.75,-250.95 202.97,-243.95\"/>\n",
       "<polygon fill=\"black\" stroke=\"black\" points=\"202.75,-217.05 192.87,-220.86 202.97,-224.05 202.75,-217.05\"/>\n",
       "</g>\n",
       "<!-- ketchup&#45;&#45;mustard -->\n",
       "<g id=\"edge7\" class=\"edge\">\n",
       "<title>ketchup&#45;&#45;mustard</title>\n",
       "<path fill=\"none\" stroke=\"black\" d=\"M127.59,-210.06C118.54,-202.24 108.44,-193.51 99.42,-185.71\"/>\n",
       "<polygon fill=\"black\" stroke=\"black\" points=\"125.49,-212.87 135.35,-216.76 130.07,-207.58 125.49,-212.87\"/>\n",
       "<polygon fill=\"black\" stroke=\"black\" points=\"101.67,-183.04 91.82,-179.15 97.09,-188.33 101.67,-183.04\"/>\n",
       "</g>\n",
       "<!-- ketchup&#45;&#45;relish -->\n",
       "<g id=\"edge8\" class=\"edge\">\n",
       "<title>ketchup&#45;&#45;relish</title>\n",
       "<path fill=\"none\" stroke=\"black\" d=\"M171.64,-207.93C177.8,-199.1 184.78,-189.11 191.13,-180 206.08,-158.56 223.05,-134.21 235.45,-116.4\"/>\n",
       "<polygon fill=\"black\" stroke=\"black\" points=\"168.66,-206.09 165.8,-216.29 174.4,-210.1 168.66,-206.09\"/>\n",
       "<polygon fill=\"black\" stroke=\"black\" points=\"238.64,-117.94 241.48,-107.73 232.89,-113.94 238.64,-117.94\"/>\n",
       "</g>\n",
       "<!-- ketchup&#45;&#45;deliver -->\n",
       "<g id=\"edge9\" class=\"edge\">\n",
       "<title>ketchup&#45;&#45;deliver</title>\n",
       "<path fill=\"none\" stroke=\"black\" d=\"M156.59,-205.62C157.23,-197.39 157.82,-188.33 158.13,-180 159.89,-133.23 156.36,-78.84 153.71,-46.76\"/>\n",
       "<polygon fill=\"black\" stroke=\"black\" points=\"153.09,-205.58 155.76,-215.83 160.06,-206.15 153.09,-205.58\"/>\n",
       "<polygon fill=\"black\" stroke=\"black\" points=\"157.16,-46.05 152.81,-36.39 150.18,-46.65 157.16,-46.05\"/>\n",
       "</g>\n",
       "<!-- mustard&#45;&#45;mustard -->\n",
       "<g id=\"edge10\" class=\"edge\">\n",
       "<title>mustard&#45;&#45;mustard</title>\n",
       "<path fill=\"none\" stroke=\"black\" d=\"M122.95,-175.46C137.6,-175.02 148.98,-170.54 148.98,-162 148.98,-153.46 137.6,-148.98 122.95,-148.54\"/>\n",
       "<polygon fill=\"black\" stroke=\"black\" points=\"123.03,-171.97 112.93,-175.17 122.83,-178.96 123.03,-171.97\"/>\n",
       "<polygon fill=\"black\" stroke=\"black\" points=\"122.83,-145.04 112.93,-148.83 123.03,-152.03 122.83,-145.04\"/>\n",
       "</g>\n",
       "<!-- mustard&#45;&#45;relish -->\n",
       "<g id=\"edge11\" class=\"edge\">\n",
       "<title>mustard&#45;&#45;relish</title>\n",
       "<path fill=\"none\" stroke=\"black\" d=\"M117.42,-143.78C146.11,-132.62 183.23,-118.19 211.39,-107.23\"/>\n",
       "<polygon fill=\"black\" stroke=\"black\" points=\"115.89,-140.62 107.84,-147.5 118.43,-147.14 115.89,-140.62\"/>\n",
       "<polygon fill=\"black\" stroke=\"black\" points=\"212.9,-110.4 220.95,-103.51 210.36,-103.88 212.9,-110.4\"/>\n",
       "</g>\n",
       "<!-- mustard&#45;&#45;deliver -->\n",
       "<g id=\"edge12\" class=\"edge\">\n",
       "<title>mustard&#45;&#45;deliver</title>\n",
       "<path fill=\"none\" stroke=\"black\" d=\"M87.38,-135.07C101.5,-109.35 123.02,-70.19 137.07,-44.59\"/>\n",
       "<polygon fill=\"black\" stroke=\"black\" points=\"84.13,-133.7 82.39,-144.15 90.27,-137.07 84.13,-133.7\"/>\n",
       "<polygon fill=\"black\" stroke=\"black\" points=\"140.14,-46.27 141.89,-35.82 134.01,-42.9 140.14,-46.27\"/>\n",
       "</g>\n",
       "<!-- relish&#45;&#45;relish -->\n",
       "<g id=\"edge13\" class=\"edge\">\n",
       "<title>relish&#45;&#45;relish</title>\n",
       "<path fill=\"none\" stroke=\"black\" d=\"M296.64,-103.46C309.36,-103 319.23,-98.52 319.23,-90 319.23,-81.48 309.36,-77 296.64,-76.54\"/>\n",
       "<polygon fill=\"black\" stroke=\"black\" points=\"296.6,-99.96 286.46,-103.03 296.3,-106.95 296.6,-99.96\"/>\n",
       "<polygon fill=\"black\" stroke=\"black\" points=\"296.3,-73.05 286.46,-76.97 296.6,-80.04 296.3,-73.05\"/>\n",
       "</g>\n",
       "<!-- relish&#45;&#45;deliver -->\n",
       "<g id=\"edge14\" class=\"edge\">\n",
       "<title>relish&#45;&#45;deliver</title>\n",
       "<path fill=\"none\" stroke=\"black\" d=\"M222.62,-68.06C209.81,-59.27 194.95,-49.07 182.1,-40.25\"/>\n",
       "<polygon fill=\"black\" stroke=\"black\" points=\"220.77,-71.04 231,-73.81 224.73,-65.27 220.77,-71.04\"/>\n",
       "<polygon fill=\"black\" stroke=\"black\" points=\"183.8,-37.17 173.57,-34.4 179.84,-42.95 183.8,-37.17\"/>\n",
       "</g>\n",
       "<!-- deliver&#45;&#45;deliver -->\n",
       "<g id=\"edge15\" class=\"edge\">\n",
       "<title>deliver&#45;&#45;deliver</title>\n",
       "<path fill=\"none\" stroke=\"black\" d=\"M198.2,-31.46C211.86,-30.97 222.43,-26.49 222.43,-18 222.43,-9.51 211.86,-5.03 198.2,-4.54\"/>\n",
       "<polygon fill=\"black\" stroke=\"black\" points=\"197.93,-27.94 187.81,-31.1 197.69,-34.94 197.93,-27.94\"/>\n",
       "<polygon fill=\"black\" stroke=\"black\" points=\"197.69,-1.06 187.81,-4.9 197.93,-8.06 197.69,-1.06\"/>\n",
       "</g>\n",
       "</g>\n",
       "</svg>\n"
      ],
      "text/plain": [
       "<graphviz.graphs.Graph at 0x1b9194d9100>"
      ]
     },
     "execution_count": 626,
     "metadata": {},
     "output_type": "execute_result"
    }
   ],
   "source": [
    "ops = {}\n",
    "\n",
    "ops['fetch'] = 5\n",
    "ops['ketchup'] = 2\n",
    "ops['mustard'] = 2\n",
    "ops['relish'] = 5\n",
    "ops['deliver'] = 5\n",
    "\n",
    "num_ops = len(ops)\n",
    "conflicts = np.zeros([num_ops, num_ops])\n",
    "\n",
    "tms.define_conflict_by_name(conflicts, ops, 'fetch', 'fetch')\n",
    "\n",
    "tms.define_conflict_by_name(conflicts, ops, 'ketchup', 'fetch')\n",
    "tms.define_conflict_by_name(conflicts, ops, 'ketchup', 'ketchup')\n",
    "\n",
    "tms.define_conflict_by_name(conflicts, ops, 'mustard', 'fetch')\n",
    "tms.define_conflict_by_name(conflicts, ops, 'mustard', 'ketchup')\n",
    "tms.define_conflict_by_name(conflicts, ops, 'mustard', 'mustard')\n",
    "\n",
    "tms.define_conflict_by_name(conflicts, ops, 'relish', 'fetch')\n",
    "tms.define_conflict_by_name(conflicts, ops, 'relish', 'ketchup')\n",
    "tms.define_conflict_by_name(conflicts, ops, 'relish', 'mustard')\n",
    "tms.define_conflict_by_name(conflicts, ops, 'relish', 'relish')\n",
    "\n",
    "tms.define_conflict_by_name(conflicts, ops, 'deliver', 'fetch')\n",
    "tms.define_conflict_by_name(conflicts, ops, 'deliver', 'ketchup')\n",
    "tms.define_conflict_by_name(conflicts, ops, 'deliver', 'mustard')\n",
    "tms.define_conflict_by_name(conflicts, ops, 'deliver', 'relish')\n",
    "tms.define_conflict_by_name(conflicts, ops, 'deliver', 'deliver')\n",
    "\n",
    "tms.graph_conflicts(ops, conflicts)"
   ]
  },
  {
   "cell_type": "code",
   "execution_count": 627,
   "metadata": {},
   "outputs": [
    {
     "name": "stdout",
     "output_type": "stream",
     "text": [
      "Total Schedule duration is 57.0\n",
      "Schedule efficiency is 33.33%\n",
      "Importing plotting tools...\n",
      "Generating plot...\n"
     ]
    },
    {
     "data": {
      "application/vnd.plotly.v1+json": {
       "config": {
        "plotlyServerURL": "https://plot.ly"
       },
       "data": [],
       "layout": {
        "annotations": [
         {
          "bgcolor": "rgba(255,255,255,0.8)",
          "font": {
           "color": "black",
           "size": 18
          },
          "showarrow": false,
          "text": "fetch",
          "x": 2.5,
          "y": 0
         },
         {
          "bgcolor": "rgba(255,255,255,0.8)",
          "font": {
           "color": "black",
           "size": 18
          },
          "showarrow": false,
          "text": "ketchup",
          "x": 16,
          "y": 0
         },
         {
          "bgcolor": "rgba(255,255,255,0.8)",
          "font": {
           "color": "black",
           "size": 18
          },
          "showarrow": false,
          "text": "mustard",
          "x": 22,
          "y": 0
         },
         {
          "bgcolor": "rgba(255,255,255,0.8)",
          "font": {
           "color": "black",
           "size": 18
          },
          "showarrow": false,
          "text": "relish",
          "x": 29.5,
          "y": 0
         },
         {
          "bgcolor": "rgba(255,255,255,0.8)",
          "font": {
           "color": "black",
           "size": 18
          },
          "showarrow": false,
          "text": "deliver",
          "x": 44.5,
          "y": 0
         },
         {
          "bgcolor": "rgba(255,255,255,0.8)",
          "font": {
           "color": "black",
           "size": 18
          },
          "showarrow": false,
          "text": "fetch",
          "x": 7.5,
          "y": 1
         },
         {
          "bgcolor": "rgba(255,255,255,0.8)",
          "font": {
           "color": "black",
           "size": 18
          },
          "showarrow": false,
          "text": "ketchup",
          "x": 18,
          "y": 1
         },
         {
          "bgcolor": "rgba(255,255,255,0.8)",
          "font": {
           "color": "black",
           "size": 18
          },
          "showarrow": false,
          "text": "mustard",
          "x": 24,
          "y": 1
         },
         {
          "bgcolor": "rgba(255,255,255,0.8)",
          "font": {
           "color": "black",
           "size": 18
          },
          "showarrow": false,
          "text": "relish",
          "x": 34.5,
          "y": 1
         },
         {
          "bgcolor": "rgba(255,255,255,0.8)",
          "font": {
           "color": "black",
           "size": 18
          },
          "showarrow": false,
          "text": "deliver",
          "x": 49.5,
          "y": 1
         },
         {
          "bgcolor": "rgba(255,255,255,0.8)",
          "font": {
           "color": "black",
           "size": 18
          },
          "showarrow": false,
          "text": "fetch",
          "x": 12.5,
          "y": 2
         },
         {
          "bgcolor": "rgba(255,255,255,0.8)",
          "font": {
           "color": "black",
           "size": 18
          },
          "showarrow": false,
          "text": "ketchup",
          "x": 20,
          "y": 2
         },
         {
          "bgcolor": "rgba(255,255,255,0.8)",
          "font": {
           "color": "black",
           "size": 18
          },
          "showarrow": false,
          "text": "mustard",
          "x": 26,
          "y": 2
         },
         {
          "bgcolor": "rgba(255,255,255,0.8)",
          "font": {
           "color": "black",
           "size": 18
          },
          "showarrow": false,
          "text": "relish",
          "x": 39.5,
          "y": 2
         },
         {
          "bgcolor": "rgba(255,255,255,0.8)",
          "font": {
           "color": "black",
           "size": 18
          },
          "showarrow": false,
          "text": "deliver",
          "x": 54.5,
          "y": 2
         }
        ],
        "autosize": false,
        "height": 800,
        "shapes": [
         {
          "fillcolor": "#636EFA",
          "line": {
           "color": "black",
           "width": 1
          },
          "type": "rect",
          "x0": 0,
          "x1": 5,
          "y0": -0.5,
          "y1": 0.5
         },
         {
          "fillcolor": "#EF553B",
          "line": {
           "color": "black",
           "width": 1
          },
          "type": "rect",
          "x0": 15,
          "x1": 17,
          "y0": -0.5,
          "y1": 0.5
         },
         {
          "fillcolor": "#00CC96",
          "line": {
           "color": "black",
           "width": 1
          },
          "type": "rect",
          "x0": 21,
          "x1": 23,
          "y0": -0.5,
          "y1": 0.5
         },
         {
          "fillcolor": "#AB63FA",
          "line": {
           "color": "black",
           "width": 1
          },
          "type": "rect",
          "x0": 27,
          "x1": 32,
          "y0": -0.5,
          "y1": 0.5
         },
         {
          "fillcolor": "#FFA15A",
          "line": {
           "color": "black",
           "width": 1
          },
          "type": "rect",
          "x0": 42,
          "x1": 47,
          "y0": -0.5,
          "y1": 0.5
         },
         {
          "fillcolor": "#636EFA",
          "line": {
           "color": "black",
           "width": 1
          },
          "type": "rect",
          "x0": 5,
          "x1": 10,
          "y0": 0.5,
          "y1": 1.5
         },
         {
          "fillcolor": "#EF553B",
          "line": {
           "color": "black",
           "width": 1
          },
          "type": "rect",
          "x0": 17,
          "x1": 19,
          "y0": 0.5,
          "y1": 1.5
         },
         {
          "fillcolor": "#00CC96",
          "line": {
           "color": "black",
           "width": 1
          },
          "type": "rect",
          "x0": 23,
          "x1": 25,
          "y0": 0.5,
          "y1": 1.5
         },
         {
          "fillcolor": "#AB63FA",
          "line": {
           "color": "black",
           "width": 1
          },
          "type": "rect",
          "x0": 32,
          "x1": 37,
          "y0": 0.5,
          "y1": 1.5
         },
         {
          "fillcolor": "#FFA15A",
          "line": {
           "color": "black",
           "width": 1
          },
          "type": "rect",
          "x0": 47,
          "x1": 52,
          "y0": 0.5,
          "y1": 1.5
         },
         {
          "fillcolor": "#636EFA",
          "line": {
           "color": "black",
           "width": 1
          },
          "type": "rect",
          "x0": 10,
          "x1": 15,
          "y0": 1.5,
          "y1": 2.5
         },
         {
          "fillcolor": "#EF553B",
          "line": {
           "color": "black",
           "width": 1
          },
          "type": "rect",
          "x0": 19,
          "x1": 21,
          "y0": 1.5,
          "y1": 2.5
         },
         {
          "fillcolor": "#00CC96",
          "line": {
           "color": "black",
           "width": 1
          },
          "type": "rect",
          "x0": 25,
          "x1": 27,
          "y0": 1.5,
          "y1": 2.5
         },
         {
          "fillcolor": "#AB63FA",
          "line": {
           "color": "black",
           "width": 1
          },
          "type": "rect",
          "x0": 37,
          "x1": 42,
          "y0": 1.5,
          "y1": 2.5
         },
         {
          "fillcolor": "#FFA15A",
          "line": {
           "color": "black",
           "width": 1
          },
          "type": "rect",
          "x0": 52,
          "x1": 57,
          "y0": 1.5,
          "y1": 2.5
         }
        ],
        "template": {
         "data": {
          "bar": [
           {
            "error_x": {
             "color": "#2a3f5f"
            },
            "error_y": {
             "color": "#2a3f5f"
            },
            "marker": {
             "line": {
              "color": "#E5ECF6",
              "width": 0.5
             },
             "pattern": {
              "fillmode": "overlay",
              "size": 10,
              "solidity": 0.2
             }
            },
            "type": "bar"
           }
          ],
          "barpolar": [
           {
            "marker": {
             "line": {
              "color": "#E5ECF6",
              "width": 0.5
             },
             "pattern": {
              "fillmode": "overlay",
              "size": 10,
              "solidity": 0.2
             }
            },
            "type": "barpolar"
           }
          ],
          "carpet": [
           {
            "aaxis": {
             "endlinecolor": "#2a3f5f",
             "gridcolor": "white",
             "linecolor": "white",
             "minorgridcolor": "white",
             "startlinecolor": "#2a3f5f"
            },
            "baxis": {
             "endlinecolor": "#2a3f5f",
             "gridcolor": "white",
             "linecolor": "white",
             "minorgridcolor": "white",
             "startlinecolor": "#2a3f5f"
            },
            "type": "carpet"
           }
          ],
          "choropleth": [
           {
            "colorbar": {
             "outlinewidth": 0,
             "ticks": ""
            },
            "type": "choropleth"
           }
          ],
          "contour": [
           {
            "colorbar": {
             "outlinewidth": 0,
             "ticks": ""
            },
            "colorscale": [
             [
              0,
              "#0d0887"
             ],
             [
              0.1111111111111111,
              "#46039f"
             ],
             [
              0.2222222222222222,
              "#7201a8"
             ],
             [
              0.3333333333333333,
              "#9c179e"
             ],
             [
              0.4444444444444444,
              "#bd3786"
             ],
             [
              0.5555555555555556,
              "#d8576b"
             ],
             [
              0.6666666666666666,
              "#ed7953"
             ],
             [
              0.7777777777777778,
              "#fb9f3a"
             ],
             [
              0.8888888888888888,
              "#fdca26"
             ],
             [
              1,
              "#f0f921"
             ]
            ],
            "type": "contour"
           }
          ],
          "contourcarpet": [
           {
            "colorbar": {
             "outlinewidth": 0,
             "ticks": ""
            },
            "type": "contourcarpet"
           }
          ],
          "heatmap": [
           {
            "colorbar": {
             "outlinewidth": 0,
             "ticks": ""
            },
            "colorscale": [
             [
              0,
              "#0d0887"
             ],
             [
              0.1111111111111111,
              "#46039f"
             ],
             [
              0.2222222222222222,
              "#7201a8"
             ],
             [
              0.3333333333333333,
              "#9c179e"
             ],
             [
              0.4444444444444444,
              "#bd3786"
             ],
             [
              0.5555555555555556,
              "#d8576b"
             ],
             [
              0.6666666666666666,
              "#ed7953"
             ],
             [
              0.7777777777777778,
              "#fb9f3a"
             ],
             [
              0.8888888888888888,
              "#fdca26"
             ],
             [
              1,
              "#f0f921"
             ]
            ],
            "type": "heatmap"
           }
          ],
          "heatmapgl": [
           {
            "colorbar": {
             "outlinewidth": 0,
             "ticks": ""
            },
            "colorscale": [
             [
              0,
              "#0d0887"
             ],
             [
              0.1111111111111111,
              "#46039f"
             ],
             [
              0.2222222222222222,
              "#7201a8"
             ],
             [
              0.3333333333333333,
              "#9c179e"
             ],
             [
              0.4444444444444444,
              "#bd3786"
             ],
             [
              0.5555555555555556,
              "#d8576b"
             ],
             [
              0.6666666666666666,
              "#ed7953"
             ],
             [
              0.7777777777777778,
              "#fb9f3a"
             ],
             [
              0.8888888888888888,
              "#fdca26"
             ],
             [
              1,
              "#f0f921"
             ]
            ],
            "type": "heatmapgl"
           }
          ],
          "histogram": [
           {
            "marker": {
             "pattern": {
              "fillmode": "overlay",
              "size": 10,
              "solidity": 0.2
             }
            },
            "type": "histogram"
           }
          ],
          "histogram2d": [
           {
            "colorbar": {
             "outlinewidth": 0,
             "ticks": ""
            },
            "colorscale": [
             [
              0,
              "#0d0887"
             ],
             [
              0.1111111111111111,
              "#46039f"
             ],
             [
              0.2222222222222222,
              "#7201a8"
             ],
             [
              0.3333333333333333,
              "#9c179e"
             ],
             [
              0.4444444444444444,
              "#bd3786"
             ],
             [
              0.5555555555555556,
              "#d8576b"
             ],
             [
              0.6666666666666666,
              "#ed7953"
             ],
             [
              0.7777777777777778,
              "#fb9f3a"
             ],
             [
              0.8888888888888888,
              "#fdca26"
             ],
             [
              1,
              "#f0f921"
             ]
            ],
            "type": "histogram2d"
           }
          ],
          "histogram2dcontour": [
           {
            "colorbar": {
             "outlinewidth": 0,
             "ticks": ""
            },
            "colorscale": [
             [
              0,
              "#0d0887"
             ],
             [
              0.1111111111111111,
              "#46039f"
             ],
             [
              0.2222222222222222,
              "#7201a8"
             ],
             [
              0.3333333333333333,
              "#9c179e"
             ],
             [
              0.4444444444444444,
              "#bd3786"
             ],
             [
              0.5555555555555556,
              "#d8576b"
             ],
             [
              0.6666666666666666,
              "#ed7953"
             ],
             [
              0.7777777777777778,
              "#fb9f3a"
             ],
             [
              0.8888888888888888,
              "#fdca26"
             ],
             [
              1,
              "#f0f921"
             ]
            ],
            "type": "histogram2dcontour"
           }
          ],
          "mesh3d": [
           {
            "colorbar": {
             "outlinewidth": 0,
             "ticks": ""
            },
            "type": "mesh3d"
           }
          ],
          "parcoords": [
           {
            "line": {
             "colorbar": {
              "outlinewidth": 0,
              "ticks": ""
             }
            },
            "type": "parcoords"
           }
          ],
          "pie": [
           {
            "automargin": true,
            "type": "pie"
           }
          ],
          "scatter": [
           {
            "fillpattern": {
             "fillmode": "overlay",
             "size": 10,
             "solidity": 0.2
            },
            "type": "scatter"
           }
          ],
          "scatter3d": [
           {
            "line": {
             "colorbar": {
              "outlinewidth": 0,
              "ticks": ""
             }
            },
            "marker": {
             "colorbar": {
              "outlinewidth": 0,
              "ticks": ""
             }
            },
            "type": "scatter3d"
           }
          ],
          "scattercarpet": [
           {
            "marker": {
             "colorbar": {
              "outlinewidth": 0,
              "ticks": ""
             }
            },
            "type": "scattercarpet"
           }
          ],
          "scattergeo": [
           {
            "marker": {
             "colorbar": {
              "outlinewidth": 0,
              "ticks": ""
             }
            },
            "type": "scattergeo"
           }
          ],
          "scattergl": [
           {
            "marker": {
             "colorbar": {
              "outlinewidth": 0,
              "ticks": ""
             }
            },
            "type": "scattergl"
           }
          ],
          "scattermapbox": [
           {
            "marker": {
             "colorbar": {
              "outlinewidth": 0,
              "ticks": ""
             }
            },
            "type": "scattermapbox"
           }
          ],
          "scatterpolar": [
           {
            "marker": {
             "colorbar": {
              "outlinewidth": 0,
              "ticks": ""
             }
            },
            "type": "scatterpolar"
           }
          ],
          "scatterpolargl": [
           {
            "marker": {
             "colorbar": {
              "outlinewidth": 0,
              "ticks": ""
             }
            },
            "type": "scatterpolargl"
           }
          ],
          "scatterternary": [
           {
            "marker": {
             "colorbar": {
              "outlinewidth": 0,
              "ticks": ""
             }
            },
            "type": "scatterternary"
           }
          ],
          "surface": [
           {
            "colorbar": {
             "outlinewidth": 0,
             "ticks": ""
            },
            "colorscale": [
             [
              0,
              "#0d0887"
             ],
             [
              0.1111111111111111,
              "#46039f"
             ],
             [
              0.2222222222222222,
              "#7201a8"
             ],
             [
              0.3333333333333333,
              "#9c179e"
             ],
             [
              0.4444444444444444,
              "#bd3786"
             ],
             [
              0.5555555555555556,
              "#d8576b"
             ],
             [
              0.6666666666666666,
              "#ed7953"
             ],
             [
              0.7777777777777778,
              "#fb9f3a"
             ],
             [
              0.8888888888888888,
              "#fdca26"
             ],
             [
              1,
              "#f0f921"
             ]
            ],
            "type": "surface"
           }
          ],
          "table": [
           {
            "cells": {
             "fill": {
              "color": "#EBF0F8"
             },
             "line": {
              "color": "white"
             }
            },
            "header": {
             "fill": {
              "color": "#C8D4E3"
             },
             "line": {
              "color": "white"
             }
            },
            "type": "table"
           }
          ]
         },
         "layout": {
          "annotationdefaults": {
           "arrowcolor": "#2a3f5f",
           "arrowhead": 0,
           "arrowwidth": 1
          },
          "autotypenumbers": "strict",
          "coloraxis": {
           "colorbar": {
            "outlinewidth": 0,
            "ticks": ""
           }
          },
          "colorscale": {
           "diverging": [
            [
             0,
             "#8e0152"
            ],
            [
             0.1,
             "#c51b7d"
            ],
            [
             0.2,
             "#de77ae"
            ],
            [
             0.3,
             "#f1b6da"
            ],
            [
             0.4,
             "#fde0ef"
            ],
            [
             0.5,
             "#f7f7f7"
            ],
            [
             0.6,
             "#e6f5d0"
            ],
            [
             0.7,
             "#b8e186"
            ],
            [
             0.8,
             "#7fbc41"
            ],
            [
             0.9,
             "#4d9221"
            ],
            [
             1,
             "#276419"
            ]
           ],
           "sequential": [
            [
             0,
             "#0d0887"
            ],
            [
             0.1111111111111111,
             "#46039f"
            ],
            [
             0.2222222222222222,
             "#7201a8"
            ],
            [
             0.3333333333333333,
             "#9c179e"
            ],
            [
             0.4444444444444444,
             "#bd3786"
            ],
            [
             0.5555555555555556,
             "#d8576b"
            ],
            [
             0.6666666666666666,
             "#ed7953"
            ],
            [
             0.7777777777777778,
             "#fb9f3a"
            ],
            [
             0.8888888888888888,
             "#fdca26"
            ],
            [
             1,
             "#f0f921"
            ]
           ],
           "sequentialminus": [
            [
             0,
             "#0d0887"
            ],
            [
             0.1111111111111111,
             "#46039f"
            ],
            [
             0.2222222222222222,
             "#7201a8"
            ],
            [
             0.3333333333333333,
             "#9c179e"
            ],
            [
             0.4444444444444444,
             "#bd3786"
            ],
            [
             0.5555555555555556,
             "#d8576b"
            ],
            [
             0.6666666666666666,
             "#ed7953"
            ],
            [
             0.7777777777777778,
             "#fb9f3a"
            ],
            [
             0.8888888888888888,
             "#fdca26"
            ],
            [
             1,
             "#f0f921"
            ]
           ]
          },
          "colorway": [
           "#636efa",
           "#EF553B",
           "#00cc96",
           "#ab63fa",
           "#FFA15A",
           "#19d3f3",
           "#FF6692",
           "#B6E880",
           "#FF97FF",
           "#FECB52"
          ],
          "font": {
           "color": "#2a3f5f"
          },
          "geo": {
           "bgcolor": "white",
           "lakecolor": "white",
           "landcolor": "#E5ECF6",
           "showlakes": true,
           "showland": true,
           "subunitcolor": "white"
          },
          "hoverlabel": {
           "align": "left"
          },
          "hovermode": "closest",
          "mapbox": {
           "style": "light"
          },
          "paper_bgcolor": "white",
          "plot_bgcolor": "#E5ECF6",
          "polar": {
           "angularaxis": {
            "gridcolor": "white",
            "linecolor": "white",
            "ticks": ""
           },
           "bgcolor": "#E5ECF6",
           "radialaxis": {
            "gridcolor": "white",
            "linecolor": "white",
            "ticks": ""
           }
          },
          "scene": {
           "xaxis": {
            "backgroundcolor": "#E5ECF6",
            "gridcolor": "white",
            "gridwidth": 2,
            "linecolor": "white",
            "showbackground": true,
            "ticks": "",
            "zerolinecolor": "white"
           },
           "yaxis": {
            "backgroundcolor": "#E5ECF6",
            "gridcolor": "white",
            "gridwidth": 2,
            "linecolor": "white",
            "showbackground": true,
            "ticks": "",
            "zerolinecolor": "white"
           },
           "zaxis": {
            "backgroundcolor": "#E5ECF6",
            "gridcolor": "white",
            "gridwidth": 2,
            "linecolor": "white",
            "showbackground": true,
            "ticks": "",
            "zerolinecolor": "white"
           }
          },
          "shapedefaults": {
           "line": {
            "color": "#2a3f5f"
           }
          },
          "ternary": {
           "aaxis": {
            "gridcolor": "white",
            "linecolor": "white",
            "ticks": ""
           },
           "baxis": {
            "gridcolor": "white",
            "linecolor": "white",
            "ticks": ""
           },
           "bgcolor": "#E5ECF6",
           "caxis": {
            "gridcolor": "white",
            "linecolor": "white",
            "ticks": ""
           }
          },
          "title": {
           "x": 0.05
          },
          "xaxis": {
           "automargin": true,
           "gridcolor": "white",
           "linecolor": "white",
           "ticks": "",
           "title": {
            "standoff": 15
           },
           "zerolinecolor": "white",
           "zerolinewidth": 2
          },
          "yaxis": {
           "automargin": true,
           "gridcolor": "white",
           "linecolor": "white",
           "ticks": "",
           "title": {
            "standoff": 15
           },
           "zerolinecolor": "white",
           "zerolinewidth": 2
          }
         }
        },
        "width": 1400,
        "xaxis": {
         "range": [
          0,
          57
         ],
         "title": {
          "text": "Time"
         }
        },
        "yaxis": {
         "dtick": 1,
         "range": [
          -0.5,
          2.5
         ],
         "tick0": 0,
         "tickmode": "linear",
         "title": {
          "text": "Item Index"
         }
        }
       }
      }
     },
     "metadata": {},
     "output_type": "display_data"
    }
   ],
   "source": [
    "num_items = 3\n",
    "\n",
    "# Run scheduler\n",
    "schedule = tms.run_scheduler(num_items, ops, conflicts, sync_starts=False)\n",
    "\n",
    "schedule_duration = tms.calc_schedule_duration(schedule, ops)\n",
    "print(f\"Total Schedule duration is {schedule_duration}\")\n",
    "\n",
    "schedule_efficiency = tms.calc_schedule_efficiency(schedule, ops)\n",
    "print(f\"Schedule efficiency is {schedule_efficiency:.2%}\")\n",
    "\n",
    "tms.plot_schedule(schedule, ops)"
   ]
  },
  {
   "cell_type": "markdown",
   "metadata": {},
   "source": [
    "## Pitch-wise Dispense"
   ]
  },
  {
   "cell_type": "code",
   "execution_count": 628,
   "metadata": {},
   "outputs": [
    {
     "data": {
      "image/svg+xml": [
       "<?xml version=\"1.0\" encoding=\"UTF-8\" standalone=\"no\"?>\n",
       "<!DOCTYPE svg PUBLIC \"-//W3C//DTD SVG 1.1//EN\"\n",
       " \"http://www.w3.org/Graphics/SVG/1.1/DTD/svg11.dtd\">\n",
       "<!-- Generated by graphviz version 2.50.0 (0)\n",
       " -->\n",
       "<!-- Pages: 1 -->\n",
       "<svg width=\"438pt\" height=\"188pt\"\n",
       " viewBox=\"0.00 0.00 438.43 188.00\" xmlns=\"http://www.w3.org/2000/svg\" xmlns:xlink=\"http://www.w3.org/1999/xlink\">\n",
       "<g id=\"graph0\" class=\"graph\" transform=\"scale(1 1) rotate(0) translate(4 184)\">\n",
       "<polygon fill=\"white\" stroke=\"transparent\" points=\"-4,4 -4,-184 434.43,-184 434.43,4 -4,4\"/>\n",
       "<!-- fetch -->\n",
       "<g id=\"node1\" class=\"node\">\n",
       "<title>fetch</title>\n",
       "<ellipse fill=\"none\" stroke=\"black\" cx=\"277.54\" cy=\"-162\" rx=\"46.29\" ry=\"18\"/>\n",
       "<text text-anchor=\"middle\" x=\"277.54\" y=\"-158.3\" font-family=\"Times New Roman,serif\" font-size=\"14.00\">op0: fetch</text>\n",
       "</g>\n",
       "<!-- fetch&#45;&#45;fetch -->\n",
       "<g id=\"edge1\" class=\"edge\">\n",
       "<title>fetch&#45;&#45;fetch</title>\n",
       "<path fill=\"none\" stroke=\"black\" d=\"M319.89,-175.46C332.18,-174.97 341.69,-170.49 341.69,-162 341.69,-153.51 332.18,-149.03 319.89,-148.54\"/>\n",
       "<polygon fill=\"black\" stroke=\"black\" points=\"319.71,-171.94 309.56,-174.99 319.39,-178.94 319.71,-171.94\"/>\n",
       "<polygon fill=\"black\" stroke=\"black\" points=\"319.39,-145.06 309.56,-149.01 319.71,-152.06 319.39,-145.06\"/>\n",
       "</g>\n",
       "<!-- ketchup -->\n",
       "<g id=\"node2\" class=\"node\">\n",
       "<title>ketchup</title>\n",
       "<ellipse fill=\"none\" stroke=\"black\" cx=\"56.54\" cy=\"-90\" rx=\"56.59\" ry=\"18\"/>\n",
       "<text text-anchor=\"middle\" x=\"56.54\" y=\"-86.3\" font-family=\"Times New Roman,serif\" font-size=\"14.00\">op1: ketchup</text>\n",
       "</g>\n",
       "<!-- fetch&#45;&#45;ketchup -->\n",
       "<g id=\"edge2\" class=\"edge\">\n",
       "<title>fetch&#45;&#45;ketchup</title>\n",
       "<path fill=\"none\" stroke=\"black\" d=\"M232.93,-146.87C195.82,-135.11 143.09,-118.41 104.96,-106.34\"/>\n",
       "<polygon fill=\"black\" stroke=\"black\" points=\"231.94,-150.23 242.53,-149.91 234.05,-143.55 231.94,-150.23\"/>\n",
       "<polygon fill=\"black\" stroke=\"black\" points=\"105.7,-102.9 95.11,-103.22 103.59,-109.57 105.7,-102.9\"/>\n",
       "</g>\n",
       "<!-- mustard -->\n",
       "<g id=\"node3\" class=\"node\">\n",
       "<title>mustard</title>\n",
       "<ellipse fill=\"none\" stroke=\"black\" cx=\"206.54\" cy=\"-90\" rx=\"57.69\" ry=\"18\"/>\n",
       "<text text-anchor=\"middle\" x=\"206.54\" y=\"-86.3\" font-family=\"Times New Roman,serif\" font-size=\"14.00\">op2: mustard</text>\n",
       "</g>\n",
       "<!-- fetch&#45;&#45;mustard -->\n",
       "<g id=\"edge3\" class=\"edge\">\n",
       "<title>fetch&#45;&#45;mustard</title>\n",
       "<path fill=\"none\" stroke=\"black\" d=\"M254.04,-137.82C246.44,-130.33 238,-122.02 230.38,-114.5\"/>\n",
       "<polygon fill=\"black\" stroke=\"black\" points=\"251.86,-140.59 261.43,-145.12 256.77,-135.6 251.86,-140.59\"/>\n",
       "<polygon fill=\"black\" stroke=\"black\" points=\"232.66,-111.84 223.08,-107.31 227.75,-116.82 232.66,-111.84\"/>\n",
       "</g>\n",
       "<!-- relish -->\n",
       "<g id=\"node4\" class=\"node\">\n",
       "<title>relish</title>\n",
       "<ellipse fill=\"none\" stroke=\"black\" cx=\"348.54\" cy=\"-90\" rx=\"48.19\" ry=\"18\"/>\n",
       "<text text-anchor=\"middle\" x=\"348.54\" y=\"-86.3\" font-family=\"Times New Roman,serif\" font-size=\"14.00\">op3: relish</text>\n",
       "</g>\n",
       "<!-- fetch&#45;&#45;relish -->\n",
       "<g id=\"edge4\" class=\"edge\">\n",
       "<title>fetch&#45;&#45;relish</title>\n",
       "<path fill=\"none\" stroke=\"black\" d=\"M301.05,-137.82C308.65,-130.33 317.09,-122.02 324.71,-114.5\"/>\n",
       "<polygon fill=\"black\" stroke=\"black\" points=\"298.32,-135.6 293.66,-145.12 303.23,-140.59 298.32,-135.6\"/>\n",
       "<polygon fill=\"black\" stroke=\"black\" points=\"327.34,-116.82 332.01,-107.31 322.43,-111.84 327.34,-116.82\"/>\n",
       "</g>\n",
       "<!-- deliver -->\n",
       "<g id=\"node5\" class=\"node\">\n",
       "<title>deliver</title>\n",
       "<ellipse fill=\"none\" stroke=\"black\" cx=\"277.54\" cy=\"-18\" rx=\"53.09\" ry=\"18\"/>\n",
       "<text text-anchor=\"middle\" x=\"277.54\" y=\"-14.3\" font-family=\"Times New Roman,serif\" font-size=\"14.00\">op4: deliver</text>\n",
       "</g>\n",
       "<!-- fetch&#45;&#45;deliver -->\n",
       "<g id=\"edge5\" class=\"edge\">\n",
       "<title>fetch&#45;&#45;deliver</title>\n",
       "<path fill=\"none\" stroke=\"black\" d=\"M332.93,-156.22C365.09,-150.28 403.16,-137.09 423.54,-108 432.73,-94.9 432.73,-85.1 423.54,-72 404.34,-44.6 369.46,-31.31 338.61,-24.89\"/>\n",
       "<polygon fill=\"black\" stroke=\"black\" points=\"332.03,-152.83 322.73,-157.91 333.17,-159.73 332.03,-152.83\"/>\n",
       "<polygon fill=\"black\" stroke=\"black\" points=\"339.23,-21.45 328.75,-23.04 337.94,-28.33 339.23,-21.45\"/>\n",
       "</g>\n",
       "<!-- ketchup&#45;&#45;ketchup -->\n",
       "<g id=\"edge6\" class=\"edge\">\n",
       "<title>ketchup&#45;&#45;ketchup</title>\n",
       "<path fill=\"none\" stroke=\"black\" d=\"M105.63,-103.46C119.98,-103 131.09,-98.51 131.09,-90 131.09,-81.49 119.98,-77 105.63,-76.54\"/>\n",
       "<polygon fill=\"black\" stroke=\"black\" points=\"105.39,-99.95 95.28,-103.14 105.17,-106.95 105.39,-99.95\"/>\n",
       "<polygon fill=\"black\" stroke=\"black\" points=\"105.17,-73.05 95.28,-76.86 105.39,-80.05 105.17,-73.05\"/>\n",
       "</g>\n",
       "<!-- ketchup&#45;&#45;deliver -->\n",
       "<g id=\"edge7\" class=\"edge\">\n",
       "<title>ketchup&#45;&#45;deliver</title>\n",
       "<path fill=\"none\" stroke=\"black\" d=\"M104.72,-73.74C141.97,-61.94 193.28,-45.69 230.3,-33.97\"/>\n",
       "<polygon fill=\"black\" stroke=\"black\" points=\"103.52,-70.45 95.04,-76.81 105.63,-77.12 103.52,-70.45\"/>\n",
       "<polygon fill=\"black\" stroke=\"black\" points=\"231.38,-37.29 239.86,-30.94 229.27,-30.62 231.38,-37.29\"/>\n",
       "</g>\n",
       "<!-- mustard&#45;&#45;mustard -->\n",
       "<g id=\"edge8\" class=\"edge\">\n",
       "<title>mustard&#45;&#45;mustard</title>\n",
       "<path fill=\"none\" stroke=\"black\" d=\"M256.36,-103.46C271.02,-103.02 282.39,-98.54 282.39,-90 282.39,-81.46 271.02,-76.98 256.36,-76.54\"/>\n",
       "<polygon fill=\"black\" stroke=\"black\" points=\"256.44,-99.97 246.35,-103.17 256.24,-106.96 256.44,-99.97\"/>\n",
       "<polygon fill=\"black\" stroke=\"black\" points=\"256.24,-73.04 246.35,-76.83 256.44,-80.03 256.24,-73.04\"/>\n",
       "</g>\n",
       "<!-- mustard&#45;&#45;deliver -->\n",
       "<g id=\"edge9\" class=\"edge\">\n",
       "<title>mustard&#45;&#45;deliver</title>\n",
       "<path fill=\"none\" stroke=\"black\" d=\"M230.65,-65.24C237.94,-58.05 245.95,-50.15 253.26,-42.95\"/>\n",
       "<polygon fill=\"black\" stroke=\"black\" points=\"228.03,-62.9 223.37,-72.41 232.95,-67.88 228.03,-62.9\"/>\n",
       "<polygon fill=\"black\" stroke=\"black\" points=\"256.18,-44.98 260.84,-35.47 251.26,-40 256.18,-44.98\"/>\n",
       "</g>\n",
       "<!-- relish&#45;&#45;relish -->\n",
       "<g id=\"edge10\" class=\"edge\">\n",
       "<title>relish&#45;&#45;relish</title>\n",
       "<path fill=\"none\" stroke=\"black\" d=\"M392.05,-103.46C404.78,-103 414.64,-98.52 414.64,-90 414.64,-81.48 404.78,-77 392.05,-76.54\"/>\n",
       "<polygon fill=\"black\" stroke=\"black\" points=\"392.01,-99.96 381.87,-103.03 391.71,-106.95 392.01,-99.96\"/>\n",
       "<polygon fill=\"black\" stroke=\"black\" points=\"391.71,-73.05 381.87,-76.97 392.01,-80.04 391.71,-73.05\"/>\n",
       "</g>\n",
       "<!-- relish&#45;&#45;deliver -->\n",
       "<g id=\"edge11\" class=\"edge\">\n",
       "<title>relish&#45;&#45;deliver</title>\n",
       "<path fill=\"none\" stroke=\"black\" d=\"M324.69,-65.48C317.1,-58 308.72,-49.74 301.16,-42.28\"/>\n",
       "<polygon fill=\"black\" stroke=\"black\" points=\"322.5,-68.24 332.08,-72.76 327.41,-63.25 322.5,-68.24\"/>\n",
       "<polygon fill=\"black\" stroke=\"black\" points=\"303.5,-39.68 293.92,-35.15 298.59,-44.66 303.5,-39.68\"/>\n",
       "</g>\n",
       "<!-- deliver&#45;&#45;deliver -->\n",
       "<g id=\"edge12\" class=\"edge\">\n",
       "<title>deliver&#45;&#45;deliver</title>\n",
       "<path fill=\"none\" stroke=\"black\" d=\"M324.61,-31.46C338.27,-30.97 348.84,-26.49 348.84,-18 348.84,-9.51 338.27,-5.03 324.61,-4.54\"/>\n",
       "<polygon fill=\"black\" stroke=\"black\" points=\"324.34,-27.94 314.23,-31.1 324.1,-34.94 324.34,-27.94\"/>\n",
       "<polygon fill=\"black\" stroke=\"black\" points=\"324.1,-1.06 314.23,-4.9 324.34,-8.06 324.1,-1.06\"/>\n",
       "</g>\n",
       "</g>\n",
       "</svg>\n"
      ],
      "text/plain": [
       "<graphviz.graphs.Graph at 0x1b91da8f110>"
      ]
     },
     "execution_count": 628,
     "metadata": {},
     "output_type": "execute_result"
    }
   ],
   "source": [
    "conflicts = np.zeros([num_ops, num_ops])\n",
    "\n",
    "tms.define_conflict_by_name(conflicts, ops, 'fetch', 'fetch')\n",
    "\n",
    "tms.define_conflict_by_name(conflicts, ops, 'ketchup', 'fetch')\n",
    "tms.define_conflict_by_name(conflicts, ops, 'ketchup', 'ketchup')\n",
    "\n",
    "tms.define_conflict_by_name(conflicts, ops, 'mustard', 'fetch')\n",
    "# tms.define_conflict_by_name(conflicts, ops, 'mustard', 'ketchup')\n",
    "tms.define_conflict_by_name(conflicts, ops, 'mustard', 'mustard')\n",
    "\n",
    "tms.define_conflict_by_name(conflicts, ops, 'relish', 'fetch')\n",
    "# tms.define_conflict_by_name(conflicts, ops, 'relish', 'ketchup')\n",
    "# tms.define_conflict_by_name(conflicts, ops, 'relish', 'mustard')\n",
    "tms.define_conflict_by_name(conflicts, ops, 'relish', 'relish')\n",
    "\n",
    "tms.define_conflict_by_name(conflicts, ops, 'deliver', 'fetch')\n",
    "tms.define_conflict_by_name(conflicts, ops, 'deliver', 'ketchup')\n",
    "tms.define_conflict_by_name(conflicts, ops, 'deliver', 'mustard')\n",
    "tms.define_conflict_by_name(conflicts, ops, 'deliver', 'relish')\n",
    "tms.define_conflict_by_name(conflicts, ops, 'deliver', 'deliver')\n",
    "\n",
    "tms.graph_conflicts(ops, conflicts)"
   ]
  },
  {
   "cell_type": "markdown",
   "metadata": {},
   "source": [
    "### Incorrect Model"
   ]
  },
  {
   "cell_type": "code",
   "execution_count": 629,
   "metadata": {},
   "outputs": [
    {
     "name": "stdout",
     "output_type": "stream",
     "text": [
      "Total Schedule duration is 49.0\n",
      "Schedule efficiency is 38.78%\n",
      "Importing plotting tools...\n",
      "Generating plot...\n"
     ]
    },
    {
     "data": {
      "application/vnd.plotly.v1+json": {
       "config": {
        "plotlyServerURL": "https://plot.ly"
       },
       "data": [],
       "layout": {
        "annotations": [
         {
          "bgcolor": "rgba(255,255,255,0.8)",
          "font": {
           "color": "black",
           "size": 18
          },
          "showarrow": false,
          "text": "fetch",
          "x": 2.5,
          "y": 0
         },
         {
          "bgcolor": "rgba(255,255,255,0.8)",
          "font": {
           "color": "black",
           "size": 18
          },
          "showarrow": false,
          "text": "ketchup",
          "x": 16,
          "y": 0
         },
         {
          "bgcolor": "rgba(255,255,255,0.8)",
          "font": {
           "color": "black",
           "size": 18
          },
          "showarrow": false,
          "text": "mustard",
          "x": 18,
          "y": 0
         },
         {
          "bgcolor": "rgba(255,255,255,0.8)",
          "font": {
           "color": "black",
           "size": 18
          },
          "showarrow": false,
          "text": "relish",
          "x": 21.5,
          "y": 0
         },
         {
          "bgcolor": "rgba(255,255,255,0.8)",
          "font": {
           "color": "black",
           "size": 18
          },
          "showarrow": false,
          "text": "deliver",
          "x": 36.5,
          "y": 0
         },
         {
          "bgcolor": "rgba(255,255,255,0.8)",
          "font": {
           "color": "black",
           "size": 18
          },
          "showarrow": false,
          "text": "fetch",
          "x": 7.5,
          "y": 1
         },
         {
          "bgcolor": "rgba(255,255,255,0.8)",
          "font": {
           "color": "black",
           "size": 18
          },
          "showarrow": false,
          "text": "ketchup",
          "x": 18,
          "y": 1
         },
         {
          "bgcolor": "rgba(255,255,255,0.8)",
          "font": {
           "color": "black",
           "size": 18
          },
          "showarrow": false,
          "text": "mustard",
          "x": 20,
          "y": 1
         },
         {
          "bgcolor": "rgba(255,255,255,0.8)",
          "font": {
           "color": "black",
           "size": 18
          },
          "showarrow": false,
          "text": "relish",
          "x": 26.5,
          "y": 1
         },
         {
          "bgcolor": "rgba(255,255,255,0.8)",
          "font": {
           "color": "black",
           "size": 18
          },
          "showarrow": false,
          "text": "deliver",
          "x": 41.5,
          "y": 1
         },
         {
          "bgcolor": "rgba(255,255,255,0.8)",
          "font": {
           "color": "black",
           "size": 18
          },
          "showarrow": false,
          "text": "fetch",
          "x": 12.5,
          "y": 2
         },
         {
          "bgcolor": "rgba(255,255,255,0.8)",
          "font": {
           "color": "black",
           "size": 18
          },
          "showarrow": false,
          "text": "ketchup",
          "x": 20,
          "y": 2
         },
         {
          "bgcolor": "rgba(255,255,255,0.8)",
          "font": {
           "color": "black",
           "size": 18
          },
          "showarrow": false,
          "text": "mustard",
          "x": 22,
          "y": 2
         },
         {
          "bgcolor": "rgba(255,255,255,0.8)",
          "font": {
           "color": "black",
           "size": 18
          },
          "showarrow": false,
          "text": "relish",
          "x": 31.5,
          "y": 2
         },
         {
          "bgcolor": "rgba(255,255,255,0.8)",
          "font": {
           "color": "black",
           "size": 18
          },
          "showarrow": false,
          "text": "deliver",
          "x": 46.5,
          "y": 2
         }
        ],
        "autosize": false,
        "height": 800,
        "shapes": [
         {
          "fillcolor": "#636EFA",
          "line": {
           "color": "black",
           "width": 1
          },
          "type": "rect",
          "x0": 0,
          "x1": 5,
          "y0": -0.5,
          "y1": 0.5
         },
         {
          "fillcolor": "#EF553B",
          "line": {
           "color": "black",
           "width": 1
          },
          "type": "rect",
          "x0": 15,
          "x1": 17,
          "y0": -0.5,
          "y1": 0.5
         },
         {
          "fillcolor": "#00CC96",
          "line": {
           "color": "black",
           "width": 1
          },
          "type": "rect",
          "x0": 17,
          "x1": 19,
          "y0": -0.5,
          "y1": 0.5
         },
         {
          "fillcolor": "#AB63FA",
          "line": {
           "color": "black",
           "width": 1
          },
          "type": "rect",
          "x0": 19,
          "x1": 24,
          "y0": -0.5,
          "y1": 0.5
         },
         {
          "fillcolor": "#FFA15A",
          "line": {
           "color": "black",
           "width": 1
          },
          "type": "rect",
          "x0": 34,
          "x1": 39,
          "y0": -0.5,
          "y1": 0.5
         },
         {
          "fillcolor": "#636EFA",
          "line": {
           "color": "black",
           "width": 1
          },
          "type": "rect",
          "x0": 5,
          "x1": 10,
          "y0": 0.5,
          "y1": 1.5
         },
         {
          "fillcolor": "#EF553B",
          "line": {
           "color": "black",
           "width": 1
          },
          "type": "rect",
          "x0": 17,
          "x1": 19,
          "y0": 0.5,
          "y1": 1.5
         },
         {
          "fillcolor": "#00CC96",
          "line": {
           "color": "black",
           "width": 1
          },
          "type": "rect",
          "x0": 19,
          "x1": 21,
          "y0": 0.5,
          "y1": 1.5
         },
         {
          "fillcolor": "#AB63FA",
          "line": {
           "color": "black",
           "width": 1
          },
          "type": "rect",
          "x0": 24,
          "x1": 29,
          "y0": 0.5,
          "y1": 1.5
         },
         {
          "fillcolor": "#FFA15A",
          "line": {
           "color": "black",
           "width": 1
          },
          "type": "rect",
          "x0": 39,
          "x1": 44,
          "y0": 0.5,
          "y1": 1.5
         },
         {
          "fillcolor": "#636EFA",
          "line": {
           "color": "black",
           "width": 1
          },
          "type": "rect",
          "x0": 10,
          "x1": 15,
          "y0": 1.5,
          "y1": 2.5
         },
         {
          "fillcolor": "#EF553B",
          "line": {
           "color": "black",
           "width": 1
          },
          "type": "rect",
          "x0": 19,
          "x1": 21,
          "y0": 1.5,
          "y1": 2.5
         },
         {
          "fillcolor": "#00CC96",
          "line": {
           "color": "black",
           "width": 1
          },
          "type": "rect",
          "x0": 21,
          "x1": 23,
          "y0": 1.5,
          "y1": 2.5
         },
         {
          "fillcolor": "#AB63FA",
          "line": {
           "color": "black",
           "width": 1
          },
          "type": "rect",
          "x0": 29,
          "x1": 34,
          "y0": 1.5,
          "y1": 2.5
         },
         {
          "fillcolor": "#FFA15A",
          "line": {
           "color": "black",
           "width": 1
          },
          "type": "rect",
          "x0": 44,
          "x1": 49,
          "y0": 1.5,
          "y1": 2.5
         }
        ],
        "template": {
         "data": {
          "bar": [
           {
            "error_x": {
             "color": "#2a3f5f"
            },
            "error_y": {
             "color": "#2a3f5f"
            },
            "marker": {
             "line": {
              "color": "#E5ECF6",
              "width": 0.5
             },
             "pattern": {
              "fillmode": "overlay",
              "size": 10,
              "solidity": 0.2
             }
            },
            "type": "bar"
           }
          ],
          "barpolar": [
           {
            "marker": {
             "line": {
              "color": "#E5ECF6",
              "width": 0.5
             },
             "pattern": {
              "fillmode": "overlay",
              "size": 10,
              "solidity": 0.2
             }
            },
            "type": "barpolar"
           }
          ],
          "carpet": [
           {
            "aaxis": {
             "endlinecolor": "#2a3f5f",
             "gridcolor": "white",
             "linecolor": "white",
             "minorgridcolor": "white",
             "startlinecolor": "#2a3f5f"
            },
            "baxis": {
             "endlinecolor": "#2a3f5f",
             "gridcolor": "white",
             "linecolor": "white",
             "minorgridcolor": "white",
             "startlinecolor": "#2a3f5f"
            },
            "type": "carpet"
           }
          ],
          "choropleth": [
           {
            "colorbar": {
             "outlinewidth": 0,
             "ticks": ""
            },
            "type": "choropleth"
           }
          ],
          "contour": [
           {
            "colorbar": {
             "outlinewidth": 0,
             "ticks": ""
            },
            "colorscale": [
             [
              0,
              "#0d0887"
             ],
             [
              0.1111111111111111,
              "#46039f"
             ],
             [
              0.2222222222222222,
              "#7201a8"
             ],
             [
              0.3333333333333333,
              "#9c179e"
             ],
             [
              0.4444444444444444,
              "#bd3786"
             ],
             [
              0.5555555555555556,
              "#d8576b"
             ],
             [
              0.6666666666666666,
              "#ed7953"
             ],
             [
              0.7777777777777778,
              "#fb9f3a"
             ],
             [
              0.8888888888888888,
              "#fdca26"
             ],
             [
              1,
              "#f0f921"
             ]
            ],
            "type": "contour"
           }
          ],
          "contourcarpet": [
           {
            "colorbar": {
             "outlinewidth": 0,
             "ticks": ""
            },
            "type": "contourcarpet"
           }
          ],
          "heatmap": [
           {
            "colorbar": {
             "outlinewidth": 0,
             "ticks": ""
            },
            "colorscale": [
             [
              0,
              "#0d0887"
             ],
             [
              0.1111111111111111,
              "#46039f"
             ],
             [
              0.2222222222222222,
              "#7201a8"
             ],
             [
              0.3333333333333333,
              "#9c179e"
             ],
             [
              0.4444444444444444,
              "#bd3786"
             ],
             [
              0.5555555555555556,
              "#d8576b"
             ],
             [
              0.6666666666666666,
              "#ed7953"
             ],
             [
              0.7777777777777778,
              "#fb9f3a"
             ],
             [
              0.8888888888888888,
              "#fdca26"
             ],
             [
              1,
              "#f0f921"
             ]
            ],
            "type": "heatmap"
           }
          ],
          "heatmapgl": [
           {
            "colorbar": {
             "outlinewidth": 0,
             "ticks": ""
            },
            "colorscale": [
             [
              0,
              "#0d0887"
             ],
             [
              0.1111111111111111,
              "#46039f"
             ],
             [
              0.2222222222222222,
              "#7201a8"
             ],
             [
              0.3333333333333333,
              "#9c179e"
             ],
             [
              0.4444444444444444,
              "#bd3786"
             ],
             [
              0.5555555555555556,
              "#d8576b"
             ],
             [
              0.6666666666666666,
              "#ed7953"
             ],
             [
              0.7777777777777778,
              "#fb9f3a"
             ],
             [
              0.8888888888888888,
              "#fdca26"
             ],
             [
              1,
              "#f0f921"
             ]
            ],
            "type": "heatmapgl"
           }
          ],
          "histogram": [
           {
            "marker": {
             "pattern": {
              "fillmode": "overlay",
              "size": 10,
              "solidity": 0.2
             }
            },
            "type": "histogram"
           }
          ],
          "histogram2d": [
           {
            "colorbar": {
             "outlinewidth": 0,
             "ticks": ""
            },
            "colorscale": [
             [
              0,
              "#0d0887"
             ],
             [
              0.1111111111111111,
              "#46039f"
             ],
             [
              0.2222222222222222,
              "#7201a8"
             ],
             [
              0.3333333333333333,
              "#9c179e"
             ],
             [
              0.4444444444444444,
              "#bd3786"
             ],
             [
              0.5555555555555556,
              "#d8576b"
             ],
             [
              0.6666666666666666,
              "#ed7953"
             ],
             [
              0.7777777777777778,
              "#fb9f3a"
             ],
             [
              0.8888888888888888,
              "#fdca26"
             ],
             [
              1,
              "#f0f921"
             ]
            ],
            "type": "histogram2d"
           }
          ],
          "histogram2dcontour": [
           {
            "colorbar": {
             "outlinewidth": 0,
             "ticks": ""
            },
            "colorscale": [
             [
              0,
              "#0d0887"
             ],
             [
              0.1111111111111111,
              "#46039f"
             ],
             [
              0.2222222222222222,
              "#7201a8"
             ],
             [
              0.3333333333333333,
              "#9c179e"
             ],
             [
              0.4444444444444444,
              "#bd3786"
             ],
             [
              0.5555555555555556,
              "#d8576b"
             ],
             [
              0.6666666666666666,
              "#ed7953"
             ],
             [
              0.7777777777777778,
              "#fb9f3a"
             ],
             [
              0.8888888888888888,
              "#fdca26"
             ],
             [
              1,
              "#f0f921"
             ]
            ],
            "type": "histogram2dcontour"
           }
          ],
          "mesh3d": [
           {
            "colorbar": {
             "outlinewidth": 0,
             "ticks": ""
            },
            "type": "mesh3d"
           }
          ],
          "parcoords": [
           {
            "line": {
             "colorbar": {
              "outlinewidth": 0,
              "ticks": ""
             }
            },
            "type": "parcoords"
           }
          ],
          "pie": [
           {
            "automargin": true,
            "type": "pie"
           }
          ],
          "scatter": [
           {
            "fillpattern": {
             "fillmode": "overlay",
             "size": 10,
             "solidity": 0.2
            },
            "type": "scatter"
           }
          ],
          "scatter3d": [
           {
            "line": {
             "colorbar": {
              "outlinewidth": 0,
              "ticks": ""
             }
            },
            "marker": {
             "colorbar": {
              "outlinewidth": 0,
              "ticks": ""
             }
            },
            "type": "scatter3d"
           }
          ],
          "scattercarpet": [
           {
            "marker": {
             "colorbar": {
              "outlinewidth": 0,
              "ticks": ""
             }
            },
            "type": "scattercarpet"
           }
          ],
          "scattergeo": [
           {
            "marker": {
             "colorbar": {
              "outlinewidth": 0,
              "ticks": ""
             }
            },
            "type": "scattergeo"
           }
          ],
          "scattergl": [
           {
            "marker": {
             "colorbar": {
              "outlinewidth": 0,
              "ticks": ""
             }
            },
            "type": "scattergl"
           }
          ],
          "scattermapbox": [
           {
            "marker": {
             "colorbar": {
              "outlinewidth": 0,
              "ticks": ""
             }
            },
            "type": "scattermapbox"
           }
          ],
          "scatterpolar": [
           {
            "marker": {
             "colorbar": {
              "outlinewidth": 0,
              "ticks": ""
             }
            },
            "type": "scatterpolar"
           }
          ],
          "scatterpolargl": [
           {
            "marker": {
             "colorbar": {
              "outlinewidth": 0,
              "ticks": ""
             }
            },
            "type": "scatterpolargl"
           }
          ],
          "scatterternary": [
           {
            "marker": {
             "colorbar": {
              "outlinewidth": 0,
              "ticks": ""
             }
            },
            "type": "scatterternary"
           }
          ],
          "surface": [
           {
            "colorbar": {
             "outlinewidth": 0,
             "ticks": ""
            },
            "colorscale": [
             [
              0,
              "#0d0887"
             ],
             [
              0.1111111111111111,
              "#46039f"
             ],
             [
              0.2222222222222222,
              "#7201a8"
             ],
             [
              0.3333333333333333,
              "#9c179e"
             ],
             [
              0.4444444444444444,
              "#bd3786"
             ],
             [
              0.5555555555555556,
              "#d8576b"
             ],
             [
              0.6666666666666666,
              "#ed7953"
             ],
             [
              0.7777777777777778,
              "#fb9f3a"
             ],
             [
              0.8888888888888888,
              "#fdca26"
             ],
             [
              1,
              "#f0f921"
             ]
            ],
            "type": "surface"
           }
          ],
          "table": [
           {
            "cells": {
             "fill": {
              "color": "#EBF0F8"
             },
             "line": {
              "color": "white"
             }
            },
            "header": {
             "fill": {
              "color": "#C8D4E3"
             },
             "line": {
              "color": "white"
             }
            },
            "type": "table"
           }
          ]
         },
         "layout": {
          "annotationdefaults": {
           "arrowcolor": "#2a3f5f",
           "arrowhead": 0,
           "arrowwidth": 1
          },
          "autotypenumbers": "strict",
          "coloraxis": {
           "colorbar": {
            "outlinewidth": 0,
            "ticks": ""
           }
          },
          "colorscale": {
           "diverging": [
            [
             0,
             "#8e0152"
            ],
            [
             0.1,
             "#c51b7d"
            ],
            [
             0.2,
             "#de77ae"
            ],
            [
             0.3,
             "#f1b6da"
            ],
            [
             0.4,
             "#fde0ef"
            ],
            [
             0.5,
             "#f7f7f7"
            ],
            [
             0.6,
             "#e6f5d0"
            ],
            [
             0.7,
             "#b8e186"
            ],
            [
             0.8,
             "#7fbc41"
            ],
            [
             0.9,
             "#4d9221"
            ],
            [
             1,
             "#276419"
            ]
           ],
           "sequential": [
            [
             0,
             "#0d0887"
            ],
            [
             0.1111111111111111,
             "#46039f"
            ],
            [
             0.2222222222222222,
             "#7201a8"
            ],
            [
             0.3333333333333333,
             "#9c179e"
            ],
            [
             0.4444444444444444,
             "#bd3786"
            ],
            [
             0.5555555555555556,
             "#d8576b"
            ],
            [
             0.6666666666666666,
             "#ed7953"
            ],
            [
             0.7777777777777778,
             "#fb9f3a"
            ],
            [
             0.8888888888888888,
             "#fdca26"
            ],
            [
             1,
             "#f0f921"
            ]
           ],
           "sequentialminus": [
            [
             0,
             "#0d0887"
            ],
            [
             0.1111111111111111,
             "#46039f"
            ],
            [
             0.2222222222222222,
             "#7201a8"
            ],
            [
             0.3333333333333333,
             "#9c179e"
            ],
            [
             0.4444444444444444,
             "#bd3786"
            ],
            [
             0.5555555555555556,
             "#d8576b"
            ],
            [
             0.6666666666666666,
             "#ed7953"
            ],
            [
             0.7777777777777778,
             "#fb9f3a"
            ],
            [
             0.8888888888888888,
             "#fdca26"
            ],
            [
             1,
             "#f0f921"
            ]
           ]
          },
          "colorway": [
           "#636efa",
           "#EF553B",
           "#00cc96",
           "#ab63fa",
           "#FFA15A",
           "#19d3f3",
           "#FF6692",
           "#B6E880",
           "#FF97FF",
           "#FECB52"
          ],
          "font": {
           "color": "#2a3f5f"
          },
          "geo": {
           "bgcolor": "white",
           "lakecolor": "white",
           "landcolor": "#E5ECF6",
           "showlakes": true,
           "showland": true,
           "subunitcolor": "white"
          },
          "hoverlabel": {
           "align": "left"
          },
          "hovermode": "closest",
          "mapbox": {
           "style": "light"
          },
          "paper_bgcolor": "white",
          "plot_bgcolor": "#E5ECF6",
          "polar": {
           "angularaxis": {
            "gridcolor": "white",
            "linecolor": "white",
            "ticks": ""
           },
           "bgcolor": "#E5ECF6",
           "radialaxis": {
            "gridcolor": "white",
            "linecolor": "white",
            "ticks": ""
           }
          },
          "scene": {
           "xaxis": {
            "backgroundcolor": "#E5ECF6",
            "gridcolor": "white",
            "gridwidth": 2,
            "linecolor": "white",
            "showbackground": true,
            "ticks": "",
            "zerolinecolor": "white"
           },
           "yaxis": {
            "backgroundcolor": "#E5ECF6",
            "gridcolor": "white",
            "gridwidth": 2,
            "linecolor": "white",
            "showbackground": true,
            "ticks": "",
            "zerolinecolor": "white"
           },
           "zaxis": {
            "backgroundcolor": "#E5ECF6",
            "gridcolor": "white",
            "gridwidth": 2,
            "linecolor": "white",
            "showbackground": true,
            "ticks": "",
            "zerolinecolor": "white"
           }
          },
          "shapedefaults": {
           "line": {
            "color": "#2a3f5f"
           }
          },
          "ternary": {
           "aaxis": {
            "gridcolor": "white",
            "linecolor": "white",
            "ticks": ""
           },
           "baxis": {
            "gridcolor": "white",
            "linecolor": "white",
            "ticks": ""
           },
           "bgcolor": "#E5ECF6",
           "caxis": {
            "gridcolor": "white",
            "linecolor": "white",
            "ticks": ""
           }
          },
          "title": {
           "x": 0.05
          },
          "xaxis": {
           "automargin": true,
           "gridcolor": "white",
           "linecolor": "white",
           "ticks": "",
           "title": {
            "standoff": 15
           },
           "zerolinecolor": "white",
           "zerolinewidth": 2
          },
          "yaxis": {
           "automargin": true,
           "gridcolor": "white",
           "linecolor": "white",
           "ticks": "",
           "title": {
            "standoff": 15
           },
           "zerolinecolor": "white",
           "zerolinewidth": 2
          }
         }
        },
        "width": 1400,
        "xaxis": {
         "range": [
          0,
          49
         ],
         "title": {
          "text": "Time"
         }
        },
        "yaxis": {
         "dtick": 1,
         "range": [
          -0.5,
          2.5
         ],
         "tick0": 0,
         "tickmode": "linear",
         "title": {
          "text": "Item Index"
         }
        }
       }
      }
     },
     "metadata": {},
     "output_type": "display_data"
    }
   ],
   "source": [
    "num_items = 3\n",
    "\n",
    "# Run scheduler\n",
    "schedule = tms.run_scheduler(num_items, ops, conflicts, sync_starts=False)\n",
    "\n",
    "schedule_duration = tms.calc_schedule_duration(schedule, ops)\n",
    "print(f\"Total Schedule duration is {schedule_duration}\")\n",
    "\n",
    "schedule_efficiency = tms.calc_schedule_efficiency(schedule, ops)\n",
    "print(f\"Schedule efficiency is {schedule_efficiency:.2%}\")\n",
    "\n",
    "tms.plot_schedule(schedule, ops)"
   ]
  },
  {
   "cell_type": "markdown",
   "metadata": {},
   "source": [
    "### Equal Duration Model"
   ]
  },
  {
   "cell_type": "code",
   "execution_count": 630,
   "metadata": {},
   "outputs": [
    {
     "name": "stdout",
     "output_type": "stream",
     "text": [
      "Total Schedule duration is 55.0\n",
      "Schedule efficiency is 45.45%\n",
      "Importing plotting tools...\n",
      "Generating plot...\n"
     ]
    },
    {
     "data": {
      "application/vnd.plotly.v1+json": {
       "config": {
        "plotlyServerURL": "https://plot.ly"
       },
       "data": [],
       "layout": {
        "annotations": [
         {
          "bgcolor": "rgba(255,255,255,0.8)",
          "font": {
           "color": "black",
           "size": 18
          },
          "showarrow": false,
          "text": "fetch",
          "x": 2.5,
          "y": 0
         },
         {
          "bgcolor": "rgba(255,255,255,0.8)",
          "font": {
           "color": "black",
           "size": 18
          },
          "showarrow": false,
          "text": "ketchup",
          "x": 17.5,
          "y": 0
         },
         {
          "bgcolor": "rgba(255,255,255,0.8)",
          "font": {
           "color": "black",
           "size": 18
          },
          "showarrow": false,
          "text": "mustard",
          "x": 22.5,
          "y": 0
         },
         {
          "bgcolor": "rgba(255,255,255,0.8)",
          "font": {
           "color": "black",
           "size": 18
          },
          "showarrow": false,
          "text": "relish",
          "x": 27.5,
          "y": 0
         },
         {
          "bgcolor": "rgba(255,255,255,0.8)",
          "font": {
           "color": "black",
           "size": 18
          },
          "showarrow": false,
          "text": "deliver",
          "x": 42.5,
          "y": 0
         },
         {
          "bgcolor": "rgba(255,255,255,0.8)",
          "font": {
           "color": "black",
           "size": 18
          },
          "showarrow": false,
          "text": "fetch",
          "x": 7.5,
          "y": 1
         },
         {
          "bgcolor": "rgba(255,255,255,0.8)",
          "font": {
           "color": "black",
           "size": 18
          },
          "showarrow": false,
          "text": "ketchup",
          "x": 22.5,
          "y": 1
         },
         {
          "bgcolor": "rgba(255,255,255,0.8)",
          "font": {
           "color": "black",
           "size": 18
          },
          "showarrow": false,
          "text": "mustard",
          "x": 27.5,
          "y": 1
         },
         {
          "bgcolor": "rgba(255,255,255,0.8)",
          "font": {
           "color": "black",
           "size": 18
          },
          "showarrow": false,
          "text": "relish",
          "x": 32.5,
          "y": 1
         },
         {
          "bgcolor": "rgba(255,255,255,0.8)",
          "font": {
           "color": "black",
           "size": 18
          },
          "showarrow": false,
          "text": "deliver",
          "x": 47.5,
          "y": 1
         },
         {
          "bgcolor": "rgba(255,255,255,0.8)",
          "font": {
           "color": "black",
           "size": 18
          },
          "showarrow": false,
          "text": "fetch",
          "x": 12.5,
          "y": 2
         },
         {
          "bgcolor": "rgba(255,255,255,0.8)",
          "font": {
           "color": "black",
           "size": 18
          },
          "showarrow": false,
          "text": "ketchup",
          "x": 27.5,
          "y": 2
         },
         {
          "bgcolor": "rgba(255,255,255,0.8)",
          "font": {
           "color": "black",
           "size": 18
          },
          "showarrow": false,
          "text": "mustard",
          "x": 32.5,
          "y": 2
         },
         {
          "bgcolor": "rgba(255,255,255,0.8)",
          "font": {
           "color": "black",
           "size": 18
          },
          "showarrow": false,
          "text": "relish",
          "x": 37.5,
          "y": 2
         },
         {
          "bgcolor": "rgba(255,255,255,0.8)",
          "font": {
           "color": "black",
           "size": 18
          },
          "showarrow": false,
          "text": "deliver",
          "x": 52.5,
          "y": 2
         }
        ],
        "autosize": false,
        "height": 800,
        "shapes": [
         {
          "fillcolor": "#636EFA",
          "line": {
           "color": "black",
           "width": 1
          },
          "type": "rect",
          "x0": 0,
          "x1": 5,
          "y0": -0.5,
          "y1": 0.5
         },
         {
          "fillcolor": "#EF553B",
          "line": {
           "color": "black",
           "width": 1
          },
          "type": "rect",
          "x0": 15,
          "x1": 20,
          "y0": -0.5,
          "y1": 0.5
         },
         {
          "fillcolor": "#00CC96",
          "line": {
           "color": "black",
           "width": 1
          },
          "type": "rect",
          "x0": 20,
          "x1": 25,
          "y0": -0.5,
          "y1": 0.5
         },
         {
          "fillcolor": "#AB63FA",
          "line": {
           "color": "black",
           "width": 1
          },
          "type": "rect",
          "x0": 25,
          "x1": 30,
          "y0": -0.5,
          "y1": 0.5
         },
         {
          "fillcolor": "#FFA15A",
          "line": {
           "color": "black",
           "width": 1
          },
          "type": "rect",
          "x0": 40,
          "x1": 45,
          "y0": -0.5,
          "y1": 0.5
         },
         {
          "fillcolor": "#636EFA",
          "line": {
           "color": "black",
           "width": 1
          },
          "type": "rect",
          "x0": 5,
          "x1": 10,
          "y0": 0.5,
          "y1": 1.5
         },
         {
          "fillcolor": "#EF553B",
          "line": {
           "color": "black",
           "width": 1
          },
          "type": "rect",
          "x0": 20,
          "x1": 25,
          "y0": 0.5,
          "y1": 1.5
         },
         {
          "fillcolor": "#00CC96",
          "line": {
           "color": "black",
           "width": 1
          },
          "type": "rect",
          "x0": 25,
          "x1": 30,
          "y0": 0.5,
          "y1": 1.5
         },
         {
          "fillcolor": "#AB63FA",
          "line": {
           "color": "black",
           "width": 1
          },
          "type": "rect",
          "x0": 30,
          "x1": 35,
          "y0": 0.5,
          "y1": 1.5
         },
         {
          "fillcolor": "#FFA15A",
          "line": {
           "color": "black",
           "width": 1
          },
          "type": "rect",
          "x0": 45,
          "x1": 50,
          "y0": 0.5,
          "y1": 1.5
         },
         {
          "fillcolor": "#636EFA",
          "line": {
           "color": "black",
           "width": 1
          },
          "type": "rect",
          "x0": 10,
          "x1": 15,
          "y0": 1.5,
          "y1": 2.5
         },
         {
          "fillcolor": "#EF553B",
          "line": {
           "color": "black",
           "width": 1
          },
          "type": "rect",
          "x0": 25,
          "x1": 30,
          "y0": 1.5,
          "y1": 2.5
         },
         {
          "fillcolor": "#00CC96",
          "line": {
           "color": "black",
           "width": 1
          },
          "type": "rect",
          "x0": 30,
          "x1": 35,
          "y0": 1.5,
          "y1": 2.5
         },
         {
          "fillcolor": "#AB63FA",
          "line": {
           "color": "black",
           "width": 1
          },
          "type": "rect",
          "x0": 35,
          "x1": 40,
          "y0": 1.5,
          "y1": 2.5
         },
         {
          "fillcolor": "#FFA15A",
          "line": {
           "color": "black",
           "width": 1
          },
          "type": "rect",
          "x0": 50,
          "x1": 55,
          "y0": 1.5,
          "y1": 2.5
         }
        ],
        "template": {
         "data": {
          "bar": [
           {
            "error_x": {
             "color": "#2a3f5f"
            },
            "error_y": {
             "color": "#2a3f5f"
            },
            "marker": {
             "line": {
              "color": "#E5ECF6",
              "width": 0.5
             },
             "pattern": {
              "fillmode": "overlay",
              "size": 10,
              "solidity": 0.2
             }
            },
            "type": "bar"
           }
          ],
          "barpolar": [
           {
            "marker": {
             "line": {
              "color": "#E5ECF6",
              "width": 0.5
             },
             "pattern": {
              "fillmode": "overlay",
              "size": 10,
              "solidity": 0.2
             }
            },
            "type": "barpolar"
           }
          ],
          "carpet": [
           {
            "aaxis": {
             "endlinecolor": "#2a3f5f",
             "gridcolor": "white",
             "linecolor": "white",
             "minorgridcolor": "white",
             "startlinecolor": "#2a3f5f"
            },
            "baxis": {
             "endlinecolor": "#2a3f5f",
             "gridcolor": "white",
             "linecolor": "white",
             "minorgridcolor": "white",
             "startlinecolor": "#2a3f5f"
            },
            "type": "carpet"
           }
          ],
          "choropleth": [
           {
            "colorbar": {
             "outlinewidth": 0,
             "ticks": ""
            },
            "type": "choropleth"
           }
          ],
          "contour": [
           {
            "colorbar": {
             "outlinewidth": 0,
             "ticks": ""
            },
            "colorscale": [
             [
              0,
              "#0d0887"
             ],
             [
              0.1111111111111111,
              "#46039f"
             ],
             [
              0.2222222222222222,
              "#7201a8"
             ],
             [
              0.3333333333333333,
              "#9c179e"
             ],
             [
              0.4444444444444444,
              "#bd3786"
             ],
             [
              0.5555555555555556,
              "#d8576b"
             ],
             [
              0.6666666666666666,
              "#ed7953"
             ],
             [
              0.7777777777777778,
              "#fb9f3a"
             ],
             [
              0.8888888888888888,
              "#fdca26"
             ],
             [
              1,
              "#f0f921"
             ]
            ],
            "type": "contour"
           }
          ],
          "contourcarpet": [
           {
            "colorbar": {
             "outlinewidth": 0,
             "ticks": ""
            },
            "type": "contourcarpet"
           }
          ],
          "heatmap": [
           {
            "colorbar": {
             "outlinewidth": 0,
             "ticks": ""
            },
            "colorscale": [
             [
              0,
              "#0d0887"
             ],
             [
              0.1111111111111111,
              "#46039f"
             ],
             [
              0.2222222222222222,
              "#7201a8"
             ],
             [
              0.3333333333333333,
              "#9c179e"
             ],
             [
              0.4444444444444444,
              "#bd3786"
             ],
             [
              0.5555555555555556,
              "#d8576b"
             ],
             [
              0.6666666666666666,
              "#ed7953"
             ],
             [
              0.7777777777777778,
              "#fb9f3a"
             ],
             [
              0.8888888888888888,
              "#fdca26"
             ],
             [
              1,
              "#f0f921"
             ]
            ],
            "type": "heatmap"
           }
          ],
          "heatmapgl": [
           {
            "colorbar": {
             "outlinewidth": 0,
             "ticks": ""
            },
            "colorscale": [
             [
              0,
              "#0d0887"
             ],
             [
              0.1111111111111111,
              "#46039f"
             ],
             [
              0.2222222222222222,
              "#7201a8"
             ],
             [
              0.3333333333333333,
              "#9c179e"
             ],
             [
              0.4444444444444444,
              "#bd3786"
             ],
             [
              0.5555555555555556,
              "#d8576b"
             ],
             [
              0.6666666666666666,
              "#ed7953"
             ],
             [
              0.7777777777777778,
              "#fb9f3a"
             ],
             [
              0.8888888888888888,
              "#fdca26"
             ],
             [
              1,
              "#f0f921"
             ]
            ],
            "type": "heatmapgl"
           }
          ],
          "histogram": [
           {
            "marker": {
             "pattern": {
              "fillmode": "overlay",
              "size": 10,
              "solidity": 0.2
             }
            },
            "type": "histogram"
           }
          ],
          "histogram2d": [
           {
            "colorbar": {
             "outlinewidth": 0,
             "ticks": ""
            },
            "colorscale": [
             [
              0,
              "#0d0887"
             ],
             [
              0.1111111111111111,
              "#46039f"
             ],
             [
              0.2222222222222222,
              "#7201a8"
             ],
             [
              0.3333333333333333,
              "#9c179e"
             ],
             [
              0.4444444444444444,
              "#bd3786"
             ],
             [
              0.5555555555555556,
              "#d8576b"
             ],
             [
              0.6666666666666666,
              "#ed7953"
             ],
             [
              0.7777777777777778,
              "#fb9f3a"
             ],
             [
              0.8888888888888888,
              "#fdca26"
             ],
             [
              1,
              "#f0f921"
             ]
            ],
            "type": "histogram2d"
           }
          ],
          "histogram2dcontour": [
           {
            "colorbar": {
             "outlinewidth": 0,
             "ticks": ""
            },
            "colorscale": [
             [
              0,
              "#0d0887"
             ],
             [
              0.1111111111111111,
              "#46039f"
             ],
             [
              0.2222222222222222,
              "#7201a8"
             ],
             [
              0.3333333333333333,
              "#9c179e"
             ],
             [
              0.4444444444444444,
              "#bd3786"
             ],
             [
              0.5555555555555556,
              "#d8576b"
             ],
             [
              0.6666666666666666,
              "#ed7953"
             ],
             [
              0.7777777777777778,
              "#fb9f3a"
             ],
             [
              0.8888888888888888,
              "#fdca26"
             ],
             [
              1,
              "#f0f921"
             ]
            ],
            "type": "histogram2dcontour"
           }
          ],
          "mesh3d": [
           {
            "colorbar": {
             "outlinewidth": 0,
             "ticks": ""
            },
            "type": "mesh3d"
           }
          ],
          "parcoords": [
           {
            "line": {
             "colorbar": {
              "outlinewidth": 0,
              "ticks": ""
             }
            },
            "type": "parcoords"
           }
          ],
          "pie": [
           {
            "automargin": true,
            "type": "pie"
           }
          ],
          "scatter": [
           {
            "fillpattern": {
             "fillmode": "overlay",
             "size": 10,
             "solidity": 0.2
            },
            "type": "scatter"
           }
          ],
          "scatter3d": [
           {
            "line": {
             "colorbar": {
              "outlinewidth": 0,
              "ticks": ""
             }
            },
            "marker": {
             "colorbar": {
              "outlinewidth": 0,
              "ticks": ""
             }
            },
            "type": "scatter3d"
           }
          ],
          "scattercarpet": [
           {
            "marker": {
             "colorbar": {
              "outlinewidth": 0,
              "ticks": ""
             }
            },
            "type": "scattercarpet"
           }
          ],
          "scattergeo": [
           {
            "marker": {
             "colorbar": {
              "outlinewidth": 0,
              "ticks": ""
             }
            },
            "type": "scattergeo"
           }
          ],
          "scattergl": [
           {
            "marker": {
             "colorbar": {
              "outlinewidth": 0,
              "ticks": ""
             }
            },
            "type": "scattergl"
           }
          ],
          "scattermapbox": [
           {
            "marker": {
             "colorbar": {
              "outlinewidth": 0,
              "ticks": ""
             }
            },
            "type": "scattermapbox"
           }
          ],
          "scatterpolar": [
           {
            "marker": {
             "colorbar": {
              "outlinewidth": 0,
              "ticks": ""
             }
            },
            "type": "scatterpolar"
           }
          ],
          "scatterpolargl": [
           {
            "marker": {
             "colorbar": {
              "outlinewidth": 0,
              "ticks": ""
             }
            },
            "type": "scatterpolargl"
           }
          ],
          "scatterternary": [
           {
            "marker": {
             "colorbar": {
              "outlinewidth": 0,
              "ticks": ""
             }
            },
            "type": "scatterternary"
           }
          ],
          "surface": [
           {
            "colorbar": {
             "outlinewidth": 0,
             "ticks": ""
            },
            "colorscale": [
             [
              0,
              "#0d0887"
             ],
             [
              0.1111111111111111,
              "#46039f"
             ],
             [
              0.2222222222222222,
              "#7201a8"
             ],
             [
              0.3333333333333333,
              "#9c179e"
             ],
             [
              0.4444444444444444,
              "#bd3786"
             ],
             [
              0.5555555555555556,
              "#d8576b"
             ],
             [
              0.6666666666666666,
              "#ed7953"
             ],
             [
              0.7777777777777778,
              "#fb9f3a"
             ],
             [
              0.8888888888888888,
              "#fdca26"
             ],
             [
              1,
              "#f0f921"
             ]
            ],
            "type": "surface"
           }
          ],
          "table": [
           {
            "cells": {
             "fill": {
              "color": "#EBF0F8"
             },
             "line": {
              "color": "white"
             }
            },
            "header": {
             "fill": {
              "color": "#C8D4E3"
             },
             "line": {
              "color": "white"
             }
            },
            "type": "table"
           }
          ]
         },
         "layout": {
          "annotationdefaults": {
           "arrowcolor": "#2a3f5f",
           "arrowhead": 0,
           "arrowwidth": 1
          },
          "autotypenumbers": "strict",
          "coloraxis": {
           "colorbar": {
            "outlinewidth": 0,
            "ticks": ""
           }
          },
          "colorscale": {
           "diverging": [
            [
             0,
             "#8e0152"
            ],
            [
             0.1,
             "#c51b7d"
            ],
            [
             0.2,
             "#de77ae"
            ],
            [
             0.3,
             "#f1b6da"
            ],
            [
             0.4,
             "#fde0ef"
            ],
            [
             0.5,
             "#f7f7f7"
            ],
            [
             0.6,
             "#e6f5d0"
            ],
            [
             0.7,
             "#b8e186"
            ],
            [
             0.8,
             "#7fbc41"
            ],
            [
             0.9,
             "#4d9221"
            ],
            [
             1,
             "#276419"
            ]
           ],
           "sequential": [
            [
             0,
             "#0d0887"
            ],
            [
             0.1111111111111111,
             "#46039f"
            ],
            [
             0.2222222222222222,
             "#7201a8"
            ],
            [
             0.3333333333333333,
             "#9c179e"
            ],
            [
             0.4444444444444444,
             "#bd3786"
            ],
            [
             0.5555555555555556,
             "#d8576b"
            ],
            [
             0.6666666666666666,
             "#ed7953"
            ],
            [
             0.7777777777777778,
             "#fb9f3a"
            ],
            [
             0.8888888888888888,
             "#fdca26"
            ],
            [
             1,
             "#f0f921"
            ]
           ],
           "sequentialminus": [
            [
             0,
             "#0d0887"
            ],
            [
             0.1111111111111111,
             "#46039f"
            ],
            [
             0.2222222222222222,
             "#7201a8"
            ],
            [
             0.3333333333333333,
             "#9c179e"
            ],
            [
             0.4444444444444444,
             "#bd3786"
            ],
            [
             0.5555555555555556,
             "#d8576b"
            ],
            [
             0.6666666666666666,
             "#ed7953"
            ],
            [
             0.7777777777777778,
             "#fb9f3a"
            ],
            [
             0.8888888888888888,
             "#fdca26"
            ],
            [
             1,
             "#f0f921"
            ]
           ]
          },
          "colorway": [
           "#636efa",
           "#EF553B",
           "#00cc96",
           "#ab63fa",
           "#FFA15A",
           "#19d3f3",
           "#FF6692",
           "#B6E880",
           "#FF97FF",
           "#FECB52"
          ],
          "font": {
           "color": "#2a3f5f"
          },
          "geo": {
           "bgcolor": "white",
           "lakecolor": "white",
           "landcolor": "#E5ECF6",
           "showlakes": true,
           "showland": true,
           "subunitcolor": "white"
          },
          "hoverlabel": {
           "align": "left"
          },
          "hovermode": "closest",
          "mapbox": {
           "style": "light"
          },
          "paper_bgcolor": "white",
          "plot_bgcolor": "#E5ECF6",
          "polar": {
           "angularaxis": {
            "gridcolor": "white",
            "linecolor": "white",
            "ticks": ""
           },
           "bgcolor": "#E5ECF6",
           "radialaxis": {
            "gridcolor": "white",
            "linecolor": "white",
            "ticks": ""
           }
          },
          "scene": {
           "xaxis": {
            "backgroundcolor": "#E5ECF6",
            "gridcolor": "white",
            "gridwidth": 2,
            "linecolor": "white",
            "showbackground": true,
            "ticks": "",
            "zerolinecolor": "white"
           },
           "yaxis": {
            "backgroundcolor": "#E5ECF6",
            "gridcolor": "white",
            "gridwidth": 2,
            "linecolor": "white",
            "showbackground": true,
            "ticks": "",
            "zerolinecolor": "white"
           },
           "zaxis": {
            "backgroundcolor": "#E5ECF6",
            "gridcolor": "white",
            "gridwidth": 2,
            "linecolor": "white",
            "showbackground": true,
            "ticks": "",
            "zerolinecolor": "white"
           }
          },
          "shapedefaults": {
           "line": {
            "color": "#2a3f5f"
           }
          },
          "ternary": {
           "aaxis": {
            "gridcolor": "white",
            "linecolor": "white",
            "ticks": ""
           },
           "baxis": {
            "gridcolor": "white",
            "linecolor": "white",
            "ticks": ""
           },
           "bgcolor": "#E5ECF6",
           "caxis": {
            "gridcolor": "white",
            "linecolor": "white",
            "ticks": ""
           }
          },
          "title": {
           "x": 0.05
          },
          "xaxis": {
           "automargin": true,
           "gridcolor": "white",
           "linecolor": "white",
           "ticks": "",
           "title": {
            "standoff": 15
           },
           "zerolinecolor": "white",
           "zerolinewidth": 2
          },
          "yaxis": {
           "automargin": true,
           "gridcolor": "white",
           "linecolor": "white",
           "ticks": "",
           "title": {
            "standoff": 15
           },
           "zerolinecolor": "white",
           "zerolinewidth": 2
          }
         }
        },
        "width": 1400,
        "xaxis": {
         "range": [
          0,
          55
         ],
         "title": {
          "text": "Time"
         }
        },
        "yaxis": {
         "dtick": 1,
         "range": [
          -0.5,
          2.5
         ],
         "tick0": 0,
         "tickmode": "linear",
         "title": {
          "text": "Item Index"
         }
        }
       }
      }
     },
     "metadata": {},
     "output_type": "display_data"
    }
   ],
   "source": [
    "ops['ketchup'] = 5\n",
    "ops['mustard'] = 5\n",
    "\n",
    "# Run scheduler\n",
    "schedule = tms.run_scheduler(num_items, ops, conflicts, sync_starts=False)\n",
    "\n",
    "schedule_duration = tms.calc_schedule_duration(schedule, ops)\n",
    "print(f\"Total Schedule duration is {schedule_duration}\")\n",
    "\n",
    "schedule_efficiency = tms.calc_schedule_efficiency(schedule, ops)\n",
    "print(f\"Schedule efficiency is {schedule_efficiency:.2%}\")\n",
    "\n",
    "tms.plot_schedule(schedule, ops)\n"
   ]
  },
  {
   "cell_type": "markdown",
   "metadata": {},
   "source": [
    "### Sync Start Schedule"
   ]
  },
  {
   "cell_type": "code",
   "execution_count": 631,
   "metadata": {},
   "outputs": [
    {
     "name": "stdout",
     "output_type": "stream",
     "text": [
      "Total Schedule duration is 49.0\n",
      "Schedule efficiency is 38.78%\n",
      "Importing plotting tools...\n",
      "Generating plot...\n"
     ]
    },
    {
     "data": {
      "application/vnd.plotly.v1+json": {
       "config": {
        "plotlyServerURL": "https://plot.ly"
       },
       "data": [],
       "layout": {
        "annotations": [
         {
          "bgcolor": "rgba(255,255,255,0.8)",
          "font": {
           "color": "black",
           "size": 18
          },
          "showarrow": false,
          "text": "fetch",
          "x": 2.5,
          "y": 0
         },
         {
          "bgcolor": "rgba(255,255,255,0.8)",
          "font": {
           "color": "black",
           "size": 18
          },
          "showarrow": false,
          "text": "ketchup",
          "x": 16,
          "y": 0
         },
         {
          "bgcolor": "rgba(255,255,255,0.8)",
          "font": {
           "color": "black",
           "size": 18
          },
          "showarrow": false,
          "text": "mustard",
          "x": 18,
          "y": 0
         },
         {
          "bgcolor": "rgba(255,255,255,0.8)",
          "font": {
           "color": "black",
           "size": 18
          },
          "showarrow": false,
          "text": "relish",
          "x": 21.5,
          "y": 0
         },
         {
          "bgcolor": "rgba(255,255,255,0.8)",
          "font": {
           "color": "black",
           "size": 18
          },
          "showarrow": false,
          "text": "deliver",
          "x": 36.5,
          "y": 0
         },
         {
          "bgcolor": "rgba(255,255,255,0.8)",
          "font": {
           "color": "black",
           "size": 18
          },
          "showarrow": false,
          "text": "fetch",
          "x": 7.5,
          "y": 1
         },
         {
          "bgcolor": "rgba(255,255,255,0.8)",
          "font": {
           "color": "black",
           "size": 18
          },
          "showarrow": false,
          "text": "ketchup",
          "x": 18,
          "y": 1
         },
         {
          "bgcolor": "rgba(255,255,255,0.8)",
          "font": {
           "color": "black",
           "size": 18
          },
          "showarrow": false,
          "text": "mustard",
          "x": 20,
          "y": 1
         },
         {
          "bgcolor": "rgba(255,255,255,0.8)",
          "font": {
           "color": "black",
           "size": 18
          },
          "showarrow": false,
          "text": "relish",
          "x": 26.5,
          "y": 1
         },
         {
          "bgcolor": "rgba(255,255,255,0.8)",
          "font": {
           "color": "black",
           "size": 18
          },
          "showarrow": false,
          "text": "deliver",
          "x": 41.5,
          "y": 1
         },
         {
          "bgcolor": "rgba(255,255,255,0.8)",
          "font": {
           "color": "black",
           "size": 18
          },
          "showarrow": false,
          "text": "fetch",
          "x": 12.5,
          "y": 2
         },
         {
          "bgcolor": "rgba(255,255,255,0.8)",
          "font": {
           "color": "black",
           "size": 18
          },
          "showarrow": false,
          "text": "ketchup",
          "x": 20,
          "y": 2
         },
         {
          "bgcolor": "rgba(255,255,255,0.8)",
          "font": {
           "color": "black",
           "size": 18
          },
          "showarrow": false,
          "text": "mustard",
          "x": 25,
          "y": 2
         },
         {
          "bgcolor": "rgba(255,255,255,0.8)",
          "font": {
           "color": "black",
           "size": 18
          },
          "showarrow": false,
          "text": "relish",
          "x": 31.5,
          "y": 2
         },
         {
          "bgcolor": "rgba(255,255,255,0.8)",
          "font": {
           "color": "black",
           "size": 18
          },
          "showarrow": false,
          "text": "deliver",
          "x": 46.5,
          "y": 2
         }
        ],
        "autosize": false,
        "height": 800,
        "shapes": [
         {
          "fillcolor": "#636EFA",
          "line": {
           "color": "black",
           "width": 1
          },
          "type": "rect",
          "x0": 0,
          "x1": 5,
          "y0": -0.5,
          "y1": 0.5
         },
         {
          "fillcolor": "#EF553B",
          "line": {
           "color": "black",
           "width": 1
          },
          "type": "rect",
          "x0": 15,
          "x1": 17,
          "y0": -0.5,
          "y1": 0.5
         },
         {
          "fillcolor": "#00CC96",
          "line": {
           "color": "black",
           "width": 1
          },
          "type": "rect",
          "x0": 17,
          "x1": 19,
          "y0": -0.5,
          "y1": 0.5
         },
         {
          "fillcolor": "#AB63FA",
          "line": {
           "color": "black",
           "width": 1
          },
          "type": "rect",
          "x0": 19,
          "x1": 24,
          "y0": -0.5,
          "y1": 0.5
         },
         {
          "fillcolor": "#FFA15A",
          "line": {
           "color": "black",
           "width": 1
          },
          "type": "rect",
          "x0": 34,
          "x1": 39,
          "y0": -0.5,
          "y1": 0.5
         },
         {
          "fillcolor": "#636EFA",
          "line": {
           "color": "black",
           "width": 1
          },
          "type": "rect",
          "x0": 5,
          "x1": 10,
          "y0": 0.5,
          "y1": 1.5
         },
         {
          "fillcolor": "#EF553B",
          "line": {
           "color": "black",
           "width": 1
          },
          "type": "rect",
          "x0": 17,
          "x1": 19,
          "y0": 0.5,
          "y1": 1.5
         },
         {
          "fillcolor": "#00CC96",
          "line": {
           "color": "black",
           "width": 1
          },
          "type": "rect",
          "x0": 19,
          "x1": 21,
          "y0": 0.5,
          "y1": 1.5
         },
         {
          "fillcolor": "#AB63FA",
          "line": {
           "color": "black",
           "width": 1
          },
          "type": "rect",
          "x0": 24,
          "x1": 29,
          "y0": 0.5,
          "y1": 1.5
         },
         {
          "fillcolor": "#FFA15A",
          "line": {
           "color": "black",
           "width": 1
          },
          "type": "rect",
          "x0": 39,
          "x1": 44,
          "y0": 0.5,
          "y1": 1.5
         },
         {
          "fillcolor": "#636EFA",
          "line": {
           "color": "black",
           "width": 1
          },
          "type": "rect",
          "x0": 10,
          "x1": 15,
          "y0": 1.5,
          "y1": 2.5
         },
         {
          "fillcolor": "#EF553B",
          "line": {
           "color": "black",
           "width": 1
          },
          "type": "rect",
          "x0": 19,
          "x1": 21,
          "y0": 1.5,
          "y1": 2.5
         },
         {
          "fillcolor": "#00CC96",
          "line": {
           "color": "black",
           "width": 1
          },
          "type": "rect",
          "x0": 24,
          "x1": 26,
          "y0": 1.5,
          "y1": 2.5
         },
         {
          "fillcolor": "#AB63FA",
          "line": {
           "color": "black",
           "width": 1
          },
          "type": "rect",
          "x0": 29,
          "x1": 34,
          "y0": 1.5,
          "y1": 2.5
         },
         {
          "fillcolor": "#FFA15A",
          "line": {
           "color": "black",
           "width": 1
          },
          "type": "rect",
          "x0": 44,
          "x1": 49,
          "y0": 1.5,
          "y1": 2.5
         }
        ],
        "template": {
         "data": {
          "bar": [
           {
            "error_x": {
             "color": "#2a3f5f"
            },
            "error_y": {
             "color": "#2a3f5f"
            },
            "marker": {
             "line": {
              "color": "#E5ECF6",
              "width": 0.5
             },
             "pattern": {
              "fillmode": "overlay",
              "size": 10,
              "solidity": 0.2
             }
            },
            "type": "bar"
           }
          ],
          "barpolar": [
           {
            "marker": {
             "line": {
              "color": "#E5ECF6",
              "width": 0.5
             },
             "pattern": {
              "fillmode": "overlay",
              "size": 10,
              "solidity": 0.2
             }
            },
            "type": "barpolar"
           }
          ],
          "carpet": [
           {
            "aaxis": {
             "endlinecolor": "#2a3f5f",
             "gridcolor": "white",
             "linecolor": "white",
             "minorgridcolor": "white",
             "startlinecolor": "#2a3f5f"
            },
            "baxis": {
             "endlinecolor": "#2a3f5f",
             "gridcolor": "white",
             "linecolor": "white",
             "minorgridcolor": "white",
             "startlinecolor": "#2a3f5f"
            },
            "type": "carpet"
           }
          ],
          "choropleth": [
           {
            "colorbar": {
             "outlinewidth": 0,
             "ticks": ""
            },
            "type": "choropleth"
           }
          ],
          "contour": [
           {
            "colorbar": {
             "outlinewidth": 0,
             "ticks": ""
            },
            "colorscale": [
             [
              0,
              "#0d0887"
             ],
             [
              0.1111111111111111,
              "#46039f"
             ],
             [
              0.2222222222222222,
              "#7201a8"
             ],
             [
              0.3333333333333333,
              "#9c179e"
             ],
             [
              0.4444444444444444,
              "#bd3786"
             ],
             [
              0.5555555555555556,
              "#d8576b"
             ],
             [
              0.6666666666666666,
              "#ed7953"
             ],
             [
              0.7777777777777778,
              "#fb9f3a"
             ],
             [
              0.8888888888888888,
              "#fdca26"
             ],
             [
              1,
              "#f0f921"
             ]
            ],
            "type": "contour"
           }
          ],
          "contourcarpet": [
           {
            "colorbar": {
             "outlinewidth": 0,
             "ticks": ""
            },
            "type": "contourcarpet"
           }
          ],
          "heatmap": [
           {
            "colorbar": {
             "outlinewidth": 0,
             "ticks": ""
            },
            "colorscale": [
             [
              0,
              "#0d0887"
             ],
             [
              0.1111111111111111,
              "#46039f"
             ],
             [
              0.2222222222222222,
              "#7201a8"
             ],
             [
              0.3333333333333333,
              "#9c179e"
             ],
             [
              0.4444444444444444,
              "#bd3786"
             ],
             [
              0.5555555555555556,
              "#d8576b"
             ],
             [
              0.6666666666666666,
              "#ed7953"
             ],
             [
              0.7777777777777778,
              "#fb9f3a"
             ],
             [
              0.8888888888888888,
              "#fdca26"
             ],
             [
              1,
              "#f0f921"
             ]
            ],
            "type": "heatmap"
           }
          ],
          "heatmapgl": [
           {
            "colorbar": {
             "outlinewidth": 0,
             "ticks": ""
            },
            "colorscale": [
             [
              0,
              "#0d0887"
             ],
             [
              0.1111111111111111,
              "#46039f"
             ],
             [
              0.2222222222222222,
              "#7201a8"
             ],
             [
              0.3333333333333333,
              "#9c179e"
             ],
             [
              0.4444444444444444,
              "#bd3786"
             ],
             [
              0.5555555555555556,
              "#d8576b"
             ],
             [
              0.6666666666666666,
              "#ed7953"
             ],
             [
              0.7777777777777778,
              "#fb9f3a"
             ],
             [
              0.8888888888888888,
              "#fdca26"
             ],
             [
              1,
              "#f0f921"
             ]
            ],
            "type": "heatmapgl"
           }
          ],
          "histogram": [
           {
            "marker": {
             "pattern": {
              "fillmode": "overlay",
              "size": 10,
              "solidity": 0.2
             }
            },
            "type": "histogram"
           }
          ],
          "histogram2d": [
           {
            "colorbar": {
             "outlinewidth": 0,
             "ticks": ""
            },
            "colorscale": [
             [
              0,
              "#0d0887"
             ],
             [
              0.1111111111111111,
              "#46039f"
             ],
             [
              0.2222222222222222,
              "#7201a8"
             ],
             [
              0.3333333333333333,
              "#9c179e"
             ],
             [
              0.4444444444444444,
              "#bd3786"
             ],
             [
              0.5555555555555556,
              "#d8576b"
             ],
             [
              0.6666666666666666,
              "#ed7953"
             ],
             [
              0.7777777777777778,
              "#fb9f3a"
             ],
             [
              0.8888888888888888,
              "#fdca26"
             ],
             [
              1,
              "#f0f921"
             ]
            ],
            "type": "histogram2d"
           }
          ],
          "histogram2dcontour": [
           {
            "colorbar": {
             "outlinewidth": 0,
             "ticks": ""
            },
            "colorscale": [
             [
              0,
              "#0d0887"
             ],
             [
              0.1111111111111111,
              "#46039f"
             ],
             [
              0.2222222222222222,
              "#7201a8"
             ],
             [
              0.3333333333333333,
              "#9c179e"
             ],
             [
              0.4444444444444444,
              "#bd3786"
             ],
             [
              0.5555555555555556,
              "#d8576b"
             ],
             [
              0.6666666666666666,
              "#ed7953"
             ],
             [
              0.7777777777777778,
              "#fb9f3a"
             ],
             [
              0.8888888888888888,
              "#fdca26"
             ],
             [
              1,
              "#f0f921"
             ]
            ],
            "type": "histogram2dcontour"
           }
          ],
          "mesh3d": [
           {
            "colorbar": {
             "outlinewidth": 0,
             "ticks": ""
            },
            "type": "mesh3d"
           }
          ],
          "parcoords": [
           {
            "line": {
             "colorbar": {
              "outlinewidth": 0,
              "ticks": ""
             }
            },
            "type": "parcoords"
           }
          ],
          "pie": [
           {
            "automargin": true,
            "type": "pie"
           }
          ],
          "scatter": [
           {
            "fillpattern": {
             "fillmode": "overlay",
             "size": 10,
             "solidity": 0.2
            },
            "type": "scatter"
           }
          ],
          "scatter3d": [
           {
            "line": {
             "colorbar": {
              "outlinewidth": 0,
              "ticks": ""
             }
            },
            "marker": {
             "colorbar": {
              "outlinewidth": 0,
              "ticks": ""
             }
            },
            "type": "scatter3d"
           }
          ],
          "scattercarpet": [
           {
            "marker": {
             "colorbar": {
              "outlinewidth": 0,
              "ticks": ""
             }
            },
            "type": "scattercarpet"
           }
          ],
          "scattergeo": [
           {
            "marker": {
             "colorbar": {
              "outlinewidth": 0,
              "ticks": ""
             }
            },
            "type": "scattergeo"
           }
          ],
          "scattergl": [
           {
            "marker": {
             "colorbar": {
              "outlinewidth": 0,
              "ticks": ""
             }
            },
            "type": "scattergl"
           }
          ],
          "scattermapbox": [
           {
            "marker": {
             "colorbar": {
              "outlinewidth": 0,
              "ticks": ""
             }
            },
            "type": "scattermapbox"
           }
          ],
          "scatterpolar": [
           {
            "marker": {
             "colorbar": {
              "outlinewidth": 0,
              "ticks": ""
             }
            },
            "type": "scatterpolar"
           }
          ],
          "scatterpolargl": [
           {
            "marker": {
             "colorbar": {
              "outlinewidth": 0,
              "ticks": ""
             }
            },
            "type": "scatterpolargl"
           }
          ],
          "scatterternary": [
           {
            "marker": {
             "colorbar": {
              "outlinewidth": 0,
              "ticks": ""
             }
            },
            "type": "scatterternary"
           }
          ],
          "surface": [
           {
            "colorbar": {
             "outlinewidth": 0,
             "ticks": ""
            },
            "colorscale": [
             [
              0,
              "#0d0887"
             ],
             [
              0.1111111111111111,
              "#46039f"
             ],
             [
              0.2222222222222222,
              "#7201a8"
             ],
             [
              0.3333333333333333,
              "#9c179e"
             ],
             [
              0.4444444444444444,
              "#bd3786"
             ],
             [
              0.5555555555555556,
              "#d8576b"
             ],
             [
              0.6666666666666666,
              "#ed7953"
             ],
             [
              0.7777777777777778,
              "#fb9f3a"
             ],
             [
              0.8888888888888888,
              "#fdca26"
             ],
             [
              1,
              "#f0f921"
             ]
            ],
            "type": "surface"
           }
          ],
          "table": [
           {
            "cells": {
             "fill": {
              "color": "#EBF0F8"
             },
             "line": {
              "color": "white"
             }
            },
            "header": {
             "fill": {
              "color": "#C8D4E3"
             },
             "line": {
              "color": "white"
             }
            },
            "type": "table"
           }
          ]
         },
         "layout": {
          "annotationdefaults": {
           "arrowcolor": "#2a3f5f",
           "arrowhead": 0,
           "arrowwidth": 1
          },
          "autotypenumbers": "strict",
          "coloraxis": {
           "colorbar": {
            "outlinewidth": 0,
            "ticks": ""
           }
          },
          "colorscale": {
           "diverging": [
            [
             0,
             "#8e0152"
            ],
            [
             0.1,
             "#c51b7d"
            ],
            [
             0.2,
             "#de77ae"
            ],
            [
             0.3,
             "#f1b6da"
            ],
            [
             0.4,
             "#fde0ef"
            ],
            [
             0.5,
             "#f7f7f7"
            ],
            [
             0.6,
             "#e6f5d0"
            ],
            [
             0.7,
             "#b8e186"
            ],
            [
             0.8,
             "#7fbc41"
            ],
            [
             0.9,
             "#4d9221"
            ],
            [
             1,
             "#276419"
            ]
           ],
           "sequential": [
            [
             0,
             "#0d0887"
            ],
            [
             0.1111111111111111,
             "#46039f"
            ],
            [
             0.2222222222222222,
             "#7201a8"
            ],
            [
             0.3333333333333333,
             "#9c179e"
            ],
            [
             0.4444444444444444,
             "#bd3786"
            ],
            [
             0.5555555555555556,
             "#d8576b"
            ],
            [
             0.6666666666666666,
             "#ed7953"
            ],
            [
             0.7777777777777778,
             "#fb9f3a"
            ],
            [
             0.8888888888888888,
             "#fdca26"
            ],
            [
             1,
             "#f0f921"
            ]
           ],
           "sequentialminus": [
            [
             0,
             "#0d0887"
            ],
            [
             0.1111111111111111,
             "#46039f"
            ],
            [
             0.2222222222222222,
             "#7201a8"
            ],
            [
             0.3333333333333333,
             "#9c179e"
            ],
            [
             0.4444444444444444,
             "#bd3786"
            ],
            [
             0.5555555555555556,
             "#d8576b"
            ],
            [
             0.6666666666666666,
             "#ed7953"
            ],
            [
             0.7777777777777778,
             "#fb9f3a"
            ],
            [
             0.8888888888888888,
             "#fdca26"
            ],
            [
             1,
             "#f0f921"
            ]
           ]
          },
          "colorway": [
           "#636efa",
           "#EF553B",
           "#00cc96",
           "#ab63fa",
           "#FFA15A",
           "#19d3f3",
           "#FF6692",
           "#B6E880",
           "#FF97FF",
           "#FECB52"
          ],
          "font": {
           "color": "#2a3f5f"
          },
          "geo": {
           "bgcolor": "white",
           "lakecolor": "white",
           "landcolor": "#E5ECF6",
           "showlakes": true,
           "showland": true,
           "subunitcolor": "white"
          },
          "hoverlabel": {
           "align": "left"
          },
          "hovermode": "closest",
          "mapbox": {
           "style": "light"
          },
          "paper_bgcolor": "white",
          "plot_bgcolor": "#E5ECF6",
          "polar": {
           "angularaxis": {
            "gridcolor": "white",
            "linecolor": "white",
            "ticks": ""
           },
           "bgcolor": "#E5ECF6",
           "radialaxis": {
            "gridcolor": "white",
            "linecolor": "white",
            "ticks": ""
           }
          },
          "scene": {
           "xaxis": {
            "backgroundcolor": "#E5ECF6",
            "gridcolor": "white",
            "gridwidth": 2,
            "linecolor": "white",
            "showbackground": true,
            "ticks": "",
            "zerolinecolor": "white"
           },
           "yaxis": {
            "backgroundcolor": "#E5ECF6",
            "gridcolor": "white",
            "gridwidth": 2,
            "linecolor": "white",
            "showbackground": true,
            "ticks": "",
            "zerolinecolor": "white"
           },
           "zaxis": {
            "backgroundcolor": "#E5ECF6",
            "gridcolor": "white",
            "gridwidth": 2,
            "linecolor": "white",
            "showbackground": true,
            "ticks": "",
            "zerolinecolor": "white"
           }
          },
          "shapedefaults": {
           "line": {
            "color": "#2a3f5f"
           }
          },
          "ternary": {
           "aaxis": {
            "gridcolor": "white",
            "linecolor": "white",
            "ticks": ""
           },
           "baxis": {
            "gridcolor": "white",
            "linecolor": "white",
            "ticks": ""
           },
           "bgcolor": "#E5ECF6",
           "caxis": {
            "gridcolor": "white",
            "linecolor": "white",
            "ticks": ""
           }
          },
          "title": {
           "x": 0.05
          },
          "xaxis": {
           "automargin": true,
           "gridcolor": "white",
           "linecolor": "white",
           "ticks": "",
           "title": {
            "standoff": 15
           },
           "zerolinecolor": "white",
           "zerolinewidth": 2
          },
          "yaxis": {
           "automargin": true,
           "gridcolor": "white",
           "linecolor": "white",
           "ticks": "",
           "title": {
            "standoff": 15
           },
           "zerolinecolor": "white",
           "zerolinewidth": 2
          }
         }
        },
        "width": 1400,
        "xaxis": {
         "range": [
          0,
          49
         ],
         "title": {
          "text": "Time"
         }
        },
        "yaxis": {
         "dtick": 1,
         "range": [
          -0.5,
          2.5
         ],
         "tick0": 0,
         "tickmode": "linear",
         "title": {
          "text": "Item Index"
         }
        }
       }
      }
     },
     "metadata": {},
     "output_type": "display_data"
    }
   ],
   "source": [
    "ops['ketchup'] = 2\n",
    "ops['mustard'] = 2\n",
    "\n",
    "# Run scheduler\n",
    "schedule = tms.run_scheduler(num_items, ops, conflicts, sync_starts=True)\n",
    "\n",
    "schedule_duration = tms.calc_schedule_duration(schedule, ops)\n",
    "print(f\"Total Schedule duration is {schedule_duration}\")\n",
    "\n",
    "schedule_efficiency = tms.calc_schedule_efficiency(schedule, ops)\n",
    "print(f\"Schedule efficiency is {schedule_efficiency:.2%}\")\n",
    "\n",
    "tms.plot_schedule(schedule, ops)"
   ]
  },
  {
   "cell_type": "markdown",
   "metadata": {},
   "source": [
    "# Schedules with Waiting"
   ]
  },
  {
   "cell_type": "markdown",
   "metadata": {},
   "source": [
    "## Single Cycle, Conflicts"
   ]
  },
  {
   "cell_type": "code",
   "execution_count": 632,
   "metadata": {},
   "outputs": [
    {
     "data": {
      "image/svg+xml": [
       "<?xml version=\"1.0\" encoding=\"UTF-8\" standalone=\"no\"?>\n",
       "<!DOCTYPE svg PUBLIC \"-//W3C//DTD SVG 1.1//EN\"\n",
       " \"http://www.w3.org/Graphics/SVG/1.1/DTD/svg11.dtd\">\n",
       "<!-- Generated by graphviz version 2.50.0 (0)\n",
       " -->\n",
       "<!-- Pages: 1 -->\n",
       "<svg width=\"235pt\" height=\"116pt\"\n",
       " viewBox=\"0.00 0.00 235.09 116.00\" xmlns=\"http://www.w3.org/2000/svg\" xmlns:xlink=\"http://www.w3.org/1999/xlink\">\n",
       "<g id=\"graph0\" class=\"graph\" transform=\"scale(1 1) rotate(0) translate(4 112)\">\n",
       "<polygon fill=\"white\" stroke=\"transparent\" points=\"-4,4 -4,-112 231.09,-112 231.09,4 -4,4\"/>\n",
       "<!-- stage -->\n",
       "<g id=\"node1\" class=\"node\">\n",
       "<title>stage</title>\n",
       "<ellipse fill=\"none\" stroke=\"black\" cx=\"55.9\" cy=\"-90\" rx=\"46.59\" ry=\"18\"/>\n",
       "<text text-anchor=\"middle\" x=\"55.9\" y=\"-86.3\" font-family=\"Times New Roman,serif\" font-size=\"14.00\">op0: stage</text>\n",
       "</g>\n",
       "<!-- stage&#45;&#45;stage -->\n",
       "<g id=\"edge1\" class=\"edge\">\n",
       "<title>stage&#45;&#45;stage</title>\n",
       "<path fill=\"none\" stroke=\"black\" d=\"M98.91,-103.45C111.21,-102.92 120.69,-98.43 120.69,-90 120.69,-81.57 111.21,-77.08 98.91,-76.55\"/>\n",
       "<polygon fill=\"black\" stroke=\"black\" points=\"98.7,-99.94 88.57,-103.03 98.42,-106.93 98.7,-99.94\"/>\n",
       "<polygon fill=\"black\" stroke=\"black\" points=\"98.42,-73.07 88.57,-76.97 98.7,-80.06 98.42,-73.07\"/>\n",
       "</g>\n",
       "<!-- unstage -->\n",
       "<g id=\"node3\" class=\"node\">\n",
       "<title>unstage</title>\n",
       "<ellipse fill=\"none\" stroke=\"black\" cx=\"55.9\" cy=\"-18\" rx=\"55.79\" ry=\"18\"/>\n",
       "<text text-anchor=\"middle\" x=\"55.9\" y=\"-14.3\" font-family=\"Times New Roman,serif\" font-size=\"14.00\">op2: unstage</text>\n",
       "</g>\n",
       "<!-- stage&#45;&#45;unstage -->\n",
       "<g id=\"edge2\" class=\"edge\">\n",
       "<title>stage&#45;&#45;unstage</title>\n",
       "<path fill=\"none\" stroke=\"black\" d=\"M55.9,-61.67C55.9,-56.69 55.9,-51.49 55.9,-46.51\"/>\n",
       "<polygon fill=\"black\" stroke=\"black\" points=\"52.4,-61.7 55.9,-71.7 59.4,-61.7 52.4,-61.7\"/>\n",
       "<polygon fill=\"black\" stroke=\"black\" points=\"59.4,-46.1 55.9,-36.1 52.4,-46.1 59.4,-46.1\"/>\n",
       "</g>\n",
       "<!-- wait -->\n",
       "<g id=\"node2\" class=\"node\">\n",
       "<title>wait</title>\n",
       "<ellipse fill=\"none\" stroke=\"black\" cx=\"182.9\" cy=\"-90\" rx=\"44.39\" ry=\"18\"/>\n",
       "<text text-anchor=\"middle\" x=\"182.9\" y=\"-86.3\" font-family=\"Times New Roman,serif\" font-size=\"14.00\">op1: wait</text>\n",
       "</g>\n",
       "<!-- unstage&#45;&#45;unstage -->\n",
       "<g id=\"edge3\" class=\"edge\">\n",
       "<title>unstage&#45;&#45;unstage</title>\n",
       "<path fill=\"none\" stroke=\"black\" d=\"M104.55,-31.46C118.77,-31 129.79,-26.51 129.79,-18 129.79,-9.49 118.77,-5 104.55,-4.54\"/>\n",
       "<polygon fill=\"black\" stroke=\"black\" points=\"104.4,-27.95 94.29,-31.14 104.18,-34.95 104.4,-27.95\"/>\n",
       "<polygon fill=\"black\" stroke=\"black\" points=\"104.18,-1.05 94.29,-4.86 104.4,-8.05 104.18,-1.05\"/>\n",
       "</g>\n",
       "</g>\n",
       "</svg>\n"
      ],
      "text/plain": [
       "<graphviz.graphs.Graph at 0x1b91da126f0>"
      ]
     },
     "execution_count": 632,
     "metadata": {},
     "output_type": "execute_result"
    }
   ],
   "source": [
    "ops_single = {}\n",
    "\n",
    "ops_single['stage'] = 20\n",
    "ops_single['wait'] = 3*60\n",
    "ops_single['unstage'] = 5\n",
    "\n",
    "num_ops_single = len(ops_single)\n",
    "conflicts_single = np.zeros([num_ops_single, num_ops_single])\n",
    "\n",
    "tms.define_conflict_by_name(conflicts_single, ops_single, 'stage', 'stage')\n",
    "\n",
    "tms.define_conflict_by_name(conflicts_single, ops_single, 'unstage', 'stage')\n",
    "tms.define_conflict_by_name(conflicts_single, ops_single, 'unstage', 'unstage')\n",
    "\n",
    "tms.graph_conflicts(ops_single, conflicts_single)\n"
   ]
  },
  {
   "cell_type": "markdown",
   "metadata": {},
   "source": [
    "## 2 Slots, Multiple Cycles"
   ]
  },
  {
   "cell_type": "code",
   "execution_count": 633,
   "metadata": {},
   "outputs": [
    {
     "name": "stdout",
     "output_type": "stream",
     "text": [
      "Total Schedule duration is 845.0 (14.083 minutes)\n",
      "Estimated throughput is 0.57 hot dogs per minute\n",
      "Importing plotting tools...\n",
      "Generating plot...\n"
     ]
    },
    {
     "data": {
      "application/vnd.plotly.v1+json": {
       "config": {
        "plotlyServerURL": "https://plot.ly"
       },
       "data": [],
       "layout": {
        "annotations": [
         {
          "bgcolor": "rgba(255,255,255,0.8)",
          "font": {
           "color": "black",
           "size": 10
          },
          "showarrow": false,
          "text": "stage_0",
          "x": 10,
          "y": 0
         },
         {
          "bgcolor": "rgba(255,255,255,0.8)",
          "font": {
           "color": "black",
           "size": 10
          },
          "showarrow": false,
          "text": "wait_0",
          "x": 110,
          "y": 0
         },
         {
          "bgcolor": "rgba(255,255,255,0.8)",
          "font": {
           "color": "black",
           "size": 10
          },
          "showarrow": false,
          "text": "unstage_0",
          "x": 202.5,
          "y": 0
         },
         {
          "bgcolor": "rgba(255,255,255,0.8)",
          "font": {
           "color": "black",
           "size": 10
          },
          "showarrow": false,
          "text": "stage_1",
          "x": 215,
          "y": 0
         },
         {
          "bgcolor": "rgba(255,255,255,0.8)",
          "font": {
           "color": "black",
           "size": 10
          },
          "showarrow": false,
          "text": "wait_1",
          "x": 315,
          "y": 0
         },
         {
          "bgcolor": "rgba(255,255,255,0.8)",
          "font": {
           "color": "black",
           "size": 10
          },
          "showarrow": false,
          "text": "unstage_1",
          "x": 407.5,
          "y": 0
         },
         {
          "bgcolor": "rgba(255,255,255,0.8)",
          "font": {
           "color": "black",
           "size": 10
          },
          "showarrow": false,
          "text": "stage_2",
          "x": 420,
          "y": 0
         },
         {
          "bgcolor": "rgba(255,255,255,0.8)",
          "font": {
           "color": "black",
           "size": 10
          },
          "showarrow": false,
          "text": "wait_2",
          "x": 520,
          "y": 0
         },
         {
          "bgcolor": "rgba(255,255,255,0.8)",
          "font": {
           "color": "black",
           "size": 10
          },
          "showarrow": false,
          "text": "unstage_2",
          "x": 612.5,
          "y": 0
         },
         {
          "bgcolor": "rgba(255,255,255,0.8)",
          "font": {
           "color": "black",
           "size": 10
          },
          "showarrow": false,
          "text": "stage_3",
          "x": 625,
          "y": 0
         },
         {
          "bgcolor": "rgba(255,255,255,0.8)",
          "font": {
           "color": "black",
           "size": 10
          },
          "showarrow": false,
          "text": "wait_3",
          "x": 725,
          "y": 0
         },
         {
          "bgcolor": "rgba(255,255,255,0.8)",
          "font": {
           "color": "black",
           "size": 10
          },
          "showarrow": false,
          "text": "unstage_3",
          "x": 817.5,
          "y": 0
         },
         {
          "bgcolor": "rgba(255,255,255,0.8)",
          "font": {
           "color": "black",
           "size": 10
          },
          "showarrow": false,
          "text": "stage_0",
          "x": 30,
          "y": 1
         },
         {
          "bgcolor": "rgba(255,255,255,0.8)",
          "font": {
           "color": "black",
           "size": 10
          },
          "showarrow": false,
          "text": "wait_0",
          "x": 130,
          "y": 1
         },
         {
          "bgcolor": "rgba(255,255,255,0.8)",
          "font": {
           "color": "black",
           "size": 10
          },
          "showarrow": false,
          "text": "unstage_0",
          "x": 227.5,
          "y": 1
         },
         {
          "bgcolor": "rgba(255,255,255,0.8)",
          "font": {
           "color": "black",
           "size": 10
          },
          "showarrow": false,
          "text": "stage_1",
          "x": 240,
          "y": 1
         },
         {
          "bgcolor": "rgba(255,255,255,0.8)",
          "font": {
           "color": "black",
           "size": 10
          },
          "showarrow": false,
          "text": "wait_1",
          "x": 340,
          "y": 1
         },
         {
          "bgcolor": "rgba(255,255,255,0.8)",
          "font": {
           "color": "black",
           "size": 10
          },
          "showarrow": false,
          "text": "unstage_1",
          "x": 432.5,
          "y": 1
         },
         {
          "bgcolor": "rgba(255,255,255,0.8)",
          "font": {
           "color": "black",
           "size": 10
          },
          "showarrow": false,
          "text": "stage_2",
          "x": 445,
          "y": 1
         },
         {
          "bgcolor": "rgba(255,255,255,0.8)",
          "font": {
           "color": "black",
           "size": 10
          },
          "showarrow": false,
          "text": "wait_2",
          "x": 545,
          "y": 1
         },
         {
          "bgcolor": "rgba(255,255,255,0.8)",
          "font": {
           "color": "black",
           "size": 10
          },
          "showarrow": false,
          "text": "unstage_2",
          "x": 637.5,
          "y": 1
         },
         {
          "bgcolor": "rgba(255,255,255,0.8)",
          "font": {
           "color": "black",
           "size": 10
          },
          "showarrow": false,
          "text": "stage_3",
          "x": 650,
          "y": 1
         },
         {
          "bgcolor": "rgba(255,255,255,0.8)",
          "font": {
           "color": "black",
           "size": 10
          },
          "showarrow": false,
          "text": "wait_3",
          "x": 750,
          "y": 1
         },
         {
          "bgcolor": "rgba(255,255,255,0.8)",
          "font": {
           "color": "black",
           "size": 10
          },
          "showarrow": false,
          "text": "unstage_3",
          "x": 842.5,
          "y": 1
         }
        ],
        "autosize": false,
        "height": 800,
        "shapes": [
         {
          "fillcolor": "#636EFA",
          "line": {
           "color": "black",
           "width": 1
          },
          "type": "rect",
          "x0": 0,
          "x1": 20,
          "y0": -0.5,
          "y1": 0.5
         },
         {
          "fillcolor": "#EF553B",
          "line": {
           "color": "black",
           "width": 1
          },
          "type": "rect",
          "x0": 20,
          "x1": 200,
          "y0": -0.5,
          "y1": 0.5
         },
         {
          "fillcolor": "#00CC96",
          "line": {
           "color": "black",
           "width": 1
          },
          "type": "rect",
          "x0": 200,
          "x1": 205,
          "y0": -0.5,
          "y1": 0.5
         },
         {
          "fillcolor": "#AB63FA",
          "line": {
           "color": "black",
           "width": 1
          },
          "type": "rect",
          "x0": 205,
          "x1": 225,
          "y0": -0.5,
          "y1": 0.5
         },
         {
          "fillcolor": "#FFA15A",
          "line": {
           "color": "black",
           "width": 1
          },
          "type": "rect",
          "x0": 225,
          "x1": 405,
          "y0": -0.5,
          "y1": 0.5
         },
         {
          "fillcolor": "#19D3F3",
          "line": {
           "color": "black",
           "width": 1
          },
          "type": "rect",
          "x0": 405,
          "x1": 410,
          "y0": -0.5,
          "y1": 0.5
         },
         {
          "fillcolor": "#FF6692",
          "line": {
           "color": "black",
           "width": 1
          },
          "type": "rect",
          "x0": 410,
          "x1": 430,
          "y0": -0.5,
          "y1": 0.5
         },
         {
          "fillcolor": "#B6E880",
          "line": {
           "color": "black",
           "width": 1
          },
          "type": "rect",
          "x0": 430,
          "x1": 610,
          "y0": -0.5,
          "y1": 0.5
         },
         {
          "fillcolor": "#FF97FF",
          "line": {
           "color": "black",
           "width": 1
          },
          "type": "rect",
          "x0": 610,
          "x1": 615,
          "y0": -0.5,
          "y1": 0.5
         },
         {
          "fillcolor": "#FECB52",
          "line": {
           "color": "black",
           "width": 1
          },
          "type": "rect",
          "x0": 615,
          "x1": 635,
          "y0": -0.5,
          "y1": 0.5
         },
         {
          "fillcolor": "#636EFA",
          "line": {
           "color": "black",
           "width": 1
          },
          "type": "rect",
          "x0": 635,
          "x1": 815,
          "y0": -0.5,
          "y1": 0.5
         },
         {
          "fillcolor": "#EF553B",
          "line": {
           "color": "black",
           "width": 1
          },
          "type": "rect",
          "x0": 815,
          "x1": 820,
          "y0": -0.5,
          "y1": 0.5
         },
         {
          "fillcolor": "#636EFA",
          "line": {
           "color": "black",
           "width": 1
          },
          "type": "rect",
          "x0": 20,
          "x1": 40,
          "y0": 0.5,
          "y1": 1.5
         },
         {
          "fillcolor": "#EF553B",
          "line": {
           "color": "black",
           "width": 1
          },
          "type": "rect",
          "x0": 40,
          "x1": 220,
          "y0": 0.5,
          "y1": 1.5
         },
         {
          "fillcolor": "#00CC96",
          "line": {
           "color": "black",
           "width": 1
          },
          "type": "rect",
          "x0": 225,
          "x1": 230,
          "y0": 0.5,
          "y1": 1.5
         },
         {
          "fillcolor": "#AB63FA",
          "line": {
           "color": "black",
           "width": 1
          },
          "type": "rect",
          "x0": 230,
          "x1": 250,
          "y0": 0.5,
          "y1": 1.5
         },
         {
          "fillcolor": "#FFA15A",
          "line": {
           "color": "black",
           "width": 1
          },
          "type": "rect",
          "x0": 250,
          "x1": 430,
          "y0": 0.5,
          "y1": 1.5
         },
         {
          "fillcolor": "#19D3F3",
          "line": {
           "color": "black",
           "width": 1
          },
          "type": "rect",
          "x0": 430,
          "x1": 435,
          "y0": 0.5,
          "y1": 1.5
         },
         {
          "fillcolor": "#FF6692",
          "line": {
           "color": "black",
           "width": 1
          },
          "type": "rect",
          "x0": 435,
          "x1": 455,
          "y0": 0.5,
          "y1": 1.5
         },
         {
          "fillcolor": "#B6E880",
          "line": {
           "color": "black",
           "width": 1
          },
          "type": "rect",
          "x0": 455,
          "x1": 635,
          "y0": 0.5,
          "y1": 1.5
         },
         {
          "fillcolor": "#FF97FF",
          "line": {
           "color": "black",
           "width": 1
          },
          "type": "rect",
          "x0": 635,
          "x1": 640,
          "y0": 0.5,
          "y1": 1.5
         },
         {
          "fillcolor": "#FECB52",
          "line": {
           "color": "black",
           "width": 1
          },
          "type": "rect",
          "x0": 640,
          "x1": 660,
          "y0": 0.5,
          "y1": 1.5
         },
         {
          "fillcolor": "#636EFA",
          "line": {
           "color": "black",
           "width": 1
          },
          "type": "rect",
          "x0": 660,
          "x1": 840,
          "y0": 0.5,
          "y1": 1.5
         },
         {
          "fillcolor": "#EF553B",
          "line": {
           "color": "black",
           "width": 1
          },
          "type": "rect",
          "x0": 840,
          "x1": 845,
          "y0": 0.5,
          "y1": 1.5
         }
        ],
        "template": {
         "data": {
          "bar": [
           {
            "error_x": {
             "color": "#2a3f5f"
            },
            "error_y": {
             "color": "#2a3f5f"
            },
            "marker": {
             "line": {
              "color": "#E5ECF6",
              "width": 0.5
             },
             "pattern": {
              "fillmode": "overlay",
              "size": 10,
              "solidity": 0.2
             }
            },
            "type": "bar"
           }
          ],
          "barpolar": [
           {
            "marker": {
             "line": {
              "color": "#E5ECF6",
              "width": 0.5
             },
             "pattern": {
              "fillmode": "overlay",
              "size": 10,
              "solidity": 0.2
             }
            },
            "type": "barpolar"
           }
          ],
          "carpet": [
           {
            "aaxis": {
             "endlinecolor": "#2a3f5f",
             "gridcolor": "white",
             "linecolor": "white",
             "minorgridcolor": "white",
             "startlinecolor": "#2a3f5f"
            },
            "baxis": {
             "endlinecolor": "#2a3f5f",
             "gridcolor": "white",
             "linecolor": "white",
             "minorgridcolor": "white",
             "startlinecolor": "#2a3f5f"
            },
            "type": "carpet"
           }
          ],
          "choropleth": [
           {
            "colorbar": {
             "outlinewidth": 0,
             "ticks": ""
            },
            "type": "choropleth"
           }
          ],
          "contour": [
           {
            "colorbar": {
             "outlinewidth": 0,
             "ticks": ""
            },
            "colorscale": [
             [
              0,
              "#0d0887"
             ],
             [
              0.1111111111111111,
              "#46039f"
             ],
             [
              0.2222222222222222,
              "#7201a8"
             ],
             [
              0.3333333333333333,
              "#9c179e"
             ],
             [
              0.4444444444444444,
              "#bd3786"
             ],
             [
              0.5555555555555556,
              "#d8576b"
             ],
             [
              0.6666666666666666,
              "#ed7953"
             ],
             [
              0.7777777777777778,
              "#fb9f3a"
             ],
             [
              0.8888888888888888,
              "#fdca26"
             ],
             [
              1,
              "#f0f921"
             ]
            ],
            "type": "contour"
           }
          ],
          "contourcarpet": [
           {
            "colorbar": {
             "outlinewidth": 0,
             "ticks": ""
            },
            "type": "contourcarpet"
           }
          ],
          "heatmap": [
           {
            "colorbar": {
             "outlinewidth": 0,
             "ticks": ""
            },
            "colorscale": [
             [
              0,
              "#0d0887"
             ],
             [
              0.1111111111111111,
              "#46039f"
             ],
             [
              0.2222222222222222,
              "#7201a8"
             ],
             [
              0.3333333333333333,
              "#9c179e"
             ],
             [
              0.4444444444444444,
              "#bd3786"
             ],
             [
              0.5555555555555556,
              "#d8576b"
             ],
             [
              0.6666666666666666,
              "#ed7953"
             ],
             [
              0.7777777777777778,
              "#fb9f3a"
             ],
             [
              0.8888888888888888,
              "#fdca26"
             ],
             [
              1,
              "#f0f921"
             ]
            ],
            "type": "heatmap"
           }
          ],
          "heatmapgl": [
           {
            "colorbar": {
             "outlinewidth": 0,
             "ticks": ""
            },
            "colorscale": [
             [
              0,
              "#0d0887"
             ],
             [
              0.1111111111111111,
              "#46039f"
             ],
             [
              0.2222222222222222,
              "#7201a8"
             ],
             [
              0.3333333333333333,
              "#9c179e"
             ],
             [
              0.4444444444444444,
              "#bd3786"
             ],
             [
              0.5555555555555556,
              "#d8576b"
             ],
             [
              0.6666666666666666,
              "#ed7953"
             ],
             [
              0.7777777777777778,
              "#fb9f3a"
             ],
             [
              0.8888888888888888,
              "#fdca26"
             ],
             [
              1,
              "#f0f921"
             ]
            ],
            "type": "heatmapgl"
           }
          ],
          "histogram": [
           {
            "marker": {
             "pattern": {
              "fillmode": "overlay",
              "size": 10,
              "solidity": 0.2
             }
            },
            "type": "histogram"
           }
          ],
          "histogram2d": [
           {
            "colorbar": {
             "outlinewidth": 0,
             "ticks": ""
            },
            "colorscale": [
             [
              0,
              "#0d0887"
             ],
             [
              0.1111111111111111,
              "#46039f"
             ],
             [
              0.2222222222222222,
              "#7201a8"
             ],
             [
              0.3333333333333333,
              "#9c179e"
             ],
             [
              0.4444444444444444,
              "#bd3786"
             ],
             [
              0.5555555555555556,
              "#d8576b"
             ],
             [
              0.6666666666666666,
              "#ed7953"
             ],
             [
              0.7777777777777778,
              "#fb9f3a"
             ],
             [
              0.8888888888888888,
              "#fdca26"
             ],
             [
              1,
              "#f0f921"
             ]
            ],
            "type": "histogram2d"
           }
          ],
          "histogram2dcontour": [
           {
            "colorbar": {
             "outlinewidth": 0,
             "ticks": ""
            },
            "colorscale": [
             [
              0,
              "#0d0887"
             ],
             [
              0.1111111111111111,
              "#46039f"
             ],
             [
              0.2222222222222222,
              "#7201a8"
             ],
             [
              0.3333333333333333,
              "#9c179e"
             ],
             [
              0.4444444444444444,
              "#bd3786"
             ],
             [
              0.5555555555555556,
              "#d8576b"
             ],
             [
              0.6666666666666666,
              "#ed7953"
             ],
             [
              0.7777777777777778,
              "#fb9f3a"
             ],
             [
              0.8888888888888888,
              "#fdca26"
             ],
             [
              1,
              "#f0f921"
             ]
            ],
            "type": "histogram2dcontour"
           }
          ],
          "mesh3d": [
           {
            "colorbar": {
             "outlinewidth": 0,
             "ticks": ""
            },
            "type": "mesh3d"
           }
          ],
          "parcoords": [
           {
            "line": {
             "colorbar": {
              "outlinewidth": 0,
              "ticks": ""
             }
            },
            "type": "parcoords"
           }
          ],
          "pie": [
           {
            "automargin": true,
            "type": "pie"
           }
          ],
          "scatter": [
           {
            "fillpattern": {
             "fillmode": "overlay",
             "size": 10,
             "solidity": 0.2
            },
            "type": "scatter"
           }
          ],
          "scatter3d": [
           {
            "line": {
             "colorbar": {
              "outlinewidth": 0,
              "ticks": ""
             }
            },
            "marker": {
             "colorbar": {
              "outlinewidth": 0,
              "ticks": ""
             }
            },
            "type": "scatter3d"
           }
          ],
          "scattercarpet": [
           {
            "marker": {
             "colorbar": {
              "outlinewidth": 0,
              "ticks": ""
             }
            },
            "type": "scattercarpet"
           }
          ],
          "scattergeo": [
           {
            "marker": {
             "colorbar": {
              "outlinewidth": 0,
              "ticks": ""
             }
            },
            "type": "scattergeo"
           }
          ],
          "scattergl": [
           {
            "marker": {
             "colorbar": {
              "outlinewidth": 0,
              "ticks": ""
             }
            },
            "type": "scattergl"
           }
          ],
          "scattermapbox": [
           {
            "marker": {
             "colorbar": {
              "outlinewidth": 0,
              "ticks": ""
             }
            },
            "type": "scattermapbox"
           }
          ],
          "scatterpolar": [
           {
            "marker": {
             "colorbar": {
              "outlinewidth": 0,
              "ticks": ""
             }
            },
            "type": "scatterpolar"
           }
          ],
          "scatterpolargl": [
           {
            "marker": {
             "colorbar": {
              "outlinewidth": 0,
              "ticks": ""
             }
            },
            "type": "scatterpolargl"
           }
          ],
          "scatterternary": [
           {
            "marker": {
             "colorbar": {
              "outlinewidth": 0,
              "ticks": ""
             }
            },
            "type": "scatterternary"
           }
          ],
          "surface": [
           {
            "colorbar": {
             "outlinewidth": 0,
             "ticks": ""
            },
            "colorscale": [
             [
              0,
              "#0d0887"
             ],
             [
              0.1111111111111111,
              "#46039f"
             ],
             [
              0.2222222222222222,
              "#7201a8"
             ],
             [
              0.3333333333333333,
              "#9c179e"
             ],
             [
              0.4444444444444444,
              "#bd3786"
             ],
             [
              0.5555555555555556,
              "#d8576b"
             ],
             [
              0.6666666666666666,
              "#ed7953"
             ],
             [
              0.7777777777777778,
              "#fb9f3a"
             ],
             [
              0.8888888888888888,
              "#fdca26"
             ],
             [
              1,
              "#f0f921"
             ]
            ],
            "type": "surface"
           }
          ],
          "table": [
           {
            "cells": {
             "fill": {
              "color": "#EBF0F8"
             },
             "line": {
              "color": "white"
             }
            },
            "header": {
             "fill": {
              "color": "#C8D4E3"
             },
             "line": {
              "color": "white"
             }
            },
            "type": "table"
           }
          ]
         },
         "layout": {
          "annotationdefaults": {
           "arrowcolor": "#2a3f5f",
           "arrowhead": 0,
           "arrowwidth": 1
          },
          "autotypenumbers": "strict",
          "coloraxis": {
           "colorbar": {
            "outlinewidth": 0,
            "ticks": ""
           }
          },
          "colorscale": {
           "diverging": [
            [
             0,
             "#8e0152"
            ],
            [
             0.1,
             "#c51b7d"
            ],
            [
             0.2,
             "#de77ae"
            ],
            [
             0.3,
             "#f1b6da"
            ],
            [
             0.4,
             "#fde0ef"
            ],
            [
             0.5,
             "#f7f7f7"
            ],
            [
             0.6,
             "#e6f5d0"
            ],
            [
             0.7,
             "#b8e186"
            ],
            [
             0.8,
             "#7fbc41"
            ],
            [
             0.9,
             "#4d9221"
            ],
            [
             1,
             "#276419"
            ]
           ],
           "sequential": [
            [
             0,
             "#0d0887"
            ],
            [
             0.1111111111111111,
             "#46039f"
            ],
            [
             0.2222222222222222,
             "#7201a8"
            ],
            [
             0.3333333333333333,
             "#9c179e"
            ],
            [
             0.4444444444444444,
             "#bd3786"
            ],
            [
             0.5555555555555556,
             "#d8576b"
            ],
            [
             0.6666666666666666,
             "#ed7953"
            ],
            [
             0.7777777777777778,
             "#fb9f3a"
            ],
            [
             0.8888888888888888,
             "#fdca26"
            ],
            [
             1,
             "#f0f921"
            ]
           ],
           "sequentialminus": [
            [
             0,
             "#0d0887"
            ],
            [
             0.1111111111111111,
             "#46039f"
            ],
            [
             0.2222222222222222,
             "#7201a8"
            ],
            [
             0.3333333333333333,
             "#9c179e"
            ],
            [
             0.4444444444444444,
             "#bd3786"
            ],
            [
             0.5555555555555556,
             "#d8576b"
            ],
            [
             0.6666666666666666,
             "#ed7953"
            ],
            [
             0.7777777777777778,
             "#fb9f3a"
            ],
            [
             0.8888888888888888,
             "#fdca26"
            ],
            [
             1,
             "#f0f921"
            ]
           ]
          },
          "colorway": [
           "#636efa",
           "#EF553B",
           "#00cc96",
           "#ab63fa",
           "#FFA15A",
           "#19d3f3",
           "#FF6692",
           "#B6E880",
           "#FF97FF",
           "#FECB52"
          ],
          "font": {
           "color": "#2a3f5f"
          },
          "geo": {
           "bgcolor": "white",
           "lakecolor": "white",
           "landcolor": "#E5ECF6",
           "showlakes": true,
           "showland": true,
           "subunitcolor": "white"
          },
          "hoverlabel": {
           "align": "left"
          },
          "hovermode": "closest",
          "mapbox": {
           "style": "light"
          },
          "paper_bgcolor": "white",
          "plot_bgcolor": "#E5ECF6",
          "polar": {
           "angularaxis": {
            "gridcolor": "white",
            "linecolor": "white",
            "ticks": ""
           },
           "bgcolor": "#E5ECF6",
           "radialaxis": {
            "gridcolor": "white",
            "linecolor": "white",
            "ticks": ""
           }
          },
          "scene": {
           "xaxis": {
            "backgroundcolor": "#E5ECF6",
            "gridcolor": "white",
            "gridwidth": 2,
            "linecolor": "white",
            "showbackground": true,
            "ticks": "",
            "zerolinecolor": "white"
           },
           "yaxis": {
            "backgroundcolor": "#E5ECF6",
            "gridcolor": "white",
            "gridwidth": 2,
            "linecolor": "white",
            "showbackground": true,
            "ticks": "",
            "zerolinecolor": "white"
           },
           "zaxis": {
            "backgroundcolor": "#E5ECF6",
            "gridcolor": "white",
            "gridwidth": 2,
            "linecolor": "white",
            "showbackground": true,
            "ticks": "",
            "zerolinecolor": "white"
           }
          },
          "shapedefaults": {
           "line": {
            "color": "#2a3f5f"
           }
          },
          "ternary": {
           "aaxis": {
            "gridcolor": "white",
            "linecolor": "white",
            "ticks": ""
           },
           "baxis": {
            "gridcolor": "white",
            "linecolor": "white",
            "ticks": ""
           },
           "bgcolor": "#E5ECF6",
           "caxis": {
            "gridcolor": "white",
            "linecolor": "white",
            "ticks": ""
           }
          },
          "title": {
           "x": 0.05
          },
          "xaxis": {
           "automargin": true,
           "gridcolor": "white",
           "linecolor": "white",
           "ticks": "",
           "title": {
            "standoff": 15
           },
           "zerolinecolor": "white",
           "zerolinewidth": 2
          },
          "yaxis": {
           "automargin": true,
           "gridcolor": "white",
           "linecolor": "white",
           "ticks": "",
           "title": {
            "standoff": 15
           },
           "zerolinecolor": "white",
           "zerolinewidth": 2
          }
         }
        },
        "width": 1400,
        "xaxis": {
         "range": [
          0,
          845
         ],
         "title": {
          "text": "Time"
         }
        },
        "yaxis": {
         "dtick": 1,
         "range": [
          -0.5,
          1.5
         ],
         "tick0": 0,
         "tickmode": "linear",
         "title": {
          "text": "Item Index"
         }
        }
       }
      }
     },
     "metadata": {},
     "output_type": "display_data"
    }
   ],
   "source": [
    "# Generate new set op operations that repeats multiple times\n",
    "num_cycles = 4\n",
    "(ops, conflicts) = tms.generate_sequential_ops(ops_single, conflicts_single, num_cycles)\n",
    "\n",
    "\n",
    "# Run scheduler\n",
    "num_items = 2\n",
    "schedule = tms.run_scheduler(num_items, ops, conflicts, sync_starts=False)\n",
    "\n",
    "schedule_duration = tms.calc_schedule_duration(schedule, ops)\n",
    "print(f\"Total Schedule duration is {schedule_duration} ({(schedule_duration/60.0):.3f} minutes)\")\n",
    "print(f\"Estimated throughput is {(num_items * num_cycles) / (schedule_duration/60.0):.2f} hot dogs per minute\")\n",
    "\n",
    "tms.plot_schedule(schedule, ops, label_size=10)"
   ]
  },
  {
   "cell_type": "markdown",
   "metadata": {},
   "source": [
    "## 4 Slots"
   ]
  },
  {
   "cell_type": "code",
   "execution_count": 634,
   "metadata": {},
   "outputs": [
    {
     "name": "stdout",
     "output_type": "stream",
     "text": [
      "Total Schedule duration is 895.0 (14.917 minutes)\n",
      "Estimated throughput is 1.07 hot dogs per minute\n",
      "Importing plotting tools...\n",
      "Generating plot...\n"
     ]
    },
    {
     "data": {
      "application/vnd.plotly.v1+json": {
       "config": {
        "plotlyServerURL": "https://plot.ly"
       },
       "data": [],
       "layout": {
        "annotations": [
         {
          "bgcolor": "rgba(255,255,255,0.8)",
          "font": {
           "color": "black",
           "size": 10
          },
          "showarrow": false,
          "text": "stage_0",
          "x": 10,
          "y": 0
         },
         {
          "bgcolor": "rgba(255,255,255,0.8)",
          "font": {
           "color": "black",
           "size": 10
          },
          "showarrow": false,
          "text": "wait_0",
          "x": 110,
          "y": 0
         },
         {
          "bgcolor": "rgba(255,255,255,0.8)",
          "font": {
           "color": "black",
           "size": 10
          },
          "showarrow": false,
          "text": "unstage_0",
          "x": 202.5,
          "y": 0
         },
         {
          "bgcolor": "rgba(255,255,255,0.8)",
          "font": {
           "color": "black",
           "size": 10
          },
          "showarrow": false,
          "text": "stage_1",
          "x": 215,
          "y": 0
         },
         {
          "bgcolor": "rgba(255,255,255,0.8)",
          "font": {
           "color": "black",
           "size": 10
          },
          "showarrow": false,
          "text": "wait_1",
          "x": 315,
          "y": 0
         },
         {
          "bgcolor": "rgba(255,255,255,0.8)",
          "font": {
           "color": "black",
           "size": 10
          },
          "showarrow": false,
          "text": "unstage_1",
          "x": 407.5,
          "y": 0
         },
         {
          "bgcolor": "rgba(255,255,255,0.8)",
          "font": {
           "color": "black",
           "size": 10
          },
          "showarrow": false,
          "text": "stage_2",
          "x": 420,
          "y": 0
         },
         {
          "bgcolor": "rgba(255,255,255,0.8)",
          "font": {
           "color": "black",
           "size": 10
          },
          "showarrow": false,
          "text": "wait_2",
          "x": 520,
          "y": 0
         },
         {
          "bgcolor": "rgba(255,255,255,0.8)",
          "font": {
           "color": "black",
           "size": 10
          },
          "showarrow": false,
          "text": "unstage_2",
          "x": 612.5,
          "y": 0
         },
         {
          "bgcolor": "rgba(255,255,255,0.8)",
          "font": {
           "color": "black",
           "size": 10
          },
          "showarrow": false,
          "text": "stage_3",
          "x": 625,
          "y": 0
         },
         {
          "bgcolor": "rgba(255,255,255,0.8)",
          "font": {
           "color": "black",
           "size": 10
          },
          "showarrow": false,
          "text": "wait_3",
          "x": 725,
          "y": 0
         },
         {
          "bgcolor": "rgba(255,255,255,0.8)",
          "font": {
           "color": "black",
           "size": 10
          },
          "showarrow": false,
          "text": "unstage_3",
          "x": 817.5,
          "y": 0
         },
         {
          "bgcolor": "rgba(255,255,255,0.8)",
          "font": {
           "color": "black",
           "size": 10
          },
          "showarrow": false,
          "text": "stage_0",
          "x": 30,
          "y": 1
         },
         {
          "bgcolor": "rgba(255,255,255,0.8)",
          "font": {
           "color": "black",
           "size": 10
          },
          "showarrow": false,
          "text": "wait_0",
          "x": 130,
          "y": 1
         },
         {
          "bgcolor": "rgba(255,255,255,0.8)",
          "font": {
           "color": "black",
           "size": 10
          },
          "showarrow": false,
          "text": "unstage_0",
          "x": 227.5,
          "y": 1
         },
         {
          "bgcolor": "rgba(255,255,255,0.8)",
          "font": {
           "color": "black",
           "size": 10
          },
          "showarrow": false,
          "text": "stage_1",
          "x": 240,
          "y": 1
         },
         {
          "bgcolor": "rgba(255,255,255,0.8)",
          "font": {
           "color": "black",
           "size": 10
          },
          "showarrow": false,
          "text": "wait_1",
          "x": 340,
          "y": 1
         },
         {
          "bgcolor": "rgba(255,255,255,0.8)",
          "font": {
           "color": "black",
           "size": 10
          },
          "showarrow": false,
          "text": "unstage_1",
          "x": 432.5,
          "y": 1
         },
         {
          "bgcolor": "rgba(255,255,255,0.8)",
          "font": {
           "color": "black",
           "size": 10
          },
          "showarrow": false,
          "text": "stage_2",
          "x": 445,
          "y": 1
         },
         {
          "bgcolor": "rgba(255,255,255,0.8)",
          "font": {
           "color": "black",
           "size": 10
          },
          "showarrow": false,
          "text": "wait_2",
          "x": 545,
          "y": 1
         },
         {
          "bgcolor": "rgba(255,255,255,0.8)",
          "font": {
           "color": "black",
           "size": 10
          },
          "showarrow": false,
          "text": "unstage_2",
          "x": 637.5,
          "y": 1
         },
         {
          "bgcolor": "rgba(255,255,255,0.8)",
          "font": {
           "color": "black",
           "size": 10
          },
          "showarrow": false,
          "text": "stage_3",
          "x": 650,
          "y": 1
         },
         {
          "bgcolor": "rgba(255,255,255,0.8)",
          "font": {
           "color": "black",
           "size": 10
          },
          "showarrow": false,
          "text": "wait_3",
          "x": 750,
          "y": 1
         },
         {
          "bgcolor": "rgba(255,255,255,0.8)",
          "font": {
           "color": "black",
           "size": 10
          },
          "showarrow": false,
          "text": "unstage_3",
          "x": 842.5,
          "y": 1
         },
         {
          "bgcolor": "rgba(255,255,255,0.8)",
          "font": {
           "color": "black",
           "size": 10
          },
          "showarrow": false,
          "text": "stage_0",
          "x": 50,
          "y": 2
         },
         {
          "bgcolor": "rgba(255,255,255,0.8)",
          "font": {
           "color": "black",
           "size": 10
          },
          "showarrow": false,
          "text": "wait_0",
          "x": 150,
          "y": 2
         },
         {
          "bgcolor": "rgba(255,255,255,0.8)",
          "font": {
           "color": "black",
           "size": 10
          },
          "showarrow": false,
          "text": "unstage_0",
          "x": 252.5,
          "y": 2
         },
         {
          "bgcolor": "rgba(255,255,255,0.8)",
          "font": {
           "color": "black",
           "size": 10
          },
          "showarrow": false,
          "text": "stage_1",
          "x": 265,
          "y": 2
         },
         {
          "bgcolor": "rgba(255,255,255,0.8)",
          "font": {
           "color": "black",
           "size": 10
          },
          "showarrow": false,
          "text": "wait_1",
          "x": 365,
          "y": 2
         },
         {
          "bgcolor": "rgba(255,255,255,0.8)",
          "font": {
           "color": "black",
           "size": 10
          },
          "showarrow": false,
          "text": "unstage_1",
          "x": 457.5,
          "y": 2
         },
         {
          "bgcolor": "rgba(255,255,255,0.8)",
          "font": {
           "color": "black",
           "size": 10
          },
          "showarrow": false,
          "text": "stage_2",
          "x": 470,
          "y": 2
         },
         {
          "bgcolor": "rgba(255,255,255,0.8)",
          "font": {
           "color": "black",
           "size": 10
          },
          "showarrow": false,
          "text": "wait_2",
          "x": 570,
          "y": 2
         },
         {
          "bgcolor": "rgba(255,255,255,0.8)",
          "font": {
           "color": "black",
           "size": 10
          },
          "showarrow": false,
          "text": "unstage_2",
          "x": 662.5,
          "y": 2
         },
         {
          "bgcolor": "rgba(255,255,255,0.8)",
          "font": {
           "color": "black",
           "size": 10
          },
          "showarrow": false,
          "text": "stage_3",
          "x": 675,
          "y": 2
         },
         {
          "bgcolor": "rgba(255,255,255,0.8)",
          "font": {
           "color": "black",
           "size": 10
          },
          "showarrow": false,
          "text": "wait_3",
          "x": 775,
          "y": 2
         },
         {
          "bgcolor": "rgba(255,255,255,0.8)",
          "font": {
           "color": "black",
           "size": 10
          },
          "showarrow": false,
          "text": "unstage_3",
          "x": 867.5,
          "y": 2
         },
         {
          "bgcolor": "rgba(255,255,255,0.8)",
          "font": {
           "color": "black",
           "size": 10
          },
          "showarrow": false,
          "text": "stage_0",
          "x": 70,
          "y": 3
         },
         {
          "bgcolor": "rgba(255,255,255,0.8)",
          "font": {
           "color": "black",
           "size": 10
          },
          "showarrow": false,
          "text": "wait_0",
          "x": 170,
          "y": 3
         },
         {
          "bgcolor": "rgba(255,255,255,0.8)",
          "font": {
           "color": "black",
           "size": 10
          },
          "showarrow": false,
          "text": "unstage_0",
          "x": 277.5,
          "y": 3
         },
         {
          "bgcolor": "rgba(255,255,255,0.8)",
          "font": {
           "color": "black",
           "size": 10
          },
          "showarrow": false,
          "text": "stage_1",
          "x": 290,
          "y": 3
         },
         {
          "bgcolor": "rgba(255,255,255,0.8)",
          "font": {
           "color": "black",
           "size": 10
          },
          "showarrow": false,
          "text": "wait_1",
          "x": 390,
          "y": 3
         },
         {
          "bgcolor": "rgba(255,255,255,0.8)",
          "font": {
           "color": "black",
           "size": 10
          },
          "showarrow": false,
          "text": "unstage_1",
          "x": 482.5,
          "y": 3
         },
         {
          "bgcolor": "rgba(255,255,255,0.8)",
          "font": {
           "color": "black",
           "size": 10
          },
          "showarrow": false,
          "text": "stage_2",
          "x": 495,
          "y": 3
         },
         {
          "bgcolor": "rgba(255,255,255,0.8)",
          "font": {
           "color": "black",
           "size": 10
          },
          "showarrow": false,
          "text": "wait_2",
          "x": 595,
          "y": 3
         },
         {
          "bgcolor": "rgba(255,255,255,0.8)",
          "font": {
           "color": "black",
           "size": 10
          },
          "showarrow": false,
          "text": "unstage_2",
          "x": 687.5,
          "y": 3
         },
         {
          "bgcolor": "rgba(255,255,255,0.8)",
          "font": {
           "color": "black",
           "size": 10
          },
          "showarrow": false,
          "text": "stage_3",
          "x": 700,
          "y": 3
         },
         {
          "bgcolor": "rgba(255,255,255,0.8)",
          "font": {
           "color": "black",
           "size": 10
          },
          "showarrow": false,
          "text": "wait_3",
          "x": 800,
          "y": 3
         },
         {
          "bgcolor": "rgba(255,255,255,0.8)",
          "font": {
           "color": "black",
           "size": 10
          },
          "showarrow": false,
          "text": "unstage_3",
          "x": 892.5,
          "y": 3
         }
        ],
        "autosize": false,
        "height": 800,
        "shapes": [
         {
          "fillcolor": "#636EFA",
          "line": {
           "color": "black",
           "width": 1
          },
          "type": "rect",
          "x0": 0,
          "x1": 20,
          "y0": -0.5,
          "y1": 0.5
         },
         {
          "fillcolor": "#EF553B",
          "line": {
           "color": "black",
           "width": 1
          },
          "type": "rect",
          "x0": 20,
          "x1": 200,
          "y0": -0.5,
          "y1": 0.5
         },
         {
          "fillcolor": "#00CC96",
          "line": {
           "color": "black",
           "width": 1
          },
          "type": "rect",
          "x0": 200,
          "x1": 205,
          "y0": -0.5,
          "y1": 0.5
         },
         {
          "fillcolor": "#AB63FA",
          "line": {
           "color": "black",
           "width": 1
          },
          "type": "rect",
          "x0": 205,
          "x1": 225,
          "y0": -0.5,
          "y1": 0.5
         },
         {
          "fillcolor": "#FFA15A",
          "line": {
           "color": "black",
           "width": 1
          },
          "type": "rect",
          "x0": 225,
          "x1": 405,
          "y0": -0.5,
          "y1": 0.5
         },
         {
          "fillcolor": "#19D3F3",
          "line": {
           "color": "black",
           "width": 1
          },
          "type": "rect",
          "x0": 405,
          "x1": 410,
          "y0": -0.5,
          "y1": 0.5
         },
         {
          "fillcolor": "#FF6692",
          "line": {
           "color": "black",
           "width": 1
          },
          "type": "rect",
          "x0": 410,
          "x1": 430,
          "y0": -0.5,
          "y1": 0.5
         },
         {
          "fillcolor": "#B6E880",
          "line": {
           "color": "black",
           "width": 1
          },
          "type": "rect",
          "x0": 430,
          "x1": 610,
          "y0": -0.5,
          "y1": 0.5
         },
         {
          "fillcolor": "#FF97FF",
          "line": {
           "color": "black",
           "width": 1
          },
          "type": "rect",
          "x0": 610,
          "x1": 615,
          "y0": -0.5,
          "y1": 0.5
         },
         {
          "fillcolor": "#FECB52",
          "line": {
           "color": "black",
           "width": 1
          },
          "type": "rect",
          "x0": 615,
          "x1": 635,
          "y0": -0.5,
          "y1": 0.5
         },
         {
          "fillcolor": "#636EFA",
          "line": {
           "color": "black",
           "width": 1
          },
          "type": "rect",
          "x0": 635,
          "x1": 815,
          "y0": -0.5,
          "y1": 0.5
         },
         {
          "fillcolor": "#EF553B",
          "line": {
           "color": "black",
           "width": 1
          },
          "type": "rect",
          "x0": 815,
          "x1": 820,
          "y0": -0.5,
          "y1": 0.5
         },
         {
          "fillcolor": "#636EFA",
          "line": {
           "color": "black",
           "width": 1
          },
          "type": "rect",
          "x0": 20,
          "x1": 40,
          "y0": 0.5,
          "y1": 1.5
         },
         {
          "fillcolor": "#EF553B",
          "line": {
           "color": "black",
           "width": 1
          },
          "type": "rect",
          "x0": 40,
          "x1": 220,
          "y0": 0.5,
          "y1": 1.5
         },
         {
          "fillcolor": "#00CC96",
          "line": {
           "color": "black",
           "width": 1
          },
          "type": "rect",
          "x0": 225,
          "x1": 230,
          "y0": 0.5,
          "y1": 1.5
         },
         {
          "fillcolor": "#AB63FA",
          "line": {
           "color": "black",
           "width": 1
          },
          "type": "rect",
          "x0": 230,
          "x1": 250,
          "y0": 0.5,
          "y1": 1.5
         },
         {
          "fillcolor": "#FFA15A",
          "line": {
           "color": "black",
           "width": 1
          },
          "type": "rect",
          "x0": 250,
          "x1": 430,
          "y0": 0.5,
          "y1": 1.5
         },
         {
          "fillcolor": "#19D3F3",
          "line": {
           "color": "black",
           "width": 1
          },
          "type": "rect",
          "x0": 430,
          "x1": 435,
          "y0": 0.5,
          "y1": 1.5
         },
         {
          "fillcolor": "#FF6692",
          "line": {
           "color": "black",
           "width": 1
          },
          "type": "rect",
          "x0": 435,
          "x1": 455,
          "y0": 0.5,
          "y1": 1.5
         },
         {
          "fillcolor": "#B6E880",
          "line": {
           "color": "black",
           "width": 1
          },
          "type": "rect",
          "x0": 455,
          "x1": 635,
          "y0": 0.5,
          "y1": 1.5
         },
         {
          "fillcolor": "#FF97FF",
          "line": {
           "color": "black",
           "width": 1
          },
          "type": "rect",
          "x0": 635,
          "x1": 640,
          "y0": 0.5,
          "y1": 1.5
         },
         {
          "fillcolor": "#FECB52",
          "line": {
           "color": "black",
           "width": 1
          },
          "type": "rect",
          "x0": 640,
          "x1": 660,
          "y0": 0.5,
          "y1": 1.5
         },
         {
          "fillcolor": "#636EFA",
          "line": {
           "color": "black",
           "width": 1
          },
          "type": "rect",
          "x0": 660,
          "x1": 840,
          "y0": 0.5,
          "y1": 1.5
         },
         {
          "fillcolor": "#EF553B",
          "line": {
           "color": "black",
           "width": 1
          },
          "type": "rect",
          "x0": 840,
          "x1": 845,
          "y0": 0.5,
          "y1": 1.5
         },
         {
          "fillcolor": "#636EFA",
          "line": {
           "color": "black",
           "width": 1
          },
          "type": "rect",
          "x0": 40,
          "x1": 60,
          "y0": 1.5,
          "y1": 2.5
         },
         {
          "fillcolor": "#EF553B",
          "line": {
           "color": "black",
           "width": 1
          },
          "type": "rect",
          "x0": 60,
          "x1": 240,
          "y0": 1.5,
          "y1": 2.5
         },
         {
          "fillcolor": "#00CC96",
          "line": {
           "color": "black",
           "width": 1
          },
          "type": "rect",
          "x0": 250,
          "x1": 255,
          "y0": 1.5,
          "y1": 2.5
         },
         {
          "fillcolor": "#AB63FA",
          "line": {
           "color": "black",
           "width": 1
          },
          "type": "rect",
          "x0": 255,
          "x1": 275,
          "y0": 1.5,
          "y1": 2.5
         },
         {
          "fillcolor": "#FFA15A",
          "line": {
           "color": "black",
           "width": 1
          },
          "type": "rect",
          "x0": 275,
          "x1": 455,
          "y0": 1.5,
          "y1": 2.5
         },
         {
          "fillcolor": "#19D3F3",
          "line": {
           "color": "black",
           "width": 1
          },
          "type": "rect",
          "x0": 455,
          "x1": 460,
          "y0": 1.5,
          "y1": 2.5
         },
         {
          "fillcolor": "#FF6692",
          "line": {
           "color": "black",
           "width": 1
          },
          "type": "rect",
          "x0": 460,
          "x1": 480,
          "y0": 1.5,
          "y1": 2.5
         },
         {
          "fillcolor": "#B6E880",
          "line": {
           "color": "black",
           "width": 1
          },
          "type": "rect",
          "x0": 480,
          "x1": 660,
          "y0": 1.5,
          "y1": 2.5
         },
         {
          "fillcolor": "#FF97FF",
          "line": {
           "color": "black",
           "width": 1
          },
          "type": "rect",
          "x0": 660,
          "x1": 665,
          "y0": 1.5,
          "y1": 2.5
         },
         {
          "fillcolor": "#FECB52",
          "line": {
           "color": "black",
           "width": 1
          },
          "type": "rect",
          "x0": 665,
          "x1": 685,
          "y0": 1.5,
          "y1": 2.5
         },
         {
          "fillcolor": "#636EFA",
          "line": {
           "color": "black",
           "width": 1
          },
          "type": "rect",
          "x0": 685,
          "x1": 865,
          "y0": 1.5,
          "y1": 2.5
         },
         {
          "fillcolor": "#EF553B",
          "line": {
           "color": "black",
           "width": 1
          },
          "type": "rect",
          "x0": 865,
          "x1": 870,
          "y0": 1.5,
          "y1": 2.5
         },
         {
          "fillcolor": "#636EFA",
          "line": {
           "color": "black",
           "width": 1
          },
          "type": "rect",
          "x0": 60,
          "x1": 80,
          "y0": 2.5,
          "y1": 3.5
         },
         {
          "fillcolor": "#EF553B",
          "line": {
           "color": "black",
           "width": 1
          },
          "type": "rect",
          "x0": 80,
          "x1": 260,
          "y0": 2.5,
          "y1": 3.5
         },
         {
          "fillcolor": "#00CC96",
          "line": {
           "color": "black",
           "width": 1
          },
          "type": "rect",
          "x0": 275,
          "x1": 280,
          "y0": 2.5,
          "y1": 3.5
         },
         {
          "fillcolor": "#AB63FA",
          "line": {
           "color": "black",
           "width": 1
          },
          "type": "rect",
          "x0": 280,
          "x1": 300,
          "y0": 2.5,
          "y1": 3.5
         },
         {
          "fillcolor": "#FFA15A",
          "line": {
           "color": "black",
           "width": 1
          },
          "type": "rect",
          "x0": 300,
          "x1": 480,
          "y0": 2.5,
          "y1": 3.5
         },
         {
          "fillcolor": "#19D3F3",
          "line": {
           "color": "black",
           "width": 1
          },
          "type": "rect",
          "x0": 480,
          "x1": 485,
          "y0": 2.5,
          "y1": 3.5
         },
         {
          "fillcolor": "#FF6692",
          "line": {
           "color": "black",
           "width": 1
          },
          "type": "rect",
          "x0": 485,
          "x1": 505,
          "y0": 2.5,
          "y1": 3.5
         },
         {
          "fillcolor": "#B6E880",
          "line": {
           "color": "black",
           "width": 1
          },
          "type": "rect",
          "x0": 505,
          "x1": 685,
          "y0": 2.5,
          "y1": 3.5
         },
         {
          "fillcolor": "#FF97FF",
          "line": {
           "color": "black",
           "width": 1
          },
          "type": "rect",
          "x0": 685,
          "x1": 690,
          "y0": 2.5,
          "y1": 3.5
         },
         {
          "fillcolor": "#FECB52",
          "line": {
           "color": "black",
           "width": 1
          },
          "type": "rect",
          "x0": 690,
          "x1": 710,
          "y0": 2.5,
          "y1": 3.5
         },
         {
          "fillcolor": "#636EFA",
          "line": {
           "color": "black",
           "width": 1
          },
          "type": "rect",
          "x0": 710,
          "x1": 890,
          "y0": 2.5,
          "y1": 3.5
         },
         {
          "fillcolor": "#EF553B",
          "line": {
           "color": "black",
           "width": 1
          },
          "type": "rect",
          "x0": 890,
          "x1": 895,
          "y0": 2.5,
          "y1": 3.5
         }
        ],
        "template": {
         "data": {
          "bar": [
           {
            "error_x": {
             "color": "#2a3f5f"
            },
            "error_y": {
             "color": "#2a3f5f"
            },
            "marker": {
             "line": {
              "color": "#E5ECF6",
              "width": 0.5
             },
             "pattern": {
              "fillmode": "overlay",
              "size": 10,
              "solidity": 0.2
             }
            },
            "type": "bar"
           }
          ],
          "barpolar": [
           {
            "marker": {
             "line": {
              "color": "#E5ECF6",
              "width": 0.5
             },
             "pattern": {
              "fillmode": "overlay",
              "size": 10,
              "solidity": 0.2
             }
            },
            "type": "barpolar"
           }
          ],
          "carpet": [
           {
            "aaxis": {
             "endlinecolor": "#2a3f5f",
             "gridcolor": "white",
             "linecolor": "white",
             "minorgridcolor": "white",
             "startlinecolor": "#2a3f5f"
            },
            "baxis": {
             "endlinecolor": "#2a3f5f",
             "gridcolor": "white",
             "linecolor": "white",
             "minorgridcolor": "white",
             "startlinecolor": "#2a3f5f"
            },
            "type": "carpet"
           }
          ],
          "choropleth": [
           {
            "colorbar": {
             "outlinewidth": 0,
             "ticks": ""
            },
            "type": "choropleth"
           }
          ],
          "contour": [
           {
            "colorbar": {
             "outlinewidth": 0,
             "ticks": ""
            },
            "colorscale": [
             [
              0,
              "#0d0887"
             ],
             [
              0.1111111111111111,
              "#46039f"
             ],
             [
              0.2222222222222222,
              "#7201a8"
             ],
             [
              0.3333333333333333,
              "#9c179e"
             ],
             [
              0.4444444444444444,
              "#bd3786"
             ],
             [
              0.5555555555555556,
              "#d8576b"
             ],
             [
              0.6666666666666666,
              "#ed7953"
             ],
             [
              0.7777777777777778,
              "#fb9f3a"
             ],
             [
              0.8888888888888888,
              "#fdca26"
             ],
             [
              1,
              "#f0f921"
             ]
            ],
            "type": "contour"
           }
          ],
          "contourcarpet": [
           {
            "colorbar": {
             "outlinewidth": 0,
             "ticks": ""
            },
            "type": "contourcarpet"
           }
          ],
          "heatmap": [
           {
            "colorbar": {
             "outlinewidth": 0,
             "ticks": ""
            },
            "colorscale": [
             [
              0,
              "#0d0887"
             ],
             [
              0.1111111111111111,
              "#46039f"
             ],
             [
              0.2222222222222222,
              "#7201a8"
             ],
             [
              0.3333333333333333,
              "#9c179e"
             ],
             [
              0.4444444444444444,
              "#bd3786"
             ],
             [
              0.5555555555555556,
              "#d8576b"
             ],
             [
              0.6666666666666666,
              "#ed7953"
             ],
             [
              0.7777777777777778,
              "#fb9f3a"
             ],
             [
              0.8888888888888888,
              "#fdca26"
             ],
             [
              1,
              "#f0f921"
             ]
            ],
            "type": "heatmap"
           }
          ],
          "heatmapgl": [
           {
            "colorbar": {
             "outlinewidth": 0,
             "ticks": ""
            },
            "colorscale": [
             [
              0,
              "#0d0887"
             ],
             [
              0.1111111111111111,
              "#46039f"
             ],
             [
              0.2222222222222222,
              "#7201a8"
             ],
             [
              0.3333333333333333,
              "#9c179e"
             ],
             [
              0.4444444444444444,
              "#bd3786"
             ],
             [
              0.5555555555555556,
              "#d8576b"
             ],
             [
              0.6666666666666666,
              "#ed7953"
             ],
             [
              0.7777777777777778,
              "#fb9f3a"
             ],
             [
              0.8888888888888888,
              "#fdca26"
             ],
             [
              1,
              "#f0f921"
             ]
            ],
            "type": "heatmapgl"
           }
          ],
          "histogram": [
           {
            "marker": {
             "pattern": {
              "fillmode": "overlay",
              "size": 10,
              "solidity": 0.2
             }
            },
            "type": "histogram"
           }
          ],
          "histogram2d": [
           {
            "colorbar": {
             "outlinewidth": 0,
             "ticks": ""
            },
            "colorscale": [
             [
              0,
              "#0d0887"
             ],
             [
              0.1111111111111111,
              "#46039f"
             ],
             [
              0.2222222222222222,
              "#7201a8"
             ],
             [
              0.3333333333333333,
              "#9c179e"
             ],
             [
              0.4444444444444444,
              "#bd3786"
             ],
             [
              0.5555555555555556,
              "#d8576b"
             ],
             [
              0.6666666666666666,
              "#ed7953"
             ],
             [
              0.7777777777777778,
              "#fb9f3a"
             ],
             [
              0.8888888888888888,
              "#fdca26"
             ],
             [
              1,
              "#f0f921"
             ]
            ],
            "type": "histogram2d"
           }
          ],
          "histogram2dcontour": [
           {
            "colorbar": {
             "outlinewidth": 0,
             "ticks": ""
            },
            "colorscale": [
             [
              0,
              "#0d0887"
             ],
             [
              0.1111111111111111,
              "#46039f"
             ],
             [
              0.2222222222222222,
              "#7201a8"
             ],
             [
              0.3333333333333333,
              "#9c179e"
             ],
             [
              0.4444444444444444,
              "#bd3786"
             ],
             [
              0.5555555555555556,
              "#d8576b"
             ],
             [
              0.6666666666666666,
              "#ed7953"
             ],
             [
              0.7777777777777778,
              "#fb9f3a"
             ],
             [
              0.8888888888888888,
              "#fdca26"
             ],
             [
              1,
              "#f0f921"
             ]
            ],
            "type": "histogram2dcontour"
           }
          ],
          "mesh3d": [
           {
            "colorbar": {
             "outlinewidth": 0,
             "ticks": ""
            },
            "type": "mesh3d"
           }
          ],
          "parcoords": [
           {
            "line": {
             "colorbar": {
              "outlinewidth": 0,
              "ticks": ""
             }
            },
            "type": "parcoords"
           }
          ],
          "pie": [
           {
            "automargin": true,
            "type": "pie"
           }
          ],
          "scatter": [
           {
            "fillpattern": {
             "fillmode": "overlay",
             "size": 10,
             "solidity": 0.2
            },
            "type": "scatter"
           }
          ],
          "scatter3d": [
           {
            "line": {
             "colorbar": {
              "outlinewidth": 0,
              "ticks": ""
             }
            },
            "marker": {
             "colorbar": {
              "outlinewidth": 0,
              "ticks": ""
             }
            },
            "type": "scatter3d"
           }
          ],
          "scattercarpet": [
           {
            "marker": {
             "colorbar": {
              "outlinewidth": 0,
              "ticks": ""
             }
            },
            "type": "scattercarpet"
           }
          ],
          "scattergeo": [
           {
            "marker": {
             "colorbar": {
              "outlinewidth": 0,
              "ticks": ""
             }
            },
            "type": "scattergeo"
           }
          ],
          "scattergl": [
           {
            "marker": {
             "colorbar": {
              "outlinewidth": 0,
              "ticks": ""
             }
            },
            "type": "scattergl"
           }
          ],
          "scattermapbox": [
           {
            "marker": {
             "colorbar": {
              "outlinewidth": 0,
              "ticks": ""
             }
            },
            "type": "scattermapbox"
           }
          ],
          "scatterpolar": [
           {
            "marker": {
             "colorbar": {
              "outlinewidth": 0,
              "ticks": ""
             }
            },
            "type": "scatterpolar"
           }
          ],
          "scatterpolargl": [
           {
            "marker": {
             "colorbar": {
              "outlinewidth": 0,
              "ticks": ""
             }
            },
            "type": "scatterpolargl"
           }
          ],
          "scatterternary": [
           {
            "marker": {
             "colorbar": {
              "outlinewidth": 0,
              "ticks": ""
             }
            },
            "type": "scatterternary"
           }
          ],
          "surface": [
           {
            "colorbar": {
             "outlinewidth": 0,
             "ticks": ""
            },
            "colorscale": [
             [
              0,
              "#0d0887"
             ],
             [
              0.1111111111111111,
              "#46039f"
             ],
             [
              0.2222222222222222,
              "#7201a8"
             ],
             [
              0.3333333333333333,
              "#9c179e"
             ],
             [
              0.4444444444444444,
              "#bd3786"
             ],
             [
              0.5555555555555556,
              "#d8576b"
             ],
             [
              0.6666666666666666,
              "#ed7953"
             ],
             [
              0.7777777777777778,
              "#fb9f3a"
             ],
             [
              0.8888888888888888,
              "#fdca26"
             ],
             [
              1,
              "#f0f921"
             ]
            ],
            "type": "surface"
           }
          ],
          "table": [
           {
            "cells": {
             "fill": {
              "color": "#EBF0F8"
             },
             "line": {
              "color": "white"
             }
            },
            "header": {
             "fill": {
              "color": "#C8D4E3"
             },
             "line": {
              "color": "white"
             }
            },
            "type": "table"
           }
          ]
         },
         "layout": {
          "annotationdefaults": {
           "arrowcolor": "#2a3f5f",
           "arrowhead": 0,
           "arrowwidth": 1
          },
          "autotypenumbers": "strict",
          "coloraxis": {
           "colorbar": {
            "outlinewidth": 0,
            "ticks": ""
           }
          },
          "colorscale": {
           "diverging": [
            [
             0,
             "#8e0152"
            ],
            [
             0.1,
             "#c51b7d"
            ],
            [
             0.2,
             "#de77ae"
            ],
            [
             0.3,
             "#f1b6da"
            ],
            [
             0.4,
             "#fde0ef"
            ],
            [
             0.5,
             "#f7f7f7"
            ],
            [
             0.6,
             "#e6f5d0"
            ],
            [
             0.7,
             "#b8e186"
            ],
            [
             0.8,
             "#7fbc41"
            ],
            [
             0.9,
             "#4d9221"
            ],
            [
             1,
             "#276419"
            ]
           ],
           "sequential": [
            [
             0,
             "#0d0887"
            ],
            [
             0.1111111111111111,
             "#46039f"
            ],
            [
             0.2222222222222222,
             "#7201a8"
            ],
            [
             0.3333333333333333,
             "#9c179e"
            ],
            [
             0.4444444444444444,
             "#bd3786"
            ],
            [
             0.5555555555555556,
             "#d8576b"
            ],
            [
             0.6666666666666666,
             "#ed7953"
            ],
            [
             0.7777777777777778,
             "#fb9f3a"
            ],
            [
             0.8888888888888888,
             "#fdca26"
            ],
            [
             1,
             "#f0f921"
            ]
           ],
           "sequentialminus": [
            [
             0,
             "#0d0887"
            ],
            [
             0.1111111111111111,
             "#46039f"
            ],
            [
             0.2222222222222222,
             "#7201a8"
            ],
            [
             0.3333333333333333,
             "#9c179e"
            ],
            [
             0.4444444444444444,
             "#bd3786"
            ],
            [
             0.5555555555555556,
             "#d8576b"
            ],
            [
             0.6666666666666666,
             "#ed7953"
            ],
            [
             0.7777777777777778,
             "#fb9f3a"
            ],
            [
             0.8888888888888888,
             "#fdca26"
            ],
            [
             1,
             "#f0f921"
            ]
           ]
          },
          "colorway": [
           "#636efa",
           "#EF553B",
           "#00cc96",
           "#ab63fa",
           "#FFA15A",
           "#19d3f3",
           "#FF6692",
           "#B6E880",
           "#FF97FF",
           "#FECB52"
          ],
          "font": {
           "color": "#2a3f5f"
          },
          "geo": {
           "bgcolor": "white",
           "lakecolor": "white",
           "landcolor": "#E5ECF6",
           "showlakes": true,
           "showland": true,
           "subunitcolor": "white"
          },
          "hoverlabel": {
           "align": "left"
          },
          "hovermode": "closest",
          "mapbox": {
           "style": "light"
          },
          "paper_bgcolor": "white",
          "plot_bgcolor": "#E5ECF6",
          "polar": {
           "angularaxis": {
            "gridcolor": "white",
            "linecolor": "white",
            "ticks": ""
           },
           "bgcolor": "#E5ECF6",
           "radialaxis": {
            "gridcolor": "white",
            "linecolor": "white",
            "ticks": ""
           }
          },
          "scene": {
           "xaxis": {
            "backgroundcolor": "#E5ECF6",
            "gridcolor": "white",
            "gridwidth": 2,
            "linecolor": "white",
            "showbackground": true,
            "ticks": "",
            "zerolinecolor": "white"
           },
           "yaxis": {
            "backgroundcolor": "#E5ECF6",
            "gridcolor": "white",
            "gridwidth": 2,
            "linecolor": "white",
            "showbackground": true,
            "ticks": "",
            "zerolinecolor": "white"
           },
           "zaxis": {
            "backgroundcolor": "#E5ECF6",
            "gridcolor": "white",
            "gridwidth": 2,
            "linecolor": "white",
            "showbackground": true,
            "ticks": "",
            "zerolinecolor": "white"
           }
          },
          "shapedefaults": {
           "line": {
            "color": "#2a3f5f"
           }
          },
          "ternary": {
           "aaxis": {
            "gridcolor": "white",
            "linecolor": "white",
            "ticks": ""
           },
           "baxis": {
            "gridcolor": "white",
            "linecolor": "white",
            "ticks": ""
           },
           "bgcolor": "#E5ECF6",
           "caxis": {
            "gridcolor": "white",
            "linecolor": "white",
            "ticks": ""
           }
          },
          "title": {
           "x": 0.05
          },
          "xaxis": {
           "automargin": true,
           "gridcolor": "white",
           "linecolor": "white",
           "ticks": "",
           "title": {
            "standoff": 15
           },
           "zerolinecolor": "white",
           "zerolinewidth": 2
          },
          "yaxis": {
           "automargin": true,
           "gridcolor": "white",
           "linecolor": "white",
           "ticks": "",
           "title": {
            "standoff": 15
           },
           "zerolinecolor": "white",
           "zerolinewidth": 2
          }
         }
        },
        "width": 1400,
        "xaxis": {
         "range": [
          0,
          895
         ],
         "title": {
          "text": "Time"
         }
        },
        "yaxis": {
         "dtick": 1,
         "range": [
          -0.5,
          3.5
         ],
         "tick0": 0,
         "tickmode": "linear",
         "title": {
          "text": "Item Index"
         }
        }
       }
      }
     },
     "metadata": {},
     "output_type": "display_data"
    }
   ],
   "source": [
    "# Run scheduler\n",
    "num_items = 4\n",
    "schedule = tms.run_scheduler(num_items, ops, conflicts, sync_starts=False)\n",
    "\n",
    "schedule_duration = tms.calc_schedule_duration(schedule, ops)\n",
    "print(f\"Total Schedule duration is {schedule_duration} ({(schedule_duration/60.0):.3f} minutes)\")\n",
    "print(f\"Estimated throughput is {(num_items * num_cycles) / (schedule_duration/60.0):.2f} hot dogs per minute\")\n",
    "\n",
    "tms.plot_schedule(schedule, ops, label_size=10)"
   ]
  },
  {
   "cell_type": "markdown",
   "metadata": {},
   "source": [
    "## Many Slots"
   ]
  },
  {
   "cell_type": "code",
   "execution_count": 635,
   "metadata": {},
   "outputs": [
    {
     "name": "stdout",
     "output_type": "stream",
     "text": [
      "Total Schedule duration is 1705.0 (28.417 minutes)\n",
      "Estimated throughput is 2.25 hot dogs per minute\n",
      "Importing plotting tools...\n",
      "Generating plot...\n"
     ]
    },
    {
     "data": {
      "application/vnd.plotly.v1+json": {
       "config": {
        "plotlyServerURL": "https://plot.ly"
       },
       "data": [],
       "layout": {
        "annotations": [
         {
          "bgcolor": "rgba(255,255,255,0.8)",
          "font": {
           "color": "black",
           "size": 10
          },
          "showarrow": false,
          "text": "stage_0",
          "x": 10,
          "y": 0
         },
         {
          "bgcolor": "rgba(255,255,255,0.8)",
          "font": {
           "color": "black",
           "size": 10
          },
          "showarrow": false,
          "text": "wait_0",
          "x": 110,
          "y": 0
         },
         {
          "bgcolor": "rgba(255,255,255,0.8)",
          "font": {
           "color": "black",
           "size": 10
          },
          "showarrow": false,
          "text": "unstage_0",
          "x": 322.5,
          "y": 0
         },
         {
          "bgcolor": "rgba(255,255,255,0.8)",
          "font": {
           "color": "black",
           "size": 10
          },
          "showarrow": false,
          "text": "stage_1",
          "x": 375,
          "y": 0
         },
         {
          "bgcolor": "rgba(255,255,255,0.8)",
          "font": {
           "color": "black",
           "size": 10
          },
          "showarrow": false,
          "text": "wait_1",
          "x": 475,
          "y": 0
         },
         {
          "bgcolor": "rgba(255,255,255,0.8)",
          "font": {
           "color": "black",
           "size": 10
          },
          "showarrow": false,
          "text": "unstage_1",
          "x": 722.5,
          "y": 0
         },
         {
          "bgcolor": "rgba(255,255,255,0.8)",
          "font": {
           "color": "black",
           "size": 10
          },
          "showarrow": false,
          "text": "stage_2",
          "x": 775,
          "y": 0
         },
         {
          "bgcolor": "rgba(255,255,255,0.8)",
          "font": {
           "color": "black",
           "size": 10
          },
          "showarrow": false,
          "text": "wait_2",
          "x": 875,
          "y": 0
         },
         {
          "bgcolor": "rgba(255,255,255,0.8)",
          "font": {
           "color": "black",
           "size": 10
          },
          "showarrow": false,
          "text": "unstage_2",
          "x": 1122.5,
          "y": 0
         },
         {
          "bgcolor": "rgba(255,255,255,0.8)",
          "font": {
           "color": "black",
           "size": 10
          },
          "showarrow": false,
          "text": "stage_3",
          "x": 1175,
          "y": 0
         },
         {
          "bgcolor": "rgba(255,255,255,0.8)",
          "font": {
           "color": "black",
           "size": 10
          },
          "showarrow": false,
          "text": "wait_3",
          "x": 1275,
          "y": 0
         },
         {
          "bgcolor": "rgba(255,255,255,0.8)",
          "font": {
           "color": "black",
           "size": 10
          },
          "showarrow": false,
          "text": "unstage_3",
          "x": 1522.5,
          "y": 0
         },
         {
          "bgcolor": "rgba(255,255,255,0.8)",
          "font": {
           "color": "black",
           "size": 10
          },
          "showarrow": false,
          "text": "stage_0",
          "x": 30,
          "y": 1
         },
         {
          "bgcolor": "rgba(255,255,255,0.8)",
          "font": {
           "color": "black",
           "size": 10
          },
          "showarrow": false,
          "text": "wait_0",
          "x": 130,
          "y": 1
         },
         {
          "bgcolor": "rgba(255,255,255,0.8)",
          "font": {
           "color": "black",
           "size": 10
          },
          "showarrow": false,
          "text": "unstage_0",
          "x": 327.5,
          "y": 1
         },
         {
          "bgcolor": "rgba(255,255,255,0.8)",
          "font": {
           "color": "black",
           "size": 10
          },
          "showarrow": false,
          "text": "stage_1",
          "x": 400,
          "y": 1
         },
         {
          "bgcolor": "rgba(255,255,255,0.8)",
          "font": {
           "color": "black",
           "size": 10
          },
          "showarrow": false,
          "text": "wait_1",
          "x": 500,
          "y": 1
         },
         {
          "bgcolor": "rgba(255,255,255,0.8)",
          "font": {
           "color": "black",
           "size": 10
          },
          "showarrow": false,
          "text": "unstage_1",
          "x": 727.5,
          "y": 1
         },
         {
          "bgcolor": "rgba(255,255,255,0.8)",
          "font": {
           "color": "black",
           "size": 10
          },
          "showarrow": false,
          "text": "stage_2",
          "x": 800,
          "y": 1
         },
         {
          "bgcolor": "rgba(255,255,255,0.8)",
          "font": {
           "color": "black",
           "size": 10
          },
          "showarrow": false,
          "text": "wait_2",
          "x": 900,
          "y": 1
         },
         {
          "bgcolor": "rgba(255,255,255,0.8)",
          "font": {
           "color": "black",
           "size": 10
          },
          "showarrow": false,
          "text": "unstage_2",
          "x": 1127.5,
          "y": 1
         },
         {
          "bgcolor": "rgba(255,255,255,0.8)",
          "font": {
           "color": "black",
           "size": 10
          },
          "showarrow": false,
          "text": "stage_3",
          "x": 1200,
          "y": 1
         },
         {
          "bgcolor": "rgba(255,255,255,0.8)",
          "font": {
           "color": "black",
           "size": 10
          },
          "showarrow": false,
          "text": "wait_3",
          "x": 1300,
          "y": 1
         },
         {
          "bgcolor": "rgba(255,255,255,0.8)",
          "font": {
           "color": "black",
           "size": 10
          },
          "showarrow": false,
          "text": "unstage_3",
          "x": 1527.5,
          "y": 1
         },
         {
          "bgcolor": "rgba(255,255,255,0.8)",
          "font": {
           "color": "black",
           "size": 10
          },
          "showarrow": false,
          "text": "stage_0",
          "x": 50,
          "y": 2
         },
         {
          "bgcolor": "rgba(255,255,255,0.8)",
          "font": {
           "color": "black",
           "size": 10
          },
          "showarrow": false,
          "text": "wait_0",
          "x": 150,
          "y": 2
         },
         {
          "bgcolor": "rgba(255,255,255,0.8)",
          "font": {
           "color": "black",
           "size": 10
          },
          "showarrow": false,
          "text": "unstage_0",
          "x": 332.5,
          "y": 2
         },
         {
          "bgcolor": "rgba(255,255,255,0.8)",
          "font": {
           "color": "black",
           "size": 10
          },
          "showarrow": false,
          "text": "stage_1",
          "x": 425,
          "y": 2
         },
         {
          "bgcolor": "rgba(255,255,255,0.8)",
          "font": {
           "color": "black",
           "size": 10
          },
          "showarrow": false,
          "text": "wait_1",
          "x": 525,
          "y": 2
         },
         {
          "bgcolor": "rgba(255,255,255,0.8)",
          "font": {
           "color": "black",
           "size": 10
          },
          "showarrow": false,
          "text": "unstage_1",
          "x": 732.5,
          "y": 2
         },
         {
          "bgcolor": "rgba(255,255,255,0.8)",
          "font": {
           "color": "black",
           "size": 10
          },
          "showarrow": false,
          "text": "stage_2",
          "x": 825,
          "y": 2
         },
         {
          "bgcolor": "rgba(255,255,255,0.8)",
          "font": {
           "color": "black",
           "size": 10
          },
          "showarrow": false,
          "text": "wait_2",
          "x": 925,
          "y": 2
         },
         {
          "bgcolor": "rgba(255,255,255,0.8)",
          "font": {
           "color": "black",
           "size": 10
          },
          "showarrow": false,
          "text": "unstage_2",
          "x": 1132.5,
          "y": 2
         },
         {
          "bgcolor": "rgba(255,255,255,0.8)",
          "font": {
           "color": "black",
           "size": 10
          },
          "showarrow": false,
          "text": "stage_3",
          "x": 1225,
          "y": 2
         },
         {
          "bgcolor": "rgba(255,255,255,0.8)",
          "font": {
           "color": "black",
           "size": 10
          },
          "showarrow": false,
          "text": "wait_3",
          "x": 1325,
          "y": 2
         },
         {
          "bgcolor": "rgba(255,255,255,0.8)",
          "font": {
           "color": "black",
           "size": 10
          },
          "showarrow": false,
          "text": "unstage_3",
          "x": 1532.5,
          "y": 2
         },
         {
          "bgcolor": "rgba(255,255,255,0.8)",
          "font": {
           "color": "black",
           "size": 10
          },
          "showarrow": false,
          "text": "stage_0",
          "x": 70,
          "y": 3
         },
         {
          "bgcolor": "rgba(255,255,255,0.8)",
          "font": {
           "color": "black",
           "size": 10
          },
          "showarrow": false,
          "text": "wait_0",
          "x": 170,
          "y": 3
         },
         {
          "bgcolor": "rgba(255,255,255,0.8)",
          "font": {
           "color": "black",
           "size": 10
          },
          "showarrow": false,
          "text": "unstage_0",
          "x": 337.5,
          "y": 3
         },
         {
          "bgcolor": "rgba(255,255,255,0.8)",
          "font": {
           "color": "black",
           "size": 10
          },
          "showarrow": false,
          "text": "stage_1",
          "x": 455,
          "y": 3
         },
         {
          "bgcolor": "rgba(255,255,255,0.8)",
          "font": {
           "color": "black",
           "size": 10
          },
          "showarrow": false,
          "text": "wait_1",
          "x": 555,
          "y": 3
         },
         {
          "bgcolor": "rgba(255,255,255,0.8)",
          "font": {
           "color": "black",
           "size": 10
          },
          "showarrow": false,
          "text": "unstage_1",
          "x": 737.5,
          "y": 3
         },
         {
          "bgcolor": "rgba(255,255,255,0.8)",
          "font": {
           "color": "black",
           "size": 10
          },
          "showarrow": false,
          "text": "stage_2",
          "x": 855,
          "y": 3
         },
         {
          "bgcolor": "rgba(255,255,255,0.8)",
          "font": {
           "color": "black",
           "size": 10
          },
          "showarrow": false,
          "text": "wait_2",
          "x": 955,
          "y": 3
         },
         {
          "bgcolor": "rgba(255,255,255,0.8)",
          "font": {
           "color": "black",
           "size": 10
          },
          "showarrow": false,
          "text": "unstage_2",
          "x": 1137.5,
          "y": 3
         },
         {
          "bgcolor": "rgba(255,255,255,0.8)",
          "font": {
           "color": "black",
           "size": 10
          },
          "showarrow": false,
          "text": "stage_3",
          "x": 1255,
          "y": 3
         },
         {
          "bgcolor": "rgba(255,255,255,0.8)",
          "font": {
           "color": "black",
           "size": 10
          },
          "showarrow": false,
          "text": "wait_3",
          "x": 1355,
          "y": 3
         },
         {
          "bgcolor": "rgba(255,255,255,0.8)",
          "font": {
           "color": "black",
           "size": 10
          },
          "showarrow": false,
          "text": "unstage_3",
          "x": 1537.5,
          "y": 3
         },
         {
          "bgcolor": "rgba(255,255,255,0.8)",
          "font": {
           "color": "black",
           "size": 10
          },
          "showarrow": false,
          "text": "stage_0",
          "x": 90,
          "y": 4
         },
         {
          "bgcolor": "rgba(255,255,255,0.8)",
          "font": {
           "color": "black",
           "size": 10
          },
          "showarrow": false,
          "text": "wait_0",
          "x": 190,
          "y": 4
         },
         {
          "bgcolor": "rgba(255,255,255,0.8)",
          "font": {
           "color": "black",
           "size": 10
          },
          "showarrow": false,
          "text": "unstage_0",
          "x": 342.5,
          "y": 4
         },
         {
          "bgcolor": "rgba(255,255,255,0.8)",
          "font": {
           "color": "black",
           "size": 10
          },
          "showarrow": false,
          "text": "stage_1",
          "x": 480,
          "y": 4
         },
         {
          "bgcolor": "rgba(255,255,255,0.8)",
          "font": {
           "color": "black",
           "size": 10
          },
          "showarrow": false,
          "text": "wait_1",
          "x": 580,
          "y": 4
         },
         {
          "bgcolor": "rgba(255,255,255,0.8)",
          "font": {
           "color": "black",
           "size": 10
          },
          "showarrow": false,
          "text": "unstage_1",
          "x": 742.5,
          "y": 4
         },
         {
          "bgcolor": "rgba(255,255,255,0.8)",
          "font": {
           "color": "black",
           "size": 10
          },
          "showarrow": false,
          "text": "stage_2",
          "x": 880,
          "y": 4
         },
         {
          "bgcolor": "rgba(255,255,255,0.8)",
          "font": {
           "color": "black",
           "size": 10
          },
          "showarrow": false,
          "text": "wait_2",
          "x": 980,
          "y": 4
         },
         {
          "bgcolor": "rgba(255,255,255,0.8)",
          "font": {
           "color": "black",
           "size": 10
          },
          "showarrow": false,
          "text": "unstage_2",
          "x": 1142.5,
          "y": 4
         },
         {
          "bgcolor": "rgba(255,255,255,0.8)",
          "font": {
           "color": "black",
           "size": 10
          },
          "showarrow": false,
          "text": "stage_3",
          "x": 1280,
          "y": 4
         },
         {
          "bgcolor": "rgba(255,255,255,0.8)",
          "font": {
           "color": "black",
           "size": 10
          },
          "showarrow": false,
          "text": "wait_3",
          "x": 1380,
          "y": 4
         },
         {
          "bgcolor": "rgba(255,255,255,0.8)",
          "font": {
           "color": "black",
           "size": 10
          },
          "showarrow": false,
          "text": "unstage_3",
          "x": 1542.5,
          "y": 4
         },
         {
          "bgcolor": "rgba(255,255,255,0.8)",
          "font": {
           "color": "black",
           "size": 10
          },
          "showarrow": false,
          "text": "stage_0",
          "x": 110,
          "y": 5
         },
         {
          "bgcolor": "rgba(255,255,255,0.8)",
          "font": {
           "color": "black",
           "size": 10
          },
          "showarrow": false,
          "text": "wait_0",
          "x": 210,
          "y": 5
         },
         {
          "bgcolor": "rgba(255,255,255,0.8)",
          "font": {
           "color": "black",
           "size": 10
          },
          "showarrow": false,
          "text": "unstage_0",
          "x": 347.5,
          "y": 5
         },
         {
          "bgcolor": "rgba(255,255,255,0.8)",
          "font": {
           "color": "black",
           "size": 10
          },
          "showarrow": false,
          "text": "stage_1",
          "x": 505,
          "y": 5
         },
         {
          "bgcolor": "rgba(255,255,255,0.8)",
          "font": {
           "color": "black",
           "size": 10
          },
          "showarrow": false,
          "text": "wait_1",
          "x": 605,
          "y": 5
         },
         {
          "bgcolor": "rgba(255,255,255,0.8)",
          "font": {
           "color": "black",
           "size": 10
          },
          "showarrow": false,
          "text": "unstage_1",
          "x": 747.5,
          "y": 5
         },
         {
          "bgcolor": "rgba(255,255,255,0.8)",
          "font": {
           "color": "black",
           "size": 10
          },
          "showarrow": false,
          "text": "stage_2",
          "x": 905,
          "y": 5
         },
         {
          "bgcolor": "rgba(255,255,255,0.8)",
          "font": {
           "color": "black",
           "size": 10
          },
          "showarrow": false,
          "text": "wait_2",
          "x": 1005,
          "y": 5
         },
         {
          "bgcolor": "rgba(255,255,255,0.8)",
          "font": {
           "color": "black",
           "size": 10
          },
          "showarrow": false,
          "text": "unstage_2",
          "x": 1147.5,
          "y": 5
         },
         {
          "bgcolor": "rgba(255,255,255,0.8)",
          "font": {
           "color": "black",
           "size": 10
          },
          "showarrow": false,
          "text": "stage_3",
          "x": 1305,
          "y": 5
         },
         {
          "bgcolor": "rgba(255,255,255,0.8)",
          "font": {
           "color": "black",
           "size": 10
          },
          "showarrow": false,
          "text": "wait_3",
          "x": 1405,
          "y": 5
         },
         {
          "bgcolor": "rgba(255,255,255,0.8)",
          "font": {
           "color": "black",
           "size": 10
          },
          "showarrow": false,
          "text": "unstage_3",
          "x": 1547.5,
          "y": 5
         },
         {
          "bgcolor": "rgba(255,255,255,0.8)",
          "font": {
           "color": "black",
           "size": 10
          },
          "showarrow": false,
          "text": "stage_0",
          "x": 130,
          "y": 6
         },
         {
          "bgcolor": "rgba(255,255,255,0.8)",
          "font": {
           "color": "black",
           "size": 10
          },
          "showarrow": false,
          "text": "wait_0",
          "x": 230,
          "y": 6
         },
         {
          "bgcolor": "rgba(255,255,255,0.8)",
          "font": {
           "color": "black",
           "size": 10
          },
          "showarrow": false,
          "text": "unstage_0",
          "x": 352.5,
          "y": 6
         },
         {
          "bgcolor": "rgba(255,255,255,0.8)",
          "font": {
           "color": "black",
           "size": 10
          },
          "showarrow": false,
          "text": "stage_1",
          "x": 530,
          "y": 6
         },
         {
          "bgcolor": "rgba(255,255,255,0.8)",
          "font": {
           "color": "black",
           "size": 10
          },
          "showarrow": false,
          "text": "wait_1",
          "x": 630,
          "y": 6
         },
         {
          "bgcolor": "rgba(255,255,255,0.8)",
          "font": {
           "color": "black",
           "size": 10
          },
          "showarrow": false,
          "text": "unstage_1",
          "x": 752.5,
          "y": 6
         },
         {
          "bgcolor": "rgba(255,255,255,0.8)",
          "font": {
           "color": "black",
           "size": 10
          },
          "showarrow": false,
          "text": "stage_2",
          "x": 930,
          "y": 6
         },
         {
          "bgcolor": "rgba(255,255,255,0.8)",
          "font": {
           "color": "black",
           "size": 10
          },
          "showarrow": false,
          "text": "wait_2",
          "x": 1030,
          "y": 6
         },
         {
          "bgcolor": "rgba(255,255,255,0.8)",
          "font": {
           "color": "black",
           "size": 10
          },
          "showarrow": false,
          "text": "unstage_2",
          "x": 1152.5,
          "y": 6
         },
         {
          "bgcolor": "rgba(255,255,255,0.8)",
          "font": {
           "color": "black",
           "size": 10
          },
          "showarrow": false,
          "text": "stage_3",
          "x": 1330,
          "y": 6
         },
         {
          "bgcolor": "rgba(255,255,255,0.8)",
          "font": {
           "color": "black",
           "size": 10
          },
          "showarrow": false,
          "text": "wait_3",
          "x": 1430,
          "y": 6
         },
         {
          "bgcolor": "rgba(255,255,255,0.8)",
          "font": {
           "color": "black",
           "size": 10
          },
          "showarrow": false,
          "text": "unstage_3",
          "x": 1552.5,
          "y": 6
         },
         {
          "bgcolor": "rgba(255,255,255,0.8)",
          "font": {
           "color": "black",
           "size": 10
          },
          "showarrow": false,
          "text": "stage_0",
          "x": 150,
          "y": 7
         },
         {
          "bgcolor": "rgba(255,255,255,0.8)",
          "font": {
           "color": "black",
           "size": 10
          },
          "showarrow": false,
          "text": "wait_0",
          "x": 250,
          "y": 7
         },
         {
          "bgcolor": "rgba(255,255,255,0.8)",
          "font": {
           "color": "black",
           "size": 10
          },
          "showarrow": false,
          "text": "unstage_0",
          "x": 357.5,
          "y": 7
         },
         {
          "bgcolor": "rgba(255,255,255,0.8)",
          "font": {
           "color": "black",
           "size": 10
          },
          "showarrow": false,
          "text": "stage_1",
          "x": 550,
          "y": 7
         },
         {
          "bgcolor": "rgba(255,255,255,0.8)",
          "font": {
           "color": "black",
           "size": 10
          },
          "showarrow": false,
          "text": "wait_1",
          "x": 650,
          "y": 7
         },
         {
          "bgcolor": "rgba(255,255,255,0.8)",
          "font": {
           "color": "black",
           "size": 10
          },
          "showarrow": false,
          "text": "unstage_1",
          "x": 757.5,
          "y": 7
         },
         {
          "bgcolor": "rgba(255,255,255,0.8)",
          "font": {
           "color": "black",
           "size": 10
          },
          "showarrow": false,
          "text": "stage_2",
          "x": 950,
          "y": 7
         },
         {
          "bgcolor": "rgba(255,255,255,0.8)",
          "font": {
           "color": "black",
           "size": 10
          },
          "showarrow": false,
          "text": "wait_2",
          "x": 1050,
          "y": 7
         },
         {
          "bgcolor": "rgba(255,255,255,0.8)",
          "font": {
           "color": "black",
           "size": 10
          },
          "showarrow": false,
          "text": "unstage_2",
          "x": 1157.5,
          "y": 7
         },
         {
          "bgcolor": "rgba(255,255,255,0.8)",
          "font": {
           "color": "black",
           "size": 10
          },
          "showarrow": false,
          "text": "stage_3",
          "x": 1350,
          "y": 7
         },
         {
          "bgcolor": "rgba(255,255,255,0.8)",
          "font": {
           "color": "black",
           "size": 10
          },
          "showarrow": false,
          "text": "wait_3",
          "x": 1450,
          "y": 7
         },
         {
          "bgcolor": "rgba(255,255,255,0.8)",
          "font": {
           "color": "black",
           "size": 10
          },
          "showarrow": false,
          "text": "unstage_3",
          "x": 1557.5,
          "y": 7
         },
         {
          "bgcolor": "rgba(255,255,255,0.8)",
          "font": {
           "color": "black",
           "size": 10
          },
          "showarrow": false,
          "text": "stage_0",
          "x": 170,
          "y": 8
         },
         {
          "bgcolor": "rgba(255,255,255,0.8)",
          "font": {
           "color": "black",
           "size": 10
          },
          "showarrow": false,
          "text": "wait_0",
          "x": 270,
          "y": 8
         },
         {
          "bgcolor": "rgba(255,255,255,0.8)",
          "font": {
           "color": "black",
           "size": 10
          },
          "showarrow": false,
          "text": "unstage_0",
          "x": 362.5,
          "y": 8
         },
         {
          "bgcolor": "rgba(255,255,255,0.8)",
          "font": {
           "color": "black",
           "size": 10
          },
          "showarrow": false,
          "text": "stage_1",
          "x": 570,
          "y": 8
         },
         {
          "bgcolor": "rgba(255,255,255,0.8)",
          "font": {
           "color": "black",
           "size": 10
          },
          "showarrow": false,
          "text": "wait_1",
          "x": 670,
          "y": 8
         },
         {
          "bgcolor": "rgba(255,255,255,0.8)",
          "font": {
           "color": "black",
           "size": 10
          },
          "showarrow": false,
          "text": "unstage_1",
          "x": 762.5,
          "y": 8
         },
         {
          "bgcolor": "rgba(255,255,255,0.8)",
          "font": {
           "color": "black",
           "size": 10
          },
          "showarrow": false,
          "text": "stage_2",
          "x": 970,
          "y": 8
         },
         {
          "bgcolor": "rgba(255,255,255,0.8)",
          "font": {
           "color": "black",
           "size": 10
          },
          "showarrow": false,
          "text": "wait_2",
          "x": 1070,
          "y": 8
         },
         {
          "bgcolor": "rgba(255,255,255,0.8)",
          "font": {
           "color": "black",
           "size": 10
          },
          "showarrow": false,
          "text": "unstage_2",
          "x": 1162.5,
          "y": 8
         },
         {
          "bgcolor": "rgba(255,255,255,0.8)",
          "font": {
           "color": "black",
           "size": 10
          },
          "showarrow": false,
          "text": "stage_3",
          "x": 1370,
          "y": 8
         },
         {
          "bgcolor": "rgba(255,255,255,0.8)",
          "font": {
           "color": "black",
           "size": 10
          },
          "showarrow": false,
          "text": "wait_3",
          "x": 1470,
          "y": 8
         },
         {
          "bgcolor": "rgba(255,255,255,0.8)",
          "font": {
           "color": "black",
           "size": 10
          },
          "showarrow": false,
          "text": "unstage_3",
          "x": 1562.5,
          "y": 8
         },
         {
          "bgcolor": "rgba(255,255,255,0.8)",
          "font": {
           "color": "black",
           "size": 10
          },
          "showarrow": false,
          "text": "stage_0",
          "x": 190,
          "y": 9
         },
         {
          "bgcolor": "rgba(255,255,255,0.8)",
          "font": {
           "color": "black",
           "size": 10
          },
          "showarrow": false,
          "text": "wait_0",
          "x": 290,
          "y": 9
         },
         {
          "bgcolor": "rgba(255,255,255,0.8)",
          "font": {
           "color": "black",
           "size": 10
          },
          "showarrow": false,
          "text": "unstage_0",
          "x": 387.5,
          "y": 9
         },
         {
          "bgcolor": "rgba(255,255,255,0.8)",
          "font": {
           "color": "black",
           "size": 10
          },
          "showarrow": false,
          "text": "stage_1",
          "x": 590,
          "y": 9
         },
         {
          "bgcolor": "rgba(255,255,255,0.8)",
          "font": {
           "color": "black",
           "size": 10
          },
          "showarrow": false,
          "text": "wait_1",
          "x": 690,
          "y": 9
         },
         {
          "bgcolor": "rgba(255,255,255,0.8)",
          "font": {
           "color": "black",
           "size": 10
          },
          "showarrow": false,
          "text": "unstage_1",
          "x": 787.5,
          "y": 9
         },
         {
          "bgcolor": "rgba(255,255,255,0.8)",
          "font": {
           "color": "black",
           "size": 10
          },
          "showarrow": false,
          "text": "stage_2",
          "x": 990,
          "y": 9
         },
         {
          "bgcolor": "rgba(255,255,255,0.8)",
          "font": {
           "color": "black",
           "size": 10
          },
          "showarrow": false,
          "text": "wait_2",
          "x": 1090,
          "y": 9
         },
         {
          "bgcolor": "rgba(255,255,255,0.8)",
          "font": {
           "color": "black",
           "size": 10
          },
          "showarrow": false,
          "text": "unstage_2",
          "x": 1187.5,
          "y": 9
         },
         {
          "bgcolor": "rgba(255,255,255,0.8)",
          "font": {
           "color": "black",
           "size": 10
          },
          "showarrow": false,
          "text": "stage_3",
          "x": 1390,
          "y": 9
         },
         {
          "bgcolor": "rgba(255,255,255,0.8)",
          "font": {
           "color": "black",
           "size": 10
          },
          "showarrow": false,
          "text": "wait_3",
          "x": 1490,
          "y": 9
         },
         {
          "bgcolor": "rgba(255,255,255,0.8)",
          "font": {
           "color": "black",
           "size": 10
          },
          "showarrow": false,
          "text": "unstage_3",
          "x": 1582.5,
          "y": 9
         },
         {
          "bgcolor": "rgba(255,255,255,0.8)",
          "font": {
           "color": "black",
           "size": 10
          },
          "showarrow": false,
          "text": "stage_0",
          "x": 210,
          "y": 10
         },
         {
          "bgcolor": "rgba(255,255,255,0.8)",
          "font": {
           "color": "black",
           "size": 10
          },
          "showarrow": false,
          "text": "wait_0",
          "x": 310,
          "y": 10
         },
         {
          "bgcolor": "rgba(255,255,255,0.8)",
          "font": {
           "color": "black",
           "size": 10
          },
          "showarrow": false,
          "text": "unstage_0",
          "x": 412.5,
          "y": 10
         },
         {
          "bgcolor": "rgba(255,255,255,0.8)",
          "font": {
           "color": "black",
           "size": 10
          },
          "showarrow": false,
          "text": "stage_1",
          "x": 610,
          "y": 10
         },
         {
          "bgcolor": "rgba(255,255,255,0.8)",
          "font": {
           "color": "black",
           "size": 10
          },
          "showarrow": false,
          "text": "wait_1",
          "x": 710,
          "y": 10
         },
         {
          "bgcolor": "rgba(255,255,255,0.8)",
          "font": {
           "color": "black",
           "size": 10
          },
          "showarrow": false,
          "text": "unstage_1",
          "x": 812.5,
          "y": 10
         },
         {
          "bgcolor": "rgba(255,255,255,0.8)",
          "font": {
           "color": "black",
           "size": 10
          },
          "showarrow": false,
          "text": "stage_2",
          "x": 1010,
          "y": 10
         },
         {
          "bgcolor": "rgba(255,255,255,0.8)",
          "font": {
           "color": "black",
           "size": 10
          },
          "showarrow": false,
          "text": "wait_2",
          "x": 1110,
          "y": 10
         },
         {
          "bgcolor": "rgba(255,255,255,0.8)",
          "font": {
           "color": "black",
           "size": 10
          },
          "showarrow": false,
          "text": "unstage_2",
          "x": 1212.5,
          "y": 10
         },
         {
          "bgcolor": "rgba(255,255,255,0.8)",
          "font": {
           "color": "black",
           "size": 10
          },
          "showarrow": false,
          "text": "stage_3",
          "x": 1410,
          "y": 10
         },
         {
          "bgcolor": "rgba(255,255,255,0.8)",
          "font": {
           "color": "black",
           "size": 10
          },
          "showarrow": false,
          "text": "wait_3",
          "x": 1510,
          "y": 10
         },
         {
          "bgcolor": "rgba(255,255,255,0.8)",
          "font": {
           "color": "black",
           "size": 10
          },
          "showarrow": false,
          "text": "unstage_3",
          "x": 1602.5,
          "y": 10
         },
         {
          "bgcolor": "rgba(255,255,255,0.8)",
          "font": {
           "color": "black",
           "size": 10
          },
          "showarrow": false,
          "text": "stage_0",
          "x": 230,
          "y": 11
         },
         {
          "bgcolor": "rgba(255,255,255,0.8)",
          "font": {
           "color": "black",
           "size": 10
          },
          "showarrow": false,
          "text": "wait_0",
          "x": 330,
          "y": 11
         },
         {
          "bgcolor": "rgba(255,255,255,0.8)",
          "font": {
           "color": "black",
           "size": 10
          },
          "showarrow": false,
          "text": "unstage_0",
          "x": 437.5,
          "y": 11
         },
         {
          "bgcolor": "rgba(255,255,255,0.8)",
          "font": {
           "color": "black",
           "size": 10
          },
          "showarrow": false,
          "text": "stage_1",
          "x": 630,
          "y": 11
         },
         {
          "bgcolor": "rgba(255,255,255,0.8)",
          "font": {
           "color": "black",
           "size": 10
          },
          "showarrow": false,
          "text": "wait_1",
          "x": 730,
          "y": 11
         },
         {
          "bgcolor": "rgba(255,255,255,0.8)",
          "font": {
           "color": "black",
           "size": 10
          },
          "showarrow": false,
          "text": "unstage_1",
          "x": 837.5,
          "y": 11
         },
         {
          "bgcolor": "rgba(255,255,255,0.8)",
          "font": {
           "color": "black",
           "size": 10
          },
          "showarrow": false,
          "text": "stage_2",
          "x": 1030,
          "y": 11
         },
         {
          "bgcolor": "rgba(255,255,255,0.8)",
          "font": {
           "color": "black",
           "size": 10
          },
          "showarrow": false,
          "text": "wait_2",
          "x": 1130,
          "y": 11
         },
         {
          "bgcolor": "rgba(255,255,255,0.8)",
          "font": {
           "color": "black",
           "size": 10
          },
          "showarrow": false,
          "text": "unstage_2",
          "x": 1237.5,
          "y": 11
         },
         {
          "bgcolor": "rgba(255,255,255,0.8)",
          "font": {
           "color": "black",
           "size": 10
          },
          "showarrow": false,
          "text": "stage_3",
          "x": 1430,
          "y": 11
         },
         {
          "bgcolor": "rgba(255,255,255,0.8)",
          "font": {
           "color": "black",
           "size": 10
          },
          "showarrow": false,
          "text": "wait_3",
          "x": 1530,
          "y": 11
         },
         {
          "bgcolor": "rgba(255,255,255,0.8)",
          "font": {
           "color": "black",
           "size": 10
          },
          "showarrow": false,
          "text": "unstage_3",
          "x": 1622.5,
          "y": 11
         },
         {
          "bgcolor": "rgba(255,255,255,0.8)",
          "font": {
           "color": "black",
           "size": 10
          },
          "showarrow": false,
          "text": "stage_0",
          "x": 250,
          "y": 12
         },
         {
          "bgcolor": "rgba(255,255,255,0.8)",
          "font": {
           "color": "black",
           "size": 10
          },
          "showarrow": false,
          "text": "wait_0",
          "x": 350,
          "y": 12
         },
         {
          "bgcolor": "rgba(255,255,255,0.8)",
          "font": {
           "color": "black",
           "size": 10
          },
          "showarrow": false,
          "text": "unstage_0",
          "x": 442.5,
          "y": 12
         },
         {
          "bgcolor": "rgba(255,255,255,0.8)",
          "font": {
           "color": "black",
           "size": 10
          },
          "showarrow": false,
          "text": "stage_1",
          "x": 650,
          "y": 12
         },
         {
          "bgcolor": "rgba(255,255,255,0.8)",
          "font": {
           "color": "black",
           "size": 10
          },
          "showarrow": false,
          "text": "wait_1",
          "x": 750,
          "y": 12
         },
         {
          "bgcolor": "rgba(255,255,255,0.8)",
          "font": {
           "color": "black",
           "size": 10
          },
          "showarrow": false,
          "text": "unstage_1",
          "x": 842.5,
          "y": 12
         },
         {
          "bgcolor": "rgba(255,255,255,0.8)",
          "font": {
           "color": "black",
           "size": 10
          },
          "showarrow": false,
          "text": "stage_2",
          "x": 1050,
          "y": 12
         },
         {
          "bgcolor": "rgba(255,255,255,0.8)",
          "font": {
           "color": "black",
           "size": 10
          },
          "showarrow": false,
          "text": "wait_2",
          "x": 1150,
          "y": 12
         },
         {
          "bgcolor": "rgba(255,255,255,0.8)",
          "font": {
           "color": "black",
           "size": 10
          },
          "showarrow": false,
          "text": "unstage_2",
          "x": 1242.5,
          "y": 12
         },
         {
          "bgcolor": "rgba(255,255,255,0.8)",
          "font": {
           "color": "black",
           "size": 10
          },
          "showarrow": false,
          "text": "stage_3",
          "x": 1450,
          "y": 12
         },
         {
          "bgcolor": "rgba(255,255,255,0.8)",
          "font": {
           "color": "black",
           "size": 10
          },
          "showarrow": false,
          "text": "wait_3",
          "x": 1550,
          "y": 12
         },
         {
          "bgcolor": "rgba(255,255,255,0.8)",
          "font": {
           "color": "black",
           "size": 10
          },
          "showarrow": false,
          "text": "unstage_3",
          "x": 1642.5,
          "y": 12
         },
         {
          "bgcolor": "rgba(255,255,255,0.8)",
          "font": {
           "color": "black",
           "size": 10
          },
          "showarrow": false,
          "text": "stage_0",
          "x": 270,
          "y": 13
         },
         {
          "bgcolor": "rgba(255,255,255,0.8)",
          "font": {
           "color": "black",
           "size": 10
          },
          "showarrow": false,
          "text": "wait_0",
          "x": 370,
          "y": 13
         },
         {
          "bgcolor": "rgba(255,255,255,0.8)",
          "font": {
           "color": "black",
           "size": 10
          },
          "showarrow": false,
          "text": "unstage_0",
          "x": 467.5,
          "y": 13
         },
         {
          "bgcolor": "rgba(255,255,255,0.8)",
          "font": {
           "color": "black",
           "size": 10
          },
          "showarrow": false,
          "text": "stage_1",
          "x": 670,
          "y": 13
         },
         {
          "bgcolor": "rgba(255,255,255,0.8)",
          "font": {
           "color": "black",
           "size": 10
          },
          "showarrow": false,
          "text": "wait_1",
          "x": 770,
          "y": 13
         },
         {
          "bgcolor": "rgba(255,255,255,0.8)",
          "font": {
           "color": "black",
           "size": 10
          },
          "showarrow": false,
          "text": "unstage_1",
          "x": 867.5,
          "y": 13
         },
         {
          "bgcolor": "rgba(255,255,255,0.8)",
          "font": {
           "color": "black",
           "size": 10
          },
          "showarrow": false,
          "text": "stage_2",
          "x": 1070,
          "y": 13
         },
         {
          "bgcolor": "rgba(255,255,255,0.8)",
          "font": {
           "color": "black",
           "size": 10
          },
          "showarrow": false,
          "text": "wait_2",
          "x": 1170,
          "y": 13
         },
         {
          "bgcolor": "rgba(255,255,255,0.8)",
          "font": {
           "color": "black",
           "size": 10
          },
          "showarrow": false,
          "text": "unstage_2",
          "x": 1267.5,
          "y": 13
         },
         {
          "bgcolor": "rgba(255,255,255,0.8)",
          "font": {
           "color": "black",
           "size": 10
          },
          "showarrow": false,
          "text": "stage_3",
          "x": 1470,
          "y": 13
         },
         {
          "bgcolor": "rgba(255,255,255,0.8)",
          "font": {
           "color": "black",
           "size": 10
          },
          "showarrow": false,
          "text": "wait_3",
          "x": 1570,
          "y": 13
         },
         {
          "bgcolor": "rgba(255,255,255,0.8)",
          "font": {
           "color": "black",
           "size": 10
          },
          "showarrow": false,
          "text": "unstage_3",
          "x": 1662.5,
          "y": 13
         },
         {
          "bgcolor": "rgba(255,255,255,0.8)",
          "font": {
           "color": "black",
           "size": 10
          },
          "showarrow": false,
          "text": "stage_0",
          "x": 290,
          "y": 14
         },
         {
          "bgcolor": "rgba(255,255,255,0.8)",
          "font": {
           "color": "black",
           "size": 10
          },
          "showarrow": false,
          "text": "wait_0",
          "x": 390,
          "y": 14
         },
         {
          "bgcolor": "rgba(255,255,255,0.8)",
          "font": {
           "color": "black",
           "size": 10
          },
          "showarrow": false,
          "text": "unstage_0",
          "x": 492.5,
          "y": 14
         },
         {
          "bgcolor": "rgba(255,255,255,0.8)",
          "font": {
           "color": "black",
           "size": 10
          },
          "showarrow": false,
          "text": "stage_1",
          "x": 690,
          "y": 14
         },
         {
          "bgcolor": "rgba(255,255,255,0.8)",
          "font": {
           "color": "black",
           "size": 10
          },
          "showarrow": false,
          "text": "wait_1",
          "x": 790,
          "y": 14
         },
         {
          "bgcolor": "rgba(255,255,255,0.8)",
          "font": {
           "color": "black",
           "size": 10
          },
          "showarrow": false,
          "text": "unstage_1",
          "x": 892.5,
          "y": 14
         },
         {
          "bgcolor": "rgba(255,255,255,0.8)",
          "font": {
           "color": "black",
           "size": 10
          },
          "showarrow": false,
          "text": "stage_2",
          "x": 1090,
          "y": 14
         },
         {
          "bgcolor": "rgba(255,255,255,0.8)",
          "font": {
           "color": "black",
           "size": 10
          },
          "showarrow": false,
          "text": "wait_2",
          "x": 1190,
          "y": 14
         },
         {
          "bgcolor": "rgba(255,255,255,0.8)",
          "font": {
           "color": "black",
           "size": 10
          },
          "showarrow": false,
          "text": "unstage_2",
          "x": 1292.5,
          "y": 14
         },
         {
          "bgcolor": "rgba(255,255,255,0.8)",
          "font": {
           "color": "black",
           "size": 10
          },
          "showarrow": false,
          "text": "stage_3",
          "x": 1490,
          "y": 14
         },
         {
          "bgcolor": "rgba(255,255,255,0.8)",
          "font": {
           "color": "black",
           "size": 10
          },
          "showarrow": false,
          "text": "wait_3",
          "x": 1590,
          "y": 14
         },
         {
          "bgcolor": "rgba(255,255,255,0.8)",
          "font": {
           "color": "black",
           "size": 10
          },
          "showarrow": false,
          "text": "unstage_3",
          "x": 1682.5,
          "y": 14
         },
         {
          "bgcolor": "rgba(255,255,255,0.8)",
          "font": {
           "color": "black",
           "size": 10
          },
          "showarrow": false,
          "text": "stage_0",
          "x": 310,
          "y": 15
         },
         {
          "bgcolor": "rgba(255,255,255,0.8)",
          "font": {
           "color": "black",
           "size": 10
          },
          "showarrow": false,
          "text": "wait_0",
          "x": 410,
          "y": 15
         },
         {
          "bgcolor": "rgba(255,255,255,0.8)",
          "font": {
           "color": "black",
           "size": 10
          },
          "showarrow": false,
          "text": "unstage_0",
          "x": 517.5,
          "y": 15
         },
         {
          "bgcolor": "rgba(255,255,255,0.8)",
          "font": {
           "color": "black",
           "size": 10
          },
          "showarrow": false,
          "text": "stage_1",
          "x": 710,
          "y": 15
         },
         {
          "bgcolor": "rgba(255,255,255,0.8)",
          "font": {
           "color": "black",
           "size": 10
          },
          "showarrow": false,
          "text": "wait_1",
          "x": 810,
          "y": 15
         },
         {
          "bgcolor": "rgba(255,255,255,0.8)",
          "font": {
           "color": "black",
           "size": 10
          },
          "showarrow": false,
          "text": "unstage_1",
          "x": 917.5,
          "y": 15
         },
         {
          "bgcolor": "rgba(255,255,255,0.8)",
          "font": {
           "color": "black",
           "size": 10
          },
          "showarrow": false,
          "text": "stage_2",
          "x": 1110,
          "y": 15
         },
         {
          "bgcolor": "rgba(255,255,255,0.8)",
          "font": {
           "color": "black",
           "size": 10
          },
          "showarrow": false,
          "text": "wait_2",
          "x": 1210,
          "y": 15
         },
         {
          "bgcolor": "rgba(255,255,255,0.8)",
          "font": {
           "color": "black",
           "size": 10
          },
          "showarrow": false,
          "text": "unstage_2",
          "x": 1317.5,
          "y": 15
         },
         {
          "bgcolor": "rgba(255,255,255,0.8)",
          "font": {
           "color": "black",
           "size": 10
          },
          "showarrow": false,
          "text": "stage_3",
          "x": 1510,
          "y": 15
         },
         {
          "bgcolor": "rgba(255,255,255,0.8)",
          "font": {
           "color": "black",
           "size": 10
          },
          "showarrow": false,
          "text": "wait_3",
          "x": 1610,
          "y": 15
         },
         {
          "bgcolor": "rgba(255,255,255,0.8)",
          "font": {
           "color": "black",
           "size": 10
          },
          "showarrow": false,
          "text": "unstage_3",
          "x": 1702.5,
          "y": 15
         }
        ],
        "autosize": false,
        "height": 800,
        "shapes": [
         {
          "fillcolor": "#636EFA",
          "line": {
           "color": "black",
           "width": 1
          },
          "type": "rect",
          "x0": 0,
          "x1": 20,
          "y0": -0.5,
          "y1": 0.5
         },
         {
          "fillcolor": "#EF553B",
          "line": {
           "color": "black",
           "width": 1
          },
          "type": "rect",
          "x0": 20,
          "x1": 200,
          "y0": -0.5,
          "y1": 0.5
         },
         {
          "fillcolor": "#00CC96",
          "line": {
           "color": "black",
           "width": 1
          },
          "type": "rect",
          "x0": 320,
          "x1": 325,
          "y0": -0.5,
          "y1": 0.5
         },
         {
          "fillcolor": "#AB63FA",
          "line": {
           "color": "black",
           "width": 1
          },
          "type": "rect",
          "x0": 365,
          "x1": 385,
          "y0": -0.5,
          "y1": 0.5
         },
         {
          "fillcolor": "#FFA15A",
          "line": {
           "color": "black",
           "width": 1
          },
          "type": "rect",
          "x0": 385,
          "x1": 565,
          "y0": -0.5,
          "y1": 0.5
         },
         {
          "fillcolor": "#19D3F3",
          "line": {
           "color": "black",
           "width": 1
          },
          "type": "rect",
          "x0": 720,
          "x1": 725,
          "y0": -0.5,
          "y1": 0.5
         },
         {
          "fillcolor": "#FF6692",
          "line": {
           "color": "black",
           "width": 1
          },
          "type": "rect",
          "x0": 765,
          "x1": 785,
          "y0": -0.5,
          "y1": 0.5
         },
         {
          "fillcolor": "#B6E880",
          "line": {
           "color": "black",
           "width": 1
          },
          "type": "rect",
          "x0": 785,
          "x1": 965,
          "y0": -0.5,
          "y1": 0.5
         },
         {
          "fillcolor": "#FF97FF",
          "line": {
           "color": "black",
           "width": 1
          },
          "type": "rect",
          "x0": 1120,
          "x1": 1125,
          "y0": -0.5,
          "y1": 0.5
         },
         {
          "fillcolor": "#FECB52",
          "line": {
           "color": "black",
           "width": 1
          },
          "type": "rect",
          "x0": 1165,
          "x1": 1185,
          "y0": -0.5,
          "y1": 0.5
         },
         {
          "fillcolor": "#636EFA",
          "line": {
           "color": "black",
           "width": 1
          },
          "type": "rect",
          "x0": 1185,
          "x1": 1365,
          "y0": -0.5,
          "y1": 0.5
         },
         {
          "fillcolor": "#EF553B",
          "line": {
           "color": "black",
           "width": 1
          },
          "type": "rect",
          "x0": 1520,
          "x1": 1525,
          "y0": -0.5,
          "y1": 0.5
         },
         {
          "fillcolor": "#636EFA",
          "line": {
           "color": "black",
           "width": 1
          },
          "type": "rect",
          "x0": 20,
          "x1": 40,
          "y0": 0.5,
          "y1": 1.5
         },
         {
          "fillcolor": "#EF553B",
          "line": {
           "color": "black",
           "width": 1
          },
          "type": "rect",
          "x0": 40,
          "x1": 220,
          "y0": 0.5,
          "y1": 1.5
         },
         {
          "fillcolor": "#00CC96",
          "line": {
           "color": "black",
           "width": 1
          },
          "type": "rect",
          "x0": 325,
          "x1": 330,
          "y0": 0.5,
          "y1": 1.5
         },
         {
          "fillcolor": "#AB63FA",
          "line": {
           "color": "black",
           "width": 1
          },
          "type": "rect",
          "x0": 390,
          "x1": 410,
          "y0": 0.5,
          "y1": 1.5
         },
         {
          "fillcolor": "#FFA15A",
          "line": {
           "color": "black",
           "width": 1
          },
          "type": "rect",
          "x0": 410,
          "x1": 590,
          "y0": 0.5,
          "y1": 1.5
         },
         {
          "fillcolor": "#19D3F3",
          "line": {
           "color": "black",
           "width": 1
          },
          "type": "rect",
          "x0": 725,
          "x1": 730,
          "y0": 0.5,
          "y1": 1.5
         },
         {
          "fillcolor": "#FF6692",
          "line": {
           "color": "black",
           "width": 1
          },
          "type": "rect",
          "x0": 790,
          "x1": 810,
          "y0": 0.5,
          "y1": 1.5
         },
         {
          "fillcolor": "#B6E880",
          "line": {
           "color": "black",
           "width": 1
          },
          "type": "rect",
          "x0": 810,
          "x1": 990,
          "y0": 0.5,
          "y1": 1.5
         },
         {
          "fillcolor": "#FF97FF",
          "line": {
           "color": "black",
           "width": 1
          },
          "type": "rect",
          "x0": 1125,
          "x1": 1130,
          "y0": 0.5,
          "y1": 1.5
         },
         {
          "fillcolor": "#FECB52",
          "line": {
           "color": "black",
           "width": 1
          },
          "type": "rect",
          "x0": 1190,
          "x1": 1210,
          "y0": 0.5,
          "y1": 1.5
         },
         {
          "fillcolor": "#636EFA",
          "line": {
           "color": "black",
           "width": 1
          },
          "type": "rect",
          "x0": 1210,
          "x1": 1390,
          "y0": 0.5,
          "y1": 1.5
         },
         {
          "fillcolor": "#EF553B",
          "line": {
           "color": "black",
           "width": 1
          },
          "type": "rect",
          "x0": 1525,
          "x1": 1530,
          "y0": 0.5,
          "y1": 1.5
         },
         {
          "fillcolor": "#636EFA",
          "line": {
           "color": "black",
           "width": 1
          },
          "type": "rect",
          "x0": 40,
          "x1": 60,
          "y0": 1.5,
          "y1": 2.5
         },
         {
          "fillcolor": "#EF553B",
          "line": {
           "color": "black",
           "width": 1
          },
          "type": "rect",
          "x0": 60,
          "x1": 240,
          "y0": 1.5,
          "y1": 2.5
         },
         {
          "fillcolor": "#00CC96",
          "line": {
           "color": "black",
           "width": 1
          },
          "type": "rect",
          "x0": 330,
          "x1": 335,
          "y0": 1.5,
          "y1": 2.5
         },
         {
          "fillcolor": "#AB63FA",
          "line": {
           "color": "black",
           "width": 1
          },
          "type": "rect",
          "x0": 415,
          "x1": 435,
          "y0": 1.5,
          "y1": 2.5
         },
         {
          "fillcolor": "#FFA15A",
          "line": {
           "color": "black",
           "width": 1
          },
          "type": "rect",
          "x0": 435,
          "x1": 615,
          "y0": 1.5,
          "y1": 2.5
         },
         {
          "fillcolor": "#19D3F3",
          "line": {
           "color": "black",
           "width": 1
          },
          "type": "rect",
          "x0": 730,
          "x1": 735,
          "y0": 1.5,
          "y1": 2.5
         },
         {
          "fillcolor": "#FF6692",
          "line": {
           "color": "black",
           "width": 1
          },
          "type": "rect",
          "x0": 815,
          "x1": 835,
          "y0": 1.5,
          "y1": 2.5
         },
         {
          "fillcolor": "#B6E880",
          "line": {
           "color": "black",
           "width": 1
          },
          "type": "rect",
          "x0": 835,
          "x1": 1015,
          "y0": 1.5,
          "y1": 2.5
         },
         {
          "fillcolor": "#FF97FF",
          "line": {
           "color": "black",
           "width": 1
          },
          "type": "rect",
          "x0": 1130,
          "x1": 1135,
          "y0": 1.5,
          "y1": 2.5
         },
         {
          "fillcolor": "#FECB52",
          "line": {
           "color": "black",
           "width": 1
          },
          "type": "rect",
          "x0": 1215,
          "x1": 1235,
          "y0": 1.5,
          "y1": 2.5
         },
         {
          "fillcolor": "#636EFA",
          "line": {
           "color": "black",
           "width": 1
          },
          "type": "rect",
          "x0": 1235,
          "x1": 1415,
          "y0": 1.5,
          "y1": 2.5
         },
         {
          "fillcolor": "#EF553B",
          "line": {
           "color": "black",
           "width": 1
          },
          "type": "rect",
          "x0": 1530,
          "x1": 1535,
          "y0": 1.5,
          "y1": 2.5
         },
         {
          "fillcolor": "#636EFA",
          "line": {
           "color": "black",
           "width": 1
          },
          "type": "rect",
          "x0": 60,
          "x1": 80,
          "y0": 2.5,
          "y1": 3.5
         },
         {
          "fillcolor": "#EF553B",
          "line": {
           "color": "black",
           "width": 1
          },
          "type": "rect",
          "x0": 80,
          "x1": 260,
          "y0": 2.5,
          "y1": 3.5
         },
         {
          "fillcolor": "#00CC96",
          "line": {
           "color": "black",
           "width": 1
          },
          "type": "rect",
          "x0": 335,
          "x1": 340,
          "y0": 2.5,
          "y1": 3.5
         },
         {
          "fillcolor": "#AB63FA",
          "line": {
           "color": "black",
           "width": 1
          },
          "type": "rect",
          "x0": 445,
          "x1": 465,
          "y0": 2.5,
          "y1": 3.5
         },
         {
          "fillcolor": "#FFA15A",
          "line": {
           "color": "black",
           "width": 1
          },
          "type": "rect",
          "x0": 465,
          "x1": 645,
          "y0": 2.5,
          "y1": 3.5
         },
         {
          "fillcolor": "#19D3F3",
          "line": {
           "color": "black",
           "width": 1
          },
          "type": "rect",
          "x0": 735,
          "x1": 740,
          "y0": 2.5,
          "y1": 3.5
         },
         {
          "fillcolor": "#FF6692",
          "line": {
           "color": "black",
           "width": 1
          },
          "type": "rect",
          "x0": 845,
          "x1": 865,
          "y0": 2.5,
          "y1": 3.5
         },
         {
          "fillcolor": "#B6E880",
          "line": {
           "color": "black",
           "width": 1
          },
          "type": "rect",
          "x0": 865,
          "x1": 1045,
          "y0": 2.5,
          "y1": 3.5
         },
         {
          "fillcolor": "#FF97FF",
          "line": {
           "color": "black",
           "width": 1
          },
          "type": "rect",
          "x0": 1135,
          "x1": 1140,
          "y0": 2.5,
          "y1": 3.5
         },
         {
          "fillcolor": "#FECB52",
          "line": {
           "color": "black",
           "width": 1
          },
          "type": "rect",
          "x0": 1245,
          "x1": 1265,
          "y0": 2.5,
          "y1": 3.5
         },
         {
          "fillcolor": "#636EFA",
          "line": {
           "color": "black",
           "width": 1
          },
          "type": "rect",
          "x0": 1265,
          "x1": 1445,
          "y0": 2.5,
          "y1": 3.5
         },
         {
          "fillcolor": "#EF553B",
          "line": {
           "color": "black",
           "width": 1
          },
          "type": "rect",
          "x0": 1535,
          "x1": 1540,
          "y0": 2.5,
          "y1": 3.5
         },
         {
          "fillcolor": "#636EFA",
          "line": {
           "color": "black",
           "width": 1
          },
          "type": "rect",
          "x0": 80,
          "x1": 100,
          "y0": 3.5,
          "y1": 4.5
         },
         {
          "fillcolor": "#EF553B",
          "line": {
           "color": "black",
           "width": 1
          },
          "type": "rect",
          "x0": 100,
          "x1": 280,
          "y0": 3.5,
          "y1": 4.5
         },
         {
          "fillcolor": "#00CC96",
          "line": {
           "color": "black",
           "width": 1
          },
          "type": "rect",
          "x0": 340,
          "x1": 345,
          "y0": 3.5,
          "y1": 4.5
         },
         {
          "fillcolor": "#AB63FA",
          "line": {
           "color": "black",
           "width": 1
          },
          "type": "rect",
          "x0": 470,
          "x1": 490,
          "y0": 3.5,
          "y1": 4.5
         },
         {
          "fillcolor": "#FFA15A",
          "line": {
           "color": "black",
           "width": 1
          },
          "type": "rect",
          "x0": 490,
          "x1": 670,
          "y0": 3.5,
          "y1": 4.5
         },
         {
          "fillcolor": "#19D3F3",
          "line": {
           "color": "black",
           "width": 1
          },
          "type": "rect",
          "x0": 740,
          "x1": 745,
          "y0": 3.5,
          "y1": 4.5
         },
         {
          "fillcolor": "#FF6692",
          "line": {
           "color": "black",
           "width": 1
          },
          "type": "rect",
          "x0": 870,
          "x1": 890,
          "y0": 3.5,
          "y1": 4.5
         },
         {
          "fillcolor": "#B6E880",
          "line": {
           "color": "black",
           "width": 1
          },
          "type": "rect",
          "x0": 890,
          "x1": 1070,
          "y0": 3.5,
          "y1": 4.5
         },
         {
          "fillcolor": "#FF97FF",
          "line": {
           "color": "black",
           "width": 1
          },
          "type": "rect",
          "x0": 1140,
          "x1": 1145,
          "y0": 3.5,
          "y1": 4.5
         },
         {
          "fillcolor": "#FECB52",
          "line": {
           "color": "black",
           "width": 1
          },
          "type": "rect",
          "x0": 1270,
          "x1": 1290,
          "y0": 3.5,
          "y1": 4.5
         },
         {
          "fillcolor": "#636EFA",
          "line": {
           "color": "black",
           "width": 1
          },
          "type": "rect",
          "x0": 1290,
          "x1": 1470,
          "y0": 3.5,
          "y1": 4.5
         },
         {
          "fillcolor": "#EF553B",
          "line": {
           "color": "black",
           "width": 1
          },
          "type": "rect",
          "x0": 1540,
          "x1": 1545,
          "y0": 3.5,
          "y1": 4.5
         },
         {
          "fillcolor": "#636EFA",
          "line": {
           "color": "black",
           "width": 1
          },
          "type": "rect",
          "x0": 100,
          "x1": 120,
          "y0": 4.5,
          "y1": 5.5
         },
         {
          "fillcolor": "#EF553B",
          "line": {
           "color": "black",
           "width": 1
          },
          "type": "rect",
          "x0": 120,
          "x1": 300,
          "y0": 4.5,
          "y1": 5.5
         },
         {
          "fillcolor": "#00CC96",
          "line": {
           "color": "black",
           "width": 1
          },
          "type": "rect",
          "x0": 345,
          "x1": 350,
          "y0": 4.5,
          "y1": 5.5
         },
         {
          "fillcolor": "#AB63FA",
          "line": {
           "color": "black",
           "width": 1
          },
          "type": "rect",
          "x0": 495,
          "x1": 515,
          "y0": 4.5,
          "y1": 5.5
         },
         {
          "fillcolor": "#FFA15A",
          "line": {
           "color": "black",
           "width": 1
          },
          "type": "rect",
          "x0": 515,
          "x1": 695,
          "y0": 4.5,
          "y1": 5.5
         },
         {
          "fillcolor": "#19D3F3",
          "line": {
           "color": "black",
           "width": 1
          },
          "type": "rect",
          "x0": 745,
          "x1": 750,
          "y0": 4.5,
          "y1": 5.5
         },
         {
          "fillcolor": "#FF6692",
          "line": {
           "color": "black",
           "width": 1
          },
          "type": "rect",
          "x0": 895,
          "x1": 915,
          "y0": 4.5,
          "y1": 5.5
         },
         {
          "fillcolor": "#B6E880",
          "line": {
           "color": "black",
           "width": 1
          },
          "type": "rect",
          "x0": 915,
          "x1": 1095,
          "y0": 4.5,
          "y1": 5.5
         },
         {
          "fillcolor": "#FF97FF",
          "line": {
           "color": "black",
           "width": 1
          },
          "type": "rect",
          "x0": 1145,
          "x1": 1150,
          "y0": 4.5,
          "y1": 5.5
         },
         {
          "fillcolor": "#FECB52",
          "line": {
           "color": "black",
           "width": 1
          },
          "type": "rect",
          "x0": 1295,
          "x1": 1315,
          "y0": 4.5,
          "y1": 5.5
         },
         {
          "fillcolor": "#636EFA",
          "line": {
           "color": "black",
           "width": 1
          },
          "type": "rect",
          "x0": 1315,
          "x1": 1495,
          "y0": 4.5,
          "y1": 5.5
         },
         {
          "fillcolor": "#EF553B",
          "line": {
           "color": "black",
           "width": 1
          },
          "type": "rect",
          "x0": 1545,
          "x1": 1550,
          "y0": 4.5,
          "y1": 5.5
         },
         {
          "fillcolor": "#636EFA",
          "line": {
           "color": "black",
           "width": 1
          },
          "type": "rect",
          "x0": 120,
          "x1": 140,
          "y0": 5.5,
          "y1": 6.5
         },
         {
          "fillcolor": "#EF553B",
          "line": {
           "color": "black",
           "width": 1
          },
          "type": "rect",
          "x0": 140,
          "x1": 320,
          "y0": 5.5,
          "y1": 6.5
         },
         {
          "fillcolor": "#00CC96",
          "line": {
           "color": "black",
           "width": 1
          },
          "type": "rect",
          "x0": 350,
          "x1": 355,
          "y0": 5.5,
          "y1": 6.5
         },
         {
          "fillcolor": "#AB63FA",
          "line": {
           "color": "black",
           "width": 1
          },
          "type": "rect",
          "x0": 520,
          "x1": 540,
          "y0": 5.5,
          "y1": 6.5
         },
         {
          "fillcolor": "#FFA15A",
          "line": {
           "color": "black",
           "width": 1
          },
          "type": "rect",
          "x0": 540,
          "x1": 720,
          "y0": 5.5,
          "y1": 6.5
         },
         {
          "fillcolor": "#19D3F3",
          "line": {
           "color": "black",
           "width": 1
          },
          "type": "rect",
          "x0": 750,
          "x1": 755,
          "y0": 5.5,
          "y1": 6.5
         },
         {
          "fillcolor": "#FF6692",
          "line": {
           "color": "black",
           "width": 1
          },
          "type": "rect",
          "x0": 920,
          "x1": 940,
          "y0": 5.5,
          "y1": 6.5
         },
         {
          "fillcolor": "#B6E880",
          "line": {
           "color": "black",
           "width": 1
          },
          "type": "rect",
          "x0": 940,
          "x1": 1120,
          "y0": 5.5,
          "y1": 6.5
         },
         {
          "fillcolor": "#FF97FF",
          "line": {
           "color": "black",
           "width": 1
          },
          "type": "rect",
          "x0": 1150,
          "x1": 1155,
          "y0": 5.5,
          "y1": 6.5
         },
         {
          "fillcolor": "#FECB52",
          "line": {
           "color": "black",
           "width": 1
          },
          "type": "rect",
          "x0": 1320,
          "x1": 1340,
          "y0": 5.5,
          "y1": 6.5
         },
         {
          "fillcolor": "#636EFA",
          "line": {
           "color": "black",
           "width": 1
          },
          "type": "rect",
          "x0": 1340,
          "x1": 1520,
          "y0": 5.5,
          "y1": 6.5
         },
         {
          "fillcolor": "#EF553B",
          "line": {
           "color": "black",
           "width": 1
          },
          "type": "rect",
          "x0": 1550,
          "x1": 1555,
          "y0": 5.5,
          "y1": 6.5
         },
         {
          "fillcolor": "#636EFA",
          "line": {
           "color": "black",
           "width": 1
          },
          "type": "rect",
          "x0": 140,
          "x1": 160,
          "y0": 6.5,
          "y1": 7.5
         },
         {
          "fillcolor": "#EF553B",
          "line": {
           "color": "black",
           "width": 1
          },
          "type": "rect",
          "x0": 160,
          "x1": 340,
          "y0": 6.5,
          "y1": 7.5
         },
         {
          "fillcolor": "#00CC96",
          "line": {
           "color": "black",
           "width": 1
          },
          "type": "rect",
          "x0": 355,
          "x1": 360,
          "y0": 6.5,
          "y1": 7.5
         },
         {
          "fillcolor": "#AB63FA",
          "line": {
           "color": "black",
           "width": 1
          },
          "type": "rect",
          "x0": 540,
          "x1": 560,
          "y0": 6.5,
          "y1": 7.5
         },
         {
          "fillcolor": "#FFA15A",
          "line": {
           "color": "black",
           "width": 1
          },
          "type": "rect",
          "x0": 560,
          "x1": 740,
          "y0": 6.5,
          "y1": 7.5
         },
         {
          "fillcolor": "#19D3F3",
          "line": {
           "color": "black",
           "width": 1
          },
          "type": "rect",
          "x0": 755,
          "x1": 760,
          "y0": 6.5,
          "y1": 7.5
         },
         {
          "fillcolor": "#FF6692",
          "line": {
           "color": "black",
           "width": 1
          },
          "type": "rect",
          "x0": 940,
          "x1": 960,
          "y0": 6.5,
          "y1": 7.5
         },
         {
          "fillcolor": "#B6E880",
          "line": {
           "color": "black",
           "width": 1
          },
          "type": "rect",
          "x0": 960,
          "x1": 1140,
          "y0": 6.5,
          "y1": 7.5
         },
         {
          "fillcolor": "#FF97FF",
          "line": {
           "color": "black",
           "width": 1
          },
          "type": "rect",
          "x0": 1155,
          "x1": 1160,
          "y0": 6.5,
          "y1": 7.5
         },
         {
          "fillcolor": "#FECB52",
          "line": {
           "color": "black",
           "width": 1
          },
          "type": "rect",
          "x0": 1340,
          "x1": 1360,
          "y0": 6.5,
          "y1": 7.5
         },
         {
          "fillcolor": "#636EFA",
          "line": {
           "color": "black",
           "width": 1
          },
          "type": "rect",
          "x0": 1360,
          "x1": 1540,
          "y0": 6.5,
          "y1": 7.5
         },
         {
          "fillcolor": "#EF553B",
          "line": {
           "color": "black",
           "width": 1
          },
          "type": "rect",
          "x0": 1555,
          "x1": 1560,
          "y0": 6.5,
          "y1": 7.5
         },
         {
          "fillcolor": "#636EFA",
          "line": {
           "color": "black",
           "width": 1
          },
          "type": "rect",
          "x0": 160,
          "x1": 180,
          "y0": 7.5,
          "y1": 8.5
         },
         {
          "fillcolor": "#EF553B",
          "line": {
           "color": "black",
           "width": 1
          },
          "type": "rect",
          "x0": 180,
          "x1": 360,
          "y0": 7.5,
          "y1": 8.5
         },
         {
          "fillcolor": "#00CC96",
          "line": {
           "color": "black",
           "width": 1
          },
          "type": "rect",
          "x0": 360,
          "x1": 365,
          "y0": 7.5,
          "y1": 8.5
         },
         {
          "fillcolor": "#AB63FA",
          "line": {
           "color": "black",
           "width": 1
          },
          "type": "rect",
          "x0": 560,
          "x1": 580,
          "y0": 7.5,
          "y1": 8.5
         },
         {
          "fillcolor": "#FFA15A",
          "line": {
           "color": "black",
           "width": 1
          },
          "type": "rect",
          "x0": 580,
          "x1": 760,
          "y0": 7.5,
          "y1": 8.5
         },
         {
          "fillcolor": "#19D3F3",
          "line": {
           "color": "black",
           "width": 1
          },
          "type": "rect",
          "x0": 760,
          "x1": 765,
          "y0": 7.5,
          "y1": 8.5
         },
         {
          "fillcolor": "#FF6692",
          "line": {
           "color": "black",
           "width": 1
          },
          "type": "rect",
          "x0": 960,
          "x1": 980,
          "y0": 7.5,
          "y1": 8.5
         },
         {
          "fillcolor": "#B6E880",
          "line": {
           "color": "black",
           "width": 1
          },
          "type": "rect",
          "x0": 980,
          "x1": 1160,
          "y0": 7.5,
          "y1": 8.5
         },
         {
          "fillcolor": "#FF97FF",
          "line": {
           "color": "black",
           "width": 1
          },
          "type": "rect",
          "x0": 1160,
          "x1": 1165,
          "y0": 7.5,
          "y1": 8.5
         },
         {
          "fillcolor": "#FECB52",
          "line": {
           "color": "black",
           "width": 1
          },
          "type": "rect",
          "x0": 1360,
          "x1": 1380,
          "y0": 7.5,
          "y1": 8.5
         },
         {
          "fillcolor": "#636EFA",
          "line": {
           "color": "black",
           "width": 1
          },
          "type": "rect",
          "x0": 1380,
          "x1": 1560,
          "y0": 7.5,
          "y1": 8.5
         },
         {
          "fillcolor": "#EF553B",
          "line": {
           "color": "black",
           "width": 1
          },
          "type": "rect",
          "x0": 1560,
          "x1": 1565,
          "y0": 7.5,
          "y1": 8.5
         },
         {
          "fillcolor": "#636EFA",
          "line": {
           "color": "black",
           "width": 1
          },
          "type": "rect",
          "x0": 180,
          "x1": 200,
          "y0": 8.5,
          "y1": 9.5
         },
         {
          "fillcolor": "#EF553B",
          "line": {
           "color": "black",
           "width": 1
          },
          "type": "rect",
          "x0": 200,
          "x1": 380,
          "y0": 8.5,
          "y1": 9.5
         },
         {
          "fillcolor": "#00CC96",
          "line": {
           "color": "black",
           "width": 1
          },
          "type": "rect",
          "x0": 385,
          "x1": 390,
          "y0": 8.5,
          "y1": 9.5
         },
         {
          "fillcolor": "#AB63FA",
          "line": {
           "color": "black",
           "width": 1
          },
          "type": "rect",
          "x0": 580,
          "x1": 600,
          "y0": 8.5,
          "y1": 9.5
         },
         {
          "fillcolor": "#FFA15A",
          "line": {
           "color": "black",
           "width": 1
          },
          "type": "rect",
          "x0": 600,
          "x1": 780,
          "y0": 8.5,
          "y1": 9.5
         },
         {
          "fillcolor": "#19D3F3",
          "line": {
           "color": "black",
           "width": 1
          },
          "type": "rect",
          "x0": 785,
          "x1": 790,
          "y0": 8.5,
          "y1": 9.5
         },
         {
          "fillcolor": "#FF6692",
          "line": {
           "color": "black",
           "width": 1
          },
          "type": "rect",
          "x0": 980,
          "x1": 1000,
          "y0": 8.5,
          "y1": 9.5
         },
         {
          "fillcolor": "#B6E880",
          "line": {
           "color": "black",
           "width": 1
          },
          "type": "rect",
          "x0": 1000,
          "x1": 1180,
          "y0": 8.5,
          "y1": 9.5
         },
         {
          "fillcolor": "#FF97FF",
          "line": {
           "color": "black",
           "width": 1
          },
          "type": "rect",
          "x0": 1185,
          "x1": 1190,
          "y0": 8.5,
          "y1": 9.5
         },
         {
          "fillcolor": "#FECB52",
          "line": {
           "color": "black",
           "width": 1
          },
          "type": "rect",
          "x0": 1380,
          "x1": 1400,
          "y0": 8.5,
          "y1": 9.5
         },
         {
          "fillcolor": "#636EFA",
          "line": {
           "color": "black",
           "width": 1
          },
          "type": "rect",
          "x0": 1400,
          "x1": 1580,
          "y0": 8.5,
          "y1": 9.5
         },
         {
          "fillcolor": "#EF553B",
          "line": {
           "color": "black",
           "width": 1
          },
          "type": "rect",
          "x0": 1580,
          "x1": 1585,
          "y0": 8.5,
          "y1": 9.5
         },
         {
          "fillcolor": "#636EFA",
          "line": {
           "color": "black",
           "width": 1
          },
          "type": "rect",
          "x0": 200,
          "x1": 220,
          "y0": 9.5,
          "y1": 10.5
         },
         {
          "fillcolor": "#EF553B",
          "line": {
           "color": "black",
           "width": 1
          },
          "type": "rect",
          "x0": 220,
          "x1": 400,
          "y0": 9.5,
          "y1": 10.5
         },
         {
          "fillcolor": "#00CC96",
          "line": {
           "color": "black",
           "width": 1
          },
          "type": "rect",
          "x0": 410,
          "x1": 415,
          "y0": 9.5,
          "y1": 10.5
         },
         {
          "fillcolor": "#AB63FA",
          "line": {
           "color": "black",
           "width": 1
          },
          "type": "rect",
          "x0": 600,
          "x1": 620,
          "y0": 9.5,
          "y1": 10.5
         },
         {
          "fillcolor": "#FFA15A",
          "line": {
           "color": "black",
           "width": 1
          },
          "type": "rect",
          "x0": 620,
          "x1": 800,
          "y0": 9.5,
          "y1": 10.5
         },
         {
          "fillcolor": "#19D3F3",
          "line": {
           "color": "black",
           "width": 1
          },
          "type": "rect",
          "x0": 810,
          "x1": 815,
          "y0": 9.5,
          "y1": 10.5
         },
         {
          "fillcolor": "#FF6692",
          "line": {
           "color": "black",
           "width": 1
          },
          "type": "rect",
          "x0": 1000,
          "x1": 1020,
          "y0": 9.5,
          "y1": 10.5
         },
         {
          "fillcolor": "#B6E880",
          "line": {
           "color": "black",
           "width": 1
          },
          "type": "rect",
          "x0": 1020,
          "x1": 1200,
          "y0": 9.5,
          "y1": 10.5
         },
         {
          "fillcolor": "#FF97FF",
          "line": {
           "color": "black",
           "width": 1
          },
          "type": "rect",
          "x0": 1210,
          "x1": 1215,
          "y0": 9.5,
          "y1": 10.5
         },
         {
          "fillcolor": "#FECB52",
          "line": {
           "color": "black",
           "width": 1
          },
          "type": "rect",
          "x0": 1400,
          "x1": 1420,
          "y0": 9.5,
          "y1": 10.5
         },
         {
          "fillcolor": "#636EFA",
          "line": {
           "color": "black",
           "width": 1
          },
          "type": "rect",
          "x0": 1420,
          "x1": 1600,
          "y0": 9.5,
          "y1": 10.5
         },
         {
          "fillcolor": "#EF553B",
          "line": {
           "color": "black",
           "width": 1
          },
          "type": "rect",
          "x0": 1600,
          "x1": 1605,
          "y0": 9.5,
          "y1": 10.5
         },
         {
          "fillcolor": "#636EFA",
          "line": {
           "color": "black",
           "width": 1
          },
          "type": "rect",
          "x0": 220,
          "x1": 240,
          "y0": 10.5,
          "y1": 11.5
         },
         {
          "fillcolor": "#EF553B",
          "line": {
           "color": "black",
           "width": 1
          },
          "type": "rect",
          "x0": 240,
          "x1": 420,
          "y0": 10.5,
          "y1": 11.5
         },
         {
          "fillcolor": "#00CC96",
          "line": {
           "color": "black",
           "width": 1
          },
          "type": "rect",
          "x0": 435,
          "x1": 440,
          "y0": 10.5,
          "y1": 11.5
         },
         {
          "fillcolor": "#AB63FA",
          "line": {
           "color": "black",
           "width": 1
          },
          "type": "rect",
          "x0": 620,
          "x1": 640,
          "y0": 10.5,
          "y1": 11.5
         },
         {
          "fillcolor": "#FFA15A",
          "line": {
           "color": "black",
           "width": 1
          },
          "type": "rect",
          "x0": 640,
          "x1": 820,
          "y0": 10.5,
          "y1": 11.5
         },
         {
          "fillcolor": "#19D3F3",
          "line": {
           "color": "black",
           "width": 1
          },
          "type": "rect",
          "x0": 835,
          "x1": 840,
          "y0": 10.5,
          "y1": 11.5
         },
         {
          "fillcolor": "#FF6692",
          "line": {
           "color": "black",
           "width": 1
          },
          "type": "rect",
          "x0": 1020,
          "x1": 1040,
          "y0": 10.5,
          "y1": 11.5
         },
         {
          "fillcolor": "#B6E880",
          "line": {
           "color": "black",
           "width": 1
          },
          "type": "rect",
          "x0": 1040,
          "x1": 1220,
          "y0": 10.5,
          "y1": 11.5
         },
         {
          "fillcolor": "#FF97FF",
          "line": {
           "color": "black",
           "width": 1
          },
          "type": "rect",
          "x0": 1235,
          "x1": 1240,
          "y0": 10.5,
          "y1": 11.5
         },
         {
          "fillcolor": "#FECB52",
          "line": {
           "color": "black",
           "width": 1
          },
          "type": "rect",
          "x0": 1420,
          "x1": 1440,
          "y0": 10.5,
          "y1": 11.5
         },
         {
          "fillcolor": "#636EFA",
          "line": {
           "color": "black",
           "width": 1
          },
          "type": "rect",
          "x0": 1440,
          "x1": 1620,
          "y0": 10.5,
          "y1": 11.5
         },
         {
          "fillcolor": "#EF553B",
          "line": {
           "color": "black",
           "width": 1
          },
          "type": "rect",
          "x0": 1620,
          "x1": 1625,
          "y0": 10.5,
          "y1": 11.5
         },
         {
          "fillcolor": "#636EFA",
          "line": {
           "color": "black",
           "width": 1
          },
          "type": "rect",
          "x0": 240,
          "x1": 260,
          "y0": 11.5,
          "y1": 12.5
         },
         {
          "fillcolor": "#EF553B",
          "line": {
           "color": "black",
           "width": 1
          },
          "type": "rect",
          "x0": 260,
          "x1": 440,
          "y0": 11.5,
          "y1": 12.5
         },
         {
          "fillcolor": "#00CC96",
          "line": {
           "color": "black",
           "width": 1
          },
          "type": "rect",
          "x0": 440,
          "x1": 445,
          "y0": 11.5,
          "y1": 12.5
         },
         {
          "fillcolor": "#AB63FA",
          "line": {
           "color": "black",
           "width": 1
          },
          "type": "rect",
          "x0": 640,
          "x1": 660,
          "y0": 11.5,
          "y1": 12.5
         },
         {
          "fillcolor": "#FFA15A",
          "line": {
           "color": "black",
           "width": 1
          },
          "type": "rect",
          "x0": 660,
          "x1": 840,
          "y0": 11.5,
          "y1": 12.5
         },
         {
          "fillcolor": "#19D3F3",
          "line": {
           "color": "black",
           "width": 1
          },
          "type": "rect",
          "x0": 840,
          "x1": 845,
          "y0": 11.5,
          "y1": 12.5
         },
         {
          "fillcolor": "#FF6692",
          "line": {
           "color": "black",
           "width": 1
          },
          "type": "rect",
          "x0": 1040,
          "x1": 1060,
          "y0": 11.5,
          "y1": 12.5
         },
         {
          "fillcolor": "#B6E880",
          "line": {
           "color": "black",
           "width": 1
          },
          "type": "rect",
          "x0": 1060,
          "x1": 1240,
          "y0": 11.5,
          "y1": 12.5
         },
         {
          "fillcolor": "#FF97FF",
          "line": {
           "color": "black",
           "width": 1
          },
          "type": "rect",
          "x0": 1240,
          "x1": 1245,
          "y0": 11.5,
          "y1": 12.5
         },
         {
          "fillcolor": "#FECB52",
          "line": {
           "color": "black",
           "width": 1
          },
          "type": "rect",
          "x0": 1440,
          "x1": 1460,
          "y0": 11.5,
          "y1": 12.5
         },
         {
          "fillcolor": "#636EFA",
          "line": {
           "color": "black",
           "width": 1
          },
          "type": "rect",
          "x0": 1460,
          "x1": 1640,
          "y0": 11.5,
          "y1": 12.5
         },
         {
          "fillcolor": "#EF553B",
          "line": {
           "color": "black",
           "width": 1
          },
          "type": "rect",
          "x0": 1640,
          "x1": 1645,
          "y0": 11.5,
          "y1": 12.5
         },
         {
          "fillcolor": "#636EFA",
          "line": {
           "color": "black",
           "width": 1
          },
          "type": "rect",
          "x0": 260,
          "x1": 280,
          "y0": 12.5,
          "y1": 13.5
         },
         {
          "fillcolor": "#EF553B",
          "line": {
           "color": "black",
           "width": 1
          },
          "type": "rect",
          "x0": 280,
          "x1": 460,
          "y0": 12.5,
          "y1": 13.5
         },
         {
          "fillcolor": "#00CC96",
          "line": {
           "color": "black",
           "width": 1
          },
          "type": "rect",
          "x0": 465,
          "x1": 470,
          "y0": 12.5,
          "y1": 13.5
         },
         {
          "fillcolor": "#AB63FA",
          "line": {
           "color": "black",
           "width": 1
          },
          "type": "rect",
          "x0": 660,
          "x1": 680,
          "y0": 12.5,
          "y1": 13.5
         },
         {
          "fillcolor": "#FFA15A",
          "line": {
           "color": "black",
           "width": 1
          },
          "type": "rect",
          "x0": 680,
          "x1": 860,
          "y0": 12.5,
          "y1": 13.5
         },
         {
          "fillcolor": "#19D3F3",
          "line": {
           "color": "black",
           "width": 1
          },
          "type": "rect",
          "x0": 865,
          "x1": 870,
          "y0": 12.5,
          "y1": 13.5
         },
         {
          "fillcolor": "#FF6692",
          "line": {
           "color": "black",
           "width": 1
          },
          "type": "rect",
          "x0": 1060,
          "x1": 1080,
          "y0": 12.5,
          "y1": 13.5
         },
         {
          "fillcolor": "#B6E880",
          "line": {
           "color": "black",
           "width": 1
          },
          "type": "rect",
          "x0": 1080,
          "x1": 1260,
          "y0": 12.5,
          "y1": 13.5
         },
         {
          "fillcolor": "#FF97FF",
          "line": {
           "color": "black",
           "width": 1
          },
          "type": "rect",
          "x0": 1265,
          "x1": 1270,
          "y0": 12.5,
          "y1": 13.5
         },
         {
          "fillcolor": "#FECB52",
          "line": {
           "color": "black",
           "width": 1
          },
          "type": "rect",
          "x0": 1460,
          "x1": 1480,
          "y0": 12.5,
          "y1": 13.5
         },
         {
          "fillcolor": "#636EFA",
          "line": {
           "color": "black",
           "width": 1
          },
          "type": "rect",
          "x0": 1480,
          "x1": 1660,
          "y0": 12.5,
          "y1": 13.5
         },
         {
          "fillcolor": "#EF553B",
          "line": {
           "color": "black",
           "width": 1
          },
          "type": "rect",
          "x0": 1660,
          "x1": 1665,
          "y0": 12.5,
          "y1": 13.5
         },
         {
          "fillcolor": "#636EFA",
          "line": {
           "color": "black",
           "width": 1
          },
          "type": "rect",
          "x0": 280,
          "x1": 300,
          "y0": 13.5,
          "y1": 14.5
         },
         {
          "fillcolor": "#EF553B",
          "line": {
           "color": "black",
           "width": 1
          },
          "type": "rect",
          "x0": 300,
          "x1": 480,
          "y0": 13.5,
          "y1": 14.5
         },
         {
          "fillcolor": "#00CC96",
          "line": {
           "color": "black",
           "width": 1
          },
          "type": "rect",
          "x0": 490,
          "x1": 495,
          "y0": 13.5,
          "y1": 14.5
         },
         {
          "fillcolor": "#AB63FA",
          "line": {
           "color": "black",
           "width": 1
          },
          "type": "rect",
          "x0": 680,
          "x1": 700,
          "y0": 13.5,
          "y1": 14.5
         },
         {
          "fillcolor": "#FFA15A",
          "line": {
           "color": "black",
           "width": 1
          },
          "type": "rect",
          "x0": 700,
          "x1": 880,
          "y0": 13.5,
          "y1": 14.5
         },
         {
          "fillcolor": "#19D3F3",
          "line": {
           "color": "black",
           "width": 1
          },
          "type": "rect",
          "x0": 890,
          "x1": 895,
          "y0": 13.5,
          "y1": 14.5
         },
         {
          "fillcolor": "#FF6692",
          "line": {
           "color": "black",
           "width": 1
          },
          "type": "rect",
          "x0": 1080,
          "x1": 1100,
          "y0": 13.5,
          "y1": 14.5
         },
         {
          "fillcolor": "#B6E880",
          "line": {
           "color": "black",
           "width": 1
          },
          "type": "rect",
          "x0": 1100,
          "x1": 1280,
          "y0": 13.5,
          "y1": 14.5
         },
         {
          "fillcolor": "#FF97FF",
          "line": {
           "color": "black",
           "width": 1
          },
          "type": "rect",
          "x0": 1290,
          "x1": 1295,
          "y0": 13.5,
          "y1": 14.5
         },
         {
          "fillcolor": "#FECB52",
          "line": {
           "color": "black",
           "width": 1
          },
          "type": "rect",
          "x0": 1480,
          "x1": 1500,
          "y0": 13.5,
          "y1": 14.5
         },
         {
          "fillcolor": "#636EFA",
          "line": {
           "color": "black",
           "width": 1
          },
          "type": "rect",
          "x0": 1500,
          "x1": 1680,
          "y0": 13.5,
          "y1": 14.5
         },
         {
          "fillcolor": "#EF553B",
          "line": {
           "color": "black",
           "width": 1
          },
          "type": "rect",
          "x0": 1680,
          "x1": 1685,
          "y0": 13.5,
          "y1": 14.5
         },
         {
          "fillcolor": "#636EFA",
          "line": {
           "color": "black",
           "width": 1
          },
          "type": "rect",
          "x0": 300,
          "x1": 320,
          "y0": 14.5,
          "y1": 15.5
         },
         {
          "fillcolor": "#EF553B",
          "line": {
           "color": "black",
           "width": 1
          },
          "type": "rect",
          "x0": 320,
          "x1": 500,
          "y0": 14.5,
          "y1": 15.5
         },
         {
          "fillcolor": "#00CC96",
          "line": {
           "color": "black",
           "width": 1
          },
          "type": "rect",
          "x0": 515,
          "x1": 520,
          "y0": 14.5,
          "y1": 15.5
         },
         {
          "fillcolor": "#AB63FA",
          "line": {
           "color": "black",
           "width": 1
          },
          "type": "rect",
          "x0": 700,
          "x1": 720,
          "y0": 14.5,
          "y1": 15.5
         },
         {
          "fillcolor": "#FFA15A",
          "line": {
           "color": "black",
           "width": 1
          },
          "type": "rect",
          "x0": 720,
          "x1": 900,
          "y0": 14.5,
          "y1": 15.5
         },
         {
          "fillcolor": "#19D3F3",
          "line": {
           "color": "black",
           "width": 1
          },
          "type": "rect",
          "x0": 915,
          "x1": 920,
          "y0": 14.5,
          "y1": 15.5
         },
         {
          "fillcolor": "#FF6692",
          "line": {
           "color": "black",
           "width": 1
          },
          "type": "rect",
          "x0": 1100,
          "x1": 1120,
          "y0": 14.5,
          "y1": 15.5
         },
         {
          "fillcolor": "#B6E880",
          "line": {
           "color": "black",
           "width": 1
          },
          "type": "rect",
          "x0": 1120,
          "x1": 1300,
          "y0": 14.5,
          "y1": 15.5
         },
         {
          "fillcolor": "#FF97FF",
          "line": {
           "color": "black",
           "width": 1
          },
          "type": "rect",
          "x0": 1315,
          "x1": 1320,
          "y0": 14.5,
          "y1": 15.5
         },
         {
          "fillcolor": "#FECB52",
          "line": {
           "color": "black",
           "width": 1
          },
          "type": "rect",
          "x0": 1500,
          "x1": 1520,
          "y0": 14.5,
          "y1": 15.5
         },
         {
          "fillcolor": "#636EFA",
          "line": {
           "color": "black",
           "width": 1
          },
          "type": "rect",
          "x0": 1520,
          "x1": 1700,
          "y0": 14.5,
          "y1": 15.5
         },
         {
          "fillcolor": "#EF553B",
          "line": {
           "color": "black",
           "width": 1
          },
          "type": "rect",
          "x0": 1700,
          "x1": 1705,
          "y0": 14.5,
          "y1": 15.5
         }
        ],
        "template": {
         "data": {
          "bar": [
           {
            "error_x": {
             "color": "#2a3f5f"
            },
            "error_y": {
             "color": "#2a3f5f"
            },
            "marker": {
             "line": {
              "color": "#E5ECF6",
              "width": 0.5
             },
             "pattern": {
              "fillmode": "overlay",
              "size": 10,
              "solidity": 0.2
             }
            },
            "type": "bar"
           }
          ],
          "barpolar": [
           {
            "marker": {
             "line": {
              "color": "#E5ECF6",
              "width": 0.5
             },
             "pattern": {
              "fillmode": "overlay",
              "size": 10,
              "solidity": 0.2
             }
            },
            "type": "barpolar"
           }
          ],
          "carpet": [
           {
            "aaxis": {
             "endlinecolor": "#2a3f5f",
             "gridcolor": "white",
             "linecolor": "white",
             "minorgridcolor": "white",
             "startlinecolor": "#2a3f5f"
            },
            "baxis": {
             "endlinecolor": "#2a3f5f",
             "gridcolor": "white",
             "linecolor": "white",
             "minorgridcolor": "white",
             "startlinecolor": "#2a3f5f"
            },
            "type": "carpet"
           }
          ],
          "choropleth": [
           {
            "colorbar": {
             "outlinewidth": 0,
             "ticks": ""
            },
            "type": "choropleth"
           }
          ],
          "contour": [
           {
            "colorbar": {
             "outlinewidth": 0,
             "ticks": ""
            },
            "colorscale": [
             [
              0,
              "#0d0887"
             ],
             [
              0.1111111111111111,
              "#46039f"
             ],
             [
              0.2222222222222222,
              "#7201a8"
             ],
             [
              0.3333333333333333,
              "#9c179e"
             ],
             [
              0.4444444444444444,
              "#bd3786"
             ],
             [
              0.5555555555555556,
              "#d8576b"
             ],
             [
              0.6666666666666666,
              "#ed7953"
             ],
             [
              0.7777777777777778,
              "#fb9f3a"
             ],
             [
              0.8888888888888888,
              "#fdca26"
             ],
             [
              1,
              "#f0f921"
             ]
            ],
            "type": "contour"
           }
          ],
          "contourcarpet": [
           {
            "colorbar": {
             "outlinewidth": 0,
             "ticks": ""
            },
            "type": "contourcarpet"
           }
          ],
          "heatmap": [
           {
            "colorbar": {
             "outlinewidth": 0,
             "ticks": ""
            },
            "colorscale": [
             [
              0,
              "#0d0887"
             ],
             [
              0.1111111111111111,
              "#46039f"
             ],
             [
              0.2222222222222222,
              "#7201a8"
             ],
             [
              0.3333333333333333,
              "#9c179e"
             ],
             [
              0.4444444444444444,
              "#bd3786"
             ],
             [
              0.5555555555555556,
              "#d8576b"
             ],
             [
              0.6666666666666666,
              "#ed7953"
             ],
             [
              0.7777777777777778,
              "#fb9f3a"
             ],
             [
              0.8888888888888888,
              "#fdca26"
             ],
             [
              1,
              "#f0f921"
             ]
            ],
            "type": "heatmap"
           }
          ],
          "heatmapgl": [
           {
            "colorbar": {
             "outlinewidth": 0,
             "ticks": ""
            },
            "colorscale": [
             [
              0,
              "#0d0887"
             ],
             [
              0.1111111111111111,
              "#46039f"
             ],
             [
              0.2222222222222222,
              "#7201a8"
             ],
             [
              0.3333333333333333,
              "#9c179e"
             ],
             [
              0.4444444444444444,
              "#bd3786"
             ],
             [
              0.5555555555555556,
              "#d8576b"
             ],
             [
              0.6666666666666666,
              "#ed7953"
             ],
             [
              0.7777777777777778,
              "#fb9f3a"
             ],
             [
              0.8888888888888888,
              "#fdca26"
             ],
             [
              1,
              "#f0f921"
             ]
            ],
            "type": "heatmapgl"
           }
          ],
          "histogram": [
           {
            "marker": {
             "pattern": {
              "fillmode": "overlay",
              "size": 10,
              "solidity": 0.2
             }
            },
            "type": "histogram"
           }
          ],
          "histogram2d": [
           {
            "colorbar": {
             "outlinewidth": 0,
             "ticks": ""
            },
            "colorscale": [
             [
              0,
              "#0d0887"
             ],
             [
              0.1111111111111111,
              "#46039f"
             ],
             [
              0.2222222222222222,
              "#7201a8"
             ],
             [
              0.3333333333333333,
              "#9c179e"
             ],
             [
              0.4444444444444444,
              "#bd3786"
             ],
             [
              0.5555555555555556,
              "#d8576b"
             ],
             [
              0.6666666666666666,
              "#ed7953"
             ],
             [
              0.7777777777777778,
              "#fb9f3a"
             ],
             [
              0.8888888888888888,
              "#fdca26"
             ],
             [
              1,
              "#f0f921"
             ]
            ],
            "type": "histogram2d"
           }
          ],
          "histogram2dcontour": [
           {
            "colorbar": {
             "outlinewidth": 0,
             "ticks": ""
            },
            "colorscale": [
             [
              0,
              "#0d0887"
             ],
             [
              0.1111111111111111,
              "#46039f"
             ],
             [
              0.2222222222222222,
              "#7201a8"
             ],
             [
              0.3333333333333333,
              "#9c179e"
             ],
             [
              0.4444444444444444,
              "#bd3786"
             ],
             [
              0.5555555555555556,
              "#d8576b"
             ],
             [
              0.6666666666666666,
              "#ed7953"
             ],
             [
              0.7777777777777778,
              "#fb9f3a"
             ],
             [
              0.8888888888888888,
              "#fdca26"
             ],
             [
              1,
              "#f0f921"
             ]
            ],
            "type": "histogram2dcontour"
           }
          ],
          "mesh3d": [
           {
            "colorbar": {
             "outlinewidth": 0,
             "ticks": ""
            },
            "type": "mesh3d"
           }
          ],
          "parcoords": [
           {
            "line": {
             "colorbar": {
              "outlinewidth": 0,
              "ticks": ""
             }
            },
            "type": "parcoords"
           }
          ],
          "pie": [
           {
            "automargin": true,
            "type": "pie"
           }
          ],
          "scatter": [
           {
            "fillpattern": {
             "fillmode": "overlay",
             "size": 10,
             "solidity": 0.2
            },
            "type": "scatter"
           }
          ],
          "scatter3d": [
           {
            "line": {
             "colorbar": {
              "outlinewidth": 0,
              "ticks": ""
             }
            },
            "marker": {
             "colorbar": {
              "outlinewidth": 0,
              "ticks": ""
             }
            },
            "type": "scatter3d"
           }
          ],
          "scattercarpet": [
           {
            "marker": {
             "colorbar": {
              "outlinewidth": 0,
              "ticks": ""
             }
            },
            "type": "scattercarpet"
           }
          ],
          "scattergeo": [
           {
            "marker": {
             "colorbar": {
              "outlinewidth": 0,
              "ticks": ""
             }
            },
            "type": "scattergeo"
           }
          ],
          "scattergl": [
           {
            "marker": {
             "colorbar": {
              "outlinewidth": 0,
              "ticks": ""
             }
            },
            "type": "scattergl"
           }
          ],
          "scattermapbox": [
           {
            "marker": {
             "colorbar": {
              "outlinewidth": 0,
              "ticks": ""
             }
            },
            "type": "scattermapbox"
           }
          ],
          "scatterpolar": [
           {
            "marker": {
             "colorbar": {
              "outlinewidth": 0,
              "ticks": ""
             }
            },
            "type": "scatterpolar"
           }
          ],
          "scatterpolargl": [
           {
            "marker": {
             "colorbar": {
              "outlinewidth": 0,
              "ticks": ""
             }
            },
            "type": "scatterpolargl"
           }
          ],
          "scatterternary": [
           {
            "marker": {
             "colorbar": {
              "outlinewidth": 0,
              "ticks": ""
             }
            },
            "type": "scatterternary"
           }
          ],
          "surface": [
           {
            "colorbar": {
             "outlinewidth": 0,
             "ticks": ""
            },
            "colorscale": [
             [
              0,
              "#0d0887"
             ],
             [
              0.1111111111111111,
              "#46039f"
             ],
             [
              0.2222222222222222,
              "#7201a8"
             ],
             [
              0.3333333333333333,
              "#9c179e"
             ],
             [
              0.4444444444444444,
              "#bd3786"
             ],
             [
              0.5555555555555556,
              "#d8576b"
             ],
             [
              0.6666666666666666,
              "#ed7953"
             ],
             [
              0.7777777777777778,
              "#fb9f3a"
             ],
             [
              0.8888888888888888,
              "#fdca26"
             ],
             [
              1,
              "#f0f921"
             ]
            ],
            "type": "surface"
           }
          ],
          "table": [
           {
            "cells": {
             "fill": {
              "color": "#EBF0F8"
             },
             "line": {
              "color": "white"
             }
            },
            "header": {
             "fill": {
              "color": "#C8D4E3"
             },
             "line": {
              "color": "white"
             }
            },
            "type": "table"
           }
          ]
         },
         "layout": {
          "annotationdefaults": {
           "arrowcolor": "#2a3f5f",
           "arrowhead": 0,
           "arrowwidth": 1
          },
          "autotypenumbers": "strict",
          "coloraxis": {
           "colorbar": {
            "outlinewidth": 0,
            "ticks": ""
           }
          },
          "colorscale": {
           "diverging": [
            [
             0,
             "#8e0152"
            ],
            [
             0.1,
             "#c51b7d"
            ],
            [
             0.2,
             "#de77ae"
            ],
            [
             0.3,
             "#f1b6da"
            ],
            [
             0.4,
             "#fde0ef"
            ],
            [
             0.5,
             "#f7f7f7"
            ],
            [
             0.6,
             "#e6f5d0"
            ],
            [
             0.7,
             "#b8e186"
            ],
            [
             0.8,
             "#7fbc41"
            ],
            [
             0.9,
             "#4d9221"
            ],
            [
             1,
             "#276419"
            ]
           ],
           "sequential": [
            [
             0,
             "#0d0887"
            ],
            [
             0.1111111111111111,
             "#46039f"
            ],
            [
             0.2222222222222222,
             "#7201a8"
            ],
            [
             0.3333333333333333,
             "#9c179e"
            ],
            [
             0.4444444444444444,
             "#bd3786"
            ],
            [
             0.5555555555555556,
             "#d8576b"
            ],
            [
             0.6666666666666666,
             "#ed7953"
            ],
            [
             0.7777777777777778,
             "#fb9f3a"
            ],
            [
             0.8888888888888888,
             "#fdca26"
            ],
            [
             1,
             "#f0f921"
            ]
           ],
           "sequentialminus": [
            [
             0,
             "#0d0887"
            ],
            [
             0.1111111111111111,
             "#46039f"
            ],
            [
             0.2222222222222222,
             "#7201a8"
            ],
            [
             0.3333333333333333,
             "#9c179e"
            ],
            [
             0.4444444444444444,
             "#bd3786"
            ],
            [
             0.5555555555555556,
             "#d8576b"
            ],
            [
             0.6666666666666666,
             "#ed7953"
            ],
            [
             0.7777777777777778,
             "#fb9f3a"
            ],
            [
             0.8888888888888888,
             "#fdca26"
            ],
            [
             1,
             "#f0f921"
            ]
           ]
          },
          "colorway": [
           "#636efa",
           "#EF553B",
           "#00cc96",
           "#ab63fa",
           "#FFA15A",
           "#19d3f3",
           "#FF6692",
           "#B6E880",
           "#FF97FF",
           "#FECB52"
          ],
          "font": {
           "color": "#2a3f5f"
          },
          "geo": {
           "bgcolor": "white",
           "lakecolor": "white",
           "landcolor": "#E5ECF6",
           "showlakes": true,
           "showland": true,
           "subunitcolor": "white"
          },
          "hoverlabel": {
           "align": "left"
          },
          "hovermode": "closest",
          "mapbox": {
           "style": "light"
          },
          "paper_bgcolor": "white",
          "plot_bgcolor": "#E5ECF6",
          "polar": {
           "angularaxis": {
            "gridcolor": "white",
            "linecolor": "white",
            "ticks": ""
           },
           "bgcolor": "#E5ECF6",
           "radialaxis": {
            "gridcolor": "white",
            "linecolor": "white",
            "ticks": ""
           }
          },
          "scene": {
           "xaxis": {
            "backgroundcolor": "#E5ECF6",
            "gridcolor": "white",
            "gridwidth": 2,
            "linecolor": "white",
            "showbackground": true,
            "ticks": "",
            "zerolinecolor": "white"
           },
           "yaxis": {
            "backgroundcolor": "#E5ECF6",
            "gridcolor": "white",
            "gridwidth": 2,
            "linecolor": "white",
            "showbackground": true,
            "ticks": "",
            "zerolinecolor": "white"
           },
           "zaxis": {
            "backgroundcolor": "#E5ECF6",
            "gridcolor": "white",
            "gridwidth": 2,
            "linecolor": "white",
            "showbackground": true,
            "ticks": "",
            "zerolinecolor": "white"
           }
          },
          "shapedefaults": {
           "line": {
            "color": "#2a3f5f"
           }
          },
          "ternary": {
           "aaxis": {
            "gridcolor": "white",
            "linecolor": "white",
            "ticks": ""
           },
           "baxis": {
            "gridcolor": "white",
            "linecolor": "white",
            "ticks": ""
           },
           "bgcolor": "#E5ECF6",
           "caxis": {
            "gridcolor": "white",
            "linecolor": "white",
            "ticks": ""
           }
          },
          "title": {
           "x": 0.05
          },
          "xaxis": {
           "automargin": true,
           "gridcolor": "white",
           "linecolor": "white",
           "ticks": "",
           "title": {
            "standoff": 15
           },
           "zerolinecolor": "white",
           "zerolinewidth": 2
          },
          "yaxis": {
           "automargin": true,
           "gridcolor": "white",
           "linecolor": "white",
           "ticks": "",
           "title": {
            "standoff": 15
           },
           "zerolinecolor": "white",
           "zerolinewidth": 2
          }
         }
        },
        "width": 1400,
        "xaxis": {
         "range": [
          0,
          1705
         ],
         "title": {
          "text": "Time"
         }
        },
        "yaxis": {
         "dtick": 1,
         "range": [
          -0.5,
          15.5
         ],
         "tick0": 0,
         "tickmode": "linear",
         "title": {
          "text": "Item Index"
         }
        }
       }
      }
     },
     "metadata": {},
     "output_type": "display_data"
    }
   ],
   "source": [
    "# Run scheduler\n",
    "num_items = 16\n",
    "schedule = tms.run_scheduler(num_items, ops, conflicts, sync_starts=False)\n",
    "\n",
    "schedule_duration = tms.calc_schedule_duration(schedule, ops)\n",
    "print(f\"Total Schedule duration is {schedule_duration} ({(schedule_duration/60.0):.3f} minutes)\")\n",
    "print(f\"Estimated throughput is {(num_items * num_cycles) / (schedule_duration/60.0):.2f} hot dogs per minute\")\n",
    "\n",
    "tms.plot_schedule(schedule, ops, label_size=10)"
   ]
  },
  {
   "cell_type": "markdown",
   "metadata": {},
   "source": [
    "## Many Slots, Avoid Robot Jumps"
   ]
  },
  {
   "cell_type": "code",
   "execution_count": 636,
   "metadata": {},
   "outputs": [
    {
     "data": {
      "image/svg+xml": [
       "<?xml version=\"1.0\" encoding=\"UTF-8\" standalone=\"no\"?>\n",
       "<!DOCTYPE svg PUBLIC \"-//W3C//DTD SVG 1.1//EN\"\n",
       " \"http://www.w3.org/Graphics/SVG/1.1/DTD/svg11.dtd\">\n",
       "<!-- Generated by graphviz version 2.50.0 (0)\n",
       " -->\n",
       "<!-- Pages: 1 -->\n",
       "<svg width=\"747pt\" height=\"332pt\"\n",
       " viewBox=\"0.00 0.00 746.76 332.00\" xmlns=\"http://www.w3.org/2000/svg\" xmlns:xlink=\"http://www.w3.org/1999/xlink\">\n",
       "<g id=\"graph0\" class=\"graph\" transform=\"scale(1 1) rotate(0) translate(4 328)\">\n",
       "<polygon fill=\"white\" stroke=\"transparent\" points=\"-4,4 -4,-328 742.76,-328 742.76,4 -4,4\"/>\n",
       "<!-- stage_0 -->\n",
       "<g id=\"node1\" class=\"node\">\n",
       "<title>stage_0</title>\n",
       "<ellipse fill=\"none\" stroke=\"black\" cx=\"172.11\" cy=\"-306\" rx=\"55.79\" ry=\"18\"/>\n",
       "<text text-anchor=\"middle\" x=\"172.11\" y=\"-302.3\" font-family=\"Times New Roman,serif\" font-size=\"14.00\">op0: stage_0</text>\n",
       "</g>\n",
       "<!-- stage_0&#45;&#45;stage_0 -->\n",
       "<g id=\"edge1\" class=\"edge\">\n",
       "<title>stage_0&#45;&#45;stage_0</title>\n",
       "<path fill=\"none\" stroke=\"black\" d=\"M220.77,-319.46C234.99,-319 246.01,-314.51 246.01,-306 246.01,-297.49 234.99,-293 220.77,-292.54\"/>\n",
       "<polygon fill=\"black\" stroke=\"black\" points=\"220.62,-315.95 210.51,-319.14 220.39,-322.95 220.62,-315.95\"/>\n",
       "<polygon fill=\"black\" stroke=\"black\" points=\"220.39,-289.05 210.51,-292.86 220.62,-296.05 220.39,-289.05\"/>\n",
       "</g>\n",
       "<!-- unstage_0/stage_1 -->\n",
       "<g id=\"node3\" class=\"node\">\n",
       "<title>unstage_0/stage_1</title>\n",
       "<ellipse fill=\"none\" stroke=\"black\" cx=\"233.11\" cy=\"-234\" rx=\"93.68\" ry=\"18\"/>\n",
       "<text text-anchor=\"middle\" x=\"233.11\" y=\"-230.3\" font-family=\"Times New Roman,serif\" font-size=\"14.00\">op2: unstage_0/stage_1</text>\n",
       "</g>\n",
       "<!-- stage_0&#45;&#45;unstage_0/stage_1 -->\n",
       "<g id=\"edge2\" class=\"edge\">\n",
       "<title>stage_0&#45;&#45;unstage_0/stage_1</title>\n",
       "<path fill=\"none\" stroke=\"black\" d=\"M193.22,-280.78C199.17,-273.95 205.65,-266.52 211.62,-259.66\"/>\n",
       "<polygon fill=\"black\" stroke=\"black\" points=\"190.5,-278.57 186.57,-288.41 195.78,-283.17 190.5,-278.57\"/>\n",
       "<polygon fill=\"black\" stroke=\"black\" points=\"214.4,-261.79 218.33,-251.96 209.13,-257.2 214.4,-261.79\"/>\n",
       "</g>\n",
       "<!-- unstage_1/stage_2 -->\n",
       "<g id=\"node5\" class=\"node\">\n",
       "<title>unstage_1/stage_2</title>\n",
       "<ellipse fill=\"none\" stroke=\"black\" cx=\"111.11\" cy=\"-162\" rx=\"93.68\" ry=\"18\"/>\n",
       "<text text-anchor=\"middle\" x=\"111.11\" y=\"-158.3\" font-family=\"Times New Roman,serif\" font-size=\"14.00\">op4: unstage_1/stage_2</text>\n",
       "</g>\n",
       "<!-- stage_0&#45;&#45;unstage_1/stage_2 -->\n",
       "<g id=\"edge3\" class=\"edge\">\n",
       "<title>stage_0&#45;&#45;unstage_1/stage_2</title>\n",
       "<path fill=\"none\" stroke=\"black\" d=\"M149.25,-280.98C142.17,-272.41 134.96,-262.3 130.11,-252 120.88,-232.4 116.09,-208.27 113.63,-190.08\"/>\n",
       "<polygon fill=\"black\" stroke=\"black\" points=\"146.73,-283.42 155.91,-288.7 152.02,-278.84 146.73,-283.42\"/>\n",
       "<polygon fill=\"black\" stroke=\"black\" points=\"117.1,-189.65 112.43,-180.14 110.15,-190.49 117.1,-189.65\"/>\n",
       "</g>\n",
       "<!-- unstage_2/stage_3 -->\n",
       "<g id=\"node7\" class=\"node\">\n",
       "<title>unstage_2/stage_3</title>\n",
       "<ellipse fill=\"none\" stroke=\"black\" cx=\"373.11\" cy=\"-90\" rx=\"93.68\" ry=\"18\"/>\n",
       "<text text-anchor=\"middle\" x=\"373.11\" y=\"-86.3\" font-family=\"Times New Roman,serif\" font-size=\"14.00\">op6: unstage_2/stage_3</text>\n",
       "</g>\n",
       "<!-- stage_0&#45;&#45;unstage_2/stage_3 -->\n",
       "<g id=\"edge4\" class=\"edge\">\n",
       "<title>stage_0&#45;&#45;unstage_2/stage_3</title>\n",
       "<path fill=\"none\" stroke=\"black\" d=\"M226.26,-292.43C276.77,-280.2 345.61,-262.04 354.11,-252 385.75,-214.62 383.16,-153.68 378.25,-118.47\"/>\n",
       "<polygon fill=\"black\" stroke=\"black\" points=\"225.33,-289.06 216.42,-294.8 226.96,-295.86 225.33,-289.06\"/>\n",
       "<polygon fill=\"black\" stroke=\"black\" points=\"381.68,-117.77 376.69,-108.42 374.77,-118.84 381.68,-117.77\"/>\n",
       "</g>\n",
       "<!-- unstage_3 -->\n",
       "<g id=\"node9\" class=\"node\">\n",
       "<title>unstage_3</title>\n",
       "<ellipse fill=\"none\" stroke=\"black\" cx=\"216.11\" cy=\"-18\" rx=\"64.19\" ry=\"18\"/>\n",
       "<text text-anchor=\"middle\" x=\"216.11\" y=\"-14.3\" font-family=\"Times New Roman,serif\" font-size=\"14.00\">op8: unstage_3</text>\n",
       "</g>\n",
       "<!-- stage_0&#45;&#45;unstage_3 -->\n",
       "<g id=\"edge5\" class=\"edge\">\n",
       "<title>stage_0&#45;&#45;unstage_3</title>\n",
       "<path fill=\"none\" stroke=\"black\" d=\"M128.33,-287.54C68.57,-260.92 -27.32,-206.63 8.11,-144 40.88,-86.07 112.41,-52.04 162.38,-34.47\"/>\n",
       "<polygon fill=\"black\" stroke=\"black\" points=\"127.02,-290.79 137.59,-291.57 129.82,-284.37 127.02,-290.79\"/>\n",
       "<polygon fill=\"black\" stroke=\"black\" points=\"163.73,-37.71 172.07,-31.17 161.48,-31.08 163.73,-37.71\"/>\n",
       "</g>\n",
       "<!-- wait_0 -->\n",
       "<g id=\"node2\" class=\"node\">\n",
       "<title>wait_0</title>\n",
       "<ellipse fill=\"none\" stroke=\"black\" cx=\"317.11\" cy=\"-306\" rx=\"52.79\" ry=\"18\"/>\n",
       "<text text-anchor=\"middle\" x=\"317.11\" y=\"-302.3\" font-family=\"Times New Roman,serif\" font-size=\"14.00\">op1: wait_0</text>\n",
       "</g>\n",
       "<!-- unstage_0/stage_1&#45;&#45;unstage_0/stage_1 -->\n",
       "<g id=\"edge6\" class=\"edge\">\n",
       "<title>unstage_0/stage_1&#45;&#45;unstage_0/stage_1</title>\n",
       "<path fill=\"none\" stroke=\"black\" d=\"M306.18,-247.47C327.85,-247.06 344.7,-242.57 344.7,-234 344.7,-225.43 327.85,-220.94 306.18,-220.53\"/>\n",
       "<polygon fill=\"black\" stroke=\"black\" points=\"305.96,-243.97 295.92,-247.37 305.89,-250.97 305.96,-243.97\"/>\n",
       "<polygon fill=\"black\" stroke=\"black\" points=\"305.89,-217.03 295.92,-220.63 305.96,-224.03 305.89,-217.03\"/>\n",
       "</g>\n",
       "<!-- unstage_0/stage_1&#45;&#45;unstage_1/stage_2 -->\n",
       "<g id=\"edge7\" class=\"edge\">\n",
       "<title>unstage_0/stage_1&#45;&#45;unstage_1/stage_2</title>\n",
       "<path fill=\"none\" stroke=\"black\" d=\"M195.72,-211.55C180.78,-202.98 163.61,-193.12 148.66,-184.54\"/>\n",
       "<polygon fill=\"black\" stroke=\"black\" points=\"194.4,-214.82 204.81,-216.76 197.88,-208.75 194.4,-214.82\"/>\n",
       "<polygon fill=\"black\" stroke=\"black\" points=\"150.09,-181.33 139.68,-179.39 146.61,-187.4 150.09,-181.33\"/>\n",
       "</g>\n",
       "<!-- unstage_0/stage_1&#45;&#45;unstage_2/stage_3 -->\n",
       "<g id=\"edge8\" class=\"edge\">\n",
       "<title>unstage_0/stage_1&#45;&#45;unstage_2/stage_3</title>\n",
       "<path fill=\"none\" stroke=\"black\" d=\"M256.85,-208.92C282.63,-182.78 323.57,-141.25 349.36,-115.09\"/>\n",
       "<polygon fill=\"black\" stroke=\"black\" points=\"254.25,-206.57 249.72,-216.15 259.23,-211.49 254.25,-206.57\"/>\n",
       "<polygon fill=\"black\" stroke=\"black\" points=\"351.99,-117.4 356.52,-107.82 347.01,-112.49 351.99,-117.4\"/>\n",
       "</g>\n",
       "<!-- unstage_0/stage_1&#45;&#45;unstage_3 -->\n",
       "<g id=\"edge9\" class=\"edge\">\n",
       "<title>unstage_0/stage_1&#45;&#45;unstage_3</title>\n",
       "<path fill=\"none\" stroke=\"black\" d=\"M233.62,-205.76C233.75,-188.13 233.55,-164.68 232.11,-144 229.77,-110.2 224.4,-71.54 220.53,-46.28\"/>\n",
       "<polygon fill=\"black\" stroke=\"black\" points=\"230.12,-205.88 233.51,-215.91 237.12,-205.96 230.12,-205.88\"/>\n",
       "<polygon fill=\"black\" stroke=\"black\" points=\"223.98,-45.67 218.98,-36.33 217.06,-46.75 223.98,-45.67\"/>\n",
       "</g>\n",
       "<!-- wait_1 -->\n",
       "<g id=\"node4\" class=\"node\">\n",
       "<title>wait_1</title>\n",
       "<ellipse fill=\"none\" stroke=\"black\" cx=\"440.11\" cy=\"-306\" rx=\"52.79\" ry=\"18\"/>\n",
       "<text text-anchor=\"middle\" x=\"440.11\" y=\"-302.3\" font-family=\"Times New Roman,serif\" font-size=\"14.00\">op3: wait_1</text>\n",
       "</g>\n",
       "<!-- unstage_1/stage_2&#45;&#45;unstage_1/stage_2 -->\n",
       "<g id=\"edge10\" class=\"edge\">\n",
       "<title>unstage_1/stage_2&#45;&#45;unstage_1/stage_2</title>\n",
       "<path fill=\"none\" stroke=\"black\" d=\"M184.18,-175.47C205.85,-175.06 222.7,-170.57 222.7,-162 222.7,-153.43 205.85,-148.94 184.18,-148.53\"/>\n",
       "<polygon fill=\"black\" stroke=\"black\" points=\"183.96,-171.97 173.92,-175.37 183.89,-178.97 183.96,-171.97\"/>\n",
       "<polygon fill=\"black\" stroke=\"black\" points=\"183.89,-145.03 173.92,-148.63 183.96,-152.03 183.89,-145.03\"/>\n",
       "</g>\n",
       "<!-- unstage_1/stage_2&#45;&#45;unstage_2/stage_3 -->\n",
       "<g id=\"edge11\" class=\"edge\">\n",
       "<title>unstage_1/stage_2&#45;&#45;unstage_2/stage_3</title>\n",
       "<path fill=\"none\" stroke=\"black\" d=\"M173.43,-144.35C215.03,-133.23 269.53,-118.67 311.08,-107.57\"/>\n",
       "<polygon fill=\"black\" stroke=\"black\" points=\"172.26,-141.04 163.5,-147 174.07,-147.8 172.26,-141.04\"/>\n",
       "<polygon fill=\"black\" stroke=\"black\" points=\"312.05,-110.94 320.81,-104.97 310.25,-104.17 312.05,-110.94\"/>\n",
       "</g>\n",
       "<!-- unstage_1/stage_2&#45;&#45;unstage_3 -->\n",
       "<g id=\"edge12\" class=\"edge\">\n",
       "<title>unstage_1/stage_2&#45;&#45;unstage_3</title>\n",
       "<path fill=\"none\" stroke=\"black\" d=\"M129.73,-135.82C148.88,-109.92 178.53,-69.83 197.63,-44\"/>\n",
       "<polygon fill=\"black\" stroke=\"black\" points=\"126.7,-134.03 123.57,-144.15 132.33,-138.19 126.7,-134.03\"/>\n",
       "<polygon fill=\"black\" stroke=\"black\" points=\"200.54,-45.95 203.67,-35.82 194.91,-41.78 200.54,-45.95\"/>\n",
       "</g>\n",
       "<!-- wait_2 -->\n",
       "<g id=\"node6\" class=\"node\">\n",
       "<title>wait_2</title>\n",
       "<ellipse fill=\"none\" stroke=\"black\" cx=\"563.11\" cy=\"-306\" rx=\"52.79\" ry=\"18\"/>\n",
       "<text text-anchor=\"middle\" x=\"563.11\" y=\"-302.3\" font-family=\"Times New Roman,serif\" font-size=\"14.00\">op5: wait_2</text>\n",
       "</g>\n",
       "<!-- unstage_2/stage_3&#45;&#45;unstage_2/stage_3 -->\n",
       "<g id=\"edge13\" class=\"edge\">\n",
       "<title>unstage_2/stage_3&#45;&#45;unstage_2/stage_3</title>\n",
       "<path fill=\"none\" stroke=\"black\" d=\"M446.18,-103.47C467.85,-103.06 484.7,-98.57 484.7,-90 484.7,-81.43 467.85,-76.94 446.18,-76.53\"/>\n",
       "<polygon fill=\"black\" stroke=\"black\" points=\"445.96,-99.97 435.92,-103.37 445.89,-106.97 445.96,-99.97\"/>\n",
       "<polygon fill=\"black\" stroke=\"black\" points=\"445.89,-73.03 435.92,-76.63 445.96,-80.03 445.89,-73.03\"/>\n",
       "</g>\n",
       "<!-- unstage_2/stage_3&#45;&#45;unstage_3 -->\n",
       "<g id=\"edge14\" class=\"edge\">\n",
       "<title>unstage_2/stage_3&#45;&#45;unstage_3</title>\n",
       "<path fill=\"none\" stroke=\"black\" d=\"M328.47,-69.1C306.37,-59.24 279.85,-47.42 258.12,-37.73\"/>\n",
       "<polygon fill=\"black\" stroke=\"black\" points=\"327.32,-72.42 337.88,-73.29 330.17,-66.02 327.32,-72.42\"/>\n",
       "<polygon fill=\"black\" stroke=\"black\" points=\"259.37,-34.46 248.82,-33.58 256.52,-40.85 259.37,-34.46\"/>\n",
       "</g>\n",
       "<!-- wait_3 -->\n",
       "<g id=\"node8\" class=\"node\">\n",
       "<title>wait_3</title>\n",
       "<ellipse fill=\"none\" stroke=\"black\" cx=\"686.11\" cy=\"-306\" rx=\"52.79\" ry=\"18\"/>\n",
       "<text text-anchor=\"middle\" x=\"686.11\" y=\"-302.3\" font-family=\"Times New Roman,serif\" font-size=\"14.00\">op7: wait_3</text>\n",
       "</g>\n",
       "<!-- unstage_3&#45;&#45;unstage_3 -->\n",
       "<g id=\"edge15\" class=\"edge\">\n",
       "<title>unstage_3&#45;&#45;unstage_3</title>\n",
       "<path fill=\"none\" stroke=\"black\" d=\"M270.39,-31.46C286.21,-30.99 298.45,-26.5 298.45,-18 298.45,-9.5 286.21,-5.01 270.39,-4.54\"/>\n",
       "<polygon fill=\"black\" stroke=\"black\" points=\"270.24,-27.95 260.16,-31.23 270.08,-34.95 270.24,-27.95\"/>\n",
       "<polygon fill=\"black\" stroke=\"black\" points=\"270.08,-1.05 260.16,-4.77 270.24,-8.05 270.08,-1.05\"/>\n",
       "</g>\n",
       "</g>\n",
       "</svg>\n"
      ],
      "text/plain": [
       "<graphviz.graphs.Graph at 0x1b91b73c2f0>"
      ]
     },
     "execution_count": 636,
     "metadata": {},
     "output_type": "execute_result"
    }
   ],
   "source": [
    "(ops, conflicts) = tms.generate_A_B_wait_ops(\n",
    "    ops_single=ops_single,\n",
    "    A_names=['stage'],\n",
    "    B_names=['unstage'],\n",
    "    wait_names=['wait'],\n",
    "    num_cycles=num_cycles\n",
    ")\n",
    "\n",
    "tms.graph_conflicts(ops, conflicts)"
   ]
  },
  {
   "cell_type": "code",
   "execution_count": 637,
   "metadata": {},
   "outputs": [
    {
     "name": "stdout",
     "output_type": "stream",
     "text": [
      "Total Schedule duration is 1705.0 (28.417 minutes)\n",
      "Estimated throughput is 2.25 hot dogs per minute\n",
      "Importing plotting tools...\n",
      "Generating plot...\n"
     ]
    },
    {
     "data": {
      "application/vnd.plotly.v1+json": {
       "config": {
        "plotlyServerURL": "https://plot.ly"
       },
       "data": [],
       "layout": {
        "annotations": [
         {
          "bgcolor": "rgba(255,255,255,0.8)",
          "font": {
           "color": "black",
           "size": 8
          },
          "showarrow": false,
          "text": "stage_0",
          "x": 10,
          "y": 0
         },
         {
          "bgcolor": "rgba(255,255,255,0.8)",
          "font": {
           "color": "black",
           "size": 8
          },
          "showarrow": false,
          "text": "wait_0",
          "x": 110,
          "y": 0
         },
         {
          "bgcolor": "rgba(255,255,255,0.8)",
          "font": {
           "color": "black",
           "size": 8
          },
          "showarrow": false,
          "text": "unstage_0/stage_1",
          "x": 332.5,
          "y": 0
         },
         {
          "bgcolor": "rgba(255,255,255,0.8)",
          "font": {
           "color": "black",
           "size": 8
          },
          "showarrow": false,
          "text": "wait_1",
          "x": 435,
          "y": 0
         },
         {
          "bgcolor": "rgba(255,255,255,0.8)",
          "font": {
           "color": "black",
           "size": 8
          },
          "showarrow": false,
          "text": "unstage_1/stage_2",
          "x": 732.5,
          "y": 0
         },
         {
          "bgcolor": "rgba(255,255,255,0.8)",
          "font": {
           "color": "black",
           "size": 8
          },
          "showarrow": false,
          "text": "wait_2",
          "x": 835,
          "y": 0
         },
         {
          "bgcolor": "rgba(255,255,255,0.8)",
          "font": {
           "color": "black",
           "size": 8
          },
          "showarrow": false,
          "text": "unstage_2/stage_3",
          "x": 1132.5,
          "y": 0
         },
         {
          "bgcolor": "rgba(255,255,255,0.8)",
          "font": {
           "color": "black",
           "size": 8
          },
          "showarrow": false,
          "text": "wait_3",
          "x": 1235,
          "y": 0
         },
         {
          "bgcolor": "rgba(255,255,255,0.8)",
          "font": {
           "color": "black",
           "size": 8
          },
          "showarrow": false,
          "text": "unstage_3",
          "x": 1522.5,
          "y": 0
         },
         {
          "bgcolor": "rgba(255,255,255,0.8)",
          "font": {
           "color": "black",
           "size": 8
          },
          "showarrow": false,
          "text": "stage_0",
          "x": 30,
          "y": 1
         },
         {
          "bgcolor": "rgba(255,255,255,0.8)",
          "font": {
           "color": "black",
           "size": 8
          },
          "showarrow": false,
          "text": "wait_0",
          "x": 130,
          "y": 1
         },
         {
          "bgcolor": "rgba(255,255,255,0.8)",
          "font": {
           "color": "black",
           "size": 8
          },
          "showarrow": false,
          "text": "unstage_0/stage_1",
          "x": 357.5,
          "y": 1
         },
         {
          "bgcolor": "rgba(255,255,255,0.8)",
          "font": {
           "color": "black",
           "size": 8
          },
          "showarrow": false,
          "text": "wait_1",
          "x": 460,
          "y": 1
         },
         {
          "bgcolor": "rgba(255,255,255,0.8)",
          "font": {
           "color": "black",
           "size": 8
          },
          "showarrow": false,
          "text": "unstage_1/stage_2",
          "x": 757.5,
          "y": 1
         },
         {
          "bgcolor": "rgba(255,255,255,0.8)",
          "font": {
           "color": "black",
           "size": 8
          },
          "showarrow": false,
          "text": "wait_2",
          "x": 860,
          "y": 1
         },
         {
          "bgcolor": "rgba(255,255,255,0.8)",
          "font": {
           "color": "black",
           "size": 8
          },
          "showarrow": false,
          "text": "unstage_2/stage_3",
          "x": 1157.5,
          "y": 1
         },
         {
          "bgcolor": "rgba(255,255,255,0.8)",
          "font": {
           "color": "black",
           "size": 8
          },
          "showarrow": false,
          "text": "wait_3",
          "x": 1260,
          "y": 1
         },
         {
          "bgcolor": "rgba(255,255,255,0.8)",
          "font": {
           "color": "black",
           "size": 8
          },
          "showarrow": false,
          "text": "unstage_3",
          "x": 1527.5,
          "y": 1
         },
         {
          "bgcolor": "rgba(255,255,255,0.8)",
          "font": {
           "color": "black",
           "size": 8
          },
          "showarrow": false,
          "text": "stage_0",
          "x": 50,
          "y": 2
         },
         {
          "bgcolor": "rgba(255,255,255,0.8)",
          "font": {
           "color": "black",
           "size": 8
          },
          "showarrow": false,
          "text": "wait_0",
          "x": 150,
          "y": 2
         },
         {
          "bgcolor": "rgba(255,255,255,0.8)",
          "font": {
           "color": "black",
           "size": 8
          },
          "showarrow": false,
          "text": "unstage_0/stage_1",
          "x": 382.5,
          "y": 2
         },
         {
          "bgcolor": "rgba(255,255,255,0.8)",
          "font": {
           "color": "black",
           "size": 8
          },
          "showarrow": false,
          "text": "wait_1",
          "x": 485,
          "y": 2
         },
         {
          "bgcolor": "rgba(255,255,255,0.8)",
          "font": {
           "color": "black",
           "size": 8
          },
          "showarrow": false,
          "text": "unstage_1/stage_2",
          "x": 782.5,
          "y": 2
         },
         {
          "bgcolor": "rgba(255,255,255,0.8)",
          "font": {
           "color": "black",
           "size": 8
          },
          "showarrow": false,
          "text": "wait_2",
          "x": 885,
          "y": 2
         },
         {
          "bgcolor": "rgba(255,255,255,0.8)",
          "font": {
           "color": "black",
           "size": 8
          },
          "showarrow": false,
          "text": "unstage_2/stage_3",
          "x": 1182.5,
          "y": 2
         },
         {
          "bgcolor": "rgba(255,255,255,0.8)",
          "font": {
           "color": "black",
           "size": 8
          },
          "showarrow": false,
          "text": "wait_3",
          "x": 1285,
          "y": 2
         },
         {
          "bgcolor": "rgba(255,255,255,0.8)",
          "font": {
           "color": "black",
           "size": 8
          },
          "showarrow": false,
          "text": "unstage_3",
          "x": 1532.5,
          "y": 2
         },
         {
          "bgcolor": "rgba(255,255,255,0.8)",
          "font": {
           "color": "black",
           "size": 8
          },
          "showarrow": false,
          "text": "stage_0",
          "x": 70,
          "y": 3
         },
         {
          "bgcolor": "rgba(255,255,255,0.8)",
          "font": {
           "color": "black",
           "size": 8
          },
          "showarrow": false,
          "text": "wait_0",
          "x": 170,
          "y": 3
         },
         {
          "bgcolor": "rgba(255,255,255,0.8)",
          "font": {
           "color": "black",
           "size": 8
          },
          "showarrow": false,
          "text": "unstage_0/stage_1",
          "x": 407.5,
          "y": 3
         },
         {
          "bgcolor": "rgba(255,255,255,0.8)",
          "font": {
           "color": "black",
           "size": 8
          },
          "showarrow": false,
          "text": "wait_1",
          "x": 510,
          "y": 3
         },
         {
          "bgcolor": "rgba(255,255,255,0.8)",
          "font": {
           "color": "black",
           "size": 8
          },
          "showarrow": false,
          "text": "unstage_1/stage_2",
          "x": 807.5,
          "y": 3
         },
         {
          "bgcolor": "rgba(255,255,255,0.8)",
          "font": {
           "color": "black",
           "size": 8
          },
          "showarrow": false,
          "text": "wait_2",
          "x": 910,
          "y": 3
         },
         {
          "bgcolor": "rgba(255,255,255,0.8)",
          "font": {
           "color": "black",
           "size": 8
          },
          "showarrow": false,
          "text": "unstage_2/stage_3",
          "x": 1207.5,
          "y": 3
         },
         {
          "bgcolor": "rgba(255,255,255,0.8)",
          "font": {
           "color": "black",
           "size": 8
          },
          "showarrow": false,
          "text": "wait_3",
          "x": 1310,
          "y": 3
         },
         {
          "bgcolor": "rgba(255,255,255,0.8)",
          "font": {
           "color": "black",
           "size": 8
          },
          "showarrow": false,
          "text": "unstage_3",
          "x": 1537.5,
          "y": 3
         },
         {
          "bgcolor": "rgba(255,255,255,0.8)",
          "font": {
           "color": "black",
           "size": 8
          },
          "showarrow": false,
          "text": "stage_0",
          "x": 90,
          "y": 4
         },
         {
          "bgcolor": "rgba(255,255,255,0.8)",
          "font": {
           "color": "black",
           "size": 8
          },
          "showarrow": false,
          "text": "wait_0",
          "x": 190,
          "y": 4
         },
         {
          "bgcolor": "rgba(255,255,255,0.8)",
          "font": {
           "color": "black",
           "size": 8
          },
          "showarrow": false,
          "text": "unstage_0/stage_1",
          "x": 432.5,
          "y": 4
         },
         {
          "bgcolor": "rgba(255,255,255,0.8)",
          "font": {
           "color": "black",
           "size": 8
          },
          "showarrow": false,
          "text": "wait_1",
          "x": 535,
          "y": 4
         },
         {
          "bgcolor": "rgba(255,255,255,0.8)",
          "font": {
           "color": "black",
           "size": 8
          },
          "showarrow": false,
          "text": "unstage_1/stage_2",
          "x": 832.5,
          "y": 4
         },
         {
          "bgcolor": "rgba(255,255,255,0.8)",
          "font": {
           "color": "black",
           "size": 8
          },
          "showarrow": false,
          "text": "wait_2",
          "x": 935,
          "y": 4
         },
         {
          "bgcolor": "rgba(255,255,255,0.8)",
          "font": {
           "color": "black",
           "size": 8
          },
          "showarrow": false,
          "text": "unstage_2/stage_3",
          "x": 1232.5,
          "y": 4
         },
         {
          "bgcolor": "rgba(255,255,255,0.8)",
          "font": {
           "color": "black",
           "size": 8
          },
          "showarrow": false,
          "text": "wait_3",
          "x": 1335,
          "y": 4
         },
         {
          "bgcolor": "rgba(255,255,255,0.8)",
          "font": {
           "color": "black",
           "size": 8
          },
          "showarrow": false,
          "text": "unstage_3",
          "x": 1542.5,
          "y": 4
         },
         {
          "bgcolor": "rgba(255,255,255,0.8)",
          "font": {
           "color": "black",
           "size": 8
          },
          "showarrow": false,
          "text": "stage_0",
          "x": 110,
          "y": 5
         },
         {
          "bgcolor": "rgba(255,255,255,0.8)",
          "font": {
           "color": "black",
           "size": 8
          },
          "showarrow": false,
          "text": "wait_0",
          "x": 210,
          "y": 5
         },
         {
          "bgcolor": "rgba(255,255,255,0.8)",
          "font": {
           "color": "black",
           "size": 8
          },
          "showarrow": false,
          "text": "unstage_0/stage_1",
          "x": 457.5,
          "y": 5
         },
         {
          "bgcolor": "rgba(255,255,255,0.8)",
          "font": {
           "color": "black",
           "size": 8
          },
          "showarrow": false,
          "text": "wait_1",
          "x": 560,
          "y": 5
         },
         {
          "bgcolor": "rgba(255,255,255,0.8)",
          "font": {
           "color": "black",
           "size": 8
          },
          "showarrow": false,
          "text": "unstage_1/stage_2",
          "x": 857.5,
          "y": 5
         },
         {
          "bgcolor": "rgba(255,255,255,0.8)",
          "font": {
           "color": "black",
           "size": 8
          },
          "showarrow": false,
          "text": "wait_2",
          "x": 960,
          "y": 5
         },
         {
          "bgcolor": "rgba(255,255,255,0.8)",
          "font": {
           "color": "black",
           "size": 8
          },
          "showarrow": false,
          "text": "unstage_2/stage_3",
          "x": 1257.5,
          "y": 5
         },
         {
          "bgcolor": "rgba(255,255,255,0.8)",
          "font": {
           "color": "black",
           "size": 8
          },
          "showarrow": false,
          "text": "wait_3",
          "x": 1360,
          "y": 5
         },
         {
          "bgcolor": "rgba(255,255,255,0.8)",
          "font": {
           "color": "black",
           "size": 8
          },
          "showarrow": false,
          "text": "unstage_3",
          "x": 1547.5,
          "y": 5
         },
         {
          "bgcolor": "rgba(255,255,255,0.8)",
          "font": {
           "color": "black",
           "size": 8
          },
          "showarrow": false,
          "text": "stage_0",
          "x": 130,
          "y": 6
         },
         {
          "bgcolor": "rgba(255,255,255,0.8)",
          "font": {
           "color": "black",
           "size": 8
          },
          "showarrow": false,
          "text": "wait_0",
          "x": 230,
          "y": 6
         },
         {
          "bgcolor": "rgba(255,255,255,0.8)",
          "font": {
           "color": "black",
           "size": 8
          },
          "showarrow": false,
          "text": "unstage_0/stage_1",
          "x": 482.5,
          "y": 6
         },
         {
          "bgcolor": "rgba(255,255,255,0.8)",
          "font": {
           "color": "black",
           "size": 8
          },
          "showarrow": false,
          "text": "wait_1",
          "x": 585,
          "y": 6
         },
         {
          "bgcolor": "rgba(255,255,255,0.8)",
          "font": {
           "color": "black",
           "size": 8
          },
          "showarrow": false,
          "text": "unstage_1/stage_2",
          "x": 882.5,
          "y": 6
         },
         {
          "bgcolor": "rgba(255,255,255,0.8)",
          "font": {
           "color": "black",
           "size": 8
          },
          "showarrow": false,
          "text": "wait_2",
          "x": 985,
          "y": 6
         },
         {
          "bgcolor": "rgba(255,255,255,0.8)",
          "font": {
           "color": "black",
           "size": 8
          },
          "showarrow": false,
          "text": "unstage_2/stage_3",
          "x": 1282.5,
          "y": 6
         },
         {
          "bgcolor": "rgba(255,255,255,0.8)",
          "font": {
           "color": "black",
           "size": 8
          },
          "showarrow": false,
          "text": "wait_3",
          "x": 1385,
          "y": 6
         },
         {
          "bgcolor": "rgba(255,255,255,0.8)",
          "font": {
           "color": "black",
           "size": 8
          },
          "showarrow": false,
          "text": "unstage_3",
          "x": 1552.5,
          "y": 6
         },
         {
          "bgcolor": "rgba(255,255,255,0.8)",
          "font": {
           "color": "black",
           "size": 8
          },
          "showarrow": false,
          "text": "stage_0",
          "x": 150,
          "y": 7
         },
         {
          "bgcolor": "rgba(255,255,255,0.8)",
          "font": {
           "color": "black",
           "size": 8
          },
          "showarrow": false,
          "text": "wait_0",
          "x": 250,
          "y": 7
         },
         {
          "bgcolor": "rgba(255,255,255,0.8)",
          "font": {
           "color": "black",
           "size": 8
          },
          "showarrow": false,
          "text": "unstage_0/stage_1",
          "x": 507.5,
          "y": 7
         },
         {
          "bgcolor": "rgba(255,255,255,0.8)",
          "font": {
           "color": "black",
           "size": 8
          },
          "showarrow": false,
          "text": "wait_1",
          "x": 610,
          "y": 7
         },
         {
          "bgcolor": "rgba(255,255,255,0.8)",
          "font": {
           "color": "black",
           "size": 8
          },
          "showarrow": false,
          "text": "unstage_1/stage_2",
          "x": 907.5,
          "y": 7
         },
         {
          "bgcolor": "rgba(255,255,255,0.8)",
          "font": {
           "color": "black",
           "size": 8
          },
          "showarrow": false,
          "text": "wait_2",
          "x": 1010,
          "y": 7
         },
         {
          "bgcolor": "rgba(255,255,255,0.8)",
          "font": {
           "color": "black",
           "size": 8
          },
          "showarrow": false,
          "text": "unstage_2/stage_3",
          "x": 1307.5,
          "y": 7
         },
         {
          "bgcolor": "rgba(255,255,255,0.8)",
          "font": {
           "color": "black",
           "size": 8
          },
          "showarrow": false,
          "text": "wait_3",
          "x": 1410,
          "y": 7
         },
         {
          "bgcolor": "rgba(255,255,255,0.8)",
          "font": {
           "color": "black",
           "size": 8
          },
          "showarrow": false,
          "text": "unstage_3",
          "x": 1557.5,
          "y": 7
         },
         {
          "bgcolor": "rgba(255,255,255,0.8)",
          "font": {
           "color": "black",
           "size": 8
          },
          "showarrow": false,
          "text": "stage_0",
          "x": 170,
          "y": 8
         },
         {
          "bgcolor": "rgba(255,255,255,0.8)",
          "font": {
           "color": "black",
           "size": 8
          },
          "showarrow": false,
          "text": "wait_0",
          "x": 270,
          "y": 8
         },
         {
          "bgcolor": "rgba(255,255,255,0.8)",
          "font": {
           "color": "black",
           "size": 8
          },
          "showarrow": false,
          "text": "unstage_0/stage_1",
          "x": 532.5,
          "y": 8
         },
         {
          "bgcolor": "rgba(255,255,255,0.8)",
          "font": {
           "color": "black",
           "size": 8
          },
          "showarrow": false,
          "text": "wait_1",
          "x": 635,
          "y": 8
         },
         {
          "bgcolor": "rgba(255,255,255,0.8)",
          "font": {
           "color": "black",
           "size": 8
          },
          "showarrow": false,
          "text": "unstage_1/stage_2",
          "x": 932.5,
          "y": 8
         },
         {
          "bgcolor": "rgba(255,255,255,0.8)",
          "font": {
           "color": "black",
           "size": 8
          },
          "showarrow": false,
          "text": "wait_2",
          "x": 1035,
          "y": 8
         },
         {
          "bgcolor": "rgba(255,255,255,0.8)",
          "font": {
           "color": "black",
           "size": 8
          },
          "showarrow": false,
          "text": "unstage_2/stage_3",
          "x": 1332.5,
          "y": 8
         },
         {
          "bgcolor": "rgba(255,255,255,0.8)",
          "font": {
           "color": "black",
           "size": 8
          },
          "showarrow": false,
          "text": "wait_3",
          "x": 1435,
          "y": 8
         },
         {
          "bgcolor": "rgba(255,255,255,0.8)",
          "font": {
           "color": "black",
           "size": 8
          },
          "showarrow": false,
          "text": "unstage_3",
          "x": 1562.5,
          "y": 8
         },
         {
          "bgcolor": "rgba(255,255,255,0.8)",
          "font": {
           "color": "black",
           "size": 8
          },
          "showarrow": false,
          "text": "stage_0",
          "x": 190,
          "y": 9
         },
         {
          "bgcolor": "rgba(255,255,255,0.8)",
          "font": {
           "color": "black",
           "size": 8
          },
          "showarrow": false,
          "text": "wait_0",
          "x": 290,
          "y": 9
         },
         {
          "bgcolor": "rgba(255,255,255,0.8)",
          "font": {
           "color": "black",
           "size": 8
          },
          "showarrow": false,
          "text": "unstage_0/stage_1",
          "x": 557.5,
          "y": 9
         },
         {
          "bgcolor": "rgba(255,255,255,0.8)",
          "font": {
           "color": "black",
           "size": 8
          },
          "showarrow": false,
          "text": "wait_1",
          "x": 660,
          "y": 9
         },
         {
          "bgcolor": "rgba(255,255,255,0.8)",
          "font": {
           "color": "black",
           "size": 8
          },
          "showarrow": false,
          "text": "unstage_1/stage_2",
          "x": 957.5,
          "y": 9
         },
         {
          "bgcolor": "rgba(255,255,255,0.8)",
          "font": {
           "color": "black",
           "size": 8
          },
          "showarrow": false,
          "text": "wait_2",
          "x": 1060,
          "y": 9
         },
         {
          "bgcolor": "rgba(255,255,255,0.8)",
          "font": {
           "color": "black",
           "size": 8
          },
          "showarrow": false,
          "text": "unstage_2/stage_3",
          "x": 1357.5,
          "y": 9
         },
         {
          "bgcolor": "rgba(255,255,255,0.8)",
          "font": {
           "color": "black",
           "size": 8
          },
          "showarrow": false,
          "text": "wait_3",
          "x": 1460,
          "y": 9
         },
         {
          "bgcolor": "rgba(255,255,255,0.8)",
          "font": {
           "color": "black",
           "size": 8
          },
          "showarrow": false,
          "text": "unstage_3",
          "x": 1567.5,
          "y": 9
         },
         {
          "bgcolor": "rgba(255,255,255,0.8)",
          "font": {
           "color": "black",
           "size": 8
          },
          "showarrow": false,
          "text": "stage_0",
          "x": 210,
          "y": 10
         },
         {
          "bgcolor": "rgba(255,255,255,0.8)",
          "font": {
           "color": "black",
           "size": 8
          },
          "showarrow": false,
          "text": "wait_0",
          "x": 310,
          "y": 10
         },
         {
          "bgcolor": "rgba(255,255,255,0.8)",
          "font": {
           "color": "black",
           "size": 8
          },
          "showarrow": false,
          "text": "unstage_0/stage_1",
          "x": 582.5,
          "y": 10
         },
         {
          "bgcolor": "rgba(255,255,255,0.8)",
          "font": {
           "color": "black",
           "size": 8
          },
          "showarrow": false,
          "text": "wait_1",
          "x": 685,
          "y": 10
         },
         {
          "bgcolor": "rgba(255,255,255,0.8)",
          "font": {
           "color": "black",
           "size": 8
          },
          "showarrow": false,
          "text": "unstage_1/stage_2",
          "x": 982.5,
          "y": 10
         },
         {
          "bgcolor": "rgba(255,255,255,0.8)",
          "font": {
           "color": "black",
           "size": 8
          },
          "showarrow": false,
          "text": "wait_2",
          "x": 1085,
          "y": 10
         },
         {
          "bgcolor": "rgba(255,255,255,0.8)",
          "font": {
           "color": "black",
           "size": 8
          },
          "showarrow": false,
          "text": "unstage_2/stage_3",
          "x": 1382.5,
          "y": 10
         },
         {
          "bgcolor": "rgba(255,255,255,0.8)",
          "font": {
           "color": "black",
           "size": 8
          },
          "showarrow": false,
          "text": "wait_3",
          "x": 1485,
          "y": 10
         },
         {
          "bgcolor": "rgba(255,255,255,0.8)",
          "font": {
           "color": "black",
           "size": 8
          },
          "showarrow": false,
          "text": "unstage_3",
          "x": 1577.5,
          "y": 10
         },
         {
          "bgcolor": "rgba(255,255,255,0.8)",
          "font": {
           "color": "black",
           "size": 8
          },
          "showarrow": false,
          "text": "stage_0",
          "x": 230,
          "y": 11
         },
         {
          "bgcolor": "rgba(255,255,255,0.8)",
          "font": {
           "color": "black",
           "size": 8
          },
          "showarrow": false,
          "text": "wait_0",
          "x": 330,
          "y": 11
         },
         {
          "bgcolor": "rgba(255,255,255,0.8)",
          "font": {
           "color": "black",
           "size": 8
          },
          "showarrow": false,
          "text": "unstage_0/stage_1",
          "x": 607.5,
          "y": 11
         },
         {
          "bgcolor": "rgba(255,255,255,0.8)",
          "font": {
           "color": "black",
           "size": 8
          },
          "showarrow": false,
          "text": "wait_1",
          "x": 710,
          "y": 11
         },
         {
          "bgcolor": "rgba(255,255,255,0.8)",
          "font": {
           "color": "black",
           "size": 8
          },
          "showarrow": false,
          "text": "unstage_1/stage_2",
          "x": 1007.5,
          "y": 11
         },
         {
          "bgcolor": "rgba(255,255,255,0.8)",
          "font": {
           "color": "black",
           "size": 8
          },
          "showarrow": false,
          "text": "wait_2",
          "x": 1110,
          "y": 11
         },
         {
          "bgcolor": "rgba(255,255,255,0.8)",
          "font": {
           "color": "black",
           "size": 8
          },
          "showarrow": false,
          "text": "unstage_2/stage_3",
          "x": 1407.5,
          "y": 11
         },
         {
          "bgcolor": "rgba(255,255,255,0.8)",
          "font": {
           "color": "black",
           "size": 8
          },
          "showarrow": false,
          "text": "wait_3",
          "x": 1510,
          "y": 11
         },
         {
          "bgcolor": "rgba(255,255,255,0.8)",
          "font": {
           "color": "black",
           "size": 8
          },
          "showarrow": false,
          "text": "unstage_3",
          "x": 1602.5,
          "y": 11
         },
         {
          "bgcolor": "rgba(255,255,255,0.8)",
          "font": {
           "color": "black",
           "size": 8
          },
          "showarrow": false,
          "text": "stage_0",
          "x": 250,
          "y": 12
         },
         {
          "bgcolor": "rgba(255,255,255,0.8)",
          "font": {
           "color": "black",
           "size": 8
          },
          "showarrow": false,
          "text": "wait_0",
          "x": 350,
          "y": 12
         },
         {
          "bgcolor": "rgba(255,255,255,0.8)",
          "font": {
           "color": "black",
           "size": 8
          },
          "showarrow": false,
          "text": "unstage_0/stage_1",
          "x": 632.5,
          "y": 12
         },
         {
          "bgcolor": "rgba(255,255,255,0.8)",
          "font": {
           "color": "black",
           "size": 8
          },
          "showarrow": false,
          "text": "wait_1",
          "x": 735,
          "y": 12
         },
         {
          "bgcolor": "rgba(255,255,255,0.8)",
          "font": {
           "color": "black",
           "size": 8
          },
          "showarrow": false,
          "text": "unstage_1/stage_2",
          "x": 1032.5,
          "y": 12
         },
         {
          "bgcolor": "rgba(255,255,255,0.8)",
          "font": {
           "color": "black",
           "size": 8
          },
          "showarrow": false,
          "text": "wait_2",
          "x": 1135,
          "y": 12
         },
         {
          "bgcolor": "rgba(255,255,255,0.8)",
          "font": {
           "color": "black",
           "size": 8
          },
          "showarrow": false,
          "text": "unstage_2/stage_3",
          "x": 1432.5,
          "y": 12
         },
         {
          "bgcolor": "rgba(255,255,255,0.8)",
          "font": {
           "color": "black",
           "size": 8
          },
          "showarrow": false,
          "text": "wait_3",
          "x": 1535,
          "y": 12
         },
         {
          "bgcolor": "rgba(255,255,255,0.8)",
          "font": {
           "color": "black",
           "size": 8
          },
          "showarrow": false,
          "text": "unstage_3",
          "x": 1627.5,
          "y": 12
         },
         {
          "bgcolor": "rgba(255,255,255,0.8)",
          "font": {
           "color": "black",
           "size": 8
          },
          "showarrow": false,
          "text": "stage_0",
          "x": 270,
          "y": 13
         },
         {
          "bgcolor": "rgba(255,255,255,0.8)",
          "font": {
           "color": "black",
           "size": 8
          },
          "showarrow": false,
          "text": "wait_0",
          "x": 370,
          "y": 13
         },
         {
          "bgcolor": "rgba(255,255,255,0.8)",
          "font": {
           "color": "black",
           "size": 8
          },
          "showarrow": false,
          "text": "unstage_0/stage_1",
          "x": 657.5,
          "y": 13
         },
         {
          "bgcolor": "rgba(255,255,255,0.8)",
          "font": {
           "color": "black",
           "size": 8
          },
          "showarrow": false,
          "text": "wait_1",
          "x": 760,
          "y": 13
         },
         {
          "bgcolor": "rgba(255,255,255,0.8)",
          "font": {
           "color": "black",
           "size": 8
          },
          "showarrow": false,
          "text": "unstage_1/stage_2",
          "x": 1057.5,
          "y": 13
         },
         {
          "bgcolor": "rgba(255,255,255,0.8)",
          "font": {
           "color": "black",
           "size": 8
          },
          "showarrow": false,
          "text": "wait_2",
          "x": 1160,
          "y": 13
         },
         {
          "bgcolor": "rgba(255,255,255,0.8)",
          "font": {
           "color": "black",
           "size": 8
          },
          "showarrow": false,
          "text": "unstage_2/stage_3",
          "x": 1457.5,
          "y": 13
         },
         {
          "bgcolor": "rgba(255,255,255,0.8)",
          "font": {
           "color": "black",
           "size": 8
          },
          "showarrow": false,
          "text": "wait_3",
          "x": 1560,
          "y": 13
         },
         {
          "bgcolor": "rgba(255,255,255,0.8)",
          "font": {
           "color": "black",
           "size": 8
          },
          "showarrow": false,
          "text": "unstage_3",
          "x": 1652.5,
          "y": 13
         },
         {
          "bgcolor": "rgba(255,255,255,0.8)",
          "font": {
           "color": "black",
           "size": 8
          },
          "showarrow": false,
          "text": "stage_0",
          "x": 290,
          "y": 14
         },
         {
          "bgcolor": "rgba(255,255,255,0.8)",
          "font": {
           "color": "black",
           "size": 8
          },
          "showarrow": false,
          "text": "wait_0",
          "x": 390,
          "y": 14
         },
         {
          "bgcolor": "rgba(255,255,255,0.8)",
          "font": {
           "color": "black",
           "size": 8
          },
          "showarrow": false,
          "text": "unstage_0/stage_1",
          "x": 682.5,
          "y": 14
         },
         {
          "bgcolor": "rgba(255,255,255,0.8)",
          "font": {
           "color": "black",
           "size": 8
          },
          "showarrow": false,
          "text": "wait_1",
          "x": 785,
          "y": 14
         },
         {
          "bgcolor": "rgba(255,255,255,0.8)",
          "font": {
           "color": "black",
           "size": 8
          },
          "showarrow": false,
          "text": "unstage_1/stage_2",
          "x": 1082.5,
          "y": 14
         },
         {
          "bgcolor": "rgba(255,255,255,0.8)",
          "font": {
           "color": "black",
           "size": 8
          },
          "showarrow": false,
          "text": "wait_2",
          "x": 1185,
          "y": 14
         },
         {
          "bgcolor": "rgba(255,255,255,0.8)",
          "font": {
           "color": "black",
           "size": 8
          },
          "showarrow": false,
          "text": "unstage_2/stage_3",
          "x": 1482.5,
          "y": 14
         },
         {
          "bgcolor": "rgba(255,255,255,0.8)",
          "font": {
           "color": "black",
           "size": 8
          },
          "showarrow": false,
          "text": "wait_3",
          "x": 1585,
          "y": 14
         },
         {
          "bgcolor": "rgba(255,255,255,0.8)",
          "font": {
           "color": "black",
           "size": 8
          },
          "showarrow": false,
          "text": "unstage_3",
          "x": 1677.5,
          "y": 14
         },
         {
          "bgcolor": "rgba(255,255,255,0.8)",
          "font": {
           "color": "black",
           "size": 8
          },
          "showarrow": false,
          "text": "stage_0",
          "x": 310,
          "y": 15
         },
         {
          "bgcolor": "rgba(255,255,255,0.8)",
          "font": {
           "color": "black",
           "size": 8
          },
          "showarrow": false,
          "text": "wait_0",
          "x": 410,
          "y": 15
         },
         {
          "bgcolor": "rgba(255,255,255,0.8)",
          "font": {
           "color": "black",
           "size": 8
          },
          "showarrow": false,
          "text": "unstage_0/stage_1",
          "x": 707.5,
          "y": 15
         },
         {
          "bgcolor": "rgba(255,255,255,0.8)",
          "font": {
           "color": "black",
           "size": 8
          },
          "showarrow": false,
          "text": "wait_1",
          "x": 810,
          "y": 15
         },
         {
          "bgcolor": "rgba(255,255,255,0.8)",
          "font": {
           "color": "black",
           "size": 8
          },
          "showarrow": false,
          "text": "unstage_1/stage_2",
          "x": 1107.5,
          "y": 15
         },
         {
          "bgcolor": "rgba(255,255,255,0.8)",
          "font": {
           "color": "black",
           "size": 8
          },
          "showarrow": false,
          "text": "wait_2",
          "x": 1210,
          "y": 15
         },
         {
          "bgcolor": "rgba(255,255,255,0.8)",
          "font": {
           "color": "black",
           "size": 8
          },
          "showarrow": false,
          "text": "unstage_2/stage_3",
          "x": 1507.5,
          "y": 15
         },
         {
          "bgcolor": "rgba(255,255,255,0.8)",
          "font": {
           "color": "black",
           "size": 8
          },
          "showarrow": false,
          "text": "wait_3",
          "x": 1610,
          "y": 15
         },
         {
          "bgcolor": "rgba(255,255,255,0.8)",
          "font": {
           "color": "black",
           "size": 8
          },
          "showarrow": false,
          "text": "unstage_3",
          "x": 1702.5,
          "y": 15
         }
        ],
        "autosize": false,
        "height": 800,
        "shapes": [
         {
          "fillcolor": "#636EFA",
          "line": {
           "color": "black",
           "width": 1
          },
          "type": "rect",
          "x0": 0,
          "x1": 20,
          "y0": -0.5,
          "y1": 0.5
         },
         {
          "fillcolor": "#EF553B",
          "line": {
           "color": "black",
           "width": 1
          },
          "type": "rect",
          "x0": 20,
          "x1": 200,
          "y0": -0.5,
          "y1": 0.5
         },
         {
          "fillcolor": "#00CC96",
          "line": {
           "color": "black",
           "width": 1
          },
          "type": "rect",
          "x0": 320,
          "x1": 345,
          "y0": -0.5,
          "y1": 0.5
         },
         {
          "fillcolor": "#AB63FA",
          "line": {
           "color": "black",
           "width": 1
          },
          "type": "rect",
          "x0": 345,
          "x1": 525,
          "y0": -0.5,
          "y1": 0.5
         },
         {
          "fillcolor": "#FFA15A",
          "line": {
           "color": "black",
           "width": 1
          },
          "type": "rect",
          "x0": 720,
          "x1": 745,
          "y0": -0.5,
          "y1": 0.5
         },
         {
          "fillcolor": "#19D3F3",
          "line": {
           "color": "black",
           "width": 1
          },
          "type": "rect",
          "x0": 745,
          "x1": 925,
          "y0": -0.5,
          "y1": 0.5
         },
         {
          "fillcolor": "#FF6692",
          "line": {
           "color": "black",
           "width": 1
          },
          "type": "rect",
          "x0": 1120,
          "x1": 1145,
          "y0": -0.5,
          "y1": 0.5
         },
         {
          "fillcolor": "#B6E880",
          "line": {
           "color": "black",
           "width": 1
          },
          "type": "rect",
          "x0": 1145,
          "x1": 1325,
          "y0": -0.5,
          "y1": 0.5
         },
         {
          "fillcolor": "#FF97FF",
          "line": {
           "color": "black",
           "width": 1
          },
          "type": "rect",
          "x0": 1520,
          "x1": 1525,
          "y0": -0.5,
          "y1": 0.5
         },
         {
          "fillcolor": "#636EFA",
          "line": {
           "color": "black",
           "width": 1
          },
          "type": "rect",
          "x0": 20,
          "x1": 40,
          "y0": 0.5,
          "y1": 1.5
         },
         {
          "fillcolor": "#EF553B",
          "line": {
           "color": "black",
           "width": 1
          },
          "type": "rect",
          "x0": 40,
          "x1": 220,
          "y0": 0.5,
          "y1": 1.5
         },
         {
          "fillcolor": "#00CC96",
          "line": {
           "color": "black",
           "width": 1
          },
          "type": "rect",
          "x0": 345,
          "x1": 370,
          "y0": 0.5,
          "y1": 1.5
         },
         {
          "fillcolor": "#AB63FA",
          "line": {
           "color": "black",
           "width": 1
          },
          "type": "rect",
          "x0": 370,
          "x1": 550,
          "y0": 0.5,
          "y1": 1.5
         },
         {
          "fillcolor": "#FFA15A",
          "line": {
           "color": "black",
           "width": 1
          },
          "type": "rect",
          "x0": 745,
          "x1": 770,
          "y0": 0.5,
          "y1": 1.5
         },
         {
          "fillcolor": "#19D3F3",
          "line": {
           "color": "black",
           "width": 1
          },
          "type": "rect",
          "x0": 770,
          "x1": 950,
          "y0": 0.5,
          "y1": 1.5
         },
         {
          "fillcolor": "#FF6692",
          "line": {
           "color": "black",
           "width": 1
          },
          "type": "rect",
          "x0": 1145,
          "x1": 1170,
          "y0": 0.5,
          "y1": 1.5
         },
         {
          "fillcolor": "#B6E880",
          "line": {
           "color": "black",
           "width": 1
          },
          "type": "rect",
          "x0": 1170,
          "x1": 1350,
          "y0": 0.5,
          "y1": 1.5
         },
         {
          "fillcolor": "#FF97FF",
          "line": {
           "color": "black",
           "width": 1
          },
          "type": "rect",
          "x0": 1525,
          "x1": 1530,
          "y0": 0.5,
          "y1": 1.5
         },
         {
          "fillcolor": "#636EFA",
          "line": {
           "color": "black",
           "width": 1
          },
          "type": "rect",
          "x0": 40,
          "x1": 60,
          "y0": 1.5,
          "y1": 2.5
         },
         {
          "fillcolor": "#EF553B",
          "line": {
           "color": "black",
           "width": 1
          },
          "type": "rect",
          "x0": 60,
          "x1": 240,
          "y0": 1.5,
          "y1": 2.5
         },
         {
          "fillcolor": "#00CC96",
          "line": {
           "color": "black",
           "width": 1
          },
          "type": "rect",
          "x0": 370,
          "x1": 395,
          "y0": 1.5,
          "y1": 2.5
         },
         {
          "fillcolor": "#AB63FA",
          "line": {
           "color": "black",
           "width": 1
          },
          "type": "rect",
          "x0": 395,
          "x1": 575,
          "y0": 1.5,
          "y1": 2.5
         },
         {
          "fillcolor": "#FFA15A",
          "line": {
           "color": "black",
           "width": 1
          },
          "type": "rect",
          "x0": 770,
          "x1": 795,
          "y0": 1.5,
          "y1": 2.5
         },
         {
          "fillcolor": "#19D3F3",
          "line": {
           "color": "black",
           "width": 1
          },
          "type": "rect",
          "x0": 795,
          "x1": 975,
          "y0": 1.5,
          "y1": 2.5
         },
         {
          "fillcolor": "#FF6692",
          "line": {
           "color": "black",
           "width": 1
          },
          "type": "rect",
          "x0": 1170,
          "x1": 1195,
          "y0": 1.5,
          "y1": 2.5
         },
         {
          "fillcolor": "#B6E880",
          "line": {
           "color": "black",
           "width": 1
          },
          "type": "rect",
          "x0": 1195,
          "x1": 1375,
          "y0": 1.5,
          "y1": 2.5
         },
         {
          "fillcolor": "#FF97FF",
          "line": {
           "color": "black",
           "width": 1
          },
          "type": "rect",
          "x0": 1530,
          "x1": 1535,
          "y0": 1.5,
          "y1": 2.5
         },
         {
          "fillcolor": "#636EFA",
          "line": {
           "color": "black",
           "width": 1
          },
          "type": "rect",
          "x0": 60,
          "x1": 80,
          "y0": 2.5,
          "y1": 3.5
         },
         {
          "fillcolor": "#EF553B",
          "line": {
           "color": "black",
           "width": 1
          },
          "type": "rect",
          "x0": 80,
          "x1": 260,
          "y0": 2.5,
          "y1": 3.5
         },
         {
          "fillcolor": "#00CC96",
          "line": {
           "color": "black",
           "width": 1
          },
          "type": "rect",
          "x0": 395,
          "x1": 420,
          "y0": 2.5,
          "y1": 3.5
         },
         {
          "fillcolor": "#AB63FA",
          "line": {
           "color": "black",
           "width": 1
          },
          "type": "rect",
          "x0": 420,
          "x1": 600,
          "y0": 2.5,
          "y1": 3.5
         },
         {
          "fillcolor": "#FFA15A",
          "line": {
           "color": "black",
           "width": 1
          },
          "type": "rect",
          "x0": 795,
          "x1": 820,
          "y0": 2.5,
          "y1": 3.5
         },
         {
          "fillcolor": "#19D3F3",
          "line": {
           "color": "black",
           "width": 1
          },
          "type": "rect",
          "x0": 820,
          "x1": 1000,
          "y0": 2.5,
          "y1": 3.5
         },
         {
          "fillcolor": "#FF6692",
          "line": {
           "color": "black",
           "width": 1
          },
          "type": "rect",
          "x0": 1195,
          "x1": 1220,
          "y0": 2.5,
          "y1": 3.5
         },
         {
          "fillcolor": "#B6E880",
          "line": {
           "color": "black",
           "width": 1
          },
          "type": "rect",
          "x0": 1220,
          "x1": 1400,
          "y0": 2.5,
          "y1": 3.5
         },
         {
          "fillcolor": "#FF97FF",
          "line": {
           "color": "black",
           "width": 1
          },
          "type": "rect",
          "x0": 1535,
          "x1": 1540,
          "y0": 2.5,
          "y1": 3.5
         },
         {
          "fillcolor": "#636EFA",
          "line": {
           "color": "black",
           "width": 1
          },
          "type": "rect",
          "x0": 80,
          "x1": 100,
          "y0": 3.5,
          "y1": 4.5
         },
         {
          "fillcolor": "#EF553B",
          "line": {
           "color": "black",
           "width": 1
          },
          "type": "rect",
          "x0": 100,
          "x1": 280,
          "y0": 3.5,
          "y1": 4.5
         },
         {
          "fillcolor": "#00CC96",
          "line": {
           "color": "black",
           "width": 1
          },
          "type": "rect",
          "x0": 420,
          "x1": 445,
          "y0": 3.5,
          "y1": 4.5
         },
         {
          "fillcolor": "#AB63FA",
          "line": {
           "color": "black",
           "width": 1
          },
          "type": "rect",
          "x0": 445,
          "x1": 625,
          "y0": 3.5,
          "y1": 4.5
         },
         {
          "fillcolor": "#FFA15A",
          "line": {
           "color": "black",
           "width": 1
          },
          "type": "rect",
          "x0": 820,
          "x1": 845,
          "y0": 3.5,
          "y1": 4.5
         },
         {
          "fillcolor": "#19D3F3",
          "line": {
           "color": "black",
           "width": 1
          },
          "type": "rect",
          "x0": 845,
          "x1": 1025,
          "y0": 3.5,
          "y1": 4.5
         },
         {
          "fillcolor": "#FF6692",
          "line": {
           "color": "black",
           "width": 1
          },
          "type": "rect",
          "x0": 1220,
          "x1": 1245,
          "y0": 3.5,
          "y1": 4.5
         },
         {
          "fillcolor": "#B6E880",
          "line": {
           "color": "black",
           "width": 1
          },
          "type": "rect",
          "x0": 1245,
          "x1": 1425,
          "y0": 3.5,
          "y1": 4.5
         },
         {
          "fillcolor": "#FF97FF",
          "line": {
           "color": "black",
           "width": 1
          },
          "type": "rect",
          "x0": 1540,
          "x1": 1545,
          "y0": 3.5,
          "y1": 4.5
         },
         {
          "fillcolor": "#636EFA",
          "line": {
           "color": "black",
           "width": 1
          },
          "type": "rect",
          "x0": 100,
          "x1": 120,
          "y0": 4.5,
          "y1": 5.5
         },
         {
          "fillcolor": "#EF553B",
          "line": {
           "color": "black",
           "width": 1
          },
          "type": "rect",
          "x0": 120,
          "x1": 300,
          "y0": 4.5,
          "y1": 5.5
         },
         {
          "fillcolor": "#00CC96",
          "line": {
           "color": "black",
           "width": 1
          },
          "type": "rect",
          "x0": 445,
          "x1": 470,
          "y0": 4.5,
          "y1": 5.5
         },
         {
          "fillcolor": "#AB63FA",
          "line": {
           "color": "black",
           "width": 1
          },
          "type": "rect",
          "x0": 470,
          "x1": 650,
          "y0": 4.5,
          "y1": 5.5
         },
         {
          "fillcolor": "#FFA15A",
          "line": {
           "color": "black",
           "width": 1
          },
          "type": "rect",
          "x0": 845,
          "x1": 870,
          "y0": 4.5,
          "y1": 5.5
         },
         {
          "fillcolor": "#19D3F3",
          "line": {
           "color": "black",
           "width": 1
          },
          "type": "rect",
          "x0": 870,
          "x1": 1050,
          "y0": 4.5,
          "y1": 5.5
         },
         {
          "fillcolor": "#FF6692",
          "line": {
           "color": "black",
           "width": 1
          },
          "type": "rect",
          "x0": 1245,
          "x1": 1270,
          "y0": 4.5,
          "y1": 5.5
         },
         {
          "fillcolor": "#B6E880",
          "line": {
           "color": "black",
           "width": 1
          },
          "type": "rect",
          "x0": 1270,
          "x1": 1450,
          "y0": 4.5,
          "y1": 5.5
         },
         {
          "fillcolor": "#FF97FF",
          "line": {
           "color": "black",
           "width": 1
          },
          "type": "rect",
          "x0": 1545,
          "x1": 1550,
          "y0": 4.5,
          "y1": 5.5
         },
         {
          "fillcolor": "#636EFA",
          "line": {
           "color": "black",
           "width": 1
          },
          "type": "rect",
          "x0": 120,
          "x1": 140,
          "y0": 5.5,
          "y1": 6.5
         },
         {
          "fillcolor": "#EF553B",
          "line": {
           "color": "black",
           "width": 1
          },
          "type": "rect",
          "x0": 140,
          "x1": 320,
          "y0": 5.5,
          "y1": 6.5
         },
         {
          "fillcolor": "#00CC96",
          "line": {
           "color": "black",
           "width": 1
          },
          "type": "rect",
          "x0": 470,
          "x1": 495,
          "y0": 5.5,
          "y1": 6.5
         },
         {
          "fillcolor": "#AB63FA",
          "line": {
           "color": "black",
           "width": 1
          },
          "type": "rect",
          "x0": 495,
          "x1": 675,
          "y0": 5.5,
          "y1": 6.5
         },
         {
          "fillcolor": "#FFA15A",
          "line": {
           "color": "black",
           "width": 1
          },
          "type": "rect",
          "x0": 870,
          "x1": 895,
          "y0": 5.5,
          "y1": 6.5
         },
         {
          "fillcolor": "#19D3F3",
          "line": {
           "color": "black",
           "width": 1
          },
          "type": "rect",
          "x0": 895,
          "x1": 1075,
          "y0": 5.5,
          "y1": 6.5
         },
         {
          "fillcolor": "#FF6692",
          "line": {
           "color": "black",
           "width": 1
          },
          "type": "rect",
          "x0": 1270,
          "x1": 1295,
          "y0": 5.5,
          "y1": 6.5
         },
         {
          "fillcolor": "#B6E880",
          "line": {
           "color": "black",
           "width": 1
          },
          "type": "rect",
          "x0": 1295,
          "x1": 1475,
          "y0": 5.5,
          "y1": 6.5
         },
         {
          "fillcolor": "#FF97FF",
          "line": {
           "color": "black",
           "width": 1
          },
          "type": "rect",
          "x0": 1550,
          "x1": 1555,
          "y0": 5.5,
          "y1": 6.5
         },
         {
          "fillcolor": "#636EFA",
          "line": {
           "color": "black",
           "width": 1
          },
          "type": "rect",
          "x0": 140,
          "x1": 160,
          "y0": 6.5,
          "y1": 7.5
         },
         {
          "fillcolor": "#EF553B",
          "line": {
           "color": "black",
           "width": 1
          },
          "type": "rect",
          "x0": 160,
          "x1": 340,
          "y0": 6.5,
          "y1": 7.5
         },
         {
          "fillcolor": "#00CC96",
          "line": {
           "color": "black",
           "width": 1
          },
          "type": "rect",
          "x0": 495,
          "x1": 520,
          "y0": 6.5,
          "y1": 7.5
         },
         {
          "fillcolor": "#AB63FA",
          "line": {
           "color": "black",
           "width": 1
          },
          "type": "rect",
          "x0": 520,
          "x1": 700,
          "y0": 6.5,
          "y1": 7.5
         },
         {
          "fillcolor": "#FFA15A",
          "line": {
           "color": "black",
           "width": 1
          },
          "type": "rect",
          "x0": 895,
          "x1": 920,
          "y0": 6.5,
          "y1": 7.5
         },
         {
          "fillcolor": "#19D3F3",
          "line": {
           "color": "black",
           "width": 1
          },
          "type": "rect",
          "x0": 920,
          "x1": 1100,
          "y0": 6.5,
          "y1": 7.5
         },
         {
          "fillcolor": "#FF6692",
          "line": {
           "color": "black",
           "width": 1
          },
          "type": "rect",
          "x0": 1295,
          "x1": 1320,
          "y0": 6.5,
          "y1": 7.5
         },
         {
          "fillcolor": "#B6E880",
          "line": {
           "color": "black",
           "width": 1
          },
          "type": "rect",
          "x0": 1320,
          "x1": 1500,
          "y0": 6.5,
          "y1": 7.5
         },
         {
          "fillcolor": "#FF97FF",
          "line": {
           "color": "black",
           "width": 1
          },
          "type": "rect",
          "x0": 1555,
          "x1": 1560,
          "y0": 6.5,
          "y1": 7.5
         },
         {
          "fillcolor": "#636EFA",
          "line": {
           "color": "black",
           "width": 1
          },
          "type": "rect",
          "x0": 160,
          "x1": 180,
          "y0": 7.5,
          "y1": 8.5
         },
         {
          "fillcolor": "#EF553B",
          "line": {
           "color": "black",
           "width": 1
          },
          "type": "rect",
          "x0": 180,
          "x1": 360,
          "y0": 7.5,
          "y1": 8.5
         },
         {
          "fillcolor": "#00CC96",
          "line": {
           "color": "black",
           "width": 1
          },
          "type": "rect",
          "x0": 520,
          "x1": 545,
          "y0": 7.5,
          "y1": 8.5
         },
         {
          "fillcolor": "#AB63FA",
          "line": {
           "color": "black",
           "width": 1
          },
          "type": "rect",
          "x0": 545,
          "x1": 725,
          "y0": 7.5,
          "y1": 8.5
         },
         {
          "fillcolor": "#FFA15A",
          "line": {
           "color": "black",
           "width": 1
          },
          "type": "rect",
          "x0": 920,
          "x1": 945,
          "y0": 7.5,
          "y1": 8.5
         },
         {
          "fillcolor": "#19D3F3",
          "line": {
           "color": "black",
           "width": 1
          },
          "type": "rect",
          "x0": 945,
          "x1": 1125,
          "y0": 7.5,
          "y1": 8.5
         },
         {
          "fillcolor": "#FF6692",
          "line": {
           "color": "black",
           "width": 1
          },
          "type": "rect",
          "x0": 1320,
          "x1": 1345,
          "y0": 7.5,
          "y1": 8.5
         },
         {
          "fillcolor": "#B6E880",
          "line": {
           "color": "black",
           "width": 1
          },
          "type": "rect",
          "x0": 1345,
          "x1": 1525,
          "y0": 7.5,
          "y1": 8.5
         },
         {
          "fillcolor": "#FF97FF",
          "line": {
           "color": "black",
           "width": 1
          },
          "type": "rect",
          "x0": 1560,
          "x1": 1565,
          "y0": 7.5,
          "y1": 8.5
         },
         {
          "fillcolor": "#636EFA",
          "line": {
           "color": "black",
           "width": 1
          },
          "type": "rect",
          "x0": 180,
          "x1": 200,
          "y0": 8.5,
          "y1": 9.5
         },
         {
          "fillcolor": "#EF553B",
          "line": {
           "color": "black",
           "width": 1
          },
          "type": "rect",
          "x0": 200,
          "x1": 380,
          "y0": 8.5,
          "y1": 9.5
         },
         {
          "fillcolor": "#00CC96",
          "line": {
           "color": "black",
           "width": 1
          },
          "type": "rect",
          "x0": 545,
          "x1": 570,
          "y0": 8.5,
          "y1": 9.5
         },
         {
          "fillcolor": "#AB63FA",
          "line": {
           "color": "black",
           "width": 1
          },
          "type": "rect",
          "x0": 570,
          "x1": 750,
          "y0": 8.5,
          "y1": 9.5
         },
         {
          "fillcolor": "#FFA15A",
          "line": {
           "color": "black",
           "width": 1
          },
          "type": "rect",
          "x0": 945,
          "x1": 970,
          "y0": 8.5,
          "y1": 9.5
         },
         {
          "fillcolor": "#19D3F3",
          "line": {
           "color": "black",
           "width": 1
          },
          "type": "rect",
          "x0": 970,
          "x1": 1150,
          "y0": 8.5,
          "y1": 9.5
         },
         {
          "fillcolor": "#FF6692",
          "line": {
           "color": "black",
           "width": 1
          },
          "type": "rect",
          "x0": 1345,
          "x1": 1370,
          "y0": 8.5,
          "y1": 9.5
         },
         {
          "fillcolor": "#B6E880",
          "line": {
           "color": "black",
           "width": 1
          },
          "type": "rect",
          "x0": 1370,
          "x1": 1550,
          "y0": 8.5,
          "y1": 9.5
         },
         {
          "fillcolor": "#FF97FF",
          "line": {
           "color": "black",
           "width": 1
          },
          "type": "rect",
          "x0": 1565,
          "x1": 1570,
          "y0": 8.5,
          "y1": 9.5
         },
         {
          "fillcolor": "#636EFA",
          "line": {
           "color": "black",
           "width": 1
          },
          "type": "rect",
          "x0": 200,
          "x1": 220,
          "y0": 9.5,
          "y1": 10.5
         },
         {
          "fillcolor": "#EF553B",
          "line": {
           "color": "black",
           "width": 1
          },
          "type": "rect",
          "x0": 220,
          "x1": 400,
          "y0": 9.5,
          "y1": 10.5
         },
         {
          "fillcolor": "#00CC96",
          "line": {
           "color": "black",
           "width": 1
          },
          "type": "rect",
          "x0": 570,
          "x1": 595,
          "y0": 9.5,
          "y1": 10.5
         },
         {
          "fillcolor": "#AB63FA",
          "line": {
           "color": "black",
           "width": 1
          },
          "type": "rect",
          "x0": 595,
          "x1": 775,
          "y0": 9.5,
          "y1": 10.5
         },
         {
          "fillcolor": "#FFA15A",
          "line": {
           "color": "black",
           "width": 1
          },
          "type": "rect",
          "x0": 970,
          "x1": 995,
          "y0": 9.5,
          "y1": 10.5
         },
         {
          "fillcolor": "#19D3F3",
          "line": {
           "color": "black",
           "width": 1
          },
          "type": "rect",
          "x0": 995,
          "x1": 1175,
          "y0": 9.5,
          "y1": 10.5
         },
         {
          "fillcolor": "#FF6692",
          "line": {
           "color": "black",
           "width": 1
          },
          "type": "rect",
          "x0": 1370,
          "x1": 1395,
          "y0": 9.5,
          "y1": 10.5
         },
         {
          "fillcolor": "#B6E880",
          "line": {
           "color": "black",
           "width": 1
          },
          "type": "rect",
          "x0": 1395,
          "x1": 1575,
          "y0": 9.5,
          "y1": 10.5
         },
         {
          "fillcolor": "#FF97FF",
          "line": {
           "color": "black",
           "width": 1
          },
          "type": "rect",
          "x0": 1575,
          "x1": 1580,
          "y0": 9.5,
          "y1": 10.5
         },
         {
          "fillcolor": "#636EFA",
          "line": {
           "color": "black",
           "width": 1
          },
          "type": "rect",
          "x0": 220,
          "x1": 240,
          "y0": 10.5,
          "y1": 11.5
         },
         {
          "fillcolor": "#EF553B",
          "line": {
           "color": "black",
           "width": 1
          },
          "type": "rect",
          "x0": 240,
          "x1": 420,
          "y0": 10.5,
          "y1": 11.5
         },
         {
          "fillcolor": "#00CC96",
          "line": {
           "color": "black",
           "width": 1
          },
          "type": "rect",
          "x0": 595,
          "x1": 620,
          "y0": 10.5,
          "y1": 11.5
         },
         {
          "fillcolor": "#AB63FA",
          "line": {
           "color": "black",
           "width": 1
          },
          "type": "rect",
          "x0": 620,
          "x1": 800,
          "y0": 10.5,
          "y1": 11.5
         },
         {
          "fillcolor": "#FFA15A",
          "line": {
           "color": "black",
           "width": 1
          },
          "type": "rect",
          "x0": 995,
          "x1": 1020,
          "y0": 10.5,
          "y1": 11.5
         },
         {
          "fillcolor": "#19D3F3",
          "line": {
           "color": "black",
           "width": 1
          },
          "type": "rect",
          "x0": 1020,
          "x1": 1200,
          "y0": 10.5,
          "y1": 11.5
         },
         {
          "fillcolor": "#FF6692",
          "line": {
           "color": "black",
           "width": 1
          },
          "type": "rect",
          "x0": 1395,
          "x1": 1420,
          "y0": 10.5,
          "y1": 11.5
         },
         {
          "fillcolor": "#B6E880",
          "line": {
           "color": "black",
           "width": 1
          },
          "type": "rect",
          "x0": 1420,
          "x1": 1600,
          "y0": 10.5,
          "y1": 11.5
         },
         {
          "fillcolor": "#FF97FF",
          "line": {
           "color": "black",
           "width": 1
          },
          "type": "rect",
          "x0": 1600,
          "x1": 1605,
          "y0": 10.5,
          "y1": 11.5
         },
         {
          "fillcolor": "#636EFA",
          "line": {
           "color": "black",
           "width": 1
          },
          "type": "rect",
          "x0": 240,
          "x1": 260,
          "y0": 11.5,
          "y1": 12.5
         },
         {
          "fillcolor": "#EF553B",
          "line": {
           "color": "black",
           "width": 1
          },
          "type": "rect",
          "x0": 260,
          "x1": 440,
          "y0": 11.5,
          "y1": 12.5
         },
         {
          "fillcolor": "#00CC96",
          "line": {
           "color": "black",
           "width": 1
          },
          "type": "rect",
          "x0": 620,
          "x1": 645,
          "y0": 11.5,
          "y1": 12.5
         },
         {
          "fillcolor": "#AB63FA",
          "line": {
           "color": "black",
           "width": 1
          },
          "type": "rect",
          "x0": 645,
          "x1": 825,
          "y0": 11.5,
          "y1": 12.5
         },
         {
          "fillcolor": "#FFA15A",
          "line": {
           "color": "black",
           "width": 1
          },
          "type": "rect",
          "x0": 1020,
          "x1": 1045,
          "y0": 11.5,
          "y1": 12.5
         },
         {
          "fillcolor": "#19D3F3",
          "line": {
           "color": "black",
           "width": 1
          },
          "type": "rect",
          "x0": 1045,
          "x1": 1225,
          "y0": 11.5,
          "y1": 12.5
         },
         {
          "fillcolor": "#FF6692",
          "line": {
           "color": "black",
           "width": 1
          },
          "type": "rect",
          "x0": 1420,
          "x1": 1445,
          "y0": 11.5,
          "y1": 12.5
         },
         {
          "fillcolor": "#B6E880",
          "line": {
           "color": "black",
           "width": 1
          },
          "type": "rect",
          "x0": 1445,
          "x1": 1625,
          "y0": 11.5,
          "y1": 12.5
         },
         {
          "fillcolor": "#FF97FF",
          "line": {
           "color": "black",
           "width": 1
          },
          "type": "rect",
          "x0": 1625,
          "x1": 1630,
          "y0": 11.5,
          "y1": 12.5
         },
         {
          "fillcolor": "#636EFA",
          "line": {
           "color": "black",
           "width": 1
          },
          "type": "rect",
          "x0": 260,
          "x1": 280,
          "y0": 12.5,
          "y1": 13.5
         },
         {
          "fillcolor": "#EF553B",
          "line": {
           "color": "black",
           "width": 1
          },
          "type": "rect",
          "x0": 280,
          "x1": 460,
          "y0": 12.5,
          "y1": 13.5
         },
         {
          "fillcolor": "#00CC96",
          "line": {
           "color": "black",
           "width": 1
          },
          "type": "rect",
          "x0": 645,
          "x1": 670,
          "y0": 12.5,
          "y1": 13.5
         },
         {
          "fillcolor": "#AB63FA",
          "line": {
           "color": "black",
           "width": 1
          },
          "type": "rect",
          "x0": 670,
          "x1": 850,
          "y0": 12.5,
          "y1": 13.5
         },
         {
          "fillcolor": "#FFA15A",
          "line": {
           "color": "black",
           "width": 1
          },
          "type": "rect",
          "x0": 1045,
          "x1": 1070,
          "y0": 12.5,
          "y1": 13.5
         },
         {
          "fillcolor": "#19D3F3",
          "line": {
           "color": "black",
           "width": 1
          },
          "type": "rect",
          "x0": 1070,
          "x1": 1250,
          "y0": 12.5,
          "y1": 13.5
         },
         {
          "fillcolor": "#FF6692",
          "line": {
           "color": "black",
           "width": 1
          },
          "type": "rect",
          "x0": 1445,
          "x1": 1470,
          "y0": 12.5,
          "y1": 13.5
         },
         {
          "fillcolor": "#B6E880",
          "line": {
           "color": "black",
           "width": 1
          },
          "type": "rect",
          "x0": 1470,
          "x1": 1650,
          "y0": 12.5,
          "y1": 13.5
         },
         {
          "fillcolor": "#FF97FF",
          "line": {
           "color": "black",
           "width": 1
          },
          "type": "rect",
          "x0": 1650,
          "x1": 1655,
          "y0": 12.5,
          "y1": 13.5
         },
         {
          "fillcolor": "#636EFA",
          "line": {
           "color": "black",
           "width": 1
          },
          "type": "rect",
          "x0": 280,
          "x1": 300,
          "y0": 13.5,
          "y1": 14.5
         },
         {
          "fillcolor": "#EF553B",
          "line": {
           "color": "black",
           "width": 1
          },
          "type": "rect",
          "x0": 300,
          "x1": 480,
          "y0": 13.5,
          "y1": 14.5
         },
         {
          "fillcolor": "#00CC96",
          "line": {
           "color": "black",
           "width": 1
          },
          "type": "rect",
          "x0": 670,
          "x1": 695,
          "y0": 13.5,
          "y1": 14.5
         },
         {
          "fillcolor": "#AB63FA",
          "line": {
           "color": "black",
           "width": 1
          },
          "type": "rect",
          "x0": 695,
          "x1": 875,
          "y0": 13.5,
          "y1": 14.5
         },
         {
          "fillcolor": "#FFA15A",
          "line": {
           "color": "black",
           "width": 1
          },
          "type": "rect",
          "x0": 1070,
          "x1": 1095,
          "y0": 13.5,
          "y1": 14.5
         },
         {
          "fillcolor": "#19D3F3",
          "line": {
           "color": "black",
           "width": 1
          },
          "type": "rect",
          "x0": 1095,
          "x1": 1275,
          "y0": 13.5,
          "y1": 14.5
         },
         {
          "fillcolor": "#FF6692",
          "line": {
           "color": "black",
           "width": 1
          },
          "type": "rect",
          "x0": 1470,
          "x1": 1495,
          "y0": 13.5,
          "y1": 14.5
         },
         {
          "fillcolor": "#B6E880",
          "line": {
           "color": "black",
           "width": 1
          },
          "type": "rect",
          "x0": 1495,
          "x1": 1675,
          "y0": 13.5,
          "y1": 14.5
         },
         {
          "fillcolor": "#FF97FF",
          "line": {
           "color": "black",
           "width": 1
          },
          "type": "rect",
          "x0": 1675,
          "x1": 1680,
          "y0": 13.5,
          "y1": 14.5
         },
         {
          "fillcolor": "#636EFA",
          "line": {
           "color": "black",
           "width": 1
          },
          "type": "rect",
          "x0": 300,
          "x1": 320,
          "y0": 14.5,
          "y1": 15.5
         },
         {
          "fillcolor": "#EF553B",
          "line": {
           "color": "black",
           "width": 1
          },
          "type": "rect",
          "x0": 320,
          "x1": 500,
          "y0": 14.5,
          "y1": 15.5
         },
         {
          "fillcolor": "#00CC96",
          "line": {
           "color": "black",
           "width": 1
          },
          "type": "rect",
          "x0": 695,
          "x1": 720,
          "y0": 14.5,
          "y1": 15.5
         },
         {
          "fillcolor": "#AB63FA",
          "line": {
           "color": "black",
           "width": 1
          },
          "type": "rect",
          "x0": 720,
          "x1": 900,
          "y0": 14.5,
          "y1": 15.5
         },
         {
          "fillcolor": "#FFA15A",
          "line": {
           "color": "black",
           "width": 1
          },
          "type": "rect",
          "x0": 1095,
          "x1": 1120,
          "y0": 14.5,
          "y1": 15.5
         },
         {
          "fillcolor": "#19D3F3",
          "line": {
           "color": "black",
           "width": 1
          },
          "type": "rect",
          "x0": 1120,
          "x1": 1300,
          "y0": 14.5,
          "y1": 15.5
         },
         {
          "fillcolor": "#FF6692",
          "line": {
           "color": "black",
           "width": 1
          },
          "type": "rect",
          "x0": 1495,
          "x1": 1520,
          "y0": 14.5,
          "y1": 15.5
         },
         {
          "fillcolor": "#B6E880",
          "line": {
           "color": "black",
           "width": 1
          },
          "type": "rect",
          "x0": 1520,
          "x1": 1700,
          "y0": 14.5,
          "y1": 15.5
         },
         {
          "fillcolor": "#FF97FF",
          "line": {
           "color": "black",
           "width": 1
          },
          "type": "rect",
          "x0": 1700,
          "x1": 1705,
          "y0": 14.5,
          "y1": 15.5
         }
        ],
        "template": {
         "data": {
          "bar": [
           {
            "error_x": {
             "color": "#2a3f5f"
            },
            "error_y": {
             "color": "#2a3f5f"
            },
            "marker": {
             "line": {
              "color": "#E5ECF6",
              "width": 0.5
             },
             "pattern": {
              "fillmode": "overlay",
              "size": 10,
              "solidity": 0.2
             }
            },
            "type": "bar"
           }
          ],
          "barpolar": [
           {
            "marker": {
             "line": {
              "color": "#E5ECF6",
              "width": 0.5
             },
             "pattern": {
              "fillmode": "overlay",
              "size": 10,
              "solidity": 0.2
             }
            },
            "type": "barpolar"
           }
          ],
          "carpet": [
           {
            "aaxis": {
             "endlinecolor": "#2a3f5f",
             "gridcolor": "white",
             "linecolor": "white",
             "minorgridcolor": "white",
             "startlinecolor": "#2a3f5f"
            },
            "baxis": {
             "endlinecolor": "#2a3f5f",
             "gridcolor": "white",
             "linecolor": "white",
             "minorgridcolor": "white",
             "startlinecolor": "#2a3f5f"
            },
            "type": "carpet"
           }
          ],
          "choropleth": [
           {
            "colorbar": {
             "outlinewidth": 0,
             "ticks": ""
            },
            "type": "choropleth"
           }
          ],
          "contour": [
           {
            "colorbar": {
             "outlinewidth": 0,
             "ticks": ""
            },
            "colorscale": [
             [
              0,
              "#0d0887"
             ],
             [
              0.1111111111111111,
              "#46039f"
             ],
             [
              0.2222222222222222,
              "#7201a8"
             ],
             [
              0.3333333333333333,
              "#9c179e"
             ],
             [
              0.4444444444444444,
              "#bd3786"
             ],
             [
              0.5555555555555556,
              "#d8576b"
             ],
             [
              0.6666666666666666,
              "#ed7953"
             ],
             [
              0.7777777777777778,
              "#fb9f3a"
             ],
             [
              0.8888888888888888,
              "#fdca26"
             ],
             [
              1,
              "#f0f921"
             ]
            ],
            "type": "contour"
           }
          ],
          "contourcarpet": [
           {
            "colorbar": {
             "outlinewidth": 0,
             "ticks": ""
            },
            "type": "contourcarpet"
           }
          ],
          "heatmap": [
           {
            "colorbar": {
             "outlinewidth": 0,
             "ticks": ""
            },
            "colorscale": [
             [
              0,
              "#0d0887"
             ],
             [
              0.1111111111111111,
              "#46039f"
             ],
             [
              0.2222222222222222,
              "#7201a8"
             ],
             [
              0.3333333333333333,
              "#9c179e"
             ],
             [
              0.4444444444444444,
              "#bd3786"
             ],
             [
              0.5555555555555556,
              "#d8576b"
             ],
             [
              0.6666666666666666,
              "#ed7953"
             ],
             [
              0.7777777777777778,
              "#fb9f3a"
             ],
             [
              0.8888888888888888,
              "#fdca26"
             ],
             [
              1,
              "#f0f921"
             ]
            ],
            "type": "heatmap"
           }
          ],
          "heatmapgl": [
           {
            "colorbar": {
             "outlinewidth": 0,
             "ticks": ""
            },
            "colorscale": [
             [
              0,
              "#0d0887"
             ],
             [
              0.1111111111111111,
              "#46039f"
             ],
             [
              0.2222222222222222,
              "#7201a8"
             ],
             [
              0.3333333333333333,
              "#9c179e"
             ],
             [
              0.4444444444444444,
              "#bd3786"
             ],
             [
              0.5555555555555556,
              "#d8576b"
             ],
             [
              0.6666666666666666,
              "#ed7953"
             ],
             [
              0.7777777777777778,
              "#fb9f3a"
             ],
             [
              0.8888888888888888,
              "#fdca26"
             ],
             [
              1,
              "#f0f921"
             ]
            ],
            "type": "heatmapgl"
           }
          ],
          "histogram": [
           {
            "marker": {
             "pattern": {
              "fillmode": "overlay",
              "size": 10,
              "solidity": 0.2
             }
            },
            "type": "histogram"
           }
          ],
          "histogram2d": [
           {
            "colorbar": {
             "outlinewidth": 0,
             "ticks": ""
            },
            "colorscale": [
             [
              0,
              "#0d0887"
             ],
             [
              0.1111111111111111,
              "#46039f"
             ],
             [
              0.2222222222222222,
              "#7201a8"
             ],
             [
              0.3333333333333333,
              "#9c179e"
             ],
             [
              0.4444444444444444,
              "#bd3786"
             ],
             [
              0.5555555555555556,
              "#d8576b"
             ],
             [
              0.6666666666666666,
              "#ed7953"
             ],
             [
              0.7777777777777778,
              "#fb9f3a"
             ],
             [
              0.8888888888888888,
              "#fdca26"
             ],
             [
              1,
              "#f0f921"
             ]
            ],
            "type": "histogram2d"
           }
          ],
          "histogram2dcontour": [
           {
            "colorbar": {
             "outlinewidth": 0,
             "ticks": ""
            },
            "colorscale": [
             [
              0,
              "#0d0887"
             ],
             [
              0.1111111111111111,
              "#46039f"
             ],
             [
              0.2222222222222222,
              "#7201a8"
             ],
             [
              0.3333333333333333,
              "#9c179e"
             ],
             [
              0.4444444444444444,
              "#bd3786"
             ],
             [
              0.5555555555555556,
              "#d8576b"
             ],
             [
              0.6666666666666666,
              "#ed7953"
             ],
             [
              0.7777777777777778,
              "#fb9f3a"
             ],
             [
              0.8888888888888888,
              "#fdca26"
             ],
             [
              1,
              "#f0f921"
             ]
            ],
            "type": "histogram2dcontour"
           }
          ],
          "mesh3d": [
           {
            "colorbar": {
             "outlinewidth": 0,
             "ticks": ""
            },
            "type": "mesh3d"
           }
          ],
          "parcoords": [
           {
            "line": {
             "colorbar": {
              "outlinewidth": 0,
              "ticks": ""
             }
            },
            "type": "parcoords"
           }
          ],
          "pie": [
           {
            "automargin": true,
            "type": "pie"
           }
          ],
          "scatter": [
           {
            "fillpattern": {
             "fillmode": "overlay",
             "size": 10,
             "solidity": 0.2
            },
            "type": "scatter"
           }
          ],
          "scatter3d": [
           {
            "line": {
             "colorbar": {
              "outlinewidth": 0,
              "ticks": ""
             }
            },
            "marker": {
             "colorbar": {
              "outlinewidth": 0,
              "ticks": ""
             }
            },
            "type": "scatter3d"
           }
          ],
          "scattercarpet": [
           {
            "marker": {
             "colorbar": {
              "outlinewidth": 0,
              "ticks": ""
             }
            },
            "type": "scattercarpet"
           }
          ],
          "scattergeo": [
           {
            "marker": {
             "colorbar": {
              "outlinewidth": 0,
              "ticks": ""
             }
            },
            "type": "scattergeo"
           }
          ],
          "scattergl": [
           {
            "marker": {
             "colorbar": {
              "outlinewidth": 0,
              "ticks": ""
             }
            },
            "type": "scattergl"
           }
          ],
          "scattermapbox": [
           {
            "marker": {
             "colorbar": {
              "outlinewidth": 0,
              "ticks": ""
             }
            },
            "type": "scattermapbox"
           }
          ],
          "scatterpolar": [
           {
            "marker": {
             "colorbar": {
              "outlinewidth": 0,
              "ticks": ""
             }
            },
            "type": "scatterpolar"
           }
          ],
          "scatterpolargl": [
           {
            "marker": {
             "colorbar": {
              "outlinewidth": 0,
              "ticks": ""
             }
            },
            "type": "scatterpolargl"
           }
          ],
          "scatterternary": [
           {
            "marker": {
             "colorbar": {
              "outlinewidth": 0,
              "ticks": ""
             }
            },
            "type": "scatterternary"
           }
          ],
          "surface": [
           {
            "colorbar": {
             "outlinewidth": 0,
             "ticks": ""
            },
            "colorscale": [
             [
              0,
              "#0d0887"
             ],
             [
              0.1111111111111111,
              "#46039f"
             ],
             [
              0.2222222222222222,
              "#7201a8"
             ],
             [
              0.3333333333333333,
              "#9c179e"
             ],
             [
              0.4444444444444444,
              "#bd3786"
             ],
             [
              0.5555555555555556,
              "#d8576b"
             ],
             [
              0.6666666666666666,
              "#ed7953"
             ],
             [
              0.7777777777777778,
              "#fb9f3a"
             ],
             [
              0.8888888888888888,
              "#fdca26"
             ],
             [
              1,
              "#f0f921"
             ]
            ],
            "type": "surface"
           }
          ],
          "table": [
           {
            "cells": {
             "fill": {
              "color": "#EBF0F8"
             },
             "line": {
              "color": "white"
             }
            },
            "header": {
             "fill": {
              "color": "#C8D4E3"
             },
             "line": {
              "color": "white"
             }
            },
            "type": "table"
           }
          ]
         },
         "layout": {
          "annotationdefaults": {
           "arrowcolor": "#2a3f5f",
           "arrowhead": 0,
           "arrowwidth": 1
          },
          "autotypenumbers": "strict",
          "coloraxis": {
           "colorbar": {
            "outlinewidth": 0,
            "ticks": ""
           }
          },
          "colorscale": {
           "diverging": [
            [
             0,
             "#8e0152"
            ],
            [
             0.1,
             "#c51b7d"
            ],
            [
             0.2,
             "#de77ae"
            ],
            [
             0.3,
             "#f1b6da"
            ],
            [
             0.4,
             "#fde0ef"
            ],
            [
             0.5,
             "#f7f7f7"
            ],
            [
             0.6,
             "#e6f5d0"
            ],
            [
             0.7,
             "#b8e186"
            ],
            [
             0.8,
             "#7fbc41"
            ],
            [
             0.9,
             "#4d9221"
            ],
            [
             1,
             "#276419"
            ]
           ],
           "sequential": [
            [
             0,
             "#0d0887"
            ],
            [
             0.1111111111111111,
             "#46039f"
            ],
            [
             0.2222222222222222,
             "#7201a8"
            ],
            [
             0.3333333333333333,
             "#9c179e"
            ],
            [
             0.4444444444444444,
             "#bd3786"
            ],
            [
             0.5555555555555556,
             "#d8576b"
            ],
            [
             0.6666666666666666,
             "#ed7953"
            ],
            [
             0.7777777777777778,
             "#fb9f3a"
            ],
            [
             0.8888888888888888,
             "#fdca26"
            ],
            [
             1,
             "#f0f921"
            ]
           ],
           "sequentialminus": [
            [
             0,
             "#0d0887"
            ],
            [
             0.1111111111111111,
             "#46039f"
            ],
            [
             0.2222222222222222,
             "#7201a8"
            ],
            [
             0.3333333333333333,
             "#9c179e"
            ],
            [
             0.4444444444444444,
             "#bd3786"
            ],
            [
             0.5555555555555556,
             "#d8576b"
            ],
            [
             0.6666666666666666,
             "#ed7953"
            ],
            [
             0.7777777777777778,
             "#fb9f3a"
            ],
            [
             0.8888888888888888,
             "#fdca26"
            ],
            [
             1,
             "#f0f921"
            ]
           ]
          },
          "colorway": [
           "#636efa",
           "#EF553B",
           "#00cc96",
           "#ab63fa",
           "#FFA15A",
           "#19d3f3",
           "#FF6692",
           "#B6E880",
           "#FF97FF",
           "#FECB52"
          ],
          "font": {
           "color": "#2a3f5f"
          },
          "geo": {
           "bgcolor": "white",
           "lakecolor": "white",
           "landcolor": "#E5ECF6",
           "showlakes": true,
           "showland": true,
           "subunitcolor": "white"
          },
          "hoverlabel": {
           "align": "left"
          },
          "hovermode": "closest",
          "mapbox": {
           "style": "light"
          },
          "paper_bgcolor": "white",
          "plot_bgcolor": "#E5ECF6",
          "polar": {
           "angularaxis": {
            "gridcolor": "white",
            "linecolor": "white",
            "ticks": ""
           },
           "bgcolor": "#E5ECF6",
           "radialaxis": {
            "gridcolor": "white",
            "linecolor": "white",
            "ticks": ""
           }
          },
          "scene": {
           "xaxis": {
            "backgroundcolor": "#E5ECF6",
            "gridcolor": "white",
            "gridwidth": 2,
            "linecolor": "white",
            "showbackground": true,
            "ticks": "",
            "zerolinecolor": "white"
           },
           "yaxis": {
            "backgroundcolor": "#E5ECF6",
            "gridcolor": "white",
            "gridwidth": 2,
            "linecolor": "white",
            "showbackground": true,
            "ticks": "",
            "zerolinecolor": "white"
           },
           "zaxis": {
            "backgroundcolor": "#E5ECF6",
            "gridcolor": "white",
            "gridwidth": 2,
            "linecolor": "white",
            "showbackground": true,
            "ticks": "",
            "zerolinecolor": "white"
           }
          },
          "shapedefaults": {
           "line": {
            "color": "#2a3f5f"
           }
          },
          "ternary": {
           "aaxis": {
            "gridcolor": "white",
            "linecolor": "white",
            "ticks": ""
           },
           "baxis": {
            "gridcolor": "white",
            "linecolor": "white",
            "ticks": ""
           },
           "bgcolor": "#E5ECF6",
           "caxis": {
            "gridcolor": "white",
            "linecolor": "white",
            "ticks": ""
           }
          },
          "title": {
           "x": 0.05
          },
          "xaxis": {
           "automargin": true,
           "gridcolor": "white",
           "linecolor": "white",
           "ticks": "",
           "title": {
            "standoff": 15
           },
           "zerolinecolor": "white",
           "zerolinewidth": 2
          },
          "yaxis": {
           "automargin": true,
           "gridcolor": "white",
           "linecolor": "white",
           "ticks": "",
           "title": {
            "standoff": 15
           },
           "zerolinecolor": "white",
           "zerolinewidth": 2
          }
         }
        },
        "width": 1400,
        "xaxis": {
         "range": [
          0,
          1705
         ],
         "title": {
          "text": "Time"
         }
        },
        "yaxis": {
         "dtick": 1,
         "range": [
          -0.5,
          15.5
         ],
         "tick0": 0,
         "tickmode": "linear",
         "title": {
          "text": "Item Index"
         }
        }
       }
      }
     },
     "metadata": {},
     "output_type": "display_data"
    }
   ],
   "source": [
    "schedule = tms.run_scheduler(num_items, ops, conflicts, sync_starts=False)\n",
    "\n",
    "schedule_duration = tms.calc_schedule_duration(schedule, ops)\n",
    "print(f\"Total Schedule duration is {schedule_duration} ({(schedule_duration/60.0):.3f} minutes)\")\n",
    "print(f\"Estimated throughput is {(num_items * num_cycles) / (schedule_duration/60.0):.2f} hot dogs per minute\")\n",
    "\n",
    "tms.plot_schedule(schedule, ops, label_size=8)"
   ]
  },
  {
   "cell_type": "markdown",
   "metadata": {},
   "source": [
    "## Optimum Number of Slots"
   ]
  },
  {
   "cell_type": "code",
   "execution_count": 638,
   "metadata": {},
   "outputs": [
    {
     "data": {
      "application/vnd.plotly.v1+json": {
       "config": {
        "plotlyServerURL": "https://plot.ly"
       },
       "data": [
        {
         "mode": "lines+markers",
         "name": "Throughput (Hot Dogs/min)",
         "type": "scatter",
         "x": [
          1,
          2,
          3,
          4,
          5,
          6,
          7,
          8,
          9,
          10,
          11,
          12,
          13,
          14,
          15,
          16,
          17,
          18,
          19,
          20,
          21,
          22,
          23
         ],
         "y": [
          0.29268292682926833,
          0.5680473372781065,
          0.8275862068965517,
          1.0726256983240223,
          1.3043478260869565,
          1.5238095238095237,
          1.7319587628865978,
          1.9296482412060303,
          2.0377358490566038,
          2.1145374449339207,
          2.1463414634146343,
          2.1735849056603773,
          2.197183098591549,
          2.217821782178218,
          2.236024844720497,
          2.252199413489736,
          2.2666666666666666,
          2.2796833773087073,
          2.291457286432161,
          2.302158273381295,
          2.311926605504587,
          2.320879120879121,
          2.329113924050633
         ]
        },
        {
         "mode": "lines+markers",
         "name": "Efficiency (%)",
         "type": "scatter",
         "x": [
          1,
          2,
          3,
          4,
          5,
          6,
          7,
          8,
          9,
          10,
          11,
          12,
          13,
          14,
          15,
          16,
          17,
          18,
          19,
          20,
          21,
          22,
          23
         ],
         "y": [
          1,
          0.9704142011834319,
          0.9425287356321839,
          0.9162011173184358,
          0.8913043478260869,
          0.8677248677248677,
          0.845360824742268,
          0.8241206030150754,
          0.7735849056603774,
          0.7224669603524229,
          0.6666666666666666,
          0.6188679245283019,
          0.5774647887323944,
          0.5412541254125413,
          0.5093167701863354,
          0.4809384164222874,
          0.45555555555555555,
          0.43271767810026385,
          0.4120603015075377,
          0.3932853717026379,
          0.3761467889908257,
          0.36043956043956044,
          0.3459915611814346
         ],
         "yaxis": "y2"
        }
       ],
       "layout": {
        "template": {
         "data": {
          "bar": [
           {
            "error_x": {
             "color": "#2a3f5f"
            },
            "error_y": {
             "color": "#2a3f5f"
            },
            "marker": {
             "line": {
              "color": "#E5ECF6",
              "width": 0.5
             },
             "pattern": {
              "fillmode": "overlay",
              "size": 10,
              "solidity": 0.2
             }
            },
            "type": "bar"
           }
          ],
          "barpolar": [
           {
            "marker": {
             "line": {
              "color": "#E5ECF6",
              "width": 0.5
             },
             "pattern": {
              "fillmode": "overlay",
              "size": 10,
              "solidity": 0.2
             }
            },
            "type": "barpolar"
           }
          ],
          "carpet": [
           {
            "aaxis": {
             "endlinecolor": "#2a3f5f",
             "gridcolor": "white",
             "linecolor": "white",
             "minorgridcolor": "white",
             "startlinecolor": "#2a3f5f"
            },
            "baxis": {
             "endlinecolor": "#2a3f5f",
             "gridcolor": "white",
             "linecolor": "white",
             "minorgridcolor": "white",
             "startlinecolor": "#2a3f5f"
            },
            "type": "carpet"
           }
          ],
          "choropleth": [
           {
            "colorbar": {
             "outlinewidth": 0,
             "ticks": ""
            },
            "type": "choropleth"
           }
          ],
          "contour": [
           {
            "colorbar": {
             "outlinewidth": 0,
             "ticks": ""
            },
            "colorscale": [
             [
              0,
              "#0d0887"
             ],
             [
              0.1111111111111111,
              "#46039f"
             ],
             [
              0.2222222222222222,
              "#7201a8"
             ],
             [
              0.3333333333333333,
              "#9c179e"
             ],
             [
              0.4444444444444444,
              "#bd3786"
             ],
             [
              0.5555555555555556,
              "#d8576b"
             ],
             [
              0.6666666666666666,
              "#ed7953"
             ],
             [
              0.7777777777777778,
              "#fb9f3a"
             ],
             [
              0.8888888888888888,
              "#fdca26"
             ],
             [
              1,
              "#f0f921"
             ]
            ],
            "type": "contour"
           }
          ],
          "contourcarpet": [
           {
            "colorbar": {
             "outlinewidth": 0,
             "ticks": ""
            },
            "type": "contourcarpet"
           }
          ],
          "heatmap": [
           {
            "colorbar": {
             "outlinewidth": 0,
             "ticks": ""
            },
            "colorscale": [
             [
              0,
              "#0d0887"
             ],
             [
              0.1111111111111111,
              "#46039f"
             ],
             [
              0.2222222222222222,
              "#7201a8"
             ],
             [
              0.3333333333333333,
              "#9c179e"
             ],
             [
              0.4444444444444444,
              "#bd3786"
             ],
             [
              0.5555555555555556,
              "#d8576b"
             ],
             [
              0.6666666666666666,
              "#ed7953"
             ],
             [
              0.7777777777777778,
              "#fb9f3a"
             ],
             [
              0.8888888888888888,
              "#fdca26"
             ],
             [
              1,
              "#f0f921"
             ]
            ],
            "type": "heatmap"
           }
          ],
          "heatmapgl": [
           {
            "colorbar": {
             "outlinewidth": 0,
             "ticks": ""
            },
            "colorscale": [
             [
              0,
              "#0d0887"
             ],
             [
              0.1111111111111111,
              "#46039f"
             ],
             [
              0.2222222222222222,
              "#7201a8"
             ],
             [
              0.3333333333333333,
              "#9c179e"
             ],
             [
              0.4444444444444444,
              "#bd3786"
             ],
             [
              0.5555555555555556,
              "#d8576b"
             ],
             [
              0.6666666666666666,
              "#ed7953"
             ],
             [
              0.7777777777777778,
              "#fb9f3a"
             ],
             [
              0.8888888888888888,
              "#fdca26"
             ],
             [
              1,
              "#f0f921"
             ]
            ],
            "type": "heatmapgl"
           }
          ],
          "histogram": [
           {
            "marker": {
             "pattern": {
              "fillmode": "overlay",
              "size": 10,
              "solidity": 0.2
             }
            },
            "type": "histogram"
           }
          ],
          "histogram2d": [
           {
            "colorbar": {
             "outlinewidth": 0,
             "ticks": ""
            },
            "colorscale": [
             [
              0,
              "#0d0887"
             ],
             [
              0.1111111111111111,
              "#46039f"
             ],
             [
              0.2222222222222222,
              "#7201a8"
             ],
             [
              0.3333333333333333,
              "#9c179e"
             ],
             [
              0.4444444444444444,
              "#bd3786"
             ],
             [
              0.5555555555555556,
              "#d8576b"
             ],
             [
              0.6666666666666666,
              "#ed7953"
             ],
             [
              0.7777777777777778,
              "#fb9f3a"
             ],
             [
              0.8888888888888888,
              "#fdca26"
             ],
             [
              1,
              "#f0f921"
             ]
            ],
            "type": "histogram2d"
           }
          ],
          "histogram2dcontour": [
           {
            "colorbar": {
             "outlinewidth": 0,
             "ticks": ""
            },
            "colorscale": [
             [
              0,
              "#0d0887"
             ],
             [
              0.1111111111111111,
              "#46039f"
             ],
             [
              0.2222222222222222,
              "#7201a8"
             ],
             [
              0.3333333333333333,
              "#9c179e"
             ],
             [
              0.4444444444444444,
              "#bd3786"
             ],
             [
              0.5555555555555556,
              "#d8576b"
             ],
             [
              0.6666666666666666,
              "#ed7953"
             ],
             [
              0.7777777777777778,
              "#fb9f3a"
             ],
             [
              0.8888888888888888,
              "#fdca26"
             ],
             [
              1,
              "#f0f921"
             ]
            ],
            "type": "histogram2dcontour"
           }
          ],
          "mesh3d": [
           {
            "colorbar": {
             "outlinewidth": 0,
             "ticks": ""
            },
            "type": "mesh3d"
           }
          ],
          "parcoords": [
           {
            "line": {
             "colorbar": {
              "outlinewidth": 0,
              "ticks": ""
             }
            },
            "type": "parcoords"
           }
          ],
          "pie": [
           {
            "automargin": true,
            "type": "pie"
           }
          ],
          "scatter": [
           {
            "fillpattern": {
             "fillmode": "overlay",
             "size": 10,
             "solidity": 0.2
            },
            "type": "scatter"
           }
          ],
          "scatter3d": [
           {
            "line": {
             "colorbar": {
              "outlinewidth": 0,
              "ticks": ""
             }
            },
            "marker": {
             "colorbar": {
              "outlinewidth": 0,
              "ticks": ""
             }
            },
            "type": "scatter3d"
           }
          ],
          "scattercarpet": [
           {
            "marker": {
             "colorbar": {
              "outlinewidth": 0,
              "ticks": ""
             }
            },
            "type": "scattercarpet"
           }
          ],
          "scattergeo": [
           {
            "marker": {
             "colorbar": {
              "outlinewidth": 0,
              "ticks": ""
             }
            },
            "type": "scattergeo"
           }
          ],
          "scattergl": [
           {
            "marker": {
             "colorbar": {
              "outlinewidth": 0,
              "ticks": ""
             }
            },
            "type": "scattergl"
           }
          ],
          "scattermapbox": [
           {
            "marker": {
             "colorbar": {
              "outlinewidth": 0,
              "ticks": ""
             }
            },
            "type": "scattermapbox"
           }
          ],
          "scatterpolar": [
           {
            "marker": {
             "colorbar": {
              "outlinewidth": 0,
              "ticks": ""
             }
            },
            "type": "scatterpolar"
           }
          ],
          "scatterpolargl": [
           {
            "marker": {
             "colorbar": {
              "outlinewidth": 0,
              "ticks": ""
             }
            },
            "type": "scatterpolargl"
           }
          ],
          "scatterternary": [
           {
            "marker": {
             "colorbar": {
              "outlinewidth": 0,
              "ticks": ""
             }
            },
            "type": "scatterternary"
           }
          ],
          "surface": [
           {
            "colorbar": {
             "outlinewidth": 0,
             "ticks": ""
            },
            "colorscale": [
             [
              0,
              "#0d0887"
             ],
             [
              0.1111111111111111,
              "#46039f"
             ],
             [
              0.2222222222222222,
              "#7201a8"
             ],
             [
              0.3333333333333333,
              "#9c179e"
             ],
             [
              0.4444444444444444,
              "#bd3786"
             ],
             [
              0.5555555555555556,
              "#d8576b"
             ],
             [
              0.6666666666666666,
              "#ed7953"
             ],
             [
              0.7777777777777778,
              "#fb9f3a"
             ],
             [
              0.8888888888888888,
              "#fdca26"
             ],
             [
              1,
              "#f0f921"
             ]
            ],
            "type": "surface"
           }
          ],
          "table": [
           {
            "cells": {
             "fill": {
              "color": "#EBF0F8"
             },
             "line": {
              "color": "white"
             }
            },
            "header": {
             "fill": {
              "color": "#C8D4E3"
             },
             "line": {
              "color": "white"
             }
            },
            "type": "table"
           }
          ]
         },
         "layout": {
          "annotationdefaults": {
           "arrowcolor": "#2a3f5f",
           "arrowhead": 0,
           "arrowwidth": 1
          },
          "autotypenumbers": "strict",
          "coloraxis": {
           "colorbar": {
            "outlinewidth": 0,
            "ticks": ""
           }
          },
          "colorscale": {
           "diverging": [
            [
             0,
             "#8e0152"
            ],
            [
             0.1,
             "#c51b7d"
            ],
            [
             0.2,
             "#de77ae"
            ],
            [
             0.3,
             "#f1b6da"
            ],
            [
             0.4,
             "#fde0ef"
            ],
            [
             0.5,
             "#f7f7f7"
            ],
            [
             0.6,
             "#e6f5d0"
            ],
            [
             0.7,
             "#b8e186"
            ],
            [
             0.8,
             "#7fbc41"
            ],
            [
             0.9,
             "#4d9221"
            ],
            [
             1,
             "#276419"
            ]
           ],
           "sequential": [
            [
             0,
             "#0d0887"
            ],
            [
             0.1111111111111111,
             "#46039f"
            ],
            [
             0.2222222222222222,
             "#7201a8"
            ],
            [
             0.3333333333333333,
             "#9c179e"
            ],
            [
             0.4444444444444444,
             "#bd3786"
            ],
            [
             0.5555555555555556,
             "#d8576b"
            ],
            [
             0.6666666666666666,
             "#ed7953"
            ],
            [
             0.7777777777777778,
             "#fb9f3a"
            ],
            [
             0.8888888888888888,
             "#fdca26"
            ],
            [
             1,
             "#f0f921"
            ]
           ],
           "sequentialminus": [
            [
             0,
             "#0d0887"
            ],
            [
             0.1111111111111111,
             "#46039f"
            ],
            [
             0.2222222222222222,
             "#7201a8"
            ],
            [
             0.3333333333333333,
             "#9c179e"
            ],
            [
             0.4444444444444444,
             "#bd3786"
            ],
            [
             0.5555555555555556,
             "#d8576b"
            ],
            [
             0.6666666666666666,
             "#ed7953"
            ],
            [
             0.7777777777777778,
             "#fb9f3a"
            ],
            [
             0.8888888888888888,
             "#fdca26"
            ],
            [
             1,
             "#f0f921"
            ]
           ]
          },
          "colorway": [
           "#636efa",
           "#EF553B",
           "#00cc96",
           "#ab63fa",
           "#FFA15A",
           "#19d3f3",
           "#FF6692",
           "#B6E880",
           "#FF97FF",
           "#FECB52"
          ],
          "font": {
           "color": "#2a3f5f"
          },
          "geo": {
           "bgcolor": "white",
           "lakecolor": "white",
           "landcolor": "#E5ECF6",
           "showlakes": true,
           "showland": true,
           "subunitcolor": "white"
          },
          "hoverlabel": {
           "align": "left"
          },
          "hovermode": "closest",
          "mapbox": {
           "style": "light"
          },
          "paper_bgcolor": "white",
          "plot_bgcolor": "#E5ECF6",
          "polar": {
           "angularaxis": {
            "gridcolor": "white",
            "linecolor": "white",
            "ticks": ""
           },
           "bgcolor": "#E5ECF6",
           "radialaxis": {
            "gridcolor": "white",
            "linecolor": "white",
            "ticks": ""
           }
          },
          "scene": {
           "xaxis": {
            "backgroundcolor": "#E5ECF6",
            "gridcolor": "white",
            "gridwidth": 2,
            "linecolor": "white",
            "showbackground": true,
            "ticks": "",
            "zerolinecolor": "white"
           },
           "yaxis": {
            "backgroundcolor": "#E5ECF6",
            "gridcolor": "white",
            "gridwidth": 2,
            "linecolor": "white",
            "showbackground": true,
            "ticks": "",
            "zerolinecolor": "white"
           },
           "zaxis": {
            "backgroundcolor": "#E5ECF6",
            "gridcolor": "white",
            "gridwidth": 2,
            "linecolor": "white",
            "showbackground": true,
            "ticks": "",
            "zerolinecolor": "white"
           }
          },
          "shapedefaults": {
           "line": {
            "color": "#2a3f5f"
           }
          },
          "ternary": {
           "aaxis": {
            "gridcolor": "white",
            "linecolor": "white",
            "ticks": ""
           },
           "baxis": {
            "gridcolor": "white",
            "linecolor": "white",
            "ticks": ""
           },
           "bgcolor": "#E5ECF6",
           "caxis": {
            "gridcolor": "white",
            "linecolor": "white",
            "ticks": ""
           }
          },
          "title": {
           "x": 0.05
          },
          "xaxis": {
           "automargin": true,
           "gridcolor": "white",
           "linecolor": "white",
           "ticks": "",
           "title": {
            "standoff": 15
           },
           "zerolinecolor": "white",
           "zerolinewidth": 2
          },
          "yaxis": {
           "automargin": true,
           "gridcolor": "white",
           "linecolor": "white",
           "ticks": "",
           "title": {
            "standoff": 15
           },
           "zerolinecolor": "white",
           "zerolinewidth": 2
          }
         }
        },
        "title": {
         "text": "Throughput vs. Number of Items"
        },
        "xaxis": {
         "title": {
          "text": "Number of Slots"
         }
        },
        "yaxis": {
         "title": {
          "text": "Throughput (boxes/min)"
         }
        },
        "yaxis2": {
         "overlaying": "y",
         "side": "right",
         "title": {
          "text": "Efficiency (%)"
         }
        }
       }
      }
     },
     "metadata": {},
     "output_type": "display_data"
    }
   ],
   "source": [
    "import plotly.graph_objects as go\n",
    "\n",
    "# Initialize lists to store data\n",
    "num_items_list = []\n",
    "throughput_list = []\n",
    "efficiency_list = []\n",
    "\n",
    "# Generate data\n",
    "for num_items in range(1, 24):\n",
    "  schedule = tms.run_scheduler(num_items, ops, conflicts, sync_starts=False)\n",
    "  schedule_duration = tms.calc_schedule_duration(schedule, ops)\n",
    "  schedule_efficiency = tms.calc_schedule_efficiency(schedule, ops)\n",
    "  throughput = (num_items * num_cycles) / (schedule_duration / 60.0)\n",
    "  num_items_list.append(num_items)\n",
    "  throughput_list.append(throughput)\n",
    "  efficiency_list.append(schedule_efficiency)\n",
    "\n",
    "# Create the plot\n",
    "fig = go.Figure()\n",
    "fig.add_trace(go.Scatter(x=num_items_list, y=throughput_list, mode='lines+markers', name='Throughput (Hot Dogs/min)'))\n",
    "fig.add_trace(go.Scatter(x=num_items_list, y=efficiency_list, mode='lines+markers', name=\"Efficiency (%)\", yaxis='y2'))\n",
    "\n",
    "# Set plot titles and labels\n",
    "fig.update_layout(\n",
    "  title='Throughput vs. Number of Items',\n",
    "  xaxis_title='Number of Slots',\n",
    "  yaxis=dict(\n",
    "      title='Throughput (boxes/min)'\n",
    "  ),\n",
    "  yaxis2=dict(\n",
    "      title='Efficiency (%)',\n",
    "      overlaying='y',\n",
    "      side='right'\n",
    "  )\n",
    ")\n",
    "\n",
    "# Show the plot\n",
    "fig.show()"
   ]
  },
  {
   "cell_type": "markdown",
   "metadata": {},
   "source": [
    "## Analytical Approach"
   ]
  },
  {
   "cell_type": "code",
   "execution_count": 639,
   "metadata": {},
   "outputs": [
    {
     "data": {
      "image/svg+xml": [
       "<?xml version=\"1.0\" encoding=\"UTF-8\" standalone=\"no\"?>\n",
       "<!DOCTYPE svg PUBLIC \"-//W3C//DTD SVG 1.1//EN\"\n",
       " \"http://www.w3.org/Graphics/SVG/1.1/DTD/svg11.dtd\">\n",
       "<!-- Generated by graphviz version 2.50.0 (0)\n",
       " -->\n",
       "<!-- Pages: 1 -->\n",
       "<svg width=\"202pt\" height=\"116pt\"\n",
       " viewBox=\"0.00 0.00 201.64 116.00\" xmlns=\"http://www.w3.org/2000/svg\" xmlns:xlink=\"http://www.w3.org/1999/xlink\">\n",
       "<g id=\"graph0\" class=\"graph\" transform=\"scale(1 1) rotate(0) translate(4 112)\">\n",
       "<polygon fill=\"white\" stroke=\"transparent\" points=\"-4,4 -4,-112 197.64,-112 197.64,4 -4,4\"/>\n",
       "<!-- A -->\n",
       "<g id=\"node1\" class=\"node\">\n",
       "<title>A</title>\n",
       "<ellipse fill=\"none\" stroke=\"black\" cx=\"34.45\" cy=\"-90\" rx=\"34.39\" ry=\"18\"/>\n",
       "<text text-anchor=\"middle\" x=\"34.45\" y=\"-86.3\" font-family=\"Times New Roman,serif\" font-size=\"14.00\">op0: A</text>\n",
       "</g>\n",
       "<!-- A&#45;&#45;A -->\n",
       "<g id=\"edge1\" class=\"edge\">\n",
       "<title>A&#45;&#45;A</title>\n",
       "<path fill=\"none\" stroke=\"black\" d=\"M69.13,-103.45C79.15,-102.96 86.89,-98.47 86.89,-90 86.89,-81.53 79.15,-77.04 69.13,-76.55\"/>\n",
       "<polygon fill=\"black\" stroke=\"black\" points=\"69.23,-99.95 59,-102.71 68.71,-106.93 69.23,-99.95\"/>\n",
       "<polygon fill=\"black\" stroke=\"black\" points=\"68.71,-73.07 59,-77.29 69.23,-80.05 68.71,-73.07\"/>\n",
       "</g>\n",
       "<!-- B -->\n",
       "<g id=\"node3\" class=\"node\">\n",
       "<title>B</title>\n",
       "<ellipse fill=\"none\" stroke=\"black\" cx=\"34.45\" cy=\"-18\" rx=\"34.39\" ry=\"18\"/>\n",
       "<text text-anchor=\"middle\" x=\"34.45\" y=\"-14.3\" font-family=\"Times New Roman,serif\" font-size=\"14.00\">op2: B</text>\n",
       "</g>\n",
       "<!-- A&#45;&#45;B -->\n",
       "<g id=\"edge2\" class=\"edge\">\n",
       "<title>A&#45;&#45;B</title>\n",
       "<path fill=\"none\" stroke=\"black\" d=\"M34.45,-61.67C34.45,-56.69 34.45,-51.49 34.45,-46.51\"/>\n",
       "<polygon fill=\"black\" stroke=\"black\" points=\"30.95,-61.7 34.45,-71.7 37.95,-61.7 30.95,-61.7\"/>\n",
       "<polygon fill=\"black\" stroke=\"black\" points=\"37.95,-46.1 34.45,-36.1 30.95,-46.1 37.95,-46.1\"/>\n",
       "</g>\n",
       "<!-- wait -->\n",
       "<g id=\"node2\" class=\"node\">\n",
       "<title>wait</title>\n",
       "<ellipse fill=\"none\" stroke=\"black\" cx=\"149.45\" cy=\"-90\" rx=\"44.39\" ry=\"18\"/>\n",
       "<text text-anchor=\"middle\" x=\"149.45\" y=\"-86.3\" font-family=\"Times New Roman,serif\" font-size=\"14.00\">op1: wait</text>\n",
       "</g>\n",
       "<!-- B&#45;&#45;B -->\n",
       "<g id=\"edge3\" class=\"edge\">\n",
       "<title>B&#45;&#45;B</title>\n",
       "<path fill=\"none\" stroke=\"black\" d=\"M69.13,-31.45C79.15,-30.96 86.89,-26.47 86.89,-18 86.89,-9.53 79.15,-5.04 69.13,-4.55\"/>\n",
       "<polygon fill=\"black\" stroke=\"black\" points=\"69.23,-27.95 59,-30.71 68.71,-34.93 69.23,-27.95\"/>\n",
       "<polygon fill=\"black\" stroke=\"black\" points=\"68.71,-1.07 59,-5.29 69.23,-8.05 68.71,-1.07\"/>\n",
       "</g>\n",
       "</g>\n",
       "</svg>\n"
      ],
      "text/plain": [
       "<graphviz.graphs.Graph at 0x1b91bbaaa20>"
      ]
     },
     "execution_count": 639,
     "metadata": {},
     "output_type": "execute_result"
    }
   ],
   "source": [
    "ops_single = {}\n",
    "\n",
    "ops_single['A'] = 20\n",
    "ops_single['wait'] = 3*60\n",
    "ops_single['B'] = 5\n",
    "\n",
    "num_ops_single = len(ops_single)\n",
    "conflicts_single = np.zeros([num_ops_single, num_ops_single])\n",
    "\n",
    "tms.define_conflict_by_name(conflicts_single, ops_single, 'A', 'A')\n",
    "\n",
    "tms.define_conflict_by_name(conflicts_single, ops_single, 'B', 'A')\n",
    "tms.define_conflict_by_name(conflicts_single, ops_single, 'B', 'B')\n",
    "\n",
    "tms.graph_conflicts(ops_single, conflicts_single)"
   ]
  },
  {
   "cell_type": "markdown",
   "metadata": {},
   "source": [
    "### Regime Alpha"
   ]
  },
  {
   "cell_type": "code",
   "execution_count": 640,
   "metadata": {},
   "outputs": [
    {
     "name": "stdout",
     "output_type": "stream",
     "text": [
      "Total Schedule duration is 870.0 (14.500 minutes)\n",
      "Importing plotting tools...\n",
      "Generating plot...\n"
     ]
    },
    {
     "data": {
      "application/vnd.plotly.v1+json": {
       "config": {
        "plotlyServerURL": "https://plot.ly"
       },
       "data": [],
       "layout": {
        "annotations": [
         {
          "bgcolor": "rgba(255,255,255,0.8)",
          "font": {
           "color": "black",
           "size": 8
          },
          "showarrow": false,
          "text": "A_0",
          "x": 10,
          "y": 0
         },
         {
          "bgcolor": "rgba(255,255,255,0.8)",
          "font": {
           "color": "black",
           "size": 8
          },
          "showarrow": false,
          "text": "wait_0",
          "x": 110,
          "y": 0
         },
         {
          "bgcolor": "rgba(255,255,255,0.8)",
          "font": {
           "color": "black",
           "size": 8
          },
          "showarrow": false,
          "text": "B_0/A_1",
          "x": 212.5,
          "y": 0
         },
         {
          "bgcolor": "rgba(255,255,255,0.8)",
          "font": {
           "color": "black",
           "size": 8
          },
          "showarrow": false,
          "text": "wait_1",
          "x": 315,
          "y": 0
         },
         {
          "bgcolor": "rgba(255,255,255,0.8)",
          "font": {
           "color": "black",
           "size": 8
          },
          "showarrow": false,
          "text": "B_1/A_2",
          "x": 417.5,
          "y": 0
         },
         {
          "bgcolor": "rgba(255,255,255,0.8)",
          "font": {
           "color": "black",
           "size": 8
          },
          "showarrow": false,
          "text": "wait_2",
          "x": 520,
          "y": 0
         },
         {
          "bgcolor": "rgba(255,255,255,0.8)",
          "font": {
           "color": "black",
           "size": 8
          },
          "showarrow": false,
          "text": "B_2/A_3",
          "x": 622.5,
          "y": 0
         },
         {
          "bgcolor": "rgba(255,255,255,0.8)",
          "font": {
           "color": "black",
           "size": 8
          },
          "showarrow": false,
          "text": "wait_3",
          "x": 725,
          "y": 0
         },
         {
          "bgcolor": "rgba(255,255,255,0.8)",
          "font": {
           "color": "black",
           "size": 8
          },
          "showarrow": false,
          "text": "B_3",
          "x": 817.5,
          "y": 0
         },
         {
          "bgcolor": "rgba(255,255,255,0.8)",
          "font": {
           "color": "black",
           "size": 8
          },
          "showarrow": false,
          "text": "A_0",
          "x": 30,
          "y": 1
         },
         {
          "bgcolor": "rgba(255,255,255,0.8)",
          "font": {
           "color": "black",
           "size": 8
          },
          "showarrow": false,
          "text": "wait_0",
          "x": 130,
          "y": 1
         },
         {
          "bgcolor": "rgba(255,255,255,0.8)",
          "font": {
           "color": "black",
           "size": 8
          },
          "showarrow": false,
          "text": "B_0/A_1",
          "x": 237.5,
          "y": 1
         },
         {
          "bgcolor": "rgba(255,255,255,0.8)",
          "font": {
           "color": "black",
           "size": 8
          },
          "showarrow": false,
          "text": "wait_1",
          "x": 340,
          "y": 1
         },
         {
          "bgcolor": "rgba(255,255,255,0.8)",
          "font": {
           "color": "black",
           "size": 8
          },
          "showarrow": false,
          "text": "B_1/A_2",
          "x": 442.5,
          "y": 1
         },
         {
          "bgcolor": "rgba(255,255,255,0.8)",
          "font": {
           "color": "black",
           "size": 8
          },
          "showarrow": false,
          "text": "wait_2",
          "x": 545,
          "y": 1
         },
         {
          "bgcolor": "rgba(255,255,255,0.8)",
          "font": {
           "color": "black",
           "size": 8
          },
          "showarrow": false,
          "text": "B_2/A_3",
          "x": 647.5,
          "y": 1
         },
         {
          "bgcolor": "rgba(255,255,255,0.8)",
          "font": {
           "color": "black",
           "size": 8
          },
          "showarrow": false,
          "text": "wait_3",
          "x": 750,
          "y": 1
         },
         {
          "bgcolor": "rgba(255,255,255,0.8)",
          "font": {
           "color": "black",
           "size": 8
          },
          "showarrow": false,
          "text": "B_3",
          "x": 842.5,
          "y": 1
         },
         {
          "bgcolor": "rgba(255,255,255,0.8)",
          "font": {
           "color": "black",
           "size": 8
          },
          "showarrow": false,
          "text": "A_0",
          "x": 50,
          "y": 2
         },
         {
          "bgcolor": "rgba(255,255,255,0.8)",
          "font": {
           "color": "black",
           "size": 8
          },
          "showarrow": false,
          "text": "wait_0",
          "x": 150,
          "y": 2
         },
         {
          "bgcolor": "rgba(255,255,255,0.8)",
          "font": {
           "color": "black",
           "size": 8
          },
          "showarrow": false,
          "text": "B_0/A_1",
          "x": 262.5,
          "y": 2
         },
         {
          "bgcolor": "rgba(255,255,255,0.8)",
          "font": {
           "color": "black",
           "size": 8
          },
          "showarrow": false,
          "text": "wait_1",
          "x": 365,
          "y": 2
         },
         {
          "bgcolor": "rgba(255,255,255,0.8)",
          "font": {
           "color": "black",
           "size": 8
          },
          "showarrow": false,
          "text": "B_1/A_2",
          "x": 467.5,
          "y": 2
         },
         {
          "bgcolor": "rgba(255,255,255,0.8)",
          "font": {
           "color": "black",
           "size": 8
          },
          "showarrow": false,
          "text": "wait_2",
          "x": 570,
          "y": 2
         },
         {
          "bgcolor": "rgba(255,255,255,0.8)",
          "font": {
           "color": "black",
           "size": 8
          },
          "showarrow": false,
          "text": "B_2/A_3",
          "x": 672.5,
          "y": 2
         },
         {
          "bgcolor": "rgba(255,255,255,0.8)",
          "font": {
           "color": "black",
           "size": 8
          },
          "showarrow": false,
          "text": "wait_3",
          "x": 775,
          "y": 2
         },
         {
          "bgcolor": "rgba(255,255,255,0.8)",
          "font": {
           "color": "black",
           "size": 8
          },
          "showarrow": false,
          "text": "B_3",
          "x": 867.5,
          "y": 2
         }
        ],
        "autosize": false,
        "height": 800,
        "shapes": [
         {
          "fillcolor": "#636EFA",
          "line": {
           "color": "black",
           "width": 1
          },
          "type": "rect",
          "x0": 0,
          "x1": 20,
          "y0": -0.5,
          "y1": 0.5
         },
         {
          "fillcolor": "#EF553B",
          "line": {
           "color": "black",
           "width": 1
          },
          "type": "rect",
          "x0": 20,
          "x1": 200,
          "y0": -0.5,
          "y1": 0.5
         },
         {
          "fillcolor": "#00CC96",
          "line": {
           "color": "black",
           "width": 1
          },
          "type": "rect",
          "x0": 200,
          "x1": 225,
          "y0": -0.5,
          "y1": 0.5
         },
         {
          "fillcolor": "#AB63FA",
          "line": {
           "color": "black",
           "width": 1
          },
          "type": "rect",
          "x0": 225,
          "x1": 405,
          "y0": -0.5,
          "y1": 0.5
         },
         {
          "fillcolor": "#FFA15A",
          "line": {
           "color": "black",
           "width": 1
          },
          "type": "rect",
          "x0": 405,
          "x1": 430,
          "y0": -0.5,
          "y1": 0.5
         },
         {
          "fillcolor": "#19D3F3",
          "line": {
           "color": "black",
           "width": 1
          },
          "type": "rect",
          "x0": 430,
          "x1": 610,
          "y0": -0.5,
          "y1": 0.5
         },
         {
          "fillcolor": "#FF6692",
          "line": {
           "color": "black",
           "width": 1
          },
          "type": "rect",
          "x0": 610,
          "x1": 635,
          "y0": -0.5,
          "y1": 0.5
         },
         {
          "fillcolor": "#B6E880",
          "line": {
           "color": "black",
           "width": 1
          },
          "type": "rect",
          "x0": 635,
          "x1": 815,
          "y0": -0.5,
          "y1": 0.5
         },
         {
          "fillcolor": "#FF97FF",
          "line": {
           "color": "black",
           "width": 1
          },
          "type": "rect",
          "x0": 815,
          "x1": 820,
          "y0": -0.5,
          "y1": 0.5
         },
         {
          "fillcolor": "#636EFA",
          "line": {
           "color": "black",
           "width": 1
          },
          "type": "rect",
          "x0": 20,
          "x1": 40,
          "y0": 0.5,
          "y1": 1.5
         },
         {
          "fillcolor": "#EF553B",
          "line": {
           "color": "black",
           "width": 1
          },
          "type": "rect",
          "x0": 40,
          "x1": 220,
          "y0": 0.5,
          "y1": 1.5
         },
         {
          "fillcolor": "#00CC96",
          "line": {
           "color": "black",
           "width": 1
          },
          "type": "rect",
          "x0": 225,
          "x1": 250,
          "y0": 0.5,
          "y1": 1.5
         },
         {
          "fillcolor": "#AB63FA",
          "line": {
           "color": "black",
           "width": 1
          },
          "type": "rect",
          "x0": 250,
          "x1": 430,
          "y0": 0.5,
          "y1": 1.5
         },
         {
          "fillcolor": "#FFA15A",
          "line": {
           "color": "black",
           "width": 1
          },
          "type": "rect",
          "x0": 430,
          "x1": 455,
          "y0": 0.5,
          "y1": 1.5
         },
         {
          "fillcolor": "#19D3F3",
          "line": {
           "color": "black",
           "width": 1
          },
          "type": "rect",
          "x0": 455,
          "x1": 635,
          "y0": 0.5,
          "y1": 1.5
         },
         {
          "fillcolor": "#FF6692",
          "line": {
           "color": "black",
           "width": 1
          },
          "type": "rect",
          "x0": 635,
          "x1": 660,
          "y0": 0.5,
          "y1": 1.5
         },
         {
          "fillcolor": "#B6E880",
          "line": {
           "color": "black",
           "width": 1
          },
          "type": "rect",
          "x0": 660,
          "x1": 840,
          "y0": 0.5,
          "y1": 1.5
         },
         {
          "fillcolor": "#FF97FF",
          "line": {
           "color": "black",
           "width": 1
          },
          "type": "rect",
          "x0": 840,
          "x1": 845,
          "y0": 0.5,
          "y1": 1.5
         },
         {
          "fillcolor": "#636EFA",
          "line": {
           "color": "black",
           "width": 1
          },
          "type": "rect",
          "x0": 40,
          "x1": 60,
          "y0": 1.5,
          "y1": 2.5
         },
         {
          "fillcolor": "#EF553B",
          "line": {
           "color": "black",
           "width": 1
          },
          "type": "rect",
          "x0": 60,
          "x1": 240,
          "y0": 1.5,
          "y1": 2.5
         },
         {
          "fillcolor": "#00CC96",
          "line": {
           "color": "black",
           "width": 1
          },
          "type": "rect",
          "x0": 250,
          "x1": 275,
          "y0": 1.5,
          "y1": 2.5
         },
         {
          "fillcolor": "#AB63FA",
          "line": {
           "color": "black",
           "width": 1
          },
          "type": "rect",
          "x0": 275,
          "x1": 455,
          "y0": 1.5,
          "y1": 2.5
         },
         {
          "fillcolor": "#FFA15A",
          "line": {
           "color": "black",
           "width": 1
          },
          "type": "rect",
          "x0": 455,
          "x1": 480,
          "y0": 1.5,
          "y1": 2.5
         },
         {
          "fillcolor": "#19D3F3",
          "line": {
           "color": "black",
           "width": 1
          },
          "type": "rect",
          "x0": 480,
          "x1": 660,
          "y0": 1.5,
          "y1": 2.5
         },
         {
          "fillcolor": "#FF6692",
          "line": {
           "color": "black",
           "width": 1
          },
          "type": "rect",
          "x0": 660,
          "x1": 685,
          "y0": 1.5,
          "y1": 2.5
         },
         {
          "fillcolor": "#B6E880",
          "line": {
           "color": "black",
           "width": 1
          },
          "type": "rect",
          "x0": 685,
          "x1": 865,
          "y0": 1.5,
          "y1": 2.5
         },
         {
          "fillcolor": "#FF97FF",
          "line": {
           "color": "black",
           "width": 1
          },
          "type": "rect",
          "x0": 865,
          "x1": 870,
          "y0": 1.5,
          "y1": 2.5
         }
        ],
        "template": {
         "data": {
          "bar": [
           {
            "error_x": {
             "color": "#2a3f5f"
            },
            "error_y": {
             "color": "#2a3f5f"
            },
            "marker": {
             "line": {
              "color": "#E5ECF6",
              "width": 0.5
             },
             "pattern": {
              "fillmode": "overlay",
              "size": 10,
              "solidity": 0.2
             }
            },
            "type": "bar"
           }
          ],
          "barpolar": [
           {
            "marker": {
             "line": {
              "color": "#E5ECF6",
              "width": 0.5
             },
             "pattern": {
              "fillmode": "overlay",
              "size": 10,
              "solidity": 0.2
             }
            },
            "type": "barpolar"
           }
          ],
          "carpet": [
           {
            "aaxis": {
             "endlinecolor": "#2a3f5f",
             "gridcolor": "white",
             "linecolor": "white",
             "minorgridcolor": "white",
             "startlinecolor": "#2a3f5f"
            },
            "baxis": {
             "endlinecolor": "#2a3f5f",
             "gridcolor": "white",
             "linecolor": "white",
             "minorgridcolor": "white",
             "startlinecolor": "#2a3f5f"
            },
            "type": "carpet"
           }
          ],
          "choropleth": [
           {
            "colorbar": {
             "outlinewidth": 0,
             "ticks": ""
            },
            "type": "choropleth"
           }
          ],
          "contour": [
           {
            "colorbar": {
             "outlinewidth": 0,
             "ticks": ""
            },
            "colorscale": [
             [
              0,
              "#0d0887"
             ],
             [
              0.1111111111111111,
              "#46039f"
             ],
             [
              0.2222222222222222,
              "#7201a8"
             ],
             [
              0.3333333333333333,
              "#9c179e"
             ],
             [
              0.4444444444444444,
              "#bd3786"
             ],
             [
              0.5555555555555556,
              "#d8576b"
             ],
             [
              0.6666666666666666,
              "#ed7953"
             ],
             [
              0.7777777777777778,
              "#fb9f3a"
             ],
             [
              0.8888888888888888,
              "#fdca26"
             ],
             [
              1,
              "#f0f921"
             ]
            ],
            "type": "contour"
           }
          ],
          "contourcarpet": [
           {
            "colorbar": {
             "outlinewidth": 0,
             "ticks": ""
            },
            "type": "contourcarpet"
           }
          ],
          "heatmap": [
           {
            "colorbar": {
             "outlinewidth": 0,
             "ticks": ""
            },
            "colorscale": [
             [
              0,
              "#0d0887"
             ],
             [
              0.1111111111111111,
              "#46039f"
             ],
             [
              0.2222222222222222,
              "#7201a8"
             ],
             [
              0.3333333333333333,
              "#9c179e"
             ],
             [
              0.4444444444444444,
              "#bd3786"
             ],
             [
              0.5555555555555556,
              "#d8576b"
             ],
             [
              0.6666666666666666,
              "#ed7953"
             ],
             [
              0.7777777777777778,
              "#fb9f3a"
             ],
             [
              0.8888888888888888,
              "#fdca26"
             ],
             [
              1,
              "#f0f921"
             ]
            ],
            "type": "heatmap"
           }
          ],
          "heatmapgl": [
           {
            "colorbar": {
             "outlinewidth": 0,
             "ticks": ""
            },
            "colorscale": [
             [
              0,
              "#0d0887"
             ],
             [
              0.1111111111111111,
              "#46039f"
             ],
             [
              0.2222222222222222,
              "#7201a8"
             ],
             [
              0.3333333333333333,
              "#9c179e"
             ],
             [
              0.4444444444444444,
              "#bd3786"
             ],
             [
              0.5555555555555556,
              "#d8576b"
             ],
             [
              0.6666666666666666,
              "#ed7953"
             ],
             [
              0.7777777777777778,
              "#fb9f3a"
             ],
             [
              0.8888888888888888,
              "#fdca26"
             ],
             [
              1,
              "#f0f921"
             ]
            ],
            "type": "heatmapgl"
           }
          ],
          "histogram": [
           {
            "marker": {
             "pattern": {
              "fillmode": "overlay",
              "size": 10,
              "solidity": 0.2
             }
            },
            "type": "histogram"
           }
          ],
          "histogram2d": [
           {
            "colorbar": {
             "outlinewidth": 0,
             "ticks": ""
            },
            "colorscale": [
             [
              0,
              "#0d0887"
             ],
             [
              0.1111111111111111,
              "#46039f"
             ],
             [
              0.2222222222222222,
              "#7201a8"
             ],
             [
              0.3333333333333333,
              "#9c179e"
             ],
             [
              0.4444444444444444,
              "#bd3786"
             ],
             [
              0.5555555555555556,
              "#d8576b"
             ],
             [
              0.6666666666666666,
              "#ed7953"
             ],
             [
              0.7777777777777778,
              "#fb9f3a"
             ],
             [
              0.8888888888888888,
              "#fdca26"
             ],
             [
              1,
              "#f0f921"
             ]
            ],
            "type": "histogram2d"
           }
          ],
          "histogram2dcontour": [
           {
            "colorbar": {
             "outlinewidth": 0,
             "ticks": ""
            },
            "colorscale": [
             [
              0,
              "#0d0887"
             ],
             [
              0.1111111111111111,
              "#46039f"
             ],
             [
              0.2222222222222222,
              "#7201a8"
             ],
             [
              0.3333333333333333,
              "#9c179e"
             ],
             [
              0.4444444444444444,
              "#bd3786"
             ],
             [
              0.5555555555555556,
              "#d8576b"
             ],
             [
              0.6666666666666666,
              "#ed7953"
             ],
             [
              0.7777777777777778,
              "#fb9f3a"
             ],
             [
              0.8888888888888888,
              "#fdca26"
             ],
             [
              1,
              "#f0f921"
             ]
            ],
            "type": "histogram2dcontour"
           }
          ],
          "mesh3d": [
           {
            "colorbar": {
             "outlinewidth": 0,
             "ticks": ""
            },
            "type": "mesh3d"
           }
          ],
          "parcoords": [
           {
            "line": {
             "colorbar": {
              "outlinewidth": 0,
              "ticks": ""
             }
            },
            "type": "parcoords"
           }
          ],
          "pie": [
           {
            "automargin": true,
            "type": "pie"
           }
          ],
          "scatter": [
           {
            "fillpattern": {
             "fillmode": "overlay",
             "size": 10,
             "solidity": 0.2
            },
            "type": "scatter"
           }
          ],
          "scatter3d": [
           {
            "line": {
             "colorbar": {
              "outlinewidth": 0,
              "ticks": ""
             }
            },
            "marker": {
             "colorbar": {
              "outlinewidth": 0,
              "ticks": ""
             }
            },
            "type": "scatter3d"
           }
          ],
          "scattercarpet": [
           {
            "marker": {
             "colorbar": {
              "outlinewidth": 0,
              "ticks": ""
             }
            },
            "type": "scattercarpet"
           }
          ],
          "scattergeo": [
           {
            "marker": {
             "colorbar": {
              "outlinewidth": 0,
              "ticks": ""
             }
            },
            "type": "scattergeo"
           }
          ],
          "scattergl": [
           {
            "marker": {
             "colorbar": {
              "outlinewidth": 0,
              "ticks": ""
             }
            },
            "type": "scattergl"
           }
          ],
          "scattermapbox": [
           {
            "marker": {
             "colorbar": {
              "outlinewidth": 0,
              "ticks": ""
             }
            },
            "type": "scattermapbox"
           }
          ],
          "scatterpolar": [
           {
            "marker": {
             "colorbar": {
              "outlinewidth": 0,
              "ticks": ""
             }
            },
            "type": "scatterpolar"
           }
          ],
          "scatterpolargl": [
           {
            "marker": {
             "colorbar": {
              "outlinewidth": 0,
              "ticks": ""
             }
            },
            "type": "scatterpolargl"
           }
          ],
          "scatterternary": [
           {
            "marker": {
             "colorbar": {
              "outlinewidth": 0,
              "ticks": ""
             }
            },
            "type": "scatterternary"
           }
          ],
          "surface": [
           {
            "colorbar": {
             "outlinewidth": 0,
             "ticks": ""
            },
            "colorscale": [
             [
              0,
              "#0d0887"
             ],
             [
              0.1111111111111111,
              "#46039f"
             ],
             [
              0.2222222222222222,
              "#7201a8"
             ],
             [
              0.3333333333333333,
              "#9c179e"
             ],
             [
              0.4444444444444444,
              "#bd3786"
             ],
             [
              0.5555555555555556,
              "#d8576b"
             ],
             [
              0.6666666666666666,
              "#ed7953"
             ],
             [
              0.7777777777777778,
              "#fb9f3a"
             ],
             [
              0.8888888888888888,
              "#fdca26"
             ],
             [
              1,
              "#f0f921"
             ]
            ],
            "type": "surface"
           }
          ],
          "table": [
           {
            "cells": {
             "fill": {
              "color": "#EBF0F8"
             },
             "line": {
              "color": "white"
             }
            },
            "header": {
             "fill": {
              "color": "#C8D4E3"
             },
             "line": {
              "color": "white"
             }
            },
            "type": "table"
           }
          ]
         },
         "layout": {
          "annotationdefaults": {
           "arrowcolor": "#2a3f5f",
           "arrowhead": 0,
           "arrowwidth": 1
          },
          "autotypenumbers": "strict",
          "coloraxis": {
           "colorbar": {
            "outlinewidth": 0,
            "ticks": ""
           }
          },
          "colorscale": {
           "diverging": [
            [
             0,
             "#8e0152"
            ],
            [
             0.1,
             "#c51b7d"
            ],
            [
             0.2,
             "#de77ae"
            ],
            [
             0.3,
             "#f1b6da"
            ],
            [
             0.4,
             "#fde0ef"
            ],
            [
             0.5,
             "#f7f7f7"
            ],
            [
             0.6,
             "#e6f5d0"
            ],
            [
             0.7,
             "#b8e186"
            ],
            [
             0.8,
             "#7fbc41"
            ],
            [
             0.9,
             "#4d9221"
            ],
            [
             1,
             "#276419"
            ]
           ],
           "sequential": [
            [
             0,
             "#0d0887"
            ],
            [
             0.1111111111111111,
             "#46039f"
            ],
            [
             0.2222222222222222,
             "#7201a8"
            ],
            [
             0.3333333333333333,
             "#9c179e"
            ],
            [
             0.4444444444444444,
             "#bd3786"
            ],
            [
             0.5555555555555556,
             "#d8576b"
            ],
            [
             0.6666666666666666,
             "#ed7953"
            ],
            [
             0.7777777777777778,
             "#fb9f3a"
            ],
            [
             0.8888888888888888,
             "#fdca26"
            ],
            [
             1,
             "#f0f921"
            ]
           ],
           "sequentialminus": [
            [
             0,
             "#0d0887"
            ],
            [
             0.1111111111111111,
             "#46039f"
            ],
            [
             0.2222222222222222,
             "#7201a8"
            ],
            [
             0.3333333333333333,
             "#9c179e"
            ],
            [
             0.4444444444444444,
             "#bd3786"
            ],
            [
             0.5555555555555556,
             "#d8576b"
            ],
            [
             0.6666666666666666,
             "#ed7953"
            ],
            [
             0.7777777777777778,
             "#fb9f3a"
            ],
            [
             0.8888888888888888,
             "#fdca26"
            ],
            [
             1,
             "#f0f921"
            ]
           ]
          },
          "colorway": [
           "#636efa",
           "#EF553B",
           "#00cc96",
           "#ab63fa",
           "#FFA15A",
           "#19d3f3",
           "#FF6692",
           "#B6E880",
           "#FF97FF",
           "#FECB52"
          ],
          "font": {
           "color": "#2a3f5f"
          },
          "geo": {
           "bgcolor": "white",
           "lakecolor": "white",
           "landcolor": "#E5ECF6",
           "showlakes": true,
           "showland": true,
           "subunitcolor": "white"
          },
          "hoverlabel": {
           "align": "left"
          },
          "hovermode": "closest",
          "mapbox": {
           "style": "light"
          },
          "paper_bgcolor": "white",
          "plot_bgcolor": "#E5ECF6",
          "polar": {
           "angularaxis": {
            "gridcolor": "white",
            "linecolor": "white",
            "ticks": ""
           },
           "bgcolor": "#E5ECF6",
           "radialaxis": {
            "gridcolor": "white",
            "linecolor": "white",
            "ticks": ""
           }
          },
          "scene": {
           "xaxis": {
            "backgroundcolor": "#E5ECF6",
            "gridcolor": "white",
            "gridwidth": 2,
            "linecolor": "white",
            "showbackground": true,
            "ticks": "",
            "zerolinecolor": "white"
           },
           "yaxis": {
            "backgroundcolor": "#E5ECF6",
            "gridcolor": "white",
            "gridwidth": 2,
            "linecolor": "white",
            "showbackground": true,
            "ticks": "",
            "zerolinecolor": "white"
           },
           "zaxis": {
            "backgroundcolor": "#E5ECF6",
            "gridcolor": "white",
            "gridwidth": 2,
            "linecolor": "white",
            "showbackground": true,
            "ticks": "",
            "zerolinecolor": "white"
           }
          },
          "shapedefaults": {
           "line": {
            "color": "#2a3f5f"
           }
          },
          "ternary": {
           "aaxis": {
            "gridcolor": "white",
            "linecolor": "white",
            "ticks": ""
           },
           "baxis": {
            "gridcolor": "white",
            "linecolor": "white",
            "ticks": ""
           },
           "bgcolor": "#E5ECF6",
           "caxis": {
            "gridcolor": "white",
            "linecolor": "white",
            "ticks": ""
           }
          },
          "title": {
           "x": 0.05
          },
          "xaxis": {
           "automargin": true,
           "gridcolor": "white",
           "linecolor": "white",
           "ticks": "",
           "title": {
            "standoff": 15
           },
           "zerolinecolor": "white",
           "zerolinewidth": 2
          },
          "yaxis": {
           "automargin": true,
           "gridcolor": "white",
           "linecolor": "white",
           "ticks": "",
           "title": {
            "standoff": 15
           },
           "zerolinecolor": "white",
           "zerolinewidth": 2
          }
         }
        },
        "width": 1400,
        "xaxis": {
         "range": [
          0,
          870
         ],
         "title": {
          "text": "Time"
         }
        },
        "yaxis": {
         "dtick": 1,
         "range": [
          -0.5,
          2.5
         ],
         "tick0": 0,
         "tickmode": "linear",
         "title": {
          "text": "Item Index"
         }
        }
       }
      }
     },
     "metadata": {},
     "output_type": "display_data"
    }
   ],
   "source": [
    "num_items = 3\n",
    "num_cycles = 4\n",
    "\n",
    "(ops, conflicts) = tms.generate_A_B_wait_ops(\n",
    "    ops_single=ops_single,\n",
    "    A_names=['A'],\n",
    "    B_names=['B'],\n",
    "    wait_names=['wait'],\n",
    "    num_cycles=num_cycles\n",
    ")\n",
    "\n",
    "schedule = tms.run_scheduler(num_items, ops, conflicts, sync_starts=False)\n",
    "\n",
    "schedule_duration = tms.calc_schedule_duration(schedule, ops)\n",
    "print(f\"Total Schedule duration is {schedule_duration} ({(schedule_duration/60.0):.3f} minutes)\")\n",
    "\n",
    "tms.plot_schedule(schedule, ops, label_size=8)"
   ]
  },
  {
   "cell_type": "markdown",
   "metadata": {},
   "source": [
    "### Regime Beta"
   ]
  },
  {
   "cell_type": "code",
   "execution_count": 641,
   "metadata": {},
   "outputs": [
    {
     "name": "stdout",
     "output_type": "stream",
     "text": [
      "Total Schedule duration is 1330.0 (22.167 minutes)\n",
      "Importing plotting tools...\n",
      "Generating plot...\n"
     ]
    },
    {
     "data": {
      "application/vnd.plotly.v1+json": {
       "config": {
        "plotlyServerURL": "https://plot.ly"
       },
       "data": [],
       "layout": {
        "annotations": [
         {
          "bgcolor": "rgba(255,255,255,0.8)",
          "font": {
           "color": "black",
           "size": 8
          },
          "showarrow": false,
          "text": "A_0",
          "x": 20,
          "y": 0
         },
         {
          "bgcolor": "rgba(255,255,255,0.8)",
          "font": {
           "color": "black",
           "size": 8
          },
          "showarrow": false,
          "text": "wait_0",
          "x": 130,
          "y": 0
         },
         {
          "bgcolor": "rgba(255,255,255,0.8)",
          "font": {
           "color": "black",
           "size": 8
          },
          "showarrow": false,
          "text": "B_0/A_1",
          "x": 265,
          "y": 0
         },
         {
          "bgcolor": "rgba(255,255,255,0.8)",
          "font": {
           "color": "black",
           "size": 8
          },
          "showarrow": false,
          "text": "wait_1",
          "x": 380,
          "y": 0
         },
         {
          "bgcolor": "rgba(255,255,255,0.8)",
          "font": {
           "color": "black",
           "size": 8
          },
          "showarrow": false,
          "text": "B_1/A_2",
          "x": 565,
          "y": 0
         },
         {
          "bgcolor": "rgba(255,255,255,0.8)",
          "font": {
           "color": "black",
           "size": 8
          },
          "showarrow": false,
          "text": "wait_2",
          "x": 680,
          "y": 0
         },
         {
          "bgcolor": "rgba(255,255,255,0.8)",
          "font": {
           "color": "black",
           "size": 8
          },
          "showarrow": false,
          "text": "B_2/A_3",
          "x": 865,
          "y": 0
         },
         {
          "bgcolor": "rgba(255,255,255,0.8)",
          "font": {
           "color": "black",
           "size": 8
          },
          "showarrow": false,
          "text": "wait_3",
          "x": 980,
          "y": 0
         },
         {
          "bgcolor": "rgba(255,255,255,0.8)",
          "font": {
           "color": "black",
           "size": 8
          },
          "showarrow": false,
          "text": "B_3",
          "x": 1145,
          "y": 0
         },
         {
          "bgcolor": "rgba(255,255,255,0.8)",
          "font": {
           "color": "black",
           "size": 8
          },
          "showarrow": false,
          "text": "A_0",
          "x": 60,
          "y": 1
         },
         {
          "bgcolor": "rgba(255,255,255,0.8)",
          "font": {
           "color": "black",
           "size": 8
          },
          "showarrow": false,
          "text": "wait_0",
          "x": 170,
          "y": 1
         },
         {
          "bgcolor": "rgba(255,255,255,0.8)",
          "font": {
           "color": "black",
           "size": 8
          },
          "showarrow": false,
          "text": "B_0/A_1",
          "x": 315,
          "y": 1
         },
         {
          "bgcolor": "rgba(255,255,255,0.8)",
          "font": {
           "color": "black",
           "size": 8
          },
          "showarrow": false,
          "text": "wait_1",
          "x": 430,
          "y": 1
         },
         {
          "bgcolor": "rgba(255,255,255,0.8)",
          "font": {
           "color": "black",
           "size": 8
          },
          "showarrow": false,
          "text": "B_1/A_2",
          "x": 615,
          "y": 1
         },
         {
          "bgcolor": "rgba(255,255,255,0.8)",
          "font": {
           "color": "black",
           "size": 8
          },
          "showarrow": false,
          "text": "wait_2",
          "x": 730,
          "y": 1
         },
         {
          "bgcolor": "rgba(255,255,255,0.8)",
          "font": {
           "color": "black",
           "size": 8
          },
          "showarrow": false,
          "text": "B_2/A_3",
          "x": 915,
          "y": 1
         },
         {
          "bgcolor": "rgba(255,255,255,0.8)",
          "font": {
           "color": "black",
           "size": 8
          },
          "showarrow": false,
          "text": "wait_3",
          "x": 1030,
          "y": 1
         },
         {
          "bgcolor": "rgba(255,255,255,0.8)",
          "font": {
           "color": "black",
           "size": 8
          },
          "showarrow": false,
          "text": "B_3",
          "x": 1155,
          "y": 1
         },
         {
          "bgcolor": "rgba(255,255,255,0.8)",
          "font": {
           "color": "black",
           "size": 8
          },
          "showarrow": false,
          "text": "A_0",
          "x": 100,
          "y": 2
         },
         {
          "bgcolor": "rgba(255,255,255,0.8)",
          "font": {
           "color": "black",
           "size": 8
          },
          "showarrow": false,
          "text": "wait_0",
          "x": 210,
          "y": 2
         },
         {
          "bgcolor": "rgba(255,255,255,0.8)",
          "font": {
           "color": "black",
           "size": 8
          },
          "showarrow": false,
          "text": "B_0/A_1",
          "x": 365,
          "y": 2
         },
         {
          "bgcolor": "rgba(255,255,255,0.8)",
          "font": {
           "color": "black",
           "size": 8
          },
          "showarrow": false,
          "text": "wait_1",
          "x": 480,
          "y": 2
         },
         {
          "bgcolor": "rgba(255,255,255,0.8)",
          "font": {
           "color": "black",
           "size": 8
          },
          "showarrow": false,
          "text": "B_1/A_2",
          "x": 665,
          "y": 2
         },
         {
          "bgcolor": "rgba(255,255,255,0.8)",
          "font": {
           "color": "black",
           "size": 8
          },
          "showarrow": false,
          "text": "wait_2",
          "x": 780,
          "y": 2
         },
         {
          "bgcolor": "rgba(255,255,255,0.8)",
          "font": {
           "color": "black",
           "size": 8
          },
          "showarrow": false,
          "text": "B_2/A_3",
          "x": 965,
          "y": 2
         },
         {
          "bgcolor": "rgba(255,255,255,0.8)",
          "font": {
           "color": "black",
           "size": 8
          },
          "showarrow": false,
          "text": "wait_3",
          "x": 1080,
          "y": 2
         },
         {
          "bgcolor": "rgba(255,255,255,0.8)",
          "font": {
           "color": "black",
           "size": 8
          },
          "showarrow": false,
          "text": "B_3",
          "x": 1175,
          "y": 2
         },
         {
          "bgcolor": "rgba(255,255,255,0.8)",
          "font": {
           "color": "black",
           "size": 8
          },
          "showarrow": false,
          "text": "A_0",
          "x": 140,
          "y": 3
         },
         {
          "bgcolor": "rgba(255,255,255,0.8)",
          "font": {
           "color": "black",
           "size": 8
          },
          "showarrow": false,
          "text": "wait_0",
          "x": 250,
          "y": 3
         },
         {
          "bgcolor": "rgba(255,255,255,0.8)",
          "font": {
           "color": "black",
           "size": 8
          },
          "showarrow": false,
          "text": "B_0/A_1",
          "x": 415,
          "y": 3
         },
         {
          "bgcolor": "rgba(255,255,255,0.8)",
          "font": {
           "color": "black",
           "size": 8
          },
          "showarrow": false,
          "text": "wait_1",
          "x": 530,
          "y": 3
         },
         {
          "bgcolor": "rgba(255,255,255,0.8)",
          "font": {
           "color": "black",
           "size": 8
          },
          "showarrow": false,
          "text": "B_1/A_2",
          "x": 715,
          "y": 3
         },
         {
          "bgcolor": "rgba(255,255,255,0.8)",
          "font": {
           "color": "black",
           "size": 8
          },
          "showarrow": false,
          "text": "wait_2",
          "x": 830,
          "y": 3
         },
         {
          "bgcolor": "rgba(255,255,255,0.8)",
          "font": {
           "color": "black",
           "size": 8
          },
          "showarrow": false,
          "text": "B_2/A_3",
          "x": 1015,
          "y": 3
         },
         {
          "bgcolor": "rgba(255,255,255,0.8)",
          "font": {
           "color": "black",
           "size": 8
          },
          "showarrow": false,
          "text": "wait_3",
          "x": 1130,
          "y": 3
         },
         {
          "bgcolor": "rgba(255,255,255,0.8)",
          "font": {
           "color": "black",
           "size": 8
          },
          "showarrow": false,
          "text": "B_3",
          "x": 1225,
          "y": 3
         },
         {
          "bgcolor": "rgba(255,255,255,0.8)",
          "font": {
           "color": "black",
           "size": 8
          },
          "showarrow": false,
          "text": "A_0",
          "x": 180,
          "y": 4
         },
         {
          "bgcolor": "rgba(255,255,255,0.8)",
          "font": {
           "color": "black",
           "size": 8
          },
          "showarrow": false,
          "text": "wait_0",
          "x": 290,
          "y": 4
         },
         {
          "bgcolor": "rgba(255,255,255,0.8)",
          "font": {
           "color": "black",
           "size": 8
          },
          "showarrow": false,
          "text": "B_0/A_1",
          "x": 465,
          "y": 4
         },
         {
          "bgcolor": "rgba(255,255,255,0.8)",
          "font": {
           "color": "black",
           "size": 8
          },
          "showarrow": false,
          "text": "wait_1",
          "x": 580,
          "y": 4
         },
         {
          "bgcolor": "rgba(255,255,255,0.8)",
          "font": {
           "color": "black",
           "size": 8
          },
          "showarrow": false,
          "text": "B_1/A_2",
          "x": 765,
          "y": 4
         },
         {
          "bgcolor": "rgba(255,255,255,0.8)",
          "font": {
           "color": "black",
           "size": 8
          },
          "showarrow": false,
          "text": "wait_2",
          "x": 880,
          "y": 4
         },
         {
          "bgcolor": "rgba(255,255,255,0.8)",
          "font": {
           "color": "black",
           "size": 8
          },
          "showarrow": false,
          "text": "B_2/A_3",
          "x": 1065,
          "y": 4
         },
         {
          "bgcolor": "rgba(255,255,255,0.8)",
          "font": {
           "color": "black",
           "size": 8
          },
          "showarrow": false,
          "text": "wait_3",
          "x": 1180,
          "y": 4
         },
         {
          "bgcolor": "rgba(255,255,255,0.8)",
          "font": {
           "color": "black",
           "size": 8
          },
          "showarrow": false,
          "text": "B_3",
          "x": 1275,
          "y": 4
         },
         {
          "bgcolor": "rgba(255,255,255,0.8)",
          "font": {
           "color": "black",
           "size": 8
          },
          "showarrow": false,
          "text": "A_0",
          "x": 220,
          "y": 5
         },
         {
          "bgcolor": "rgba(255,255,255,0.8)",
          "font": {
           "color": "black",
           "size": 8
          },
          "showarrow": false,
          "text": "wait_0",
          "x": 330,
          "y": 5
         },
         {
          "bgcolor": "rgba(255,255,255,0.8)",
          "font": {
           "color": "black",
           "size": 8
          },
          "showarrow": false,
          "text": "B_0/A_1",
          "x": 515,
          "y": 5
         },
         {
          "bgcolor": "rgba(255,255,255,0.8)",
          "font": {
           "color": "black",
           "size": 8
          },
          "showarrow": false,
          "text": "wait_1",
          "x": 630,
          "y": 5
         },
         {
          "bgcolor": "rgba(255,255,255,0.8)",
          "font": {
           "color": "black",
           "size": 8
          },
          "showarrow": false,
          "text": "B_1/A_2",
          "x": 815,
          "y": 5
         },
         {
          "bgcolor": "rgba(255,255,255,0.8)",
          "font": {
           "color": "black",
           "size": 8
          },
          "showarrow": false,
          "text": "wait_2",
          "x": 930,
          "y": 5
         },
         {
          "bgcolor": "rgba(255,255,255,0.8)",
          "font": {
           "color": "black",
           "size": 8
          },
          "showarrow": false,
          "text": "B_2/A_3",
          "x": 1115,
          "y": 5
         },
         {
          "bgcolor": "rgba(255,255,255,0.8)",
          "font": {
           "color": "black",
           "size": 8
          },
          "showarrow": false,
          "text": "wait_3",
          "x": 1230,
          "y": 5
         },
         {
          "bgcolor": "rgba(255,255,255,0.8)",
          "font": {
           "color": "black",
           "size": 8
          },
          "showarrow": false,
          "text": "B_3",
          "x": 1325,
          "y": 5
         }
        ],
        "autosize": false,
        "height": 800,
        "shapes": [
         {
          "fillcolor": "#636EFA",
          "line": {
           "color": "black",
           "width": 1
          },
          "type": "rect",
          "x0": 0,
          "x1": 40,
          "y0": -0.5,
          "y1": 0.5
         },
         {
          "fillcolor": "#EF553B",
          "line": {
           "color": "black",
           "width": 1
          },
          "type": "rect",
          "x0": 40,
          "x1": 220,
          "y0": -0.5,
          "y1": 0.5
         },
         {
          "fillcolor": "#00CC96",
          "line": {
           "color": "black",
           "width": 1
          },
          "type": "rect",
          "x0": 240,
          "x1": 290,
          "y0": -0.5,
          "y1": 0.5
         },
         {
          "fillcolor": "#AB63FA",
          "line": {
           "color": "black",
           "width": 1
          },
          "type": "rect",
          "x0": 290,
          "x1": 470,
          "y0": -0.5,
          "y1": 0.5
         },
         {
          "fillcolor": "#FFA15A",
          "line": {
           "color": "black",
           "width": 1
          },
          "type": "rect",
          "x0": 540,
          "x1": 590,
          "y0": -0.5,
          "y1": 0.5
         },
         {
          "fillcolor": "#19D3F3",
          "line": {
           "color": "black",
           "width": 1
          },
          "type": "rect",
          "x0": 590,
          "x1": 770,
          "y0": -0.5,
          "y1": 0.5
         },
         {
          "fillcolor": "#FF6692",
          "line": {
           "color": "black",
           "width": 1
          },
          "type": "rect",
          "x0": 840,
          "x1": 890,
          "y0": -0.5,
          "y1": 0.5
         },
         {
          "fillcolor": "#B6E880",
          "line": {
           "color": "black",
           "width": 1
          },
          "type": "rect",
          "x0": 890,
          "x1": 1070,
          "y0": -0.5,
          "y1": 0.5
         },
         {
          "fillcolor": "#FF97FF",
          "line": {
           "color": "black",
           "width": 1
          },
          "type": "rect",
          "x0": 1140,
          "x1": 1150,
          "y0": -0.5,
          "y1": 0.5
         },
         {
          "fillcolor": "#636EFA",
          "line": {
           "color": "black",
           "width": 1
          },
          "type": "rect",
          "x0": 40,
          "x1": 80,
          "y0": 0.5,
          "y1": 1.5
         },
         {
          "fillcolor": "#EF553B",
          "line": {
           "color": "black",
           "width": 1
          },
          "type": "rect",
          "x0": 80,
          "x1": 260,
          "y0": 0.5,
          "y1": 1.5
         },
         {
          "fillcolor": "#00CC96",
          "line": {
           "color": "black",
           "width": 1
          },
          "type": "rect",
          "x0": 290,
          "x1": 340,
          "y0": 0.5,
          "y1": 1.5
         },
         {
          "fillcolor": "#AB63FA",
          "line": {
           "color": "black",
           "width": 1
          },
          "type": "rect",
          "x0": 340,
          "x1": 520,
          "y0": 0.5,
          "y1": 1.5
         },
         {
          "fillcolor": "#FFA15A",
          "line": {
           "color": "black",
           "width": 1
          },
          "type": "rect",
          "x0": 590,
          "x1": 640,
          "y0": 0.5,
          "y1": 1.5
         },
         {
          "fillcolor": "#19D3F3",
          "line": {
           "color": "black",
           "width": 1
          },
          "type": "rect",
          "x0": 640,
          "x1": 820,
          "y0": 0.5,
          "y1": 1.5
         },
         {
          "fillcolor": "#FF6692",
          "line": {
           "color": "black",
           "width": 1
          },
          "type": "rect",
          "x0": 890,
          "x1": 940,
          "y0": 0.5,
          "y1": 1.5
         },
         {
          "fillcolor": "#B6E880",
          "line": {
           "color": "black",
           "width": 1
          },
          "type": "rect",
          "x0": 940,
          "x1": 1120,
          "y0": 0.5,
          "y1": 1.5
         },
         {
          "fillcolor": "#FF97FF",
          "line": {
           "color": "black",
           "width": 1
          },
          "type": "rect",
          "x0": 1150,
          "x1": 1160,
          "y0": 0.5,
          "y1": 1.5
         },
         {
          "fillcolor": "#636EFA",
          "line": {
           "color": "black",
           "width": 1
          },
          "type": "rect",
          "x0": 80,
          "x1": 120,
          "y0": 1.5,
          "y1": 2.5
         },
         {
          "fillcolor": "#EF553B",
          "line": {
           "color": "black",
           "width": 1
          },
          "type": "rect",
          "x0": 120,
          "x1": 300,
          "y0": 1.5,
          "y1": 2.5
         },
         {
          "fillcolor": "#00CC96",
          "line": {
           "color": "black",
           "width": 1
          },
          "type": "rect",
          "x0": 340,
          "x1": 390,
          "y0": 1.5,
          "y1": 2.5
         },
         {
          "fillcolor": "#AB63FA",
          "line": {
           "color": "black",
           "width": 1
          },
          "type": "rect",
          "x0": 390,
          "x1": 570,
          "y0": 1.5,
          "y1": 2.5
         },
         {
          "fillcolor": "#FFA15A",
          "line": {
           "color": "black",
           "width": 1
          },
          "type": "rect",
          "x0": 640,
          "x1": 690,
          "y0": 1.5,
          "y1": 2.5
         },
         {
          "fillcolor": "#19D3F3",
          "line": {
           "color": "black",
           "width": 1
          },
          "type": "rect",
          "x0": 690,
          "x1": 870,
          "y0": 1.5,
          "y1": 2.5
         },
         {
          "fillcolor": "#FF6692",
          "line": {
           "color": "black",
           "width": 1
          },
          "type": "rect",
          "x0": 940,
          "x1": 990,
          "y0": 1.5,
          "y1": 2.5
         },
         {
          "fillcolor": "#B6E880",
          "line": {
           "color": "black",
           "width": 1
          },
          "type": "rect",
          "x0": 990,
          "x1": 1170,
          "y0": 1.5,
          "y1": 2.5
         },
         {
          "fillcolor": "#FF97FF",
          "line": {
           "color": "black",
           "width": 1
          },
          "type": "rect",
          "x0": 1170,
          "x1": 1180,
          "y0": 1.5,
          "y1": 2.5
         },
         {
          "fillcolor": "#636EFA",
          "line": {
           "color": "black",
           "width": 1
          },
          "type": "rect",
          "x0": 120,
          "x1": 160,
          "y0": 2.5,
          "y1": 3.5
         },
         {
          "fillcolor": "#EF553B",
          "line": {
           "color": "black",
           "width": 1
          },
          "type": "rect",
          "x0": 160,
          "x1": 340,
          "y0": 2.5,
          "y1": 3.5
         },
         {
          "fillcolor": "#00CC96",
          "line": {
           "color": "black",
           "width": 1
          },
          "type": "rect",
          "x0": 390,
          "x1": 440,
          "y0": 2.5,
          "y1": 3.5
         },
         {
          "fillcolor": "#AB63FA",
          "line": {
           "color": "black",
           "width": 1
          },
          "type": "rect",
          "x0": 440,
          "x1": 620,
          "y0": 2.5,
          "y1": 3.5
         },
         {
          "fillcolor": "#FFA15A",
          "line": {
           "color": "black",
           "width": 1
          },
          "type": "rect",
          "x0": 690,
          "x1": 740,
          "y0": 2.5,
          "y1": 3.5
         },
         {
          "fillcolor": "#19D3F3",
          "line": {
           "color": "black",
           "width": 1
          },
          "type": "rect",
          "x0": 740,
          "x1": 920,
          "y0": 2.5,
          "y1": 3.5
         },
         {
          "fillcolor": "#FF6692",
          "line": {
           "color": "black",
           "width": 1
          },
          "type": "rect",
          "x0": 990,
          "x1": 1040,
          "y0": 2.5,
          "y1": 3.5
         },
         {
          "fillcolor": "#B6E880",
          "line": {
           "color": "black",
           "width": 1
          },
          "type": "rect",
          "x0": 1040,
          "x1": 1220,
          "y0": 2.5,
          "y1": 3.5
         },
         {
          "fillcolor": "#FF97FF",
          "line": {
           "color": "black",
           "width": 1
          },
          "type": "rect",
          "x0": 1220,
          "x1": 1230,
          "y0": 2.5,
          "y1": 3.5
         },
         {
          "fillcolor": "#636EFA",
          "line": {
           "color": "black",
           "width": 1
          },
          "type": "rect",
          "x0": 160,
          "x1": 200,
          "y0": 3.5,
          "y1": 4.5
         },
         {
          "fillcolor": "#EF553B",
          "line": {
           "color": "black",
           "width": 1
          },
          "type": "rect",
          "x0": 200,
          "x1": 380,
          "y0": 3.5,
          "y1": 4.5
         },
         {
          "fillcolor": "#00CC96",
          "line": {
           "color": "black",
           "width": 1
          },
          "type": "rect",
          "x0": 440,
          "x1": 490,
          "y0": 3.5,
          "y1": 4.5
         },
         {
          "fillcolor": "#AB63FA",
          "line": {
           "color": "black",
           "width": 1
          },
          "type": "rect",
          "x0": 490,
          "x1": 670,
          "y0": 3.5,
          "y1": 4.5
         },
         {
          "fillcolor": "#FFA15A",
          "line": {
           "color": "black",
           "width": 1
          },
          "type": "rect",
          "x0": 740,
          "x1": 790,
          "y0": 3.5,
          "y1": 4.5
         },
         {
          "fillcolor": "#19D3F3",
          "line": {
           "color": "black",
           "width": 1
          },
          "type": "rect",
          "x0": 790,
          "x1": 970,
          "y0": 3.5,
          "y1": 4.5
         },
         {
          "fillcolor": "#FF6692",
          "line": {
           "color": "black",
           "width": 1
          },
          "type": "rect",
          "x0": 1040,
          "x1": 1090,
          "y0": 3.5,
          "y1": 4.5
         },
         {
          "fillcolor": "#B6E880",
          "line": {
           "color": "black",
           "width": 1
          },
          "type": "rect",
          "x0": 1090,
          "x1": 1270,
          "y0": 3.5,
          "y1": 4.5
         },
         {
          "fillcolor": "#FF97FF",
          "line": {
           "color": "black",
           "width": 1
          },
          "type": "rect",
          "x0": 1270,
          "x1": 1280,
          "y0": 3.5,
          "y1": 4.5
         },
         {
          "fillcolor": "#636EFA",
          "line": {
           "color": "black",
           "width": 1
          },
          "type": "rect",
          "x0": 200,
          "x1": 240,
          "y0": 4.5,
          "y1": 5.5
         },
         {
          "fillcolor": "#EF553B",
          "line": {
           "color": "black",
           "width": 1
          },
          "type": "rect",
          "x0": 240,
          "x1": 420,
          "y0": 4.5,
          "y1": 5.5
         },
         {
          "fillcolor": "#00CC96",
          "line": {
           "color": "black",
           "width": 1
          },
          "type": "rect",
          "x0": 490,
          "x1": 540,
          "y0": 4.5,
          "y1": 5.5
         },
         {
          "fillcolor": "#AB63FA",
          "line": {
           "color": "black",
           "width": 1
          },
          "type": "rect",
          "x0": 540,
          "x1": 720,
          "y0": 4.5,
          "y1": 5.5
         },
         {
          "fillcolor": "#FFA15A",
          "line": {
           "color": "black",
           "width": 1
          },
          "type": "rect",
          "x0": 790,
          "x1": 840,
          "y0": 4.5,
          "y1": 5.5
         },
         {
          "fillcolor": "#19D3F3",
          "line": {
           "color": "black",
           "width": 1
          },
          "type": "rect",
          "x0": 840,
          "x1": 1020,
          "y0": 4.5,
          "y1": 5.5
         },
         {
          "fillcolor": "#FF6692",
          "line": {
           "color": "black",
           "width": 1
          },
          "type": "rect",
          "x0": 1090,
          "x1": 1140,
          "y0": 4.5,
          "y1": 5.5
         },
         {
          "fillcolor": "#B6E880",
          "line": {
           "color": "black",
           "width": 1
          },
          "type": "rect",
          "x0": 1140,
          "x1": 1320,
          "y0": 4.5,
          "y1": 5.5
         },
         {
          "fillcolor": "#FF97FF",
          "line": {
           "color": "black",
           "width": 1
          },
          "type": "rect",
          "x0": 1320,
          "x1": 1330,
          "y0": 4.5,
          "y1": 5.5
         }
        ],
        "template": {
         "data": {
          "bar": [
           {
            "error_x": {
             "color": "#2a3f5f"
            },
            "error_y": {
             "color": "#2a3f5f"
            },
            "marker": {
             "line": {
              "color": "#E5ECF6",
              "width": 0.5
             },
             "pattern": {
              "fillmode": "overlay",
              "size": 10,
              "solidity": 0.2
             }
            },
            "type": "bar"
           }
          ],
          "barpolar": [
           {
            "marker": {
             "line": {
              "color": "#E5ECF6",
              "width": 0.5
             },
             "pattern": {
              "fillmode": "overlay",
              "size": 10,
              "solidity": 0.2
             }
            },
            "type": "barpolar"
           }
          ],
          "carpet": [
           {
            "aaxis": {
             "endlinecolor": "#2a3f5f",
             "gridcolor": "white",
             "linecolor": "white",
             "minorgridcolor": "white",
             "startlinecolor": "#2a3f5f"
            },
            "baxis": {
             "endlinecolor": "#2a3f5f",
             "gridcolor": "white",
             "linecolor": "white",
             "minorgridcolor": "white",
             "startlinecolor": "#2a3f5f"
            },
            "type": "carpet"
           }
          ],
          "choropleth": [
           {
            "colorbar": {
             "outlinewidth": 0,
             "ticks": ""
            },
            "type": "choropleth"
           }
          ],
          "contour": [
           {
            "colorbar": {
             "outlinewidth": 0,
             "ticks": ""
            },
            "colorscale": [
             [
              0,
              "#0d0887"
             ],
             [
              0.1111111111111111,
              "#46039f"
             ],
             [
              0.2222222222222222,
              "#7201a8"
             ],
             [
              0.3333333333333333,
              "#9c179e"
             ],
             [
              0.4444444444444444,
              "#bd3786"
             ],
             [
              0.5555555555555556,
              "#d8576b"
             ],
             [
              0.6666666666666666,
              "#ed7953"
             ],
             [
              0.7777777777777778,
              "#fb9f3a"
             ],
             [
              0.8888888888888888,
              "#fdca26"
             ],
             [
              1,
              "#f0f921"
             ]
            ],
            "type": "contour"
           }
          ],
          "contourcarpet": [
           {
            "colorbar": {
             "outlinewidth": 0,
             "ticks": ""
            },
            "type": "contourcarpet"
           }
          ],
          "heatmap": [
           {
            "colorbar": {
             "outlinewidth": 0,
             "ticks": ""
            },
            "colorscale": [
             [
              0,
              "#0d0887"
             ],
             [
              0.1111111111111111,
              "#46039f"
             ],
             [
              0.2222222222222222,
              "#7201a8"
             ],
             [
              0.3333333333333333,
              "#9c179e"
             ],
             [
              0.4444444444444444,
              "#bd3786"
             ],
             [
              0.5555555555555556,
              "#d8576b"
             ],
             [
              0.6666666666666666,
              "#ed7953"
             ],
             [
              0.7777777777777778,
              "#fb9f3a"
             ],
             [
              0.8888888888888888,
              "#fdca26"
             ],
             [
              1,
              "#f0f921"
             ]
            ],
            "type": "heatmap"
           }
          ],
          "heatmapgl": [
           {
            "colorbar": {
             "outlinewidth": 0,
             "ticks": ""
            },
            "colorscale": [
             [
              0,
              "#0d0887"
             ],
             [
              0.1111111111111111,
              "#46039f"
             ],
             [
              0.2222222222222222,
              "#7201a8"
             ],
             [
              0.3333333333333333,
              "#9c179e"
             ],
             [
              0.4444444444444444,
              "#bd3786"
             ],
             [
              0.5555555555555556,
              "#d8576b"
             ],
             [
              0.6666666666666666,
              "#ed7953"
             ],
             [
              0.7777777777777778,
              "#fb9f3a"
             ],
             [
              0.8888888888888888,
              "#fdca26"
             ],
             [
              1,
              "#f0f921"
             ]
            ],
            "type": "heatmapgl"
           }
          ],
          "histogram": [
           {
            "marker": {
             "pattern": {
              "fillmode": "overlay",
              "size": 10,
              "solidity": 0.2
             }
            },
            "type": "histogram"
           }
          ],
          "histogram2d": [
           {
            "colorbar": {
             "outlinewidth": 0,
             "ticks": ""
            },
            "colorscale": [
             [
              0,
              "#0d0887"
             ],
             [
              0.1111111111111111,
              "#46039f"
             ],
             [
              0.2222222222222222,
              "#7201a8"
             ],
             [
              0.3333333333333333,
              "#9c179e"
             ],
             [
              0.4444444444444444,
              "#bd3786"
             ],
             [
              0.5555555555555556,
              "#d8576b"
             ],
             [
              0.6666666666666666,
              "#ed7953"
             ],
             [
              0.7777777777777778,
              "#fb9f3a"
             ],
             [
              0.8888888888888888,
              "#fdca26"
             ],
             [
              1,
              "#f0f921"
             ]
            ],
            "type": "histogram2d"
           }
          ],
          "histogram2dcontour": [
           {
            "colorbar": {
             "outlinewidth": 0,
             "ticks": ""
            },
            "colorscale": [
             [
              0,
              "#0d0887"
             ],
             [
              0.1111111111111111,
              "#46039f"
             ],
             [
              0.2222222222222222,
              "#7201a8"
             ],
             [
              0.3333333333333333,
              "#9c179e"
             ],
             [
              0.4444444444444444,
              "#bd3786"
             ],
             [
              0.5555555555555556,
              "#d8576b"
             ],
             [
              0.6666666666666666,
              "#ed7953"
             ],
             [
              0.7777777777777778,
              "#fb9f3a"
             ],
             [
              0.8888888888888888,
              "#fdca26"
             ],
             [
              1,
              "#f0f921"
             ]
            ],
            "type": "histogram2dcontour"
           }
          ],
          "mesh3d": [
           {
            "colorbar": {
             "outlinewidth": 0,
             "ticks": ""
            },
            "type": "mesh3d"
           }
          ],
          "parcoords": [
           {
            "line": {
             "colorbar": {
              "outlinewidth": 0,
              "ticks": ""
             }
            },
            "type": "parcoords"
           }
          ],
          "pie": [
           {
            "automargin": true,
            "type": "pie"
           }
          ],
          "scatter": [
           {
            "fillpattern": {
             "fillmode": "overlay",
             "size": 10,
             "solidity": 0.2
            },
            "type": "scatter"
           }
          ],
          "scatter3d": [
           {
            "line": {
             "colorbar": {
              "outlinewidth": 0,
              "ticks": ""
             }
            },
            "marker": {
             "colorbar": {
              "outlinewidth": 0,
              "ticks": ""
             }
            },
            "type": "scatter3d"
           }
          ],
          "scattercarpet": [
           {
            "marker": {
             "colorbar": {
              "outlinewidth": 0,
              "ticks": ""
             }
            },
            "type": "scattercarpet"
           }
          ],
          "scattergeo": [
           {
            "marker": {
             "colorbar": {
              "outlinewidth": 0,
              "ticks": ""
             }
            },
            "type": "scattergeo"
           }
          ],
          "scattergl": [
           {
            "marker": {
             "colorbar": {
              "outlinewidth": 0,
              "ticks": ""
             }
            },
            "type": "scattergl"
           }
          ],
          "scattermapbox": [
           {
            "marker": {
             "colorbar": {
              "outlinewidth": 0,
              "ticks": ""
             }
            },
            "type": "scattermapbox"
           }
          ],
          "scatterpolar": [
           {
            "marker": {
             "colorbar": {
              "outlinewidth": 0,
              "ticks": ""
             }
            },
            "type": "scatterpolar"
           }
          ],
          "scatterpolargl": [
           {
            "marker": {
             "colorbar": {
              "outlinewidth": 0,
              "ticks": ""
             }
            },
            "type": "scatterpolargl"
           }
          ],
          "scatterternary": [
           {
            "marker": {
             "colorbar": {
              "outlinewidth": 0,
              "ticks": ""
             }
            },
            "type": "scatterternary"
           }
          ],
          "surface": [
           {
            "colorbar": {
             "outlinewidth": 0,
             "ticks": ""
            },
            "colorscale": [
             [
              0,
              "#0d0887"
             ],
             [
              0.1111111111111111,
              "#46039f"
             ],
             [
              0.2222222222222222,
              "#7201a8"
             ],
             [
              0.3333333333333333,
              "#9c179e"
             ],
             [
              0.4444444444444444,
              "#bd3786"
             ],
             [
              0.5555555555555556,
              "#d8576b"
             ],
             [
              0.6666666666666666,
              "#ed7953"
             ],
             [
              0.7777777777777778,
              "#fb9f3a"
             ],
             [
              0.8888888888888888,
              "#fdca26"
             ],
             [
              1,
              "#f0f921"
             ]
            ],
            "type": "surface"
           }
          ],
          "table": [
           {
            "cells": {
             "fill": {
              "color": "#EBF0F8"
             },
             "line": {
              "color": "white"
             }
            },
            "header": {
             "fill": {
              "color": "#C8D4E3"
             },
             "line": {
              "color": "white"
             }
            },
            "type": "table"
           }
          ]
         },
         "layout": {
          "annotationdefaults": {
           "arrowcolor": "#2a3f5f",
           "arrowhead": 0,
           "arrowwidth": 1
          },
          "autotypenumbers": "strict",
          "coloraxis": {
           "colorbar": {
            "outlinewidth": 0,
            "ticks": ""
           }
          },
          "colorscale": {
           "diverging": [
            [
             0,
             "#8e0152"
            ],
            [
             0.1,
             "#c51b7d"
            ],
            [
             0.2,
             "#de77ae"
            ],
            [
             0.3,
             "#f1b6da"
            ],
            [
             0.4,
             "#fde0ef"
            ],
            [
             0.5,
             "#f7f7f7"
            ],
            [
             0.6,
             "#e6f5d0"
            ],
            [
             0.7,
             "#b8e186"
            ],
            [
             0.8,
             "#7fbc41"
            ],
            [
             0.9,
             "#4d9221"
            ],
            [
             1,
             "#276419"
            ]
           ],
           "sequential": [
            [
             0,
             "#0d0887"
            ],
            [
             0.1111111111111111,
             "#46039f"
            ],
            [
             0.2222222222222222,
             "#7201a8"
            ],
            [
             0.3333333333333333,
             "#9c179e"
            ],
            [
             0.4444444444444444,
             "#bd3786"
            ],
            [
             0.5555555555555556,
             "#d8576b"
            ],
            [
             0.6666666666666666,
             "#ed7953"
            ],
            [
             0.7777777777777778,
             "#fb9f3a"
            ],
            [
             0.8888888888888888,
             "#fdca26"
            ],
            [
             1,
             "#f0f921"
            ]
           ],
           "sequentialminus": [
            [
             0,
             "#0d0887"
            ],
            [
             0.1111111111111111,
             "#46039f"
            ],
            [
             0.2222222222222222,
             "#7201a8"
            ],
            [
             0.3333333333333333,
             "#9c179e"
            ],
            [
             0.4444444444444444,
             "#bd3786"
            ],
            [
             0.5555555555555556,
             "#d8576b"
            ],
            [
             0.6666666666666666,
             "#ed7953"
            ],
            [
             0.7777777777777778,
             "#fb9f3a"
            ],
            [
             0.8888888888888888,
             "#fdca26"
            ],
            [
             1,
             "#f0f921"
            ]
           ]
          },
          "colorway": [
           "#636efa",
           "#EF553B",
           "#00cc96",
           "#ab63fa",
           "#FFA15A",
           "#19d3f3",
           "#FF6692",
           "#B6E880",
           "#FF97FF",
           "#FECB52"
          ],
          "font": {
           "color": "#2a3f5f"
          },
          "geo": {
           "bgcolor": "white",
           "lakecolor": "white",
           "landcolor": "#E5ECF6",
           "showlakes": true,
           "showland": true,
           "subunitcolor": "white"
          },
          "hoverlabel": {
           "align": "left"
          },
          "hovermode": "closest",
          "mapbox": {
           "style": "light"
          },
          "paper_bgcolor": "white",
          "plot_bgcolor": "#E5ECF6",
          "polar": {
           "angularaxis": {
            "gridcolor": "white",
            "linecolor": "white",
            "ticks": ""
           },
           "bgcolor": "#E5ECF6",
           "radialaxis": {
            "gridcolor": "white",
            "linecolor": "white",
            "ticks": ""
           }
          },
          "scene": {
           "xaxis": {
            "backgroundcolor": "#E5ECF6",
            "gridcolor": "white",
            "gridwidth": 2,
            "linecolor": "white",
            "showbackground": true,
            "ticks": "",
            "zerolinecolor": "white"
           },
           "yaxis": {
            "backgroundcolor": "#E5ECF6",
            "gridcolor": "white",
            "gridwidth": 2,
            "linecolor": "white",
            "showbackground": true,
            "ticks": "",
            "zerolinecolor": "white"
           },
           "zaxis": {
            "backgroundcolor": "#E5ECF6",
            "gridcolor": "white",
            "gridwidth": 2,
            "linecolor": "white",
            "showbackground": true,
            "ticks": "",
            "zerolinecolor": "white"
           }
          },
          "shapedefaults": {
           "line": {
            "color": "#2a3f5f"
           }
          },
          "ternary": {
           "aaxis": {
            "gridcolor": "white",
            "linecolor": "white",
            "ticks": ""
           },
           "baxis": {
            "gridcolor": "white",
            "linecolor": "white",
            "ticks": ""
           },
           "bgcolor": "#E5ECF6",
           "caxis": {
            "gridcolor": "white",
            "linecolor": "white",
            "ticks": ""
           }
          },
          "title": {
           "x": 0.05
          },
          "xaxis": {
           "automargin": true,
           "gridcolor": "white",
           "linecolor": "white",
           "ticks": "",
           "title": {
            "standoff": 15
           },
           "zerolinecolor": "white",
           "zerolinewidth": 2
          },
          "yaxis": {
           "automargin": true,
           "gridcolor": "white",
           "linecolor": "white",
           "ticks": "",
           "title": {
            "standoff": 15
           },
           "zerolinecolor": "white",
           "zerolinewidth": 2
          }
         }
        },
        "width": 1400,
        "xaxis": {
         "range": [
          0,
          1330
         ],
         "title": {
          "text": "Time"
         }
        },
        "yaxis": {
         "dtick": 1,
         "range": [
          -0.5,
          5.5
         ],
         "tick0": 0,
         "tickmode": "linear",
         "title": {
          "text": "Item Index"
         }
        }
       }
      }
     },
     "metadata": {},
     "output_type": "display_data"
    }
   ],
   "source": [
    "ops_single['A'] = 20*2\n",
    "ops_single['wait'] = 3*60\n",
    "ops_single['B'] = 5*2\n",
    "\n",
    "(ops, conflicts) = tms.generate_A_B_wait_ops(\n",
    "    ops_single=ops_single,\n",
    "    A_names=['A'],\n",
    "    B_names=['B'],\n",
    "    wait_names=['wait'],\n",
    "    num_cycles=num_cycles\n",
    ")\n",
    "\n",
    "num_items = 6\n",
    "\n",
    "schedule = tms.run_scheduler(num_items, ops, conflicts, sync_starts=False)\n",
    "\n",
    "schedule_duration = tms.calc_schedule_duration(schedule, ops)\n",
    "print(f\"Total Schedule duration is {schedule_duration} ({(schedule_duration/60.0):.3f} minutes)\")\n",
    "\n",
    "tms.plot_schedule(schedule, ops, label_size=8)"
   ]
  }
 ],
 "metadata": {
  "kernelspec": {
   "display_name": "sandbox_env",
   "language": "python",
   "name": "python3"
  },
  "language_info": {
   "codemirror_mode": {
    "name": "ipython",
    "version": 3
   },
   "file_extension": ".py",
   "mimetype": "text/x-python",
   "name": "python",
   "nbconvert_exporter": "python",
   "pygments_lexer": "ipython3",
   "version": "3.12.2"
  }
 },
 "nbformat": 4,
 "nbformat_minor": 2
}
